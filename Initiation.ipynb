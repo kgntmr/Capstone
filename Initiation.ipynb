{
 "cells": [
  {
   "cell_type": "code",
   "execution_count": 15,
   "metadata": {},
   "outputs": [
    {
     "name": "stderr",
     "output_type": "stream",
     "text": [
      "[nltk_data] Downloading package stopwords to\n",
      "[nltk_data]     /Users/kagantimur/nltk_data...\n",
      "[nltk_data]   Package stopwords is already up-to-date!\n"
     ]
    },
    {
     "data": {
      "text/plain": [
       "True"
      ]
     },
     "execution_count": 15,
     "metadata": {},
     "output_type": "execute_result"
    }
   ],
   "source": [
    "import pandas as pd\n",
    "import re\n",
    "import nltk\n",
    "from nltk.corpus import stopwords\n",
    "nltk.download('stopwords')"
   ]
  },
  {
   "cell_type": "code",
   "execution_count": 2,
   "metadata": {},
   "outputs": [],
   "source": [
    "amz = pd.read_excel('Amazon.xlsx')"
   ]
  },
  {
   "cell_type": "code",
   "execution_count": 3,
   "metadata": {},
   "outputs": [
    {
     "name": "stdout",
     "output_type": "stream",
     "text": [
      "<class 'pandas.core.frame.DataFrame'>\n",
      "RangeIndex: 38192 entries, 0 to 38191\n",
      "Data columns (total 5 columns):\n",
      " #   Column          Non-Null Count  Dtype         \n",
      "---  ------          --------------  -----         \n",
      " 0   Date            38192 non-null  datetime64[ns]\n",
      " 1   Tweet content   38192 non-null  object        \n",
      " 2   Tweet language  38192 non-null  object        \n",
      " 3   Is a RT         38192 non-null  bool          \n",
      " 4   Company Name    38192 non-null  object        \n",
      "dtypes: bool(1), datetime64[ns](1), object(3)\n",
      "memory usage: 1.2+ MB\n"
     ]
    }
   ],
   "source": [
    "amz.info()"
   ]
  },
  {
   "cell_type": "code",
   "execution_count": 12,
   "metadata": {},
   "outputs": [
    {
     "data": {
      "text/plain": [
       "Date              datetime64[ns]\n",
       "Tweet content     string[python]\n",
       "Tweet language    string[python]\n",
       "Is a RT                     bool\n",
       "Company Name      string[python]\n",
       "dtype: object"
      ]
     },
     "execution_count": 12,
     "metadata": {},
     "output_type": "execute_result"
    }
   ],
   "source": [
    "amz.astype({'Tweet content': 'string', 'Tweet language': 'string', 'Company Name': 'string'}).dtypes"
   ]
  },
  {
   "cell_type": "code",
   "execution_count": 16,
   "metadata": {},
   "outputs": [
    {
     "data": {
      "text/html": [
       "<div>\n",
       "<style scoped>\n",
       "    .dataframe tbody tr th:only-of-type {\n",
       "        vertical-align: middle;\n",
       "    }\n",
       "\n",
       "    .dataframe tbody tr th {\n",
       "        vertical-align: top;\n",
       "    }\n",
       "\n",
       "    .dataframe thead th {\n",
       "        text-align: right;\n",
       "    }\n",
       "</style>\n",
       "<table border=\"1\" class=\"dataframe\">\n",
       "  <thead>\n",
       "    <tr style=\"text-align: right;\">\n",
       "      <th></th>\n",
       "      <th>Date</th>\n",
       "      <th>Tweet content</th>\n",
       "      <th>Tweet language</th>\n",
       "      <th>Is a RT</th>\n",
       "      <th>Company Name</th>\n",
       "      <th>clean_tweet</th>\n",
       "    </tr>\n",
       "  </thead>\n",
       "  <tbody>\n",
       "    <tr>\n",
       "      <th>0</th>\n",
       "      <td>2016-06-15 09:45:00</td>\n",
       "      <td>Try the discovery engine &amp;amp; social network ...</td>\n",
       "      <td>en</td>\n",
       "      <td>False</td>\n",
       "      <td>Amazon</td>\n",
       "      <td>Try discovery engine amp social network invest...</td>\n",
       "    </tr>\n",
       "    <tr>\n",
       "      <th>1</th>\n",
       "      <td>2016-06-15 09:35:00</td>\n",
       "      <td>Andreas Halvorsen Buys Facebook, Amazon, Maste...</td>\n",
       "      <td>en</td>\n",
       "      <td>False</td>\n",
       "      <td>Amazon</td>\n",
       "      <td>Andreas Halvorsen Buys Facebook Amazon MasterC...</td>\n",
       "    </tr>\n",
       "    <tr>\n",
       "      <th>2</th>\n",
       "      <td>2016-06-15 09:26:00</td>\n",
       "      <td>RT @MarketsRecap: These 3 Stocks Will Surprise...</td>\n",
       "      <td>en</td>\n",
       "      <td>True</td>\n",
       "      <td>Amazon</td>\n",
       "      <td>RT Stocks Surprise Investors Earnings Season A...</td>\n",
       "    </tr>\n",
       "    <tr>\n",
       "      <th>3</th>\n",
       "      <td>2016-06-15 09:21:00</td>\n",
       "      <td>OnePlus 3 launched at a price of Rs 27,999; av...</td>\n",
       "      <td>en</td>\n",
       "      <td>False</td>\n",
       "      <td>Amazon</td>\n",
       "      <td>OnePlus launched price Rs available Amazon Rea...</td>\n",
       "    </tr>\n",
       "    <tr>\n",
       "      <th>4</th>\n",
       "      <td>2016-06-15 08:53:00</td>\n",
       "      <td>Ocado shares plummet as #Amazon Fresh launches...</td>\n",
       "      <td>en</td>\n",
       "      <td>False</td>\n",
       "      <td>Amazon</td>\n",
       "      <td>Ocado shares plummet Amazon Fresh launches Rea...</td>\n",
       "    </tr>\n",
       "  </tbody>\n",
       "</table>\n",
       "</div>"
      ],
      "text/plain": [
       "                 Date                                      Tweet content   \n",
       "0 2016-06-15 09:45:00  Try the discovery engine &amp; social network ...  \\\n",
       "1 2016-06-15 09:35:00  Andreas Halvorsen Buys Facebook, Amazon, Maste...   \n",
       "2 2016-06-15 09:26:00  RT @MarketsRecap: These 3 Stocks Will Surprise...   \n",
       "3 2016-06-15 09:21:00  OnePlus 3 launched at a price of Rs 27,999; av...   \n",
       "4 2016-06-15 08:53:00  Ocado shares plummet as #Amazon Fresh launches...   \n",
       "\n",
       "  Tweet language  Is a RT Company Name   \n",
       "0             en    False       Amazon  \\\n",
       "1             en    False       Amazon   \n",
       "2             en     True       Amazon   \n",
       "3             en    False       Amazon   \n",
       "4             en    False       Amazon   \n",
       "\n",
       "                                         clean_tweet  \n",
       "0  Try discovery engine amp social network invest...  \n",
       "1  Andreas Halvorsen Buys Facebook Amazon MasterC...  \n",
       "2  RT Stocks Surprise Investors Earnings Season A...  \n",
       "3  OnePlus launched price Rs available Amazon Rea...  \n",
       "4  Ocado shares plummet Amazon Fresh launches Rea...  "
      ]
     },
     "execution_count": 16,
     "metadata": {},
     "output_type": "execute_result"
    }
   ],
   "source": [
    "def preprocess_tweet(tweet):\n",
    "    # Remove URLs\n",
    "    tweet = re.sub(r'http\\S+|www\\S+|https\\S+', '', tweet)\n",
    "\n",
    "    # Remove user mentions\n",
    "    tweet = re.sub(r'@[^\\s]+', '', tweet)\n",
    "\n",
    "    # Remove special characters and punctuation\n",
    "    tweet = re.sub(r'[^a-zA-Z\\s]', '', tweet)\n",
    "\n",
    "    # Tokenization\n",
    "    words = nltk.word_tokenize(tweet)\n",
    "\n",
    "    # Removing stopwords\n",
    "    clean_words = [word for word in words if word.lower() not in stopwords.words('english')]\n",
    "\n",
    "    return ' '.join(clean_words)\n",
    "\n",
    "amz['clean_tweet'] = amz['Tweet content'].apply(preprocess_tweet)\n",
    "\n",
    "amz.head()"
   ]
  },
  {
   "cell_type": "code",
   "execution_count": null,
   "metadata": {},
   "outputs": [],
   "source": []
  }
 ],
 "metadata": {
  "kernelspec": {
   "display_name": "Python 3",
   "language": "python",
   "name": "python3"
  },
  "language_info": {
   "codemirror_mode": {
    "name": "ipython",
    "version": 3
   },
   "file_extension": ".py",
   "mimetype": "text/x-python",
   "name": "python",
   "nbconvert_exporter": "python",
   "pygments_lexer": "ipython3",
   "version": "3.9.13"
  },
  "orig_nbformat": 4
 },
 "nbformat": 4,
 "nbformat_minor": 2
}
