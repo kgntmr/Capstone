{
  "cells": [
    {
      "cell_type": "code",
      "execution_count": 1,
      "metadata": {
        "colab": {
          "base_uri": "https://localhost:8080/"
        },
        "id": "faYuXMWqNpQd",
        "outputId": "a611e7d1-a8af-46f1-d7e5-d1291c86190e"
      },
      "outputs": [
        {
          "name": "stderr",
          "output_type": "stream",
          "text": [
            "[nltk_data] Downloading package vader_lexicon to\n",
            "[nltk_data]     C:\\Users\\Aishwarya\\AppData\\Roaming\\nltk_data...\n",
            "[nltk_data]   Package vader_lexicon is already up-to-date!\n",
            "[nltk_data] Downloading package punkt to\n",
            "[nltk_data]     C:\\Users\\Aishwarya\\AppData\\Roaming\\nltk_data...\n",
            "[nltk_data]   Package punkt is already up-to-date!\n",
            "[nltk_data] Downloading package stopwords to\n",
            "[nltk_data]     C:\\Users\\Aishwarya\\AppData\\Roaming\\nltk_data...\n",
            "[nltk_data]   Package stopwords is already up-to-date!\n"
          ]
        },
        {
          "data": {
            "text/plain": [
              "True"
            ]
          },
          "execution_count": 1,
          "metadata": {},
          "output_type": "execute_result"
        }
      ],
      "source": [
        "# General-purpose Python library imports\n",
        "import re\n",
        "import warnings\n",
        "import zipfile\n",
        "from collections import Counter\n",
        "from itertools import chain\n",
        "\n",
        "# Data handling library imports\n",
        "import pandas as pd\n",
        "import numpy as np\n",
        "\n",
        "# Finance data library import\n",
        "import yfinance as yf\n",
        "\n",
        "# Data visualization library imports\n",
        "import matplotlib.pyplot as plt\n",
        "import matplotlib.dates as mdates\n",
        "import plotly.express as px\n",
        "\n",
        "# Natural Language Processing (NLP) library imports\n",
        "import spacy\n",
        "import nltk\n",
        "from nltk.corpus import stopwords\n",
        "from nltk.sentiment.vader import SentimentIntensityAnalyzer\n",
        "\n",
        "# Download necessary NLP datasets\n",
        "nltk.download('vader_lexicon')\n",
        "nltk.download('punkt')\n",
        "nltk.download('stopwords')"
      ]
    },
    {
      "cell_type": "code",
      "execution_count": 2,
      "metadata": {
        "id": "SBLotEqt4UOk"
      },
      "outputs": [],
      "source": [
        "try:\n",
        "    # Trying to read as an xlsx file\n",
        "    amz = pd.read_excel('Amazon.xlsx')\n",
        "except ValueError:\n",
        "    # If it fails, trying to read as an xls file\n",
        "    amz = pd.read_excel('Amazon.xlsx', engine='xlrd')"
      ]
    },
    {
      "cell_type": "code",
      "execution_count": 3,
      "metadata": {
        "colab": {
          "base_uri": "https://localhost:8080/",
          "height": 206
        },
        "id": "S3QIgoUx3l-5",
        "outputId": "59d65cbc-a086-4fe3-bedf-170632b8b5d3"
      },
      "outputs": [
        {
          "data": {
            "text/html": [
              "<div>\n",
              "<style scoped>\n",
              "    .dataframe tbody tr th:only-of-type {\n",
              "        vertical-align: middle;\n",
              "    }\n",
              "\n",
              "    .dataframe tbody tr th {\n",
              "        vertical-align: top;\n",
              "    }\n",
              "\n",
              "    .dataframe thead th {\n",
              "        text-align: right;\n",
              "    }\n",
              "</style>\n",
              "<table border=\"1\" class=\"dataframe\">\n",
              "  <thead>\n",
              "    <tr style=\"text-align: right;\">\n",
              "      <th></th>\n",
              "      <th>Date</th>\n",
              "      <th>Tweet content</th>\n",
              "      <th>Tweet language</th>\n",
              "      <th>Is a RT</th>\n",
              "      <th>Company Name</th>\n",
              "    </tr>\n",
              "  </thead>\n",
              "  <tbody>\n",
              "    <tr>\n",
              "      <th>0</th>\n",
              "      <td>2016-06-15 09:45:00</td>\n",
              "      <td>Try the discovery engine &amp;amp; social network ...</td>\n",
              "      <td>en</td>\n",
              "      <td>False</td>\n",
              "      <td>Amazon</td>\n",
              "    </tr>\n",
              "    <tr>\n",
              "      <th>1</th>\n",
              "      <td>2016-06-15 09:35:00</td>\n",
              "      <td>Andreas Halvorsen Buys Facebook, Amazon, Maste...</td>\n",
              "      <td>en</td>\n",
              "      <td>False</td>\n",
              "      <td>Amazon</td>\n",
              "    </tr>\n",
              "    <tr>\n",
              "      <th>2</th>\n",
              "      <td>2016-06-15 09:26:00</td>\n",
              "      <td>RT @MarketsRecap: These 3 Stocks Will Surprise...</td>\n",
              "      <td>en</td>\n",
              "      <td>True</td>\n",
              "      <td>Amazon</td>\n",
              "    </tr>\n",
              "    <tr>\n",
              "      <th>3</th>\n",
              "      <td>2016-06-15 09:21:00</td>\n",
              "      <td>OnePlus 3 launched at a price of Rs 27,999; av...</td>\n",
              "      <td>en</td>\n",
              "      <td>False</td>\n",
              "      <td>Amazon</td>\n",
              "    </tr>\n",
              "    <tr>\n",
              "      <th>4</th>\n",
              "      <td>2016-06-15 08:53:00</td>\n",
              "      <td>Ocado shares plummet as #Amazon Fresh launches...</td>\n",
              "      <td>en</td>\n",
              "      <td>False</td>\n",
              "      <td>Amazon</td>\n",
              "    </tr>\n",
              "  </tbody>\n",
              "</table>\n",
              "</div>"
            ],
            "text/plain": [
              "                 Date                                      Tweet content  \\\n",
              "0 2016-06-15 09:45:00  Try the discovery engine &amp; social network ...   \n",
              "1 2016-06-15 09:35:00  Andreas Halvorsen Buys Facebook, Amazon, Maste...   \n",
              "2 2016-06-15 09:26:00  RT @MarketsRecap: These 3 Stocks Will Surprise...   \n",
              "3 2016-06-15 09:21:00  OnePlus 3 launched at a price of Rs 27,999; av...   \n",
              "4 2016-06-15 08:53:00  Ocado shares plummet as #Amazon Fresh launches...   \n",
              "\n",
              "  Tweet language  Is a RT Company Name  \n",
              "0             en    False       Amazon  \n",
              "1             en    False       Amazon  \n",
              "2             en     True       Amazon  \n",
              "3             en    False       Amazon  \n",
              "4             en    False       Amazon  "
            ]
          },
          "execution_count": 3,
          "metadata": {},
          "output_type": "execute_result"
        }
      ],
      "source": [
        "amz.head()"
      ]
    },
    {
      "cell_type": "code",
      "execution_count": 4,
      "metadata": {
        "id": "Y7J5sCZZYDxq"
      },
      "outputs": [],
      "source": [
        "# Initialize the SentimentIntensityAnalyzer\n",
        "sia = SentimentIntensityAnalyzer()"
      ]
    },
    {
      "cell_type": "markdown",
      "metadata": {
        "id": "4oadqtZnYKyd"
      },
      "source": [
        "# Sentiment Score without any processing"
      ]
    },
    {
      "cell_type": "code",
      "execution_count": 5,
      "metadata": {
        "id": "m1ZhhzCyuuWw"
      },
      "outputs": [],
      "source": [
        "# Applying sentiment analysis to the 'Tweet content' column\n",
        "amz['Sentiment Score'] = amz['Tweet content'].apply(lambda tweet: sia.polarity_scores(tweet)['compound'])\n",
        "\n",
        "# Convert the 'Date' column to datetime and truncate time for daily analysis\n",
        "amz['Date'] = pd.to_datetime(amz['Date']).dt.date\n",
        "\n",
        "# Group by the new 'Date' column and calculate the daily average of the Sentiment Score\n",
        "daily_avg = amz.groupby('Date')['Sentiment Score'].mean()"
      ]
    },
    {
      "cell_type": "code",
      "execution_count": 6,
      "metadata": {
        "colab": {
          "base_uri": "https://localhost:8080/",
          "height": 507
        },
        "id": "985jjyqKFPiU",
        "outputId": "5dad5cdb-2711-4407-c389-1d9012c82dc9"
      },
      "outputs": [
        {
          "data": {
            "image/png": "[encoded data removed]",
            "text/plain": [
              "<Figure size 1000x500 with 1 Axes>"
            ]
          },
          "metadata": {},
          "output_type": "display_data"
        }
      ],
      "source": [
        "#  Making 'daily_avg' index is of type datetime.date\n",
        "daily_avg.index = pd.to_datetime(daily_avg.index).date\n",
        "\n",
        "# Plotting\n",
        "plt.figure(figsize=(10, 5))\n",
        "plt.plot(daily_avg.index, daily_avg.values, 'bo-')\n",
        "plt.title('Unprocessed Daily Sentiment: Apr 25 - Jun 15')\n",
        "plt.xlabel('Date')\n",
        "plt.ylabel('Average Sentiment Score')\n",
        "\n",
        "# Define the date format for the x-axis\n",
        "plt.gca().xaxis.set_major_formatter(mdates.DateFormatter('%Y-%m-%d'))\n",
        "\n",
        "# Set x-axis to have major ticks every 7 days and limit the display to the range\n",
        "date_range = pd.date_range(start='2016-04-25', end='2016-06-15', freq='D')\n",
        "plt.gca().set_xticks([date for date in date_range if date.weekday() == 0])  # Every Monday\n",
        "\n",
        "# Enable grid for better readability of the plot\n",
        "plt.grid(True, linestyle='--', linewidth=0.5, alpha=0.7)\n",
        "\n",
        "# Use tight layout to automatically adjust subplot params\n",
        "plt.tight_layout()\n",
        "\n",
        "# Show the plot\n",
        "plt.show()"
      ]
    },
    {
      "cell_type": "code",
      "execution_count": 7,
      "metadata": {
        "colab": {
          "base_uri": "https://localhost:8080/"
        },
        "id": "jhI8FDT8zu1O",
        "outputId": "5a893b76-9b7d-4708-df35-64ecb4a2c0c6"
      },
      "outputs": [
        {
          "name": "stdout",
          "output_type": "stream",
          "text": [
            "<class 'pandas.core.frame.DataFrame'>\n",
            "RangeIndex: 38192 entries, 0 to 38191\n",
            "Data columns (total 6 columns):\n",
            " #   Column           Non-Null Count  Dtype  \n",
            "---  ------           --------------  -----  \n",
            " 0   Date             38192 non-null  object \n",
            " 1   Tweet content    38192 non-null  object \n",
            " 2   Tweet language   38192 non-null  object \n",
            " 3   Is a RT          38192 non-null  bool   \n",
            " 4   Company Name     38192 non-null  object \n",
            " 5   Sentiment Score  38192 non-null  float64\n",
            "dtypes: bool(1), float64(1), object(4)\n",
            "memory usage: 1.5+ MB\n"
          ]
        }
      ],
      "source": [
        "amz.info()"
      ]
    },
    {
      "cell_type": "code",
      "execution_count": 8,
      "metadata": {
        "colab": {
          "base_uri": "https://localhost:8080/"
        },
        "id": "yn1QJ2gSOE9Q",
        "outputId": "7c3555b2-b328-413c-eea8-b3d1d24ff0f7"
      },
      "outputs": [
        {
          "data": {
            "text/plain": [
              "Date               datetime64[ns]\n",
              "Tweet content      string[python]\n",
              "Tweet language     string[python]\n",
              "Is a RT                      bool\n",
              "Company Name       string[python]\n",
              "Sentiment Score           float64\n",
              "dtype: object"
            ]
          },
          "execution_count": 8,
          "metadata": {},
          "output_type": "execute_result"
        }
      ],
      "source": [
        "amz.astype({'Tweet content': 'string', 'Tweet language': 'string', 'Company Name': 'string', 'Date': 'datetime64[ns]'}).dtypes"
      ]
    },
    {
      "cell_type": "code",
      "execution_count": 9,
      "metadata": {
        "id": "T_PSeYdjOIu_"
      },
      "outputs": [],
      "source": [
        "def remove_emojis(data):\n",
        "    emoj = re.compile(\"[\"\n",
        "        u\"\\U0001F600-\\U0001F64F\"  # emoticons\n",
        "        u\"\\U0001F300-\\U0001F5FF\"  # symbols & pictographs\n",
        "        u\"\\U0001F680-\\U0001F6FF\"  # transport & map symbols\n",
        "        u\"\\U0001F1E0-\\U0001F1FF\"  # flags (iOS)\n",
        "        u\"\\U00002500-\\U00002BEF\"  # chinese char\n",
        "        u\"\\U00002702-\\U000027B0\"\n",
        "        u\"\\U000024C2-\\U0001F251\"\n",
        "        u\"\\U0001f926-\\U0001f937\"\n",
        "        u\"\\U00010000-\\U0010ffff\"\n",
        "        u\"\\u2640-\\u2642\"\n",
        "        u\"\\u2600-\\u2B55\"\n",
        "        u\"\\u200d\"\n",
        "        u\"\\u23cf\"\n",
        "        u\"\\u23e9\"\n",
        "        u\"\\u231a\"\n",
        "        u\"\\ufe0f\"  # dingbats\n",
        "        u\"\\u3030\"\n",
        "                      \"]+\", re.UNICODE)\n",
        "    return re.sub(emoj, '', data)"
      ]
    },
    {
      "cell_type": "code",
      "execution_count": 10,
      "metadata": {
        "id": "4lxjGyPoWNyi"
      },
      "outputs": [],
      "source": [
        "def preprocess_tweet(tweet):\n",
        "    # Remove URLs\n",
        "    tweet = re.sub(r'http\\S+|www\\S+|https\\S+', '', tweet)\n",
        "\n",
        "    # Remove user mentions\n",
        "    tweet = re.sub(r'@[^\\s]+', '', tweet)\n",
        "\n",
        "    # Remove special characters, punctuation, and numbers\n",
        "    tweet = re.sub(r'[^a-zA-Z\\s]', '', tweet)\n",
        "\n",
        "    # Remove retweet indicators\n",
        "    tweet = re.sub(r'rt\\d+', '', tweet)\n",
        "\n",
        "    # Convert data to lowercase\n",
        "    tweet = tweet.lower()\n",
        "\n",
        "    # Removing stopwords\n",
        "    clean_words = [word for word in tweet.split() if word.lower() not in stopwords.words('english')]\n",
        "\n",
        "    return ' '.join(clean_words)"
      ]
    },
    {
      "cell_type": "code",
      "execution_count": 11,
      "metadata": {
        "id": "HxIzstKYOJn_"
      },
      "outputs": [],
      "source": [
        "# Word tokenization\n",
        "def word_tokenization(tweet):\n",
        "    # Tokenization\n",
        "    words = nltk.word_tokenize(tweet)\n",
        "    return words"
      ]
    },
    {
      "cell_type": "code",
      "execution_count": 12,
      "metadata": {
        "id": "yBh-GEBGy3Mc"
      },
      "outputs": [],
      "source": [
        "amz['Tweet content preprocessed'] = amz['Tweet content'].apply(remove_emojis)\n",
        "amz['Tweet content preprocessed'] = amz['Tweet content preprocessed'].apply(preprocess_tweet)\n",
        "amz['Tweet content preprocessed'] = amz['Tweet content preprocessed'].apply(word_tokenization)"
      ]
    },
    {
      "cell_type": "code",
      "execution_count": 13,
      "metadata": {
        "colab": {
          "base_uri": "https://localhost:8080/"
        },
        "id": "5K9OdAm0HKaf",
        "outputId": "6f9c895b-6779-423b-8631-4c7f2d50816a"
      },
      "outputs": [
        {
          "data": {
            "text/plain": [
              "Date                          datetime64[ns]\n",
              "Tweet content                 string[python]\n",
              "Tweet language                string[python]\n",
              "Is a RT                                 bool\n",
              "Company Name                  string[python]\n",
              "Sentiment Score                      float64\n",
              "Tweet content preprocessed    string[python]\n",
              "dtype: object"
            ]
          },
          "execution_count": 13,
          "metadata": {},
          "output_type": "execute_result"
        }
      ],
      "source": [
        "amz.astype({'Tweet content': 'string', 'Tweet content preprocessed': 'string', 'Tweet language': 'string', 'Company Name': 'string', 'Date': 'datetime64[ns]'}).dtypes"
      ]
    },
    {
      "cell_type": "markdown",
      "metadata": {
        "id": "dM1MC4TFYTf1"
      },
      "source": [
        "# Sentiment Score after preprocessing"
      ]
    },
    {
      "cell_type": "code",
      "execution_count": 14,
      "metadata": {
        "id": "Gqvf8MLfHplJ"
      },
      "outputs": [],
      "source": [
        "# Converted from list to string before analysis\n",
        "amz['Sentiment Score 2'] = amz['Tweet content preprocessed'].apply(lambda tweet: sia.polarity_scores(' '.join(tweet))['compound'])\n",
        "\n",
        "# Group by the new 'Date' column and calculate the daily average of the Sentiment Score\n",
        "daily_avg = amz.groupby('Date')['Sentiment Score 2'].mean()"
      ]
    },
    {
      "cell_type": "code",
      "execution_count": 15,
      "metadata": {
        "colab": {
          "base_uri": "https://localhost:8080/",
          "height": 507
        },
        "id": "CgVgtdYMGC-U",
        "outputId": "ce864449-2209-4db4-96f2-56423e9bf1d0"
      },
      "outputs": [
        {
          "data": {
            "image/png": "[encoded data removed]",
            "text/plain": [
              "<Figure size 1000x500 with 1 Axes>"
            ]
          },
          "metadata": {},
          "output_type": "display_data"
        }
      ],
      "source": [
        "# Plotting with specific formatting and date handling as in the first code snippet\n",
        "plt.figure(figsize=(10, 5))\n",
        "plt.plot(pd.to_datetime(daily_avg.index).date, daily_avg.values, 'bo-')  # Match marker and line style\n",
        "plt.title('Processed Daily Sentiment: Apr 25 - Jun 15')\n",
        "plt.xlabel('Date')\n",
        "plt.ylabel('Average Sentiment Score')\n",
        "\n",
        "# # Define the date format for the x-axis\n",
        "plt.gca().xaxis.set_major_formatter(mdates.DateFormatter('%Y-%m-%d'))\n",
        "\n",
        "# Set x-axis to have major ticks every 7 days and limit the display to the range\n",
        "date_range = pd.date_range(start='2016-04-25', end='2016-06-15', freq='D')\n",
        "plt.gca().set_xticks([date for date in date_range if date.weekday() == 0])  # Every Monday\n",
        "\n",
        "# Enable grid for better readability of the plot\n",
        "plt.grid(True, linestyle='--', linewidth=0.5, alpha=0.7)\n",
        "\n",
        "# Use tight layout to automatically adjust subplot params\n",
        "plt.tight_layout()\n",
        "\n",
        "# Show the plot\n",
        "plt.show()\n"
      ]
    },
    {
      "cell_type": "markdown",
      "metadata": {
        "id": "z5VOmjCeYevx"
      },
      "source": [
        "# Categorising the words for display"
      ]
    },
    {
      "cell_type": "code",
      "execution_count": 16,
      "metadata": {
        "id": "QUqDaLA_Nltm"
      },
      "outputs": [],
      "source": [
        "# Function to calculate sentiment score\n",
        "def sentiment_score(text):\n",
        "    return sia.polarity_scores(text)['compound']\n",
        "\n",
        "# Sentiment categorization dictionary\n",
        "sentiment_words = {'positive': {}, 'negative': {}, 'neutral': {}}"
      ]
    },
    {
      "cell_type": "code",
      "execution_count": 17,
      "metadata": {
        "colab": {
          "base_uri": "https://localhost:8080/"
        },
        "id": "2S6etwuPQiTB",
        "outputId": "78eb63c4-58a7-40d1-dd24-d59ccf6c39fe"
      },
      "outputs": [
        {
          "name": "stdout",
          "output_type": "stream",
          "text": [
            "[('amzn', 38713), ('amazon', 8527), ('rt', 7551), ('fb', 6965), ('aapl', 6908), ('nflx', 4410), ('read', 3853), ('goog', 3777), ('spy', 3586), ('googl', 3112), ('tsla', 3027), ('msft', 2703), ('qqq', 2627), ('stocks', 2463), ('twtr', 2120), ('new', 2008), ('stock', 1834), ('inc', 1756), ('buy', 1544), ('amp', 1489), ('earnings', 1445), ('spx', 1401), ('market', 1160), ('video', 1134), ('via', 1123), ('trading', 1122), ('sell', 1076), ('day', 1060), ('amazons', 1027), ('iwm', 1007), ('today', 989), ('prime', 968), ('baba', 960), ('see', 949), ('wmt', 948), ('apple', 931), ('like', 878), ('cloud', 854), ('tech', 852), ('bezos', 828), ('pt', 827), ('top', 823), ('retail', 817), ('may', 816), ('dia', 786), ('lnkd', 780), ('short', 746), ('trade', 739), ('ibm', 738), ('week', 737)]\n"
          ]
        }
      ],
      "source": [
        "# Converting a multi-level (nested) list into a single-level list, combining all elements into one sequence.\n",
        "all_tokens = list(chain.from_iterable(amz['Tweet content preprocessed']))\n",
        "\n",
        "# Count Word Frequencies\n",
        "word_counts = Counter(all_tokens)\n",
        "\n",
        "# Sort and Select Top 50\n",
        "top_50_words = word_counts.most_common(50)\n",
        "\n",
        "# Print the top 50 words with their frequencies\n",
        "print(top_50_words)"
      ]
    },
    {
      "cell_type": "code",
      "execution_count": 18,
      "metadata": {
        "colab": {
          "base_uri": "https://localhost:8080/"
        },
        "id": "kklOTcvBPEiL",
        "outputId": "d56a28f9-b13d-4fbf-b2f9-0ebe2ef19ac7"
      },
      "outputs": [
        {
          "data": {
            "text/plain": [
              "Date                          datetime64[ns]\n",
              "Tweet content                 string[python]\n",
              "Tweet language                string[python]\n",
              "Is a RT                                 bool\n",
              "Company Name                  string[python]\n",
              "Sentiment Score                      float64\n",
              "Tweet content preprocessed    string[python]\n",
              "Sentiment Score 2                    float64\n",
              "dtype: object"
            ]
          },
          "execution_count": 18,
          "metadata": {},
          "output_type": "execute_result"
        }
      ],
      "source": [
        "amz.astype({'Tweet content': 'string', 'Tweet content preprocessed': 'string', 'Tweet language': 'string', 'Company Name': 'string', 'Date': 'datetime64[ns]'}).dtypes"
      ]
    },
    {
      "cell_type": "code",
      "execution_count": 19,
      "metadata": {
        "id": "C_aoA1LBsvc9"
      },
      "outputs": [],
      "source": [
        "for tweet in all_tokens:\n",
        "    # Convert tweet to string if it's not\n",
        "    tweet_text = ' '.join(tweet) if isinstance(tweet, list) else tweet\n",
        "    # Calculate sentiment score for each tweet\n",
        "    score = sentiment_score(tweet_text)\n",
        "    if score > 0.1:\n",
        "        sentiment_words['positive'][tweet_text] = score\n",
        "    elif score <= 0 and score > -0.1:\n",
        "        sentiment_words['negative'][tweet_text] = score\n",
        "    elif -0.1 <= score <= 0.1:\n",
        "        sentiment_words['neutral'][tweet_text] = score"
      ]
    },
    {
      "cell_type": "code",
      "execution_count": 20,
      "metadata": {
        "colab": {
          "base_uri": "https://localhost:8080/",
          "height": 1000
        },
        "id": "DqJTei243EsG",
        "outputId": "066da70d-88dc-4c90-96c8-5950b1eb444b"
      },
      "outputs": [
        {
          "data": {
            "image/png": "[encoded data removed]",
            "text/plain": [
              "<Figure size 1000x500 with 1 Axes>"
            ]
          },
          "metadata": {},
          "output_type": "display_data"
        },
        {
          "data": {
            "image/png": "[encoded data removed]",
            "text/plain": [
              "<Figure size 1000x500 with 1 Axes>"
            ]
          },
          "metadata": {},
          "output_type": "display_data"
        },
        {
          "data": {
            "image/png": "[encoded data removed]",
            "text/plain": [
              "<Figure size 1000x500 with 1 Axes>"
            ]
          },
          "metadata": {},
          "output_type": "display_data"
        }
      ],
      "source": [
        "# Plot top sentiment words\n",
        "for sentiment, words in sentiment_words.items():\n",
        "    if words:\n",
        "        # Sort words by their sentiment scores in descending order\n",
        "        sorted_words = sorted(words.items(), key=lambda x: x[1], reverse=False)[:20]\n",
        "        top_words, top_scores = zip(*sorted_words)\n",
        "\n",
        "        # Create a bar plot for each sentiment category\n",
        "        plt.figure(figsize=(10, 5))\n",
        "        plt.barh(top_words, top_scores, color='green' if sentiment == 'positive' else 'red' if sentiment == 'negative' else 'gray')\n",
        "        plt.title(f'Top 20 {sentiment.capitalize()} Words')\n",
        "        plt.xlabel('Sentiment Score')\n",
        "        plt.yticks(rotation=0)\n",
        "        plt.show()"
      ]
    },
    {
      "cell_type": "markdown",
      "metadata": {
        "id": "uc7r3gxMYtRC"
      },
      "source": [
        "# Afterward, all the neutral words between 0 to 0.8 were removed, excluding the Named Entity Recognition with the spaCy library. However, the results were almost zero, and I did not make any progress with it."
      ]
    },
    {
      "cell_type": "code",
      "execution_count": 21,
      "metadata": {
        "colab": {
          "base_uri": "https://localhost:8080/",
          "height": 206
        },
        "id": "0osY_inxU5sZ",
        "outputId": "46916fff-11d7-4a51-9c46-b0dbe739c172"
      },
      "outputs": [
        {
          "data": {
            "text/html": [
              "<div>\n",
              "<style scoped>\n",
              "    .dataframe tbody tr th:only-of-type {\n",
              "        vertical-align: middle;\n",
              "    }\n",
              "\n",
              "    .dataframe tbody tr th {\n",
              "        vertical-align: top;\n",
              "    }\n",
              "\n",
              "    .dataframe thead th {\n",
              "        text-align: right;\n",
              "    }\n",
              "</style>\n",
              "<table border=\"1\" class=\"dataframe\">\n",
              "  <thead>\n",
              "    <tr style=\"text-align: right;\">\n",
              "      <th></th>\n",
              "      <th>Date</th>\n",
              "      <th>Tweet content</th>\n",
              "      <th>Tweet language</th>\n",
              "      <th>Is a RT</th>\n",
              "      <th>Company Name</th>\n",
              "      <th>Sentiment Score</th>\n",
              "      <th>Tweet content preprocessed</th>\n",
              "      <th>Sentiment Score 2</th>\n",
              "    </tr>\n",
              "  </thead>\n",
              "  <tbody>\n",
              "    <tr>\n",
              "      <th>0</th>\n",
              "      <td>2016-06-15</td>\n",
              "      <td>Try the discovery engine &amp;amp; social network ...</td>\n",
              "      <td>en</td>\n",
              "      <td>False</td>\n",
              "      <td>Amazon</td>\n",
              "      <td>0.5106</td>\n",
              "      <td>[try, discovery, engine, amp, social, network,...</td>\n",
              "      <td>0.5106</td>\n",
              "    </tr>\n",
              "    <tr>\n",
              "      <th>1</th>\n",
              "      <td>2016-06-15</td>\n",
              "      <td>Andreas Halvorsen Buys Facebook, Amazon, Maste...</td>\n",
              "      <td>en</td>\n",
              "      <td>False</td>\n",
              "      <td>Amazon</td>\n",
              "      <td>0.1779</td>\n",
              "      <td>[andreas, halvorsen, buys, facebook, amazon, m...</td>\n",
              "      <td>0.1779</td>\n",
              "    </tr>\n",
              "    <tr>\n",
              "      <th>2</th>\n",
              "      <td>2016-06-15</td>\n",
              "      <td>RT @MarketsRecap: These 3 Stocks Will Surprise...</td>\n",
              "      <td>en</td>\n",
              "      <td>True</td>\n",
              "      <td>Amazon</td>\n",
              "      <td>0.2732</td>\n",
              "      <td>[rt, stocks, surprise, investors, earnings, se...</td>\n",
              "      <td>0.2732</td>\n",
              "    </tr>\n",
              "    <tr>\n",
              "      <th>3</th>\n",
              "      <td>2016-06-15</td>\n",
              "      <td>OnePlus 3 launched at a price of Rs 27,999; av...</td>\n",
              "      <td>en</td>\n",
              "      <td>False</td>\n",
              "      <td>Amazon</td>\n",
              "      <td>0.1280</td>\n",
              "      <td>[oneplus, launched, price, rs, available, amaz...</td>\n",
              "      <td>0.2960</td>\n",
              "    </tr>\n",
              "    <tr>\n",
              "      <th>4</th>\n",
              "      <td>2016-06-15</td>\n",
              "      <td>Ocado shares plummet as #Amazon Fresh launches...</td>\n",
              "      <td>en</td>\n",
              "      <td>False</td>\n",
              "      <td>Amazon</td>\n",
              "      <td>0.5423</td>\n",
              "      <td>[ocado, shares, plummet, amazon, fresh, launch...</td>\n",
              "      <td>0.6369</td>\n",
              "    </tr>\n",
              "  </tbody>\n",
              "</table>\n",
              "</div>"
            ],
            "text/plain": [
              "         Date                                      Tweet content  \\\n",
              "0  2016-06-15  Try the discovery engine &amp; social network ...   \n",
              "1  2016-06-15  Andreas Halvorsen Buys Facebook, Amazon, Maste...   \n",
              "2  2016-06-15  RT @MarketsRecap: These 3 Stocks Will Surprise...   \n",
              "3  2016-06-15  OnePlus 3 launched at a price of Rs 27,999; av...   \n",
              "4  2016-06-15  Ocado shares plummet as #Amazon Fresh launches...   \n",
              "\n",
              "  Tweet language  Is a RT Company Name  Sentiment Score  \\\n",
              "0             en    False       Amazon           0.5106   \n",
              "1             en    False       Amazon           0.1779   \n",
              "2             en     True       Amazon           0.2732   \n",
              "3             en    False       Amazon           0.1280   \n",
              "4             en    False       Amazon           0.5423   \n",
              "\n",
              "                          Tweet content preprocessed  Sentiment Score 2  \n",
              "0  [try, discovery, engine, amp, social, network,...             0.5106  \n",
              "1  [andreas, halvorsen, buys, facebook, amazon, m...             0.1779  \n",
              "2  [rt, stocks, surprise, investors, earnings, se...             0.2732  \n",
              "3  [oneplus, launched, price, rs, available, amaz...             0.2960  \n",
              "4  [ocado, shares, plummet, amazon, fresh, launch...             0.6369  "
            ]
          },
          "execution_count": 21,
          "metadata": {},
          "output_type": "execute_result"
        }
      ],
      "source": [
        "amz.head()"
      ]
    },
    {
      "cell_type": "code",
      "execution_count": 22,
      "metadata": {
        "colab": {
          "base_uri": "https://localhost:8080/"
        },
        "id": "hN06E3WhVsSH",
        "outputId": "1a103d64-bd02-418e-fb52-2e53918c8878"
      },
      "outputs": [
        {
          "data": {
            "text/plain": [
              "Date                          datetime64[ns]\n",
              "Tweet content                 string[python]\n",
              "Tweet language                string[python]\n",
              "Is a RT                                 bool\n",
              "Company Name                  string[python]\n",
              "Sentiment Score                      float64\n",
              "Tweet content preprocessed    string[python]\n",
              "Sentiment Score 2                    float64\n",
              "dtype: object"
            ]
          },
          "execution_count": 22,
          "metadata": {},
          "output_type": "execute_result"
        }
      ],
      "source": [
        "amz.astype({'Tweet content': 'string', 'Tweet content preprocessed': 'string', 'Tweet language': 'string', 'Company Name': 'string', 'Date': 'datetime64[ns]'}).dtypes"
      ]
    },
    {
      "cell_type": "code",
      "execution_count": 23,
      "metadata": {
        "colab": {
          "base_uri": "https://localhost:8080/"
        },
        "id": "52H-uzjQU5qA",
        "outputId": "838a16f0-b219-4fe0-cea5-14d791b02d33"
      },
      "outputs": [
        {
          "name": "stdout",
          "output_type": "stream",
          "text": [
            "<class 'pandas.core.frame.DataFrame'>\n",
            "RangeIndex: 38192 entries, 0 to 38191\n",
            "Data columns (total 8 columns):\n",
            " #   Column                      Non-Null Count  Dtype  \n",
            "---  ------                      --------------  -----  \n",
            " 0   Date                        38192 non-null  object \n",
            " 1   Tweet content               38192 non-null  object \n",
            " 2   Tweet language              38192 non-null  object \n",
            " 3   Is a RT                     38192 non-null  bool   \n",
            " 4   Company Name                38192 non-null  object \n",
            " 5   Sentiment Score             38192 non-null  float64\n",
            " 6   Tweet content preprocessed  38192 non-null  object \n",
            " 7   Sentiment Score 2           38192 non-null  float64\n",
            "dtypes: bool(1), float64(2), object(5)\n",
            "memory usage: 2.1+ MB\n"
          ]
        }
      ],
      "source": [
        "amz.info()"
      ]
    },
    {
      "cell_type": "markdown",
      "metadata": {
        "id": "cc2tx5Cd8GXN"
      },
      "source": [
        "# Instead, I simply removed the 20 most common neutral words.\n",
        "- The goal is to gain a high-level overview of strong sentiments in the data"
      ]
    },
    {
      "cell_type": "code",
      "execution_count": 24,
      "metadata": {
        "id": "IG3BgegXD6t-"
      },
      "outputs": [],
      "source": [
        "# List of words to be removed from analysis to experiment with sentiment change\n",
        "remove_words = [\n",
        "    'matters', 'reach', 'prevent', 'lobby', 'silly',\n",
        "    'matter', 'sigh', 'commits', 'backed', 'defensive',\n",
        "    'backing', 'aboard', 'funnel', 'retained', 'discounted',\n",
        "    'contend', 'reaches', 'amazonite', 'dominates', 'supremacy'\n",
        "]"
      ]
    },
    {
      "cell_type": "code",
      "execution_count": 25,
      "metadata": {
        "id": "YRDmA-HGRcF9"
      },
      "outputs": [],
      "source": [
        "erase = '|'.join(r\"\\b{}\\b\".format(x) for x in remove_words)"
      ]
    },
    {
      "cell_type": "code",
      "execution_count": 26,
      "metadata": {
        "id": "uPywXQOaWydy"
      },
      "outputs": [],
      "source": [
        "amz['Tweet content'] = amz['Tweet content'].str.replace(erase, '')"
      ]
    },
    {
      "cell_type": "code",
      "execution_count": 27,
      "metadata": {
        "id": "_0Iz3bXdWyaH"
      },
      "outputs": [],
      "source": [
        "remove_words = set(remove_words)"
      ]
    },
    {
      "cell_type": "code",
      "execution_count": 28,
      "metadata": {
        "id": "x_jqkO4rWyXO"
      },
      "outputs": [],
      "source": [
        "F = lambda x: ' '.join(w for w in x.split() if not w in remove_words)\n",
        "amz['Tweet content removed'] = amz['Tweet content'].apply(F)"
      ]
    },
    {
      "cell_type": "code",
      "execution_count": 29,
      "metadata": {
        "colab": {
          "base_uri": "https://localhost:8080/",
          "height": 310
        },
        "id": "od2XBNXOVJqR",
        "outputId": "b0ab5684-4c4a-4e6c-801d-5e218ff9cdce"
      },
      "outputs": [
        {
          "data": {
            "text/html": [
              "<div>\n",
              "<style scoped>\n",
              "    .dataframe tbody tr th:only-of-type {\n",
              "        vertical-align: middle;\n",
              "    }\n",
              "\n",
              "    .dataframe tbody tr th {\n",
              "        vertical-align: top;\n",
              "    }\n",
              "\n",
              "    .dataframe thead th {\n",
              "        text-align: right;\n",
              "    }\n",
              "</style>\n",
              "<table border=\"1\" class=\"dataframe\">\n",
              "  <thead>\n",
              "    <tr style=\"text-align: right;\">\n",
              "      <th></th>\n",
              "      <th>Date</th>\n",
              "      <th>Tweet content</th>\n",
              "      <th>Tweet language</th>\n",
              "      <th>Is a RT</th>\n",
              "      <th>Company Name</th>\n",
              "      <th>Sentiment Score</th>\n",
              "      <th>Tweet content preprocessed</th>\n",
              "      <th>Sentiment Score 2</th>\n",
              "      <th>Tweet content removed</th>\n",
              "    </tr>\n",
              "  </thead>\n",
              "  <tbody>\n",
              "    <tr>\n",
              "      <th>0</th>\n",
              "      <td>2016-06-15</td>\n",
              "      <td>Try the discovery engine &amp;amp; social network ...</td>\n",
              "      <td>en</td>\n",
              "      <td>False</td>\n",
              "      <td>Amazon</td>\n",
              "      <td>0.5106</td>\n",
              "      <td>[try, discovery, engine, amp, social, network,...</td>\n",
              "      <td>0.5106</td>\n",
              "      <td>Try the discovery engine &amp;amp; social network ...</td>\n",
              "    </tr>\n",
              "    <tr>\n",
              "      <th>1</th>\n",
              "      <td>2016-06-15</td>\n",
              "      <td>Andreas Halvorsen Buys Facebook, Amazon, Maste...</td>\n",
              "      <td>en</td>\n",
              "      <td>False</td>\n",
              "      <td>Amazon</td>\n",
              "      <td>0.1779</td>\n",
              "      <td>[andreas, halvorsen, buys, facebook, amazon, m...</td>\n",
              "      <td>0.1779</td>\n",
              "      <td>Andreas Halvorsen Buys Facebook, Amazon, Maste...</td>\n",
              "    </tr>\n",
              "    <tr>\n",
              "      <th>2</th>\n",
              "      <td>2016-06-15</td>\n",
              "      <td>RT @MarketsRecap: These 3 Stocks Will Surprise...</td>\n",
              "      <td>en</td>\n",
              "      <td>True</td>\n",
              "      <td>Amazon</td>\n",
              "      <td>0.2732</td>\n",
              "      <td>[rt, stocks, surprise, investors, earnings, se...</td>\n",
              "      <td>0.2732</td>\n",
              "      <td>RT @MarketsRecap: These 3 Stocks Will Surprise...</td>\n",
              "    </tr>\n",
              "    <tr>\n",
              "      <th>3</th>\n",
              "      <td>2016-06-15</td>\n",
              "      <td>OnePlus 3 launched at a price of Rs 27,999; av...</td>\n",
              "      <td>en</td>\n",
              "      <td>False</td>\n",
              "      <td>Amazon</td>\n",
              "      <td>0.1280</td>\n",
              "      <td>[oneplus, launched, price, rs, available, amaz...</td>\n",
              "      <td>0.2960</td>\n",
              "      <td>OnePlus 3 launched at a price of Rs 27,999; av...</td>\n",
              "    </tr>\n",
              "    <tr>\n",
              "      <th>4</th>\n",
              "      <td>2016-06-15</td>\n",
              "      <td>Ocado shares plummet as #Amazon Fresh launches...</td>\n",
              "      <td>en</td>\n",
              "      <td>False</td>\n",
              "      <td>Amazon</td>\n",
              "      <td>0.5423</td>\n",
              "      <td>[ocado, shares, plummet, amazon, fresh, launch...</td>\n",
              "      <td>0.6369</td>\n",
              "      <td>Ocado shares plummet as #Amazon Fresh launches...</td>\n",
              "    </tr>\n",
              "  </tbody>\n",
              "</table>\n",
              "</div>"
            ],
            "text/plain": [
              "         Date                                      Tweet content  \\\n",
              "0  2016-06-15  Try the discovery engine &amp; social network ...   \n",
              "1  2016-06-15  Andreas Halvorsen Buys Facebook, Amazon, Maste...   \n",
              "2  2016-06-15  RT @MarketsRecap: These 3 Stocks Will Surprise...   \n",
              "3  2016-06-15  OnePlus 3 launched at a price of Rs 27,999; av...   \n",
              "4  2016-06-15  Ocado shares plummet as #Amazon Fresh launches...   \n",
              "\n",
              "  Tweet language  Is a RT Company Name  Sentiment Score  \\\n",
              "0             en    False       Amazon           0.5106   \n",
              "1             en    False       Amazon           0.1779   \n",
              "2             en     True       Amazon           0.2732   \n",
              "3             en    False       Amazon           0.1280   \n",
              "4             en    False       Amazon           0.5423   \n",
              "\n",
              "                          Tweet content preprocessed  Sentiment Score 2  \\\n",
              "0  [try, discovery, engine, amp, social, network,...             0.5106   \n",
              "1  [andreas, halvorsen, buys, facebook, amazon, m...             0.1779   \n",
              "2  [rt, stocks, surprise, investors, earnings, se...             0.2732   \n",
              "3  [oneplus, launched, price, rs, available, amaz...             0.2960   \n",
              "4  [ocado, shares, plummet, amazon, fresh, launch...             0.6369   \n",
              "\n",
              "                               Tweet content removed  \n",
              "0  Try the discovery engine &amp; social network ...  \n",
              "1  Andreas Halvorsen Buys Facebook, Amazon, Maste...  \n",
              "2  RT @MarketsRecap: These 3 Stocks Will Surprise...  \n",
              "3  OnePlus 3 launched at a price of Rs 27,999; av...  \n",
              "4  Ocado shares plummet as #Amazon Fresh launches...  "
            ]
          },
          "execution_count": 29,
          "metadata": {},
          "output_type": "execute_result"
        }
      ],
      "source": [
        "amz.head()"
      ]
    },
    {
      "cell_type": "code",
      "execution_count": 30,
      "metadata": {
        "colab": {
          "base_uri": "https://localhost:8080/"
        },
        "id": "67z02Y7-VJqS",
        "outputId": "a6b057e6-7e28-4708-fc46-aaab88fc7e2c"
      },
      "outputs": [
        {
          "name": "stdout",
          "output_type": "stream",
          "text": [
            "<class 'pandas.core.frame.DataFrame'>\n",
            "RangeIndex: 38192 entries, 0 to 38191\n",
            "Data columns (total 9 columns):\n",
            " #   Column                      Non-Null Count  Dtype  \n",
            "---  ------                      --------------  -----  \n",
            " 0   Date                        38192 non-null  object \n",
            " 1   Tweet content               38192 non-null  object \n",
            " 2   Tweet language              38192 non-null  object \n",
            " 3   Is a RT                     38192 non-null  bool   \n",
            " 4   Company Name                38192 non-null  object \n",
            " 5   Sentiment Score             38192 non-null  float64\n",
            " 6   Tweet content preprocessed  38192 non-null  object \n",
            " 7   Sentiment Score 2           38192 non-null  float64\n",
            " 8   Tweet content removed       38192 non-null  object \n",
            "dtypes: bool(1), float64(2), object(6)\n",
            "memory usage: 2.4+ MB\n"
          ]
        }
      ],
      "source": [
        "amz.info()"
      ]
    },
    {
      "cell_type": "code",
      "execution_count": 31,
      "metadata": {
        "colab": {
          "base_uri": "https://localhost:8080/"
        },
        "id": "rmo6FxxAUT1a",
        "outputId": "49e9099c-1bf9-4d9c-c0cc-07d6aeee2f19"
      },
      "outputs": [
        {
          "data": {
            "text/plain": [
              "Date                          datetime64[ns]\n",
              "Tweet content                 string[python]\n",
              "Tweet language                string[python]\n",
              "Is a RT                                 bool\n",
              "Company Name                  string[python]\n",
              "Sentiment Score                      float64\n",
              "Tweet content preprocessed    string[python]\n",
              "Sentiment Score 2                    float64\n",
              "Tweet content removed         string[python]\n",
              "dtype: object"
            ]
          },
          "execution_count": 31,
          "metadata": {},
          "output_type": "execute_result"
        }
      ],
      "source": [
        "amz.astype({'Tweet content removed': 'string', 'Tweet content': 'string', 'Tweet content preprocessed': 'string', 'Tweet language': 'string', 'Company Name': 'string', 'Date': 'datetime64[ns]'}).dtypes"
      ]
    },
    {
      "cell_type": "code",
      "execution_count": 32,
      "metadata": {
        "id": "x9RCQCtCTCKY"
      },
      "outputs": [],
      "source": [
        "amz['Tweet content removed'] = amz['Tweet content removed'].str.strip()"
      ]
    },
    {
      "cell_type": "code",
      "execution_count": 33,
      "metadata": {
        "colab": {
          "base_uri": "https://localhost:8080/",
          "height": 310
        },
        "id": "SzW99YDFXfdT",
        "outputId": "36037bfc-6dbe-4739-b4dc-b4781074d562"
      },
      "outputs": [
        {
          "data": {
            "text/html": [
              "<div>\n",
              "<style scoped>\n",
              "    .dataframe tbody tr th:only-of-type {\n",
              "        vertical-align: middle;\n",
              "    }\n",
              "\n",
              "    .dataframe tbody tr th {\n",
              "        vertical-align: top;\n",
              "    }\n",
              "\n",
              "    .dataframe thead th {\n",
              "        text-align: right;\n",
              "    }\n",
              "</style>\n",
              "<table border=\"1\" class=\"dataframe\">\n",
              "  <thead>\n",
              "    <tr style=\"text-align: right;\">\n",
              "      <th></th>\n",
              "      <th>Date</th>\n",
              "      <th>Tweet content</th>\n",
              "      <th>Tweet language</th>\n",
              "      <th>Is a RT</th>\n",
              "      <th>Company Name</th>\n",
              "      <th>Sentiment Score</th>\n",
              "      <th>Tweet content preprocessed</th>\n",
              "      <th>Sentiment Score 2</th>\n",
              "      <th>Tweet content removed</th>\n",
              "    </tr>\n",
              "  </thead>\n",
              "  <tbody>\n",
              "    <tr>\n",
              "      <th>0</th>\n",
              "      <td>2016-06-15</td>\n",
              "      <td>Try the discovery engine &amp;amp; social network ...</td>\n",
              "      <td>en</td>\n",
              "      <td>False</td>\n",
              "      <td>Amazon</td>\n",
              "      <td>0.5106</td>\n",
              "      <td>[try, discovery, engine, amp, social, network,...</td>\n",
              "      <td>0.5106</td>\n",
              "      <td>Try the discovery engine &amp;amp; social network ...</td>\n",
              "    </tr>\n",
              "    <tr>\n",
              "      <th>1</th>\n",
              "      <td>2016-06-15</td>\n",
              "      <td>Andreas Halvorsen Buys Facebook, Amazon, Maste...</td>\n",
              "      <td>en</td>\n",
              "      <td>False</td>\n",
              "      <td>Amazon</td>\n",
              "      <td>0.1779</td>\n",
              "      <td>[andreas, halvorsen, buys, facebook, amazon, m...</td>\n",
              "      <td>0.1779</td>\n",
              "      <td>Andreas Halvorsen Buys Facebook, Amazon, Maste...</td>\n",
              "    </tr>\n",
              "    <tr>\n",
              "      <th>2</th>\n",
              "      <td>2016-06-15</td>\n",
              "      <td>RT @MarketsRecap: These 3 Stocks Will Surprise...</td>\n",
              "      <td>en</td>\n",
              "      <td>True</td>\n",
              "      <td>Amazon</td>\n",
              "      <td>0.2732</td>\n",
              "      <td>[rt, stocks, surprise, investors, earnings, se...</td>\n",
              "      <td>0.2732</td>\n",
              "      <td>RT @MarketsRecap: These 3 Stocks Will Surprise...</td>\n",
              "    </tr>\n",
              "    <tr>\n",
              "      <th>3</th>\n",
              "      <td>2016-06-15</td>\n",
              "      <td>OnePlus 3 launched at a price of Rs 27,999; av...</td>\n",
              "      <td>en</td>\n",
              "      <td>False</td>\n",
              "      <td>Amazon</td>\n",
              "      <td>0.1280</td>\n",
              "      <td>[oneplus, launched, price, rs, available, amaz...</td>\n",
              "      <td>0.2960</td>\n",
              "      <td>OnePlus 3 launched at a price of Rs 27,999; av...</td>\n",
              "    </tr>\n",
              "    <tr>\n",
              "      <th>4</th>\n",
              "      <td>2016-06-15</td>\n",
              "      <td>Ocado shares plummet as #Amazon Fresh launches...</td>\n",
              "      <td>en</td>\n",
              "      <td>False</td>\n",
              "      <td>Amazon</td>\n",
              "      <td>0.5423</td>\n",
              "      <td>[ocado, shares, plummet, amazon, fresh, launch...</td>\n",
              "      <td>0.6369</td>\n",
              "      <td>Ocado shares plummet as #Amazon Fresh launches...</td>\n",
              "    </tr>\n",
              "  </tbody>\n",
              "</table>\n",
              "</div>"
            ],
            "text/plain": [
              "         Date                                      Tweet content  \\\n",
              "0  2016-06-15  Try the discovery engine &amp; social network ...   \n",
              "1  2016-06-15  Andreas Halvorsen Buys Facebook, Amazon, Maste...   \n",
              "2  2016-06-15  RT @MarketsRecap: These 3 Stocks Will Surprise...   \n",
              "3  2016-06-15  OnePlus 3 launched at a price of Rs 27,999; av...   \n",
              "4  2016-06-15  Ocado shares plummet as #Amazon Fresh launches...   \n",
              "\n",
              "  Tweet language  Is a RT Company Name  Sentiment Score  \\\n",
              "0             en    False       Amazon           0.5106   \n",
              "1             en    False       Amazon           0.1779   \n",
              "2             en     True       Amazon           0.2732   \n",
              "3             en    False       Amazon           0.1280   \n",
              "4             en    False       Amazon           0.5423   \n",
              "\n",
              "                          Tweet content preprocessed  Sentiment Score 2  \\\n",
              "0  [try, discovery, engine, amp, social, network,...             0.5106   \n",
              "1  [andreas, halvorsen, buys, facebook, amazon, m...             0.1779   \n",
              "2  [rt, stocks, surprise, investors, earnings, se...             0.2732   \n",
              "3  [oneplus, launched, price, rs, available, amaz...             0.2960   \n",
              "4  [ocado, shares, plummet, amazon, fresh, launch...             0.6369   \n",
              "\n",
              "                               Tweet content removed  \n",
              "0  Try the discovery engine &amp; social network ...  \n",
              "1  Andreas Halvorsen Buys Facebook, Amazon, Maste...  \n",
              "2  RT @MarketsRecap: These 3 Stocks Will Surprise...  \n",
              "3  OnePlus 3 launched at a price of Rs 27,999; av...  \n",
              "4  Ocado shares plummet as #Amazon Fresh launches...  "
            ]
          },
          "execution_count": 33,
          "metadata": {},
          "output_type": "execute_result"
        }
      ],
      "source": [
        "amz.head()"
      ]
    },
    {
      "cell_type": "code",
      "execution_count": 34,
      "metadata": {
        "id": "gZIlQiTibNdN"
      },
      "outputs": [],
      "source": [
        "amz['Tweet content removed and preprocessed'] = amz['Tweet content removed'].apply(remove_emojis)\n",
        "amz['Tweet content removed and preprocessed'] = amz['Tweet content removed and preprocessed'].apply(preprocess_tweet)\n",
        "amz['Tweet content removed and preprocessed'] = amz['Tweet content removed and preprocessed'].apply(word_tokenization)"
      ]
    },
    {
      "cell_type": "markdown",
      "metadata": {
        "id": "W-cET_hnZV_F"
      },
      "source": [
        "# Even after removing the 20 most common neutral words, the pattern remains unchanged.\n",
        "\n",
        "The VADER Lexicon can also process emojis, but I opted to exclude them from the text for the reasons outlined below. Despite their absence, the underlying pattern persists, resulting in a slightly more positive score. The decision to remove emojis was made because:\n",
        "- Improving the accuracy by focusing solely on textual content.\n",
        "- Ensuring consistency in the data.\n",
        "- Reducing the noise in analysis.\n",
        "- Mitigating cultural or contextual biases."
      ]
    },
    {
      "cell_type": "code",
      "execution_count": 35,
      "metadata": {
        "id": "ZUNSsrGx2Ksl"
      },
      "outputs": [],
      "source": [
        "# Tweets are converted from list to string before analysis\n",
        "amz['Sentiment Score 3'] = amz['Tweet content removed and preprocessed'].apply(lambda tweet: sia.polarity_scores(' '.join(tweet))['compound'])\n",
        "\n",
        "# Group by the new 'Date' column and calculate the daily average of the Sentiment Score\n",
        "daily_avg = amz.groupby('Date')['Sentiment Score 3'].mean()"
      ]
    },
    {
      "cell_type": "code",
      "execution_count": 36,
      "metadata": {
        "colab": {
          "base_uri": "https://localhost:8080/",
          "height": 507
        },
        "id": "cHwF0kXibgoY",
        "outputId": "386ba409-d5af-46f0-a58e-1778b171a3dd"
      },
      "outputs": [
        {
          "data": {
            "image/png": "[encoded data removed]",
            "text/plain": [
              "<Figure size 1000x500 with 1 Axes>"
            ]
          },
          "metadata": {},
          "output_type": "display_data"
        }
      ],
      "source": [
        "# Making 'daily_avg' index is of type datetime.date\n",
        "daily_avg.index = pd.to_datetime(daily_avg.index).date\n",
        "\n",
        "# Plotting with specific formatting and date handling as in the first code snippet\n",
        "plt.figure(figsize=(10, 5))\n",
        "plt.plot(daily_avg.index, daily_avg.values, 'bo-')  # Match marker and line style\n",
        "plt.title('Daily Sentiment for Processed and Removed Words: Apr 25 - Jun 15.')\n",
        "plt.xlabel('Date')\n",
        "plt.ylabel('Average Sentiment Score')\n",
        "\n",
        "# Define the date format for the x-axis\n",
        "plt.gca().xaxis.set_major_formatter(mdates.DateFormatter('%Y-%m-%d'))\n",
        "\n",
        "# Set x-axis to have major ticks every 7 days and limit the display to the range\n",
        "date_range = pd.date_range(start='2016-04-25', end='2016-06-15', freq='D')\n",
        "plt.gca().set_xticks([date for date in date_range if date.weekday() == 0])  # Every Monday\n",
        "\n",
        "# Enable grid for better readability of the plot\n",
        "plt.grid(True, linestyle='--', linewidth=0.5, alpha=0.7)\n",
        "\n",
        "# Use tight layout to automatically adjust subplot params\n",
        "plt.tight_layout()\n",
        "\n",
        "# Show the plot\n",
        "plt.show()"
      ]
    },
    {
      "cell_type": "code",
      "execution_count": 37,
      "metadata": {},
      "outputs": [
        {
          "data": {
            "application/vnd.plotly.v1+json": {
              "config": {
                "plotlyServerURL": "https://plot.ly"
              },
              "data": [
                {
                  "hovertemplate": "index=%{x}<br>Average Sentiment Score=%{y}<extra></extra>",
                  "legendgroup": "",
                  "line": {
                    "color": "#636efa",
                    "dash": "solid",
                    "shape": "linear"
                  },
                  "marker": {
                    "symbol": "circle"
                  },
                  "mode": "lines+markers",
                  "name": "",
                  "orientation": "v",
                  "showlegend": false,
                  "type": "scatter",
                  "x": [
                    "2016-04-25T00:00:00",
                    "2016-04-26T00:00:00",
                    "2016-04-27T00:00:00",
                    "2016-04-28T00:00:00",
                    "2016-04-29T00:00:00",
                    "2016-04-30T00:00:00",
                    "2016-05-01T00:00:00",
                    "2016-05-02T00:00:00",
                    "2016-05-03T00:00:00",
                    "2016-05-04T00:00:00",
                    "2016-05-05T00:00:00",
                    "2016-05-06T00:00:00",
                    "2016-05-07T00:00:00",
                    "2016-05-08T00:00:00",
                    "2016-05-09T00:00:00",
                    "2016-05-10T00:00:00",
                    "2016-05-11T00:00:00",
                    "2016-05-12T00:00:00",
                    "2016-05-13T00:00:00",
                    "2016-05-14T00:00:00",
                    "2016-05-15T00:00:00",
                    "2016-05-16T00:00:00",
                    "2016-05-17T00:00:00",
                    "2016-05-18T00:00:00",
                    "2016-05-19T00:00:00",
                    "2016-05-20T00:00:00",
                    "2016-05-21T00:00:00",
                    "2016-05-22T00:00:00",
                    "2016-05-23T00:00:00",
                    "2016-05-24T00:00:00",
                    "2016-05-25T00:00:00",
                    "2016-05-26T00:00:00",
                    "2016-05-27T00:00:00",
                    "2016-05-28T00:00:00",
                    "2016-05-29T00:00:00",
                    "2016-05-30T00:00:00",
                    "2016-05-31T00:00:00",
                    "2016-06-01T00:00:00",
                    "2016-06-02T00:00:00",
                    "2016-06-03T00:00:00",
                    "2016-06-04T00:00:00",
                    "2016-06-05T00:00:00",
                    "2016-06-06T00:00:00",
                    "2016-06-07T00:00:00",
                    "2016-06-12T00:00:00",
                    "2016-06-13T00:00:00",
                    "2016-06-14T00:00:00",
                    "2016-06-15T00:00:00"
                  ],
                  "xaxis": "x",
                  "y": [
                    0.10424049459041732,
                    0.15236528497409327,
                    0.13627464285714286,
                    0.11500964161116398,
                    0.1290202497285559,
                    0.096809412861137,
                    0.08101697722567287,
                    0.1282486146095718,
                    0.12490218181818183,
                    0.11305271867612293,
                    0.0985342717258262,
                    0.12908,
                    0.2156846715328467,
                    0.19696724738675958,
                    0.18502193958664548,
                    0.14644887845592072,
                    0.1601251329787234,
                    0.12340397590361446,
                    0.15035847953216375,
                    0.15099225512528475,
                    0.09991715575620767,
                    0.13739353582554517,
                    0.08550480202190397,
                    0.04480281690140845,
                    0.12766917599186164,
                    0.10971661891117479,
                    0.08470061538461539,
                    0.060062145110410095,
                    0.10012179487179487,
                    0.09879118457300276,
                    0.1018003717472119,
                    0.12456909090909091,
                    0.09556423357664233,
                    0.1106319526627219,
                    0.16400204918032787,
                    0.1491564,
                    0.11000516039051604,
                    0.11680464135021097,
                    0.12551306666666667,
                    0.07876205533596838,
                    0.12198636363636364,
                    0.09854173228346458,
                    0.09049278937381404,
                    0.03392528735632184,
                    0.15919487179487182,
                    0.14691696113074204,
                    0.10955571428571428,
                    0.19176702127659573
                  ],
                  "yaxis": "y"
                }
              ],
              "layout": {
                "legend": {
                  "tracegroupgap": 0
                },
                "template": {
                  "data": {
                    "bar": [
                      {
                        "error_x": {
                          "color": "#2a3f5f"
                        },
                        "error_y": {
                          "color": "#2a3f5f"
                        },
                        "marker": {
                          "line": {
                            "color": "#E5ECF6",
                            "width": 0.5
                          },
                          "pattern": {
                            "fillmode": "overlay",
                            "size": 10,
                            "solidity": 0.2
                          }
                        },
                        "type": "bar"
                      }
                    ],
                    "barpolar": [
                      {
                        "marker": {
                          "line": {
                            "color": "#E5ECF6",
                            "width": 0.5
                          },
                          "pattern": {
                            "fillmode": "overlay",
                            "size": 10,
                            "solidity": 0.2
                          }
                        },
                        "type": "barpolar"
                      }
                    ],
                    "carpet": [
                      {
                        "aaxis": {
                          "endlinecolor": "#2a3f5f",
                          "gridcolor": "white",
                          "linecolor": "white",
                          "minorgridcolor": "white",
                          "startlinecolor": "#2a3f5f"
                        },
                        "baxis": {
                          "endlinecolor": "#2a3f5f",
                          "gridcolor": "white",
                          "linecolor": "white",
                          "minorgridcolor": "white",
                          "startlinecolor": "#2a3f5f"
                        },
                        "type": "carpet"
                      }
                    ],
                    "choropleth": [
                      {
                        "colorbar": {
                          "outlinewidth": 0,
                          "ticks": ""
                        },
                        "type": "choropleth"
                      }
                    ],
                    "contour": [
                      {
                        "colorbar": {
                          "outlinewidth": 0,
                          "ticks": ""
                        },
                        "colorscale": [
                          [
                            0,
                            "#0d0887"
                          ],
                          [
                            0.1111111111111111,
                            "#46039f"
                          ],
                          [
                            0.2222222222222222,
                            "#7201a8"
                          ],
                          [
                            0.3333333333333333,
                            "#9c179e"
                          ],
                          [
                            0.4444444444444444,
                            "#bd3786"
                          ],
                          [
                            0.5555555555555556,
                            "#d8576b"
                          ],
                          [
                            0.6666666666666666,
                            "#ed7953"
                          ],
                          [
                            0.7777777777777778,
                            "#fb9f3a"
                          ],
                          [
                            0.8888888888888888,
                            "#fdca26"
                          ],
                          [
                            1,
                            "#f0f921"
                          ]
                        ],
                        "type": "contour"
                      }
                    ],
                    "contourcarpet": [
                      {
                        "colorbar": {
                          "outlinewidth": 0,
                          "ticks": ""
                        },
                        "type": "contourcarpet"
                      }
                    ],
                    "heatmap": [
                      {
                        "colorbar": {
                          "outlinewidth": 0,
                          "ticks": ""
                        },
                        "colorscale": [
                          [
                            0,
                            "#0d0887"
                          ],
                          [
                            0.1111111111111111,
                            "#46039f"
                          ],
                          [
                            0.2222222222222222,
                            "#7201a8"
                          ],
                          [
                            0.3333333333333333,
                            "#9c179e"
                          ],
                          [
                            0.4444444444444444,
                            "#bd3786"
                          ],
                          [
                            0.5555555555555556,
                            "#d8576b"
                          ],
                          [
                            0.6666666666666666,
                            "#ed7953"
                          ],
                          [
                            0.7777777777777778,
                            "#fb9f3a"
                          ],
                          [
                            0.8888888888888888,
                            "#fdca26"
                          ],
                          [
                            1,
                            "#f0f921"
                          ]
                        ],
                        "type": "heatmap"
                      }
                    ],
                    "heatmapgl": [
                      {
                        "colorbar": {
                          "outlinewidth": 0,
                          "ticks": ""
                        },
                        "colorscale": [
                          [
                            0,
                            "#0d0887"
                          ],
                          [
                            0.1111111111111111,
                            "#46039f"
                          ],
                          [
                            0.2222222222222222,
                            "#7201a8"
                          ],
                          [
                            0.3333333333333333,
                            "#9c179e"
                          ],
                          [
                            0.4444444444444444,
                            "#bd3786"
                          ],
                          [
                            0.5555555555555556,
                            "#d8576b"
                          ],
                          [
                            0.6666666666666666,
                            "#ed7953"
                          ],
                          [
                            0.7777777777777778,
                            "#fb9f3a"
                          ],
                          [
                            0.8888888888888888,
                            "#fdca26"
                          ],
                          [
                            1,
                            "#f0f921"
                          ]
                        ],
                        "type": "heatmapgl"
                      }
                    ],
                    "histogram": [
                      {
                        "marker": {
                          "pattern": {
                            "fillmode": "overlay",
                            "size": 10,
                            "solidity": 0.2
                          }
                        },
                        "type": "histogram"
                      }
                    ],
                    "histogram2d": [
                      {
                        "colorbar": {
                          "outlinewidth": 0,
                          "ticks": ""
                        },
                        "colorscale": [
                          [
                            0,
                            "#0d0887"
                          ],
                          [
                            0.1111111111111111,
                            "#46039f"
                          ],
                          [
                            0.2222222222222222,
                            "#7201a8"
                          ],
                          [
                            0.3333333333333333,
                            "#9c179e"
                          ],
                          [
                            0.4444444444444444,
                            "#bd3786"
                          ],
                          [
                            0.5555555555555556,
                            "#d8576b"
                          ],
                          [
                            0.6666666666666666,
                            "#ed7953"
                          ],
                          [
                            0.7777777777777778,
                            "#fb9f3a"
                          ],
                          [
                            0.8888888888888888,
                            "#fdca26"
                          ],
                          [
                            1,
                            "#f0f921"
                          ]
                        ],
                        "type": "histogram2d"
                      }
                    ],
                    "histogram2dcontour": [
                      {
                        "colorbar": {
                          "outlinewidth": 0,
                          "ticks": ""
                        },
                        "colorscale": [
                          [
                            0,
                            "#0d0887"
                          ],
                          [
                            0.1111111111111111,
                            "#46039f"
                          ],
                          [
                            0.2222222222222222,
                            "#7201a8"
                          ],
                          [
                            0.3333333333333333,
                            "#9c179e"
                          ],
                          [
                            0.4444444444444444,
                            "#bd3786"
                          ],
                          [
                            0.5555555555555556,
                            "#d8576b"
                          ],
                          [
                            0.6666666666666666,
                            "#ed7953"
                          ],
                          [
                            0.7777777777777778,
                            "#fb9f3a"
                          ],
                          [
                            0.8888888888888888,
                            "#fdca26"
                          ],
                          [
                            1,
                            "#f0f921"
                          ]
                        ],
                        "type": "histogram2dcontour"
                      }
                    ],
                    "mesh3d": [
                      {
                        "colorbar": {
                          "outlinewidth": 0,
                          "ticks": ""
                        },
                        "type": "mesh3d"
                      }
                    ],
                    "parcoords": [
                      {
                        "line": {
                          "colorbar": {
                            "outlinewidth": 0,
                            "ticks": ""
                          }
                        },
                        "type": "parcoords"
                      }
                    ],
                    "pie": [
                      {
                        "automargin": true,
                        "type": "pie"
                      }
                    ],
                    "scatter": [
                      {
                        "fillpattern": {
                          "fillmode": "overlay",
                          "size": 10,
                          "solidity": 0.2
                        },
                        "type": "scatter"
                      }
                    ],
                    "scatter3d": [
                      {
                        "line": {
                          "colorbar": {
                            "outlinewidth": 0,
                            "ticks": ""
                          }
                        },
                        "marker": {
                          "colorbar": {
                            "outlinewidth": 0,
                            "ticks": ""
                          }
                        },
                        "type": "scatter3d"
                      }
                    ],
                    "scattercarpet": [
                      {
                        "marker": {
                          "colorbar": {
                            "outlinewidth": 0,
                            "ticks": ""
                          }
                        },
                        "type": "scattercarpet"
                      }
                    ],
                    "scattergeo": [
                      {
                        "marker": {
                          "colorbar": {
                            "outlinewidth": 0,
                            "ticks": ""
                          }
                        },
                        "type": "scattergeo"
                      }
                    ],
                    "scattergl": [
                      {
                        "marker": {
                          "colorbar": {
                            "outlinewidth": 0,
                            "ticks": ""
                          }
                        },
                        "type": "scattergl"
                      }
                    ],
                    "scattermapbox": [
                      {
                        "marker": {
                          "colorbar": {
                            "outlinewidth": 0,
                            "ticks": ""
                          }
                        },
                        "type": "scattermapbox"
                      }
                    ],
                    "scatterpolar": [
                      {
                        "marker": {
                          "colorbar": {
                            "outlinewidth": 0,
                            "ticks": ""
                          }
                        },
                        "type": "scatterpolar"
                      }
                    ],
                    "scatterpolargl": [
                      {
                        "marker": {
                          "colorbar": {
                            "outlinewidth": 0,
                            "ticks": ""
                          }
                        },
                        "type": "scatterpolargl"
                      }
                    ],
                    "scatterternary": [
                      {
                        "marker": {
                          "colorbar": {
                            "outlinewidth": 0,
                            "ticks": ""
                          }
                        },
                        "type": "scatterternary"
                      }
                    ],
                    "surface": [
                      {
                        "colorbar": {
                          "outlinewidth": 0,
                          "ticks": ""
                        },
                        "colorscale": [
                          [
                            0,
                            "#0d0887"
                          ],
                          [
                            0.1111111111111111,
                            "#46039f"
                          ],
                          [
                            0.2222222222222222,
                            "#7201a8"
                          ],
                          [
                            0.3333333333333333,
                            "#9c179e"
                          ],
                          [
                            0.4444444444444444,
                            "#bd3786"
                          ],
                          [
                            0.5555555555555556,
                            "#d8576b"
                          ],
                          [
                            0.6666666666666666,
                            "#ed7953"
                          ],
                          [
                            0.7777777777777778,
                            "#fb9f3a"
                          ],
                          [
                            0.8888888888888888,
                            "#fdca26"
                          ],
                          [
                            1,
                            "#f0f921"
                          ]
                        ],
                        "type": "surface"
                      }
                    ],
                    "table": [
                      {
                        "cells": {
                          "fill": {
                            "color": "#EBF0F8"
                          },
                          "line": {
                            "color": "white"
                          }
                        },
                        "header": {
                          "fill": {
                            "color": "#C8D4E3"
                          },
                          "line": {
                            "color": "white"
                          }
                        },
                        "type": "table"
                      }
                    ]
                  },
                  "layout": {
                    "annotationdefaults": {
                      "arrowcolor": "#2a3f5f",
                      "arrowhead": 0,
                      "arrowwidth": 1
                    },
                    "autotypenumbers": "strict",
                    "coloraxis": {
                      "colorbar": {
                        "outlinewidth": 0,
                        "ticks": ""
                      }
                    },
                    "colorscale": {
                      "diverging": [
                        [
                          0,
                          "#8e0152"
                        ],
                        [
                          0.1,
                          "#c51b7d"
                        ],
                        [
                          0.2,
                          "#de77ae"
                        ],
                        [
                          0.3,
                          "#f1b6da"
                        ],
                        [
                          0.4,
                          "#fde0ef"
                        ],
                        [
                          0.5,
                          "#f7f7f7"
                        ],
                        [
                          0.6,
                          "#e6f5d0"
                        ],
                        [
                          0.7,
                          "#b8e186"
                        ],
                        [
                          0.8,
                          "#7fbc41"
                        ],
                        [
                          0.9,
                          "#4d9221"
                        ],
                        [
                          1,
                          "#276419"
                        ]
                      ],
                      "sequential": [
                        [
                          0,
                          "#0d0887"
                        ],
                        [
                          0.1111111111111111,
                          "#46039f"
                        ],
                        [
                          0.2222222222222222,
                          "#7201a8"
                        ],
                        [
                          0.3333333333333333,
                          "#9c179e"
                        ],
                        [
                          0.4444444444444444,
                          "#bd3786"
                        ],
                        [
                          0.5555555555555556,
                          "#d8576b"
                        ],
                        [
                          0.6666666666666666,
                          "#ed7953"
                        ],
                        [
                          0.7777777777777778,
                          "#fb9f3a"
                        ],
                        [
                          0.8888888888888888,
                          "#fdca26"
                        ],
                        [
                          1,
                          "#f0f921"
                        ]
                      ],
                      "sequentialminus": [
                        [
                          0,
                          "#0d0887"
                        ],
                        [
                          0.1111111111111111,
                          "#46039f"
                        ],
                        [
                          0.2222222222222222,
                          "#7201a8"
                        ],
                        [
                          0.3333333333333333,
                          "#9c179e"
                        ],
                        [
                          0.4444444444444444,
                          "#bd3786"
                        ],
                        [
                          0.5555555555555556,
                          "#d8576b"
                        ],
                        [
                          0.6666666666666666,
                          "#ed7953"
                        ],
                        [
                          0.7777777777777778,
                          "#fb9f3a"
                        ],
                        [
                          0.8888888888888888,
                          "#fdca26"
                        ],
                        [
                          1,
                          "#f0f921"
                        ]
                      ]
                    },
                    "colorway": [
                      "#636efa",
                      "#EF553B",
                      "#00cc96",
                      "#ab63fa",
                      "#FFA15A",
                      "#19d3f3",
                      "#FF6692",
                      "#B6E880",
                      "#FF97FF",
                      "#FECB52"
                    ],
                    "font": {
                      "color": "#2a3f5f"
                    },
                    "geo": {
                      "bgcolor": "white",
                      "lakecolor": "white",
                      "landcolor": "#E5ECF6",
                      "showlakes": true,
                      "showland": true,
                      "subunitcolor": "white"
                    },
                    "hoverlabel": {
                      "align": "left"
                    },
                    "hovermode": "closest",
                    "mapbox": {
                      "style": "light"
                    },
                    "paper_bgcolor": "white",
                    "plot_bgcolor": "#E5ECF6",
                    "polar": {
                      "angularaxis": {
                        "gridcolor": "white",
                        "linecolor": "white",
                        "ticks": ""
                      },
                      "bgcolor": "#E5ECF6",
                      "radialaxis": {
                        "gridcolor": "white",
                        "linecolor": "white",
                        "ticks": ""
                      }
                    },
                    "scene": {
                      "xaxis": {
                        "backgroundcolor": "#E5ECF6",
                        "gridcolor": "white",
                        "gridwidth": 2,
                        "linecolor": "white",
                        "showbackground": true,
                        "ticks": "",
                        "zerolinecolor": "white"
                      },
                      "yaxis": {
                        "backgroundcolor": "#E5ECF6",
                        "gridcolor": "white",
                        "gridwidth": 2,
                        "linecolor": "white",
                        "showbackground": true,
                        "ticks": "",
                        "zerolinecolor": "white"
                      },
                      "zaxis": {
                        "backgroundcolor": "#E5ECF6",
                        "gridcolor": "white",
                        "gridwidth": 2,
                        "linecolor": "white",
                        "showbackground": true,
                        "ticks": "",
                        "zerolinecolor": "white"
                      }
                    },
                    "shapedefaults": {
                      "line": {
                        "color": "#2a3f5f"
                      }
                    },
                    "ternary": {
                      "aaxis": {
                        "gridcolor": "white",
                        "linecolor": "white",
                        "ticks": ""
                      },
                      "baxis": {
                        "gridcolor": "white",
                        "linecolor": "white",
                        "ticks": ""
                      },
                      "bgcolor": "#E5ECF6",
                      "caxis": {
                        "gridcolor": "white",
                        "linecolor": "white",
                        "ticks": ""
                      }
                    },
                    "title": {
                      "x": 0.05
                    },
                    "xaxis": {
                      "automargin": true,
                      "gridcolor": "white",
                      "linecolor": "white",
                      "ticks": "",
                      "title": {
                        "standoff": 15
                      },
                      "zerolinecolor": "white",
                      "zerolinewidth": 2
                    },
                    "yaxis": {
                      "automargin": true,
                      "gridcolor": "white",
                      "linecolor": "white",
                      "ticks": "",
                      "title": {
                        "standoff": 15
                      },
                      "zerolinecolor": "white",
                      "zerolinewidth": 2
                    }
                  }
                },
                "title": {
                  "text": "Daily Sentiment for Processed and Removed Words: Apr 25 - Jun 15"
                },
                "xaxis": {
                  "anchor": "y",
                  "domain": [
                    0,
                    1
                  ],
                  "dtick": "M1",
                  "tickformat": "%Y-%m-%d",
                  "title": {
                    "text": "index"
                  }
                },
                "yaxis": {
                  "anchor": "x",
                  "domain": [
                    0,
                    1
                  ],
                  "title": {
                    "text": "Average Sentiment Score"
                  }
                }
              }
            }
          },
          "metadata": {},
          "output_type": "display_data"
        }
      ],
      "source": [
        "# Ensure the index is of type datetime\n",
        "daily_avg.index = pd.to_datetime(daily_avg.index)\n",
        "\n",
        "# Creating the plot with Plotly Express\n",
        "fig = px.line(\n",
        "    daily_avg,  # Assuming 'daily_avg' is a DataFrame with a datetime index and a column named 'value'\n",
        "    x=daily_avg.index,\n",
        "    y=daily_avg.values,\n",
        "    title='Daily Sentiment for Processed and Removed Words: Apr 25 - Jun 15',\n",
        "    labels={'x': 'Date', 'y': 'Average Sentiment Score'},\n",
        "    markers=True,  # Adds markers to the line plot\n",
        "    line_shape='linear'  # Ensures the line is linear between points\n",
        ")\n",
        "\n",
        "# Customizing x-axis date format and interval\n",
        "fig.update_xaxes(\n",
        "    dtick=\"M1\",  # Monthly ticks; use 'D1' for daily ticks or 'W1' for weekly ticks on Mondays\n",
        "    tickformat='%Y-%m-%d'\n",
        ")\n",
        "\n",
        "# Show the plot\n",
        "fig.show()"
      ]
    },
    {
      "cell_type": "markdown",
      "metadata": {
        "id": "SVmTUjIxXLMq"
      },
      "source": [
        "# Amazon Stock Prices for Further Analysis"
      ]
    },
    {
      "cell_type": "code",
      "execution_count": 38,
      "metadata": {
        "colab": {
          "base_uri": "https://localhost:8080/"
        },
        "id": "CcB53NPCPR2I",
        "outputId": "f584b143-d413-4ad8-ff39-5e9a63408ac5"
      },
      "outputs": [
        {
          "name": "stderr",
          "output_type": "stream",
          "text": [
            "[*********************100%%**********************]  1 of 1 completed\n"
          ]
        }
      ],
      "source": [
        "# Ticker symbol for Amazon\n",
        "ticker_symbol = 'AMZN'\n",
        "\n",
        "# Selecting the date range of tweets and their end date.\n",
        "start_date = '2016-04-25'\n",
        "end_date = '2016-06-16'\n",
        "\n",
        "# Fetch the data from Yahoo Finance\n",
        "apple_stock_data = yf.download(ticker_symbol, start=start_date, end=end_date)"
      ]
    },
    {
      "cell_type": "code",
      "execution_count": 39,
      "metadata": {
        "colab": {
          "base_uri": "https://localhost:8080/",
          "height": 487
        },
        "id": "PWCUda0PcwuP",
        "outputId": "dd7e3cc8-be26-4096-8122-f0d7be129ed9"
      },
      "outputs": [
        {
          "data": {
            "image/png": "[encoded data removed]",
            "text/plain": [
              "<Figure size 1000x500 with 1 Axes>"
            ]
          },
          "metadata": {},
          "output_type": "display_data"
        }
      ],
      "source": [
        "# Plot the closing prices\n",
        "plt.figure(figsize=(10, 5))\n",
        "plt.plot(apple_stock_data['Close'], label='AMZN Closing Price: Apr 25 - Jun 15')\n",
        "plt.title('Amazon Stock Closing Prices')\n",
        "plt.xlabel('Date')\n",
        "plt.ylabel('Price (USD)')\n",
        "plt.legend()\n",
        "plt.show()"
      ]
    },
    {
      "cell_type": "code",
      "execution_count": 40,
      "metadata": {
        "colab": {
          "base_uri": "https://localhost:8080/",
          "height": 542
        },
        "id": "L3HWXxHTeG5o",
        "outputId": "59b4bb97-5976-43a3-f07f-2c14bbf6f5db"
      },
      "outputs": [
        {
          "data": {
            "application/vnd.plotly.v1+json": {
              "config": {
                "plotlyServerURL": "https://plot.ly"
              },
              "data": [
                {
                  "hovertemplate": "Date=%{x}<br>Price (USD)=%{y}<extra></extra>",
                  "legendgroup": "",
                  "line": {
                    "color": "#636efa",
                    "dash": "solid",
                    "width": 2
                  },
                  "marker": {
                    "symbol": "circle"
                  },
                  "mode": "lines",
                  "name": "AMZN Closing Price",
                  "orientation": "v",
                  "showlegend": false,
                  "type": "scatter",
                  "x": [
                    "2016-04-25T00:00:00",
                    "2016-04-26T00:00:00",
                    "2016-04-27T00:00:00",
                    "2016-04-28T00:00:00",
                    "2016-04-29T00:00:00",
                    "2016-05-02T00:00:00",
                    "2016-05-03T00:00:00",
                    "2016-05-04T00:00:00",
                    "2016-05-05T00:00:00",
                    "2016-05-06T00:00:00",
                    "2016-05-09T00:00:00",
                    "2016-05-10T00:00:00",
                    "2016-05-11T00:00:00",
                    "2016-05-12T00:00:00",
                    "2016-05-13T00:00:00",
                    "2016-05-16T00:00:00",
                    "2016-05-17T00:00:00",
                    "2016-05-18T00:00:00",
                    "2016-05-19T00:00:00",
                    "2016-05-20T00:00:00",
                    "2016-05-23T00:00:00",
                    "2016-05-24T00:00:00",
                    "2016-05-25T00:00:00",
                    "2016-05-26T00:00:00",
                    "2016-05-27T00:00:00",
                    "2016-05-31T00:00:00",
                    "2016-06-01T00:00:00",
                    "2016-06-02T00:00:00",
                    "2016-06-03T00:00:00",
                    "2016-06-06T00:00:00",
                    "2016-06-07T00:00:00",
                    "2016-06-08T00:00:00",
                    "2016-06-09T00:00:00",
                    "2016-06-10T00:00:00",
                    "2016-06-13T00:00:00",
                    "2016-06-14T00:00:00",
                    "2016-06-15T00:00:00"
                  ],
                  "xaxis": "x",
                  "y": [
                    31.309999465942383,
                    30.8439998626709,
                    30.328500747680664,
                    30.100000381469727,
                    32.97949981689453,
                    34.192501068115234,
                    33.566001892089844,
                    33.54499816894531,
                    32.954498291015625,
                    33.6974983215332,
                    33.98749923706055,
                    35.153499603271484,
                    35.6614990234375,
                    35.89649963378906,
                    35.49599838256836,
                    35.53300094604492,
                    34.76350021362305,
                    34.872501373291016,
                    34.92599868774414,
                    35.13999938964844,
                    34.837501525878906,
                    35.209999084472656,
                    35.41749954223633,
                    35.74549865722656,
                    35.61199951171875,
                    36.13949966430664,
                    35.97200012207031,
                    36.4119987487793,
                    36.277000427246094,
                    36.33649826049805,
                    36.1870002746582,
                    36.332000732421875,
                    36.38249969482422,
                    35.89550018310547,
                    35.762001037597656,
                    35.96500015258789,
                    35.7130012512207
                  ],
                  "yaxis": "y"
                }
              ],
              "layout": {
                "legend": {
                  "title": {
                    "text": "Legend"
                  },
                  "tracegroupgap": 0
                },
                "template": {
                  "data": {
                    "bar": [
                      {
                        "error_x": {
                          "color": "#2a3f5f"
                        },
                        "error_y": {
                          "color": "#2a3f5f"
                        },
                        "marker": {
                          "line": {
                            "color": "#E5ECF6",
                            "width": 0.5
                          },
                          "pattern": {
                            "fillmode": "overlay",
                            "size": 10,
                            "solidity": 0.2
                          }
                        },
                        "type": "bar"
                      }
                    ],
                    "barpolar": [
                      {
                        "marker": {
                          "line": {
                            "color": "#E5ECF6",
                            "width": 0.5
                          },
                          "pattern": {
                            "fillmode": "overlay",
                            "size": 10,
                            "solidity": 0.2
                          }
                        },
                        "type": "barpolar"
                      }
                    ],
                    "carpet": [
                      {
                        "aaxis": {
                          "endlinecolor": "#2a3f5f",
                          "gridcolor": "white",
                          "linecolor": "white",
                          "minorgridcolor": "white",
                          "startlinecolor": "#2a3f5f"
                        },
                        "baxis": {
                          "endlinecolor": "#2a3f5f",
                          "gridcolor": "white",
                          "linecolor": "white",
                          "minorgridcolor": "white",
                          "startlinecolor": "#2a3f5f"
                        },
                        "type": "carpet"
                      }
                    ],
                    "choropleth": [
                      {
                        "colorbar": {
                          "outlinewidth": 0,
                          "ticks": ""
                        },
                        "type": "choropleth"
                      }
                    ],
                    "contour": [
                      {
                        "colorbar": {
                          "outlinewidth": 0,
                          "ticks": ""
                        },
                        "colorscale": [
                          [
                            0,
                            "#0d0887"
                          ],
                          [
                            0.1111111111111111,
                            "#46039f"
                          ],
                          [
                            0.2222222222222222,
                            "#7201a8"
                          ],
                          [
                            0.3333333333333333,
                            "#9c179e"
                          ],
                          [
                            0.4444444444444444,
                            "#bd3786"
                          ],
                          [
                            0.5555555555555556,
                            "#d8576b"
                          ],
                          [
                            0.6666666666666666,
                            "#ed7953"
                          ],
                          [
                            0.7777777777777778,
                            "#fb9f3a"
                          ],
                          [
                            0.8888888888888888,
                            "#fdca26"
                          ],
                          [
                            1,
                            "#f0f921"
                          ]
                        ],
                        "type": "contour"
                      }
                    ],
                    "contourcarpet": [
                      {
                        "colorbar": {
                          "outlinewidth": 0,
                          "ticks": ""
                        },
                        "type": "contourcarpet"
                      }
                    ],
                    "heatmap": [
                      {
                        "colorbar": {
                          "outlinewidth": 0,
                          "ticks": ""
                        },
                        "colorscale": [
                          [
                            0,
                            "#0d0887"
                          ],
                          [
                            0.1111111111111111,
                            "#46039f"
                          ],
                          [
                            0.2222222222222222,
                            "#7201a8"
                          ],
                          [
                            0.3333333333333333,
                            "#9c179e"
                          ],
                          [
                            0.4444444444444444,
                            "#bd3786"
                          ],
                          [
                            0.5555555555555556,
                            "#d8576b"
                          ],
                          [
                            0.6666666666666666,
                            "#ed7953"
                          ],
                          [
                            0.7777777777777778,
                            "#fb9f3a"
                          ],
                          [
                            0.8888888888888888,
                            "#fdca26"
                          ],
                          [
                            1,
                            "#f0f921"
                          ]
                        ],
                        "type": "heatmap"
                      }
                    ],
                    "heatmapgl": [
                      {
                        "colorbar": {
                          "outlinewidth": 0,
                          "ticks": ""
                        },
                        "colorscale": [
                          [
                            0,
                            "#0d0887"
                          ],
                          [
                            0.1111111111111111,
                            "#46039f"
                          ],
                          [
                            0.2222222222222222,
                            "#7201a8"
                          ],
                          [
                            0.3333333333333333,
                            "#9c179e"
                          ],
                          [
                            0.4444444444444444,
                            "#bd3786"
                          ],
                          [
                            0.5555555555555556,
                            "#d8576b"
                          ],
                          [
                            0.6666666666666666,
                            "#ed7953"
                          ],
                          [
                            0.7777777777777778,
                            "#fb9f3a"
                          ],
                          [
                            0.8888888888888888,
                            "#fdca26"
                          ],
                          [
                            1,
                            "#f0f921"
                          ]
                        ],
                        "type": "heatmapgl"
                      }
                    ],
                    "histogram": [
                      {
                        "marker": {
                          "pattern": {
                            "fillmode": "overlay",
                            "size": 10,
                            "solidity": 0.2
                          }
                        },
                        "type": "histogram"
                      }
                    ],
                    "histogram2d": [
                      {
                        "colorbar": {
                          "outlinewidth": 0,
                          "ticks": ""
                        },
                        "colorscale": [
                          [
                            0,
                            "#0d0887"
                          ],
                          [
                            0.1111111111111111,
                            "#46039f"
                          ],
                          [
                            0.2222222222222222,
                            "#7201a8"
                          ],
                          [
                            0.3333333333333333,
                            "#9c179e"
                          ],
                          [
                            0.4444444444444444,
                            "#bd3786"
                          ],
                          [
                            0.5555555555555556,
                            "#d8576b"
                          ],
                          [
                            0.6666666666666666,
                            "#ed7953"
                          ],
                          [
                            0.7777777777777778,
                            "#fb9f3a"
                          ],
                          [
                            0.8888888888888888,
                            "#fdca26"
                          ],
                          [
                            1,
                            "#f0f921"
                          ]
                        ],
                        "type": "histogram2d"
                      }
                    ],
                    "histogram2dcontour": [
                      {
                        "colorbar": {
                          "outlinewidth": 0,
                          "ticks": ""
                        },
                        "colorscale": [
                          [
                            0,
                            "#0d0887"
                          ],
                          [
                            0.1111111111111111,
                            "#46039f"
                          ],
                          [
                            0.2222222222222222,
                            "#7201a8"
                          ],
                          [
                            0.3333333333333333,
                            "#9c179e"
                          ],
                          [
                            0.4444444444444444,
                            "#bd3786"
                          ],
                          [
                            0.5555555555555556,
                            "#d8576b"
                          ],
                          [
                            0.6666666666666666,
                            "#ed7953"
                          ],
                          [
                            0.7777777777777778,
                            "#fb9f3a"
                          ],
                          [
                            0.8888888888888888,
                            "#fdca26"
                          ],
                          [
                            1,
                            "#f0f921"
                          ]
                        ],
                        "type": "histogram2dcontour"
                      }
                    ],
                    "mesh3d": [
                      {
                        "colorbar": {
                          "outlinewidth": 0,
                          "ticks": ""
                        },
                        "type": "mesh3d"
                      }
                    ],
                    "parcoords": [
                      {
                        "line": {
                          "colorbar": {
                            "outlinewidth": 0,
                            "ticks": ""
                          }
                        },
                        "type": "parcoords"
                      }
                    ],
                    "pie": [
                      {
                        "automargin": true,
                        "type": "pie"
                      }
                    ],
                    "scatter": [
                      {
                        "fillpattern": {
                          "fillmode": "overlay",
                          "size": 10,
                          "solidity": 0.2
                        },
                        "type": "scatter"
                      }
                    ],
                    "scatter3d": [
                      {
                        "line": {
                          "colorbar": {
                            "outlinewidth": 0,
                            "ticks": ""
                          }
                        },
                        "marker": {
                          "colorbar": {
                            "outlinewidth": 0,
                            "ticks": ""
                          }
                        },
                        "type": "scatter3d"
                      }
                    ],
                    "scattercarpet": [
                      {
                        "marker": {
                          "colorbar": {
                            "outlinewidth": 0,
                            "ticks": ""
                          }
                        },
                        "type": "scattercarpet"
                      }
                    ],
                    "scattergeo": [
                      {
                        "marker": {
                          "colorbar": {
                            "outlinewidth": 0,
                            "ticks": ""
                          }
                        },
                        "type": "scattergeo"
                      }
                    ],
                    "scattergl": [
                      {
                        "marker": {
                          "colorbar": {
                            "outlinewidth": 0,
                            "ticks": ""
                          }
                        },
                        "type": "scattergl"
                      }
                    ],
                    "scattermapbox": [
                      {
                        "marker": {
                          "colorbar": {
                            "outlinewidth": 0,
                            "ticks": ""
                          }
                        },
                        "type": "scattermapbox"
                      }
                    ],
                    "scatterpolar": [
                      {
                        "marker": {
                          "colorbar": {
                            "outlinewidth": 0,
                            "ticks": ""
                          }
                        },
                        "type": "scatterpolar"
                      }
                    ],
                    "scatterpolargl": [
                      {
                        "marker": {
                          "colorbar": {
                            "outlinewidth": 0,
                            "ticks": ""
                          }
                        },
                        "type": "scatterpolargl"
                      }
                    ],
                    "scatterternary": [
                      {
                        "marker": {
                          "colorbar": {
                            "outlinewidth": 0,
                            "ticks": ""
                          }
                        },
                        "type": "scatterternary"
                      }
                    ],
                    "surface": [
                      {
                        "colorbar": {
                          "outlinewidth": 0,
                          "ticks": ""
                        },
                        "colorscale": [
                          [
                            0,
                            "#0d0887"
                          ],
                          [
                            0.1111111111111111,
                            "#46039f"
                          ],
                          [
                            0.2222222222222222,
                            "#7201a8"
                          ],
                          [
                            0.3333333333333333,
                            "#9c179e"
                          ],
                          [
                            0.4444444444444444,
                            "#bd3786"
                          ],
                          [
                            0.5555555555555556,
                            "#d8576b"
                          ],
                          [
                            0.6666666666666666,
                            "#ed7953"
                          ],
                          [
                            0.7777777777777778,
                            "#fb9f3a"
                          ],
                          [
                            0.8888888888888888,
                            "#fdca26"
                          ],
                          [
                            1,
                            "#f0f921"
                          ]
                        ],
                        "type": "surface"
                      }
                    ],
                    "table": [
                      {
                        "cells": {
                          "fill": {
                            "color": "#EBF0F8"
                          },
                          "line": {
                            "color": "white"
                          }
                        },
                        "header": {
                          "fill": {
                            "color": "#C8D4E3"
                          },
                          "line": {
                            "color": "white"
                          }
                        },
                        "type": "table"
                      }
                    ]
                  },
                  "layout": {
                    "annotationdefaults": {
                      "arrowcolor": "#2a3f5f",
                      "arrowhead": 0,
                      "arrowwidth": 1
                    },
                    "autotypenumbers": "strict",
                    "coloraxis": {
                      "colorbar": {
                        "outlinewidth": 0,
                        "ticks": ""
                      }
                    },
                    "colorscale": {
                      "diverging": [
                        [
                          0,
                          "#8e0152"
                        ],
                        [
                          0.1,
                          "#c51b7d"
                        ],
                        [
                          0.2,
                          "#de77ae"
                        ],
                        [
                          0.3,
                          "#f1b6da"
                        ],
                        [
                          0.4,
                          "#fde0ef"
                        ],
                        [
                          0.5,
                          "#f7f7f7"
                        ],
                        [
                          0.6,
                          "#e6f5d0"
                        ],
                        [
                          0.7,
                          "#b8e186"
                        ],
                        [
                          0.8,
                          "#7fbc41"
                        ],
                        [
                          0.9,
                          "#4d9221"
                        ],
                        [
                          1,
                          "#276419"
                        ]
                      ],
                      "sequential": [
                        [
                          0,
                          "#0d0887"
                        ],
                        [
                          0.1111111111111111,
                          "#46039f"
                        ],
                        [
                          0.2222222222222222,
                          "#7201a8"
                        ],
                        [
                          0.3333333333333333,
                          "#9c179e"
                        ],
                        [
                          0.4444444444444444,
                          "#bd3786"
                        ],
                        [
                          0.5555555555555556,
                          "#d8576b"
                        ],
                        [
                          0.6666666666666666,
                          "#ed7953"
                        ],
                        [
                          0.7777777777777778,
                          "#fb9f3a"
                        ],
                        [
                          0.8888888888888888,
                          "#fdca26"
                        ],
                        [
                          1,
                          "#f0f921"
                        ]
                      ],
                      "sequentialminus": [
                        [
                          0,
                          "#0d0887"
                        ],
                        [
                          0.1111111111111111,
                          "#46039f"
                        ],
                        [
                          0.2222222222222222,
                          "#7201a8"
                        ],
                        [
                          0.3333333333333333,
                          "#9c179e"
                        ],
                        [
                          0.4444444444444444,
                          "#bd3786"
                        ],
                        [
                          0.5555555555555556,
                          "#d8576b"
                        ],
                        [
                          0.6666666666666666,
                          "#ed7953"
                        ],
                        [
                          0.7777777777777778,
                          "#fb9f3a"
                        ],
                        [
                          0.8888888888888888,
                          "#fdca26"
                        ],
                        [
                          1,
                          "#f0f921"
                        ]
                      ]
                    },
                    "colorway": [
                      "#636efa",
                      "#EF553B",
                      "#00cc96",
                      "#ab63fa",
                      "#FFA15A",
                      "#19d3f3",
                      "#FF6692",
                      "#B6E880",
                      "#FF97FF",
                      "#FECB52"
                    ],
                    "font": {
                      "color": "#2a3f5f"
                    },
                    "geo": {
                      "bgcolor": "white",
                      "lakecolor": "white",
                      "landcolor": "#E5ECF6",
                      "showlakes": true,
                      "showland": true,
                      "subunitcolor": "white"
                    },
                    "hoverlabel": {
                      "align": "left"
                    },
                    "hovermode": "closest",
                    "mapbox": {
                      "style": "light"
                    },
                    "paper_bgcolor": "white",
                    "plot_bgcolor": "#E5ECF6",
                    "polar": {
                      "angularaxis": {
                        "gridcolor": "white",
                        "linecolor": "white",
                        "ticks": ""
                      },
                      "bgcolor": "#E5ECF6",
                      "radialaxis": {
                        "gridcolor": "white",
                        "linecolor": "white",
                        "ticks": ""
                      }
                    },
                    "scene": {
                      "xaxis": {
                        "backgroundcolor": "#E5ECF6",
                        "gridcolor": "white",
                        "gridwidth": 2,
                        "linecolor": "white",
                        "showbackground": true,
                        "ticks": "",
                        "zerolinecolor": "white"
                      },
                      "yaxis": {
                        "backgroundcolor": "#E5ECF6",
                        "gridcolor": "white",
                        "gridwidth": 2,
                        "linecolor": "white",
                        "showbackground": true,
                        "ticks": "",
                        "zerolinecolor": "white"
                      },
                      "zaxis": {
                        "backgroundcolor": "#E5ECF6",
                        "gridcolor": "white",
                        "gridwidth": 2,
                        "linecolor": "white",
                        "showbackground": true,
                        "ticks": "",
                        "zerolinecolor": "white"
                      }
                    },
                    "shapedefaults": {
                      "line": {
                        "color": "#2a3f5f"
                      }
                    },
                    "ternary": {
                      "aaxis": {
                        "gridcolor": "white",
                        "linecolor": "white",
                        "ticks": ""
                      },
                      "baxis": {
                        "gridcolor": "white",
                        "linecolor": "white",
                        "ticks": ""
                      },
                      "bgcolor": "#E5ECF6",
                      "caxis": {
                        "gridcolor": "white",
                        "linecolor": "white",
                        "ticks": ""
                      }
                    },
                    "title": {
                      "x": 0.05
                    },
                    "xaxis": {
                      "automargin": true,
                      "gridcolor": "white",
                      "linecolor": "white",
                      "ticks": "",
                      "title": {
                        "standoff": 15
                      },
                      "zerolinecolor": "white",
                      "zerolinewidth": 2
                    },
                    "yaxis": {
                      "automargin": true,
                      "gridcolor": "white",
                      "linecolor": "white",
                      "ticks": "",
                      "title": {
                        "standoff": 15
                      },
                      "zerolinecolor": "white",
                      "zerolinewidth": 2
                    }
                  }
                },
                "title": {
                  "text": "Amazon Stock Closing Prices(Interactive)"
                },
                "xaxis": {
                  "anchor": "y",
                  "domain": [
                    0,
                    1
                  ],
                  "title": {
                    "text": "Date"
                  }
                },
                "yaxis": {
                  "anchor": "x",
                  "domain": [
                    0,
                    1
                  ],
                  "title": {
                    "text": "Price (USD)"
                  }
                }
              }
            }
          },
          "metadata": {},
          "output_type": "display_data"
        }
      ],
      "source": [
        "# Plot the closing prices with Plotly Express\n",
        "fig = px.line(apple_stock_data, x=apple_stock_data.index, y='Close',\n",
        "              title='Amazon Stock Closing Prices(Interactive)', labels={'x': 'Date', 'Close': 'Price (USD)'})\n",
        "fig.update_traces(mode='lines', line=dict(width=2), name='AMZN Closing Price')\n",
        "fig.update_layout(legend_title_text='Legend')\n",
        "fig.show()"
      ]
    }
  ],
  "metadata": {
    "colab": {
      "provenance": []
    },
    "kernelspec": {
      "display_name": "Python 3",
      "name": "python3"
    },
    "language_info": {
      "codemirror_mode": {
        "name": "ipython",
        "version": 3
      },
      "file_extension": ".py",
      "mimetype": "text/x-python",
      "name": "python",
      "nbconvert_exporter": "python",
      "pygments_lexer": "ipython3",
      "version": "3.9.13"
    }
  },
  "nbformat": 4,
  "nbformat_minor": 0
}
