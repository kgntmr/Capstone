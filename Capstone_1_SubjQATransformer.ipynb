{
 "cells": [
  {
   "cell_type": "markdown",
   "metadata": {},
   "source": [
    "## Data Collection 🛠\n",
    "\n",
    "The subjQA dataset is constructed based on publicly available review datasets. Specifically, the movies, books, electronics, and grocery categories are constructed using reviews from the Amazon Review dataset. The TripAdvisor category, as the name suggests, is constructed using reviews from TripAdvisor which can be found [here](link). Finally, the restaurants category is constructed using the Yelp Dataset which is also publicly available.\n",
    "\n",
    "The process of constructing SubjQA is discussed in detail in our paper. In a nutshell, the dataset construction consists of the following steps:\n",
    "\n",
    "1. First, all opinions expressed in reviews are extracted. In the pipeline, each opinion is modeled as a (modifier, aspect) pair which is a pair of spans where the former describes the latter. *(e.g., \"good, hotel\", and \"terrible, acting\" are a few examples of extracted opinions)*.\n",
    "2. Using Matrix Factorization techniques, implication relationships between different expressed opinions are mined. For instance, the system mines that \"responsive keys\" implies \"good keyboard\". In our pipeline, we refer to the conclusion of an implication (i.e., \"good keyboard\" in this example) as the query opinion, and we refer to the premise (i.e., \"responsive keys\") as its neighboring opinion.\n",
    "3. Annotators are then asked to write a question based on query opinions. For instance, given \"good keyboard\" as the query opinion, they might write \"Is this keyboard any good?\"\n",
    "4. Each question written based on a query opinion is then paired with a review that mentions its neighboring opinion. In our example, that would be a review that mentions \"responsive keys\".\n",
    "5. The question and review pairs are presented to annotators to select the correct answer span, and rate the subjectivity level of the question as well as the subjectivity level of the highlighted answer span."
   ]
  },
  {
   "cell_type": "markdown",
   "metadata": {},
   "source": [
    "## Data Format 📊\n",
    "\n",
    "All files are in standard CSV format, and they consist of the following columns:\n",
    "\n",
    "- **domain**: The category/domain of the review (e.g., hotels, books, ...).\n",
    "- **question**: The question (written based on a query opinion).\n",
    "- **review**: The review (that mentions the neighboring opinion).\n",
    "- **human_ans_spans**: The span labeled by annotators as the answer.\n",
    "- **human_ans_indices**: The (character-level) start and end indices of the answer span highlighted by annotators.\n",
    "- **question_subj_level**: The subjectivity level of the question (on a 1 to 5 scale with 1 being the most subjective).\n",
    "- **ques_subj_score**: The subjectivity score of the question computed using the TextBlob package.\n",
    "- **is_ques_subjective**: A boolean subjectivity label derived from question_subj_level (i.e., scores below 4 are considered as subjective).\n",
    "- **answer_subj_level**: The subjectivity level of the answer span (on a 1 to 5 scale with 5 being the most subjective).\n",
    "- **ans_subj_score**: The subjectivity score of the answer span computed using the TextBlob package.\n",
    "- **is_ans_subjective**: A boolean subjectivity label derived from answer_subj_level (i.e., scores below 4 are considered as subjective).\n",
    "- **nn_mod**: The modifier of the neighboring opinion (which appears in the review).\n",
    "- **nn_asp**: The aspect of the neighboring opinion (which appears in the review).\n",
    "- **query_mod**: The modifier of the query opinion (around which a question is manually written).\n",
    "- **query_asp**: The aspect of the query opinion (around which a question is manually written).\n",
    "- **item_id**: The id of the item/business discussed in the review.\n",
    "- **review_id**: A unique id associated with the review.\n",
    "- **q_review_id**: A unique id assigned to the question-review pair.\n",
    "- **q_reviews_id**: A unique id assigned to all question-review pairs with a shared question."
   ]
  },
  {
   "cell_type": "markdown",
   "metadata": {},
   "source": [
    "### Citation\n",
    "Johannes Bjerva, Nikita Bhutani, Behzad Golahn, Wang-Chiew Tan, and Isabelle Augenstein. (2020). SubjQA: A Dataset for Subjectivity and Review Comprehension. In *Proceedings of the 2020 Conference on Empirical Methods in Natural Language Processing*. Association for Computational Linguistics."
   ]
  },
  {
   "cell_type": "code",
   "execution_count": 1,
   "metadata": {},
   "outputs": [],
   "source": [
    "# Standard Libraries\n",
    "import collections\n",
    "import numpy as np\n",
    "import os\n",
    "\n",
    "# Visualization Libraries\n",
    "import plotly.express as px\n",
    "\n",
    "# Deep Learning and Computation\n",
    "import torch\n",
    "from tqdm.auto import tqdm\n",
    "\n",
    "# Machine Learning Metrics\n",
    "from sklearn.metrics import accuracy_score\n",
    "\n",
    "# Data Loading and Acceleration Utilities\n",
    "from datasets import load_dataset\n",
    "import datasets\n",
    "from accelerate import Accelerator\n",
    "import evaluate\n",
    "\n",
    "# Transformers Library for NLP\n",
    "from transformers import (\n",
    "    AutoTokenizer,\n",
    "    AutoModelForQuestionAnswering,\n",
    "    Trainer,\n",
    "    TrainingArguments,\n",
    "    TrainerCallback\n",
    ")"
   ]
  },
  {
   "cell_type": "code",
   "execution_count": 2,
   "metadata": {},
   "outputs": [],
   "source": [
    "model = \"deepset/roberta-base-squad2\"\n",
    "tokenizer = AutoTokenizer.from_pretrained(model)"
   ]
  },
  {
   "cell_type": "code",
   "execution_count": 3,
   "metadata": {},
   "outputs": [
    {
     "data": {
      "text/plain": [
       "True"
      ]
     },
     "execution_count": 3,
     "metadata": {},
     "output_type": "execute_result"
    }
   ],
   "source": [
    "# A fast tokenizer is optimized for speed and efficiency in tokenizing text\n",
    "# Often implement faster processing, useful for large-scale NLP tasks.\n",
    "tokenizer.is_fast"
   ]
  },
  {
   "cell_type": "code",
   "execution_count": 4,
   "metadata": {},
   "outputs": [],
   "source": [
    "import pandas as pd\n",
    "df_train = pd.read_csv('subjqa-train.csv')\n",
    "df_test = pd.read_csv('subjqa-test.csv')"
   ]
  },
  {
   "cell_type": "code",
   "execution_count": 5,
   "metadata": {},
   "outputs": [],
   "source": [
    "# Define the maximum length and stride parameters for tokenization\n",
    "max_length = 384  # Maximum length of tokenized sequences, commonly used for a balance between context and memory usage\n",
    "stride = 128  # Stride determines overlap between tokenized sequences, providing context while avoiding redundancy"
   ]
  },
  {
   "cell_type": "code",
   "execution_count": 6,
   "metadata": {},
   "outputs": [],
   "source": [
    "def preprocess_training_examples(examples):\n",
    "    questions = [q.strip() for q in examples[\"question\"]]\n",
    "    inputs = tokenizer(\n",
    "        questions,\n",
    "        examples[\"context\"],\n",
    "        max_length=max_length,\n",
    "        truncation=\"only_second\",\n",
    "        stride=stride,\n",
    "        return_overflowing_tokens=True,\n",
    "        return_offsets_mapping=True,\n",
    "        padding=\"max_length\",\n",
    "    )\n",
    "\n",
    "    offset_mapping = inputs.pop(\"offset_mapping\")\n",
    "    sample_map = inputs.pop(\"overflow_to_sample_mapping\")\n",
    "    answers = examples[\"answers\"]\n",
    "    start_positions = []\n",
    "    end_positions = []\n",
    "\n",
    "    for i, offset in enumerate(offset_mapping):\n",
    "        sample_idx = sample_map[i]\n",
    "        answer = answers[sample_idx]\n",
    "        start_char = answer[\"answer_start\"][0]\n",
    "        end_char = answer[\"answer_start\"][0] + len(answer[\"text\"][0])\n",
    "        sequence_ids = inputs.sequence_ids(i)\n",
    "\n",
    "        # Find the start and end of the context\n",
    "        idx = 0\n",
    "        while sequence_ids[idx] != 1:\n",
    "            idx += 1\n",
    "        context_start = idx\n",
    "        while sequence_ids[idx] == 1:\n",
    "            idx += 1\n",
    "        context_end = idx - 1\n",
    "\n",
    "        # If the answer is not fully inside the context, label is (0, 0)\n",
    "        if offset[context_start][0] > start_char or offset[context_end][1] < end_char:\n",
    "            start_positions.append(0)\n",
    "            end_positions.append(0)\n",
    "        else:\n",
    "            # Otherwise it's the start and end token positions\n",
    "            idx = context_start\n",
    "            while idx <= context_end and offset[idx][0] <= start_char:\n",
    "                idx += 1\n",
    "            start_positions.append(idx - 1)\n",
    "\n",
    "            idx = context_end\n",
    "            while idx >= context_start and offset[idx][1] >= end_char:\n",
    "                idx -= 1\n",
    "            end_positions.append(idx + 1)\n",
    "\n",
    "    inputs[\"start_positions\"] = start_positions\n",
    "    inputs[\"end_positions\"] = end_positions\n",
    "    return inputs"
   ]
  },
  {
   "cell_type": "code",
   "execution_count": 7,
   "metadata": {},
   "outputs": [],
   "source": [
    "df_train.head()"
   ]
  },
  {
   "cell_type": "code",
   "execution_count": 8,
   "metadata": {},
   "outputs": [],
   "source": [
    "df_train.info()"
   ]
  },
  {
   "cell_type": "code",
   "execution_count": 9,
   "metadata": {},
   "outputs": [],
   "source": [
    "df_train.columns"
   ]
  },
  {
   "cell_type": "code",
   "execution_count": 10,
   "metadata": {},
   "outputs": [],
   "source": [
    "df_train.info()"
   ]
  },
  {
   "cell_type": "markdown",
   "metadata": {},
   "source": [
    "## Checking the questions and answers\n",
    "- Let's check it questions and answer according to the 'human_ans_indices'"
   ]
  },
  {
   "cell_type": "code",
   "execution_count": 11,
   "metadata": {},
   "outputs": [
    {
     "data": {
      "text/plain": [
       "'Who is the author of this series?'"
      ]
     },
     "execution_count": 11,
     "metadata": {},
     "output_type": "execute_result"
    }
   ],
   "source": [
    "df_train.iloc[0].question"
   ]
  },
  {
   "cell_type": "code",
   "execution_count": 12,
   "metadata": {},
   "outputs": [
    {
     "data": {
      "text/plain": [
       "\"Whether it be in her portrayal of a nerdy lesbian or a punk rock rebel, Maslany's plural personalities, (though very stereotypical), are entertaining eye-candy. Combined with a complex and unpredictable plot line, this show is surprisingly addictive. ANSWERNOTFOUND\""
      ]
     },
     "execution_count": 12,
     "metadata": {},
     "output_type": "execute_result"
    }
   ],
   "source": [
    "df_train.iloc[0].review"
   ]
  },
  {
   "cell_type": "code",
   "execution_count": 13,
   "metadata": {},
   "outputs": [
    {
     "data": {
      "text/plain": [
       "'(251, 265)'"
      ]
     },
     "execution_count": 13,
     "metadata": {},
     "output_type": "execute_result"
    }
   ],
   "source": [
    "df_train.iloc[0].human_ans_indices"
   ]
  },
  {
   "cell_type": "code",
   "execution_count": 14,
   "metadata": {},
   "outputs": [
    {
     "data": {
      "text/plain": [
       "'ANSWERNOTFOUND'"
      ]
     },
     "execution_count": 14,
     "metadata": {},
     "output_type": "execute_result"
    }
   ],
   "source": [
    "df_train.iloc[0].review[251:265]"
   ]
  },
  {
   "cell_type": "code",
   "execution_count": 15,
   "metadata": {},
   "outputs": [],
   "source": [
    "# Picking the necessary columns for further analysis\n",
    "df_train=df_train[['question','human_ans_indices','review','human_ans_spans']]\n",
    "df_test=df_test[['question','human_ans_indices','review','human_ans_spans']]"
   ]
  },
  {
   "cell_type": "code",
   "execution_count": 16,
   "metadata": {},
   "outputs": [],
   "source": [
    "# Generate a sequence evenly spaced numbers\n",
    "df_train['id']=np.linspace(0,len(df_train)-1,len(df_train))\n",
    "df_test['id']=np.linspace(0,len(df_test)-1,len(df_test))"
   ]
  },
  {
   "cell_type": "code",
   "execution_count": 17,
   "metadata": {},
   "outputs": [],
   "source": [
    "df_train['id']=df_train['id'].astype(str)\n",
    "df_test['id']=df_test['id'].astype(str)"
   ]
  },
  {
   "cell_type": "code",
   "execution_count": 18,
   "metadata": {},
   "outputs": [],
   "source": [
    "df_train.info()"
   ]
  },
  {
   "cell_type": "code",
   "execution_count": 19,
   "metadata": {},
   "outputs": [],
   "source": [
    "df_test.info()"
   ]
  },
  {
   "cell_type": "code",
   "execution_count": 20,
   "metadata": {},
   "outputs": [
    {
     "data": {
      "text/plain": [
       "251"
      ]
     },
     "execution_count": 20,
     "metadata": {},
     "output_type": "execute_result"
    }
   ],
   "source": [
    "int(df_train.iloc[0].human_ans_indices.split('(')[1].split(',')[0])"
   ]
  },
  {
   "cell_type": "code",
   "execution_count": 21,
   "metadata": {},
   "outputs": [
    {
     "data": {
      "text/plain": [
       "265.0"
      ]
     },
     "execution_count": 21,
     "metadata": {},
     "output_type": "execute_result"
    }
   ],
   "source": [
    "float(df_train.iloc[0].human_ans_indices.split('(')[1].split(',')[1].split(' ')[1].split(')')[0])"
   ]
  },
  {
   "cell_type": "code",
   "execution_count": 22,
   "metadata": {},
   "outputs": [],
   "source": [
    "# Indicating where the answers are\n",
    "df_train['answers']=df_train['human_ans_spans']\n",
    "# Actual answer text itself, right answer where should be\n",
    "df_test['answers']=df_test['human_ans_spans']"
   ]
  },
  {
   "cell_type": "code",
   "execution_count": 23,
   "metadata": {},
   "outputs": [],
   "source": [
    "# Extract answer data and adds it to a new column\n",
    "for i in range(0,len(df_train)):\n",
    "  answer1={}\n",
    "  si=int(df_train.iloc[i].human_ans_indices.split('(')[1].split(',')[0])\n",
    "  ei=int(df_train.iloc[i].human_ans_indices.split('(')[1].split(',')[1].split(' ')[1].split(')')[0])\n",
    "  answer1['text']=[df_train.iloc[i].review[si:ei]]\n",
    "  answer1['answer_start']=[si]\n",
    "  df_train.at[i, 'answers']=answer1"
   ]
  },
  {
   "cell_type": "code",
   "execution_count": 24,
   "metadata": {},
   "outputs": [],
   "source": [
    "print(df_train.iloc[i].answers,df_train.iloc[i].human_ans_spans)"
   ]
  },
  {
   "cell_type": "code",
   "execution_count": 25,
   "metadata": {},
   "outputs": [],
   "source": [
    "df_train.columns"
   ]
  },
  {
   "cell_type": "code",
   "execution_count": 26,
   "metadata": {},
   "outputs": [],
   "source": [
    "df_train.columns=['question', 'human_ans_indices', 'context', 'human_ans_spans', 'id',\n",
    "       'answers']\n",
    "\n",
    "df_test.columns=['question', 'human_ans_indices', 'context', 'human_ans_spans','id',\n",
    "       'answers']"
   ]
  },
  {
   "cell_type": "code",
   "execution_count": 27,
   "metadata": {},
   "outputs": [],
   "source": [
    "val_dataset2 = datasets.Dataset.from_pandas(df_test)\n",
    "train_dataset2 = datasets.Dataset.from_pandas(df_train)"
   ]
  },
  {
   "cell_type": "code",
   "execution_count": 28,
   "metadata": {},
   "outputs": [
    {
     "data": {
      "application/vnd.jupyter.widget-view+json": {
       "model_id": "5b353a8ffc2d45efadf91f47552605ce",
       "version_major": 2,
       "version_minor": 0
      },
      "text/plain": [
       "Map:   0%|          | 0/2501 [00:00<?, ? examples/s]"
      ]
     },
     "metadata": {},
     "output_type": "display_data"
    },
    {
     "data": {
      "text/plain": [
       "(2501, 4862)"
      ]
     },
     "execution_count": 28,
     "metadata": {},
     "output_type": "execute_result"
    }
   ],
   "source": [
    "# Preprocess the training examples .map() function on training dataset with the preprocessing function\n",
    "train_dataset = train_dataset2.map(\n",
    "    preprocess_training_examples,\n",
    "    batched=True,\n",
    "    remove_columns=train_dataset2.column_names,\n",
    ")\n",
    "len(train_dataset2), len(train_dataset) # compare the lengths of the original dataset (train_dataset2) and the preprocessed dataset (train_dataset)."
   ]
  },
  {
   "cell_type": "markdown",
   "metadata": {},
   "source": [
    "It shows that all 2501 examples were processed in 10 seconds at a speed of 260.48 examples per second. The resulting dataset has 4862 examples."
   ]
  },
  {
   "cell_type": "code",
   "execution_count": 29,
   "metadata": {},
   "outputs": [],
   "source": [
    "def preprocess_validation_examples(examples):\n",
    "    # Cleaning the questions by stripping leading and trailing whitespace for consistency\n",
    "    questions = [q.strip() for q in examples[\"question\"]]\n",
    "\n",
    "    # Tokenization; converting questions and contexts into numerical IDs, enabling the model to understand\n",
    "    inputs = tokenizer(\n",
    "        questions,\n",
    "        examples[\"context\"],\n",
    "        max_length=max_length, # Total length of the input sequence\n",
    "        truncation=\"only_second\", # If the total length exceeds max_length, only the context will be truncated\n",
    "        stride=stride, # Overlap between the chunks\n",
    "        return_overflowing_tokens=True,\n",
    "        return_offsets_mapping=True,\n",
    "        padding=\"max_length\",\n",
    "    )\n",
    "\n",
    "    # Extracting overflow_to_sample_mapping\n",
    "    sample_map = inputs.pop(\"overflow_to_sample_mapping\")\n",
    "    example_ids = []\n",
    "\n",
    "    # Looping over the tokenized inputs\n",
    "    for i in range(len(inputs[\"input_ids\"])):\n",
    "        sample_idx = sample_map[i]\n",
    "        example_ids.append(examples[\"id\"][sample_idx]) # Retrieving example IDs\n",
    "\n",
    "        # Adjusting offset mapping based on sequence IDs\n",
    "        sequence_ids = inputs.sequence_ids(i)\n",
    "        offset = inputs[\"offset_mapping\"][i]\n",
    "        inputs[\"offset_mapping\"][i] = [\n",
    "            o if sequence_ids[k] == 1 else None for k, o in enumerate(offset)\n",
    "        ]\n",
    "\n",
    "    # Adding example IDs to the tokenized inputs\n",
    "    inputs[\"example_id\"] = example_ids\n",
    "    return inputs"
   ]
  },
  {
   "cell_type": "code",
   "execution_count": 30,
   "metadata": {},
   "outputs": [
    {
     "data": {
      "application/vnd.jupyter.widget-view+json": {
       "model_id": "792eecc8412640beb6bfae2068d4bc92",
       "version_major": 2,
       "version_minor": 0
      },
      "text/plain": [
       "Map:   0%|          | 0/582 [00:00<?, ? examples/s]"
      ]
     },
     "metadata": {},
     "output_type": "display_data"
    },
    {
     "data": {
      "text/plain": [
       "1104"
      ]
     },
     "execution_count": 30,
     "metadata": {},
     "output_type": "execute_result"
    }
   ],
   "source": [
    "# Preprocess the validation dataset by applying the preprocess_validation_examples function to each example\n",
    "validation_dataset = val_dataset2.map(\n",
    "    preprocess_validation_examples,  # Function to preprocess each example\n",
    "    batched=True,  # Process examples in batches for efficiency\n",
    "    remove_columns=val_dataset2.column_names,  # Remove unnecessary columns from the dataset\n",
    ")\n",
    "\n",
    "# Calculate the length of the preprocessed validation dataset\n",
    "len(validation_dataset)"
   ]
  },
  {
   "cell_type": "code",
   "execution_count": 31,
   "metadata": {},
   "outputs": [],
   "source": [
    "validation_dataset"
   ]
  },
  {
   "cell_type": "code",
   "execution_count": 32,
   "metadata": {},
   "outputs": [],
   "source": [
    "tokenizer = AutoTokenizer.from_pretrained(model)"
   ]
  },
  {
   "cell_type": "code",
   "execution_count": 33,
   "metadata": {},
   "outputs": [],
   "source": [
    "metric = evaluate.load(\"squad\")"
   ]
  },
  {
   "cell_type": "code",
   "execution_count": 34,
   "metadata": {},
   "outputs": [],
   "source": [
    "def compute_metrics(start_logits, end_logits, features, examples):\n",
    "    # Initialize a defaultdict to map example IDs to their corresponding feature indices\n",
    "    example_to_features = collections.defaultdict(list)\n",
    "    for idx, feature in enumerate(features):\n",
    "        example_to_features[feature[\"example_id\"]].append(idx)\n",
    "\n",
    "    # List to store the formatted predicted answers\n",
    "    predicted_answers = []\n",
    "\n",
    "    # Placeholder values for n_best and max_answer_length\n",
    "    n_best = 20\n",
    "    max_answer_length = 30 \n",
    "\n",
    "    # Process each example to generate predictions\n",
    "    for example in tqdm(examples):\n",
    "        example_id = example[\"id\"]\n",
    "        context = example[\"context\"]\n",
    "        answers = []\n",
    "\n",
    "        # Iterate through all features linked to the current example\n",
    "        for feature_index in example_to_features[example_id]:\n",
    "            start_logit = start_logits[feature_index]\n",
    "            end_logit = end_logits[feature_index]\n",
    "            offsets = features[feature_index][\"offset_mapping\"]\n",
    "\n",
    "            # Determine top n_best start and end positions\n",
    "            start_indexes = np.argsort(start_logit)[-1: -n_best - 1: -1].tolist()\n",
    "            end_indexes = np.argsort(end_logit)[-1: -n_best - 1: -1].tolist()\n",
    "\n",
    "            # Generate candidate answers based on top start/end positions\n",
    "            for start_index in start_indexes:\n",
    "                for end_index in end_indexes:\n",
    "                    # Validate answer positions\n",
    "                    if offsets[start_index] is None or offsets[end_index] is None:\n",
    "                        continue\n",
    "                    if end_index < start_index or end_index - start_index + 1 > max_answer_length:\n",
    "                        continue\n",
    "\n",
    "                    # Formulate the answer and score\n",
    "                    answer = {\n",
    "                        \"text\": context[offsets[start_index][0]: offsets[end_index][1]],\n",
    "                        \"logit_score\": start_logit[start_index] + end_logit[end_index],\n",
    "                    }\n",
    "                    answers.append(answer)\n",
    "\n",
    "        # Choose the best answer for the current example\n",
    "        if answers:\n",
    "            best_answer = max(answers, key=lambda x: x[\"logit_score\"])\n",
    "            predicted_answers.append({\"id\": example_id, \"prediction_text\": best_answer[\"text\"]})\n",
    "        else:\n",
    "            predicted_answers.append({\"id\": example_id, \"prediction_text\": \"\"})\n",
    "\n",
    "    # Correctly format the references from the examples dataset\n",
    "    references_corrected = []\n",
    "    for ex in examples:\n",
    "        # Split answers if needed and create the correct format\n",
    "        individual_answers = [{'text': ans, 'answer_start': 0} for ans in ex['answers'].split('|')]  # Adjust splitting mechanism as needed\n",
    "        references_corrected.append({\n",
    "            'id': ex['id'],\n",
    "            'answers': individual_answers\n",
    "        })\n",
    "\n",
    "    # Compute the evaluation metric using the formatted predictions and references\n",
    "    return metric.compute(predictions=predicted_answers, references=references_corrected)"
   ]
  },
  {
   "cell_type": "code",
   "execution_count": 35,
   "metadata": {},
   "outputs": [],
   "source": [
    "model1 = AutoModelForQuestionAnswering.from_pretrained(model)"
   ]
  },
  {
   "cell_type": "code",
   "execution_count": 36,
   "metadata": {},
   "outputs": [],
   "source": [
    "class DataFrameMetricsLogger(TrainerCallback):\n",
    "    def __init__(self):\n",
    "        # Initialize an empty list to store metrics dictionaries\n",
    "        self.metrics_list = []\n",
    "\n",
    "    def on_log(self, args, state, control, logs=None, **kwargs):\n",
    "        # This method is called whenever logs are emitted by the Trainer\n",
    "        if logs is not None:\n",
    "            # Append the log metrics directly to the list\n",
    "            self.metrics_list.append(logs.copy())  # Copy to ensure no overwriting\n",
    "\n",
    "    def get_dataframe(self):\n",
    "        # Convert the list of dictionaries to a DataFrame\n",
    "        return pd.DataFrame(self.metrics_list)"
   ]
  },
  {
   "cell_type": "code",
   "execution_count": 37,
   "metadata": {},
   "outputs": [],
   "source": [
    "args = TrainingArguments(\n",
    "    output_dir=\"roberta-finetuned-subjqa-for-rag\",\n",
    "    evaluation_strategy=\"epoch\",                    # Evaluate at the end of each epoch\n",
    "    logging_strategy=\"steps\",                       # Log every specified number of steps\n",
    "    logging_steps=9,                                # Number of steps to log after\n",
    "    logging_dir='./logs',                           # Directory where logs will be saved\n",
    "    save_strategy=\"epoch\",                          # Save the model at the end of each epoch\n",
    "    learning_rate=2e-5,                             # Learning rate\n",
    "    num_train_epochs=7,                          \n",
    "    weight_decay=0.01,                              # Weight decay for regularization\n",
    "    push_to_hub=False,                              # Whether to push the model to the Hugging Face Hub\n",
    "    report_to=\"all\",                                # Reporting to all integrations\n",
    "    fp16=False                                      # Disable mixed precision training\n",
    ")\n"
   ]
  },
  {
   "cell_type": "code",
   "execution_count": 38,
   "metadata": {},
   "outputs": [],
   "source": [
    "# Initialize the DataFrame logger\n",
    "dataframe_logger = DataFrameMetricsLogger()"
   ]
  },
  {
   "cell_type": "code",
   "execution_count": 39,
   "metadata": {},
   "outputs": [
    {
     "name": "stderr",
     "output_type": "stream",
     "text": [
      "c:\\Users\\Aishwarya\\AppData\\Local\\Programs\\Python\\Python312\\Lib\\site-packages\\accelerate\\accelerator.py:436: FutureWarning: Passing the following arguments to `Accelerator` is deprecated and will be removed in version 1.0 of Accelerate: dict_keys(['dispatch_batches', 'split_batches', 'even_batches', 'use_seedable_sampler']). Please pass an `accelerate.DataLoaderConfiguration` instead: \n",
      "dataloader_config = DataLoaderConfiguration(dispatch_batches=None, split_batches=False, even_batches=True, use_seedable_sampler=True)\n",
      "  warnings.warn(\n"
     ]
    }
   ],
   "source": [
    "# Setup the trainer with the logger\n",
    "trainer = Trainer(\n",
    "    model=model1,\n",
    "    args=args,\n",
    "    train_dataset=train_dataset,\n",
    "    eval_dataset=validation_dataset,\n",
    "    tokenizer=tokenizer,\n",
    "    callbacks=[dataframe_logger]\n",
    ")"
   ]
  },
  {
   "cell_type": "code",
   "execution_count": 40,
   "metadata": {},
   "outputs": [
    {
     "data": {
      "application/vnd.jupyter.widget-view+json": {
       "model_id": "a1ed2c0e611f459db6ab93d58cf8d813",
       "version_major": 2,
       "version_minor": 0
      },
      "text/plain": [
       "  0%|          | 0/138 [00:00<?, ?it/s]"
      ]
     },
     "metadata": {},
     "output_type": "display_data"
    },
    {
     "data": {
      "application/vnd.jupyter.widget-view+json": {
       "model_id": "11a3ace638404a87bde98e4f433c433b",
       "version_major": 2,
       "version_minor": 0
      },
      "text/plain": [
       "  0%|          | 0/582 [00:00<?, ?it/s]"
      ]
     },
     "metadata": {},
     "output_type": "display_data"
    },
    {
     "data": {
      "text/plain": [
       "{'exact_match': 2.0618556701030926, 'f1': 9.415323986809298}"
      ]
     },
     "execution_count": 40,
     "metadata": {},
     "output_type": "execute_result"
    }
   ],
   "source": [
    "predictions, _, _ = trainer.predict(validation_dataset)\n",
    "start_logits, end_logits = predictions\n",
    "compute_metrics(start_logits, end_logits, validation_dataset, val_dataset2)"
   ]
  },
  {
   "cell_type": "code",
   "execution_count": 41,
   "metadata": {},
   "outputs": [
    {
     "data": {
      "application/vnd.jupyter.widget-view+json": {
       "model_id": "d0dda07c40e24877b4225e11ac0d3892",
       "version_major": 2,
       "version_minor": 0
      },
      "text/plain": [
       "  0%|          | 0/608 [00:00<?, ?it/s]"
      ]
     },
     "metadata": {},
     "output_type": "display_data"
    },
    {
     "name": "stdout",
     "output_type": "stream",
     "text": [
      "{'loss': 2.6179, 'grad_norm': 76.1769790649414, 'learning_rate': 1.9703947368421054e-05, 'epoch': 0.01}\n",
      "{'loss': 2.004, 'grad_norm': 49.15945816040039, 'learning_rate': 1.9407894736842107e-05, 'epoch': 0.03}\n",
      "{'loss': 1.4124, 'grad_norm': 34.978763580322266, 'learning_rate': 1.911184210526316e-05, 'epoch': 0.04}\n",
      "{'loss': 1.503, 'grad_norm': 28.714746475219727, 'learning_rate': 1.8815789473684213e-05, 'epoch': 0.06}\n",
      "{'loss': 1.4342, 'grad_norm': 22.719783782958984, 'learning_rate': 1.8519736842105265e-05, 'epoch': 0.07}\n",
      "{'loss': 1.1982, 'grad_norm': 25.8891544342041, 'learning_rate': 1.8223684210526318e-05, 'epoch': 0.09}\n",
      "{'loss': 1.5597, 'grad_norm': 15.912856101989746, 'learning_rate': 1.792763157894737e-05, 'epoch': 0.1}\n",
      "{'loss': 1.1993, 'grad_norm': 18.213233947753906, 'learning_rate': 1.763157894736842e-05, 'epoch': 0.12}\n",
      "{'loss': 1.3244, 'grad_norm': 33.71144485473633, 'learning_rate': 1.7335526315789476e-05, 'epoch': 0.13}\n",
      "{'loss': 1.3768, 'grad_norm': 18.291790008544922, 'learning_rate': 1.703947368421053e-05, 'epoch': 0.15}\n",
      "{'loss': 0.9997, 'grad_norm': 26.240144729614258, 'learning_rate': 1.6743421052631582e-05, 'epoch': 0.16}\n",
      "{'loss': 1.4574, 'grad_norm': 36.931488037109375, 'learning_rate': 1.644736842105263e-05, 'epoch': 0.18}\n",
      "{'loss': 1.8594, 'grad_norm': 41.35459518432617, 'learning_rate': 1.6151315789473684e-05, 'epoch': 0.19}\n",
      "{'loss': 0.9782, 'grad_norm': 6.519445896148682, 'learning_rate': 1.5855263157894737e-05, 'epoch': 0.21}\n",
      "{'loss': 1.4045, 'grad_norm': 16.489757537841797, 'learning_rate': 1.555921052631579e-05, 'epoch': 0.22}\n",
      "{'loss': 1.1188, 'grad_norm': 30.66977882385254, 'learning_rate': 1.5263157894736846e-05, 'epoch': 0.24}\n",
      "{'loss': 1.0329, 'grad_norm': 28.29925537109375, 'learning_rate': 1.4967105263157895e-05, 'epoch': 0.25}\n",
      "{'loss': 1.1981, 'grad_norm': 19.36685562133789, 'learning_rate': 1.4671052631578948e-05, 'epoch': 0.27}\n",
      "{'loss': 0.9877, 'grad_norm': 21.537769317626953, 'learning_rate': 1.4375e-05, 'epoch': 0.28}\n",
      "{'loss': 1.7409, 'grad_norm': 23.17822265625, 'learning_rate': 1.4078947368421055e-05, 'epoch': 0.3}\n",
      "{'loss': 1.1189, 'grad_norm': 18.928220748901367, 'learning_rate': 1.3782894736842108e-05, 'epoch': 0.31}\n",
      "{'loss': 1.0099, 'grad_norm': 22.3678035736084, 'learning_rate': 1.3486842105263159e-05, 'epoch': 0.33}\n",
      "{'loss': 0.6917, 'grad_norm': 11.348708152770996, 'learning_rate': 1.3190789473684211e-05, 'epoch': 0.34}\n",
      "{'loss': 1.2583, 'grad_norm': 47.07306671142578, 'learning_rate': 1.2894736842105264e-05, 'epoch': 0.36}\n",
      "{'loss': 1.6388, 'grad_norm': 21.958873748779297, 'learning_rate': 1.2598684210526317e-05, 'epoch': 0.37}\n",
      "{'loss': 1.44, 'grad_norm': 38.95858383178711, 'learning_rate': 1.230263157894737e-05, 'epoch': 0.38}\n",
      "{'loss': 1.1057, 'grad_norm': 30.055139541625977, 'learning_rate': 1.200657894736842e-05, 'epoch': 0.4}\n",
      "{'loss': 1.1434, 'grad_norm': 28.252859115600586, 'learning_rate': 1.1710526315789475e-05, 'epoch': 0.41}\n",
      "{'loss': 1.1597, 'grad_norm': 10.924700736999512, 'learning_rate': 1.1414473684210528e-05, 'epoch': 0.43}\n",
      "{'loss': 1.1768, 'grad_norm': 38.368465423583984, 'learning_rate': 1.111842105263158e-05, 'epoch': 0.44}\n",
      "{'loss': 1.1401, 'grad_norm': 20.25294303894043, 'learning_rate': 1.0822368421052632e-05, 'epoch': 0.46}\n",
      "{'loss': 1.4082, 'grad_norm': 52.93439483642578, 'learning_rate': 1.0526315789473684e-05, 'epoch': 0.47}\n",
      "{'loss': 1.1831, 'grad_norm': 11.715909004211426, 'learning_rate': 1.0230263157894737e-05, 'epoch': 0.49}\n",
      "{'loss': 0.9811, 'grad_norm': 18.250019073486328, 'learning_rate': 9.93421052631579e-06, 'epoch': 0.5}\n",
      "{'loss': 1.3153, 'grad_norm': 22.105409622192383, 'learning_rate': 9.638157894736843e-06, 'epoch': 0.52}\n",
      "{'loss': 0.9796, 'grad_norm': 36.01674270629883, 'learning_rate': 9.342105263157895e-06, 'epoch': 0.53}\n",
      "{'loss': 1.3177, 'grad_norm': 13.589487075805664, 'learning_rate': 9.046052631578948e-06, 'epoch': 0.55}\n",
      "{'loss': 1.1541, 'grad_norm': 11.981739044189453, 'learning_rate': 8.750000000000001e-06, 'epoch': 0.56}\n",
      "{'loss': 1.2668, 'grad_norm': 6.926937580108643, 'learning_rate': 8.453947368421054e-06, 'epoch': 0.58}\n",
      "{'loss': 0.9285, 'grad_norm': 22.206558227539062, 'learning_rate': 8.157894736842106e-06, 'epoch': 0.59}\n",
      "{'loss': 1.7021, 'grad_norm': 24.19704818725586, 'learning_rate': 7.86184210526316e-06, 'epoch': 0.61}\n",
      "{'loss': 0.9633, 'grad_norm': 11.696314811706543, 'learning_rate': 7.565789473684211e-06, 'epoch': 0.62}\n",
      "{'loss': 0.8737, 'grad_norm': 31.345396041870117, 'learning_rate': 7.269736842105264e-06, 'epoch': 0.64}\n",
      "{'loss': 1.629, 'grad_norm': 13.444466590881348, 'learning_rate': 6.973684210526316e-06, 'epoch': 0.65}\n",
      "{'loss': 0.6925, 'grad_norm': 25.02983856201172, 'learning_rate': 6.677631578947369e-06, 'epoch': 0.67}\n",
      "{'loss': 1.256, 'grad_norm': 14.766058921813965, 'learning_rate': 6.381578947368422e-06, 'epoch': 0.68}\n",
      "{'loss': 1.3902, 'grad_norm': 28.373689651489258, 'learning_rate': 6.085526315789474e-06, 'epoch': 0.7}\n",
      "{'loss': 0.7025, 'grad_norm': 10.291872024536133, 'learning_rate': 5.789473684210527e-06, 'epoch': 0.71}\n",
      "{'loss': 1.2897, 'grad_norm': 31.847217559814453, 'learning_rate': 5.493421052631579e-06, 'epoch': 0.73}\n",
      "{'loss': 1.3977, 'grad_norm': 23.085783004760742, 'learning_rate': 5.197368421052632e-06, 'epoch': 0.74}\n",
      "{'loss': 0.9636, 'grad_norm': 11.56934642791748, 'learning_rate': 4.901315789473685e-06, 'epoch': 0.75}\n",
      "{'loss': 1.589, 'grad_norm': 28.929759979248047, 'learning_rate': 4.605263157894737e-06, 'epoch': 0.77}\n",
      "{'loss': 1.3928, 'grad_norm': 16.420175552368164, 'learning_rate': 4.30921052631579e-06, 'epoch': 0.78}\n",
      "{'loss': 1.231, 'grad_norm': 16.542051315307617, 'learning_rate': 4.013157894736842e-06, 'epoch': 0.8}\n",
      "{'loss': 1.2006, 'grad_norm': 12.831380844116211, 'learning_rate': 3.717105263157895e-06, 'epoch': 0.81}\n",
      "{'loss': 1.3097, 'grad_norm': 16.362302780151367, 'learning_rate': 3.421052631578948e-06, 'epoch': 0.83}\n",
      "{'loss': 1.2003, 'grad_norm': 17.152074813842773, 'learning_rate': 3.125e-06, 'epoch': 0.84}\n",
      "{'loss': 0.8558, 'grad_norm': 12.088212013244629, 'learning_rate': 2.828947368421053e-06, 'epoch': 0.86}\n",
      "{'loss': 1.1737, 'grad_norm': 11.852638244628906, 'learning_rate': 2.5328947368421052e-06, 'epoch': 0.87}\n",
      "{'loss': 1.3106, 'grad_norm': 13.394857406616211, 'learning_rate': 2.236842105263158e-06, 'epoch': 0.89}\n",
      "{'loss': 0.9445, 'grad_norm': 20.243961334228516, 'learning_rate': 1.9407894736842107e-06, 'epoch': 0.9}\n",
      "{'loss': 1.4808, 'grad_norm': 19.174203872680664, 'learning_rate': 1.6447368421052635e-06, 'epoch': 0.92}\n",
      "{'loss': 1.2319, 'grad_norm': 19.97263526916504, 'learning_rate': 1.348684210526316e-06, 'epoch': 0.93}\n",
      "{'loss': 1.0857, 'grad_norm': 27.963010787963867, 'learning_rate': 1.0526315789473685e-06, 'epoch': 0.95}\n",
      "{'loss': 1.0245, 'grad_norm': 29.007125854492188, 'learning_rate': 7.565789473684211e-07, 'epoch': 0.96}\n",
      "{'loss': 1.2488, 'grad_norm': 30.497726440429688, 'learning_rate': 4.605263157894737e-07, 'epoch': 0.98}\n",
      "{'loss': 0.9124, 'grad_norm': 15.246856689453125, 'learning_rate': 1.6447368421052632e-07, 'epoch': 0.99}\n"
     ]
    },
    {
     "data": {
      "application/vnd.jupyter.widget-view+json": {
       "model_id": "2fd32ffeef45499aab04b21812e02981",
       "version_major": 2,
       "version_minor": 0
      },
      "text/plain": [
       "  0%|          | 0/138 [00:00<?, ?it/s]"
      ]
     },
     "metadata": {},
     "output_type": "display_data"
    },
    {
     "name": "stdout",
     "output_type": "stream",
     "text": [
      "{'eval_runtime': 457.4429, 'eval_samples_per_second': 2.413, 'eval_steps_per_second': 0.302, 'epoch': 1.0}\n",
      "{'train_runtime': 6495.0535, 'train_samples_per_second': 0.749, 'train_steps_per_second': 0.094, 'train_loss': 1.2457893275116618, 'epoch': 1.0}\n"
     ]
    },
    {
     "data": {
      "text/plain": [
       "TrainOutput(global_step=608, training_loss=1.2457893275116618, metrics={'train_runtime': 6495.0535, 'train_samples_per_second': 0.749, 'train_steps_per_second': 0.094, 'train_loss': 1.2457893275116618, 'epoch': 1.0})"
      ]
     },
     "execution_count": 41,
     "metadata": {},
     "output_type": "execute_result"
    }
   ],
   "source": [
    "trainer.train()"
   ]
  },
  {
   "cell_type": "code",
   "execution_count": 49,
   "metadata": {},
   "outputs": [
    {
     "data": {
      "text/html": [
       "<div>\n",
       "<style scoped>\n",
       "    .dataframe tbody tr th:only-of-type {\n",
       "        vertical-align: middle;\n",
       "    }\n",
       "\n",
       "    .dataframe tbody tr th {\n",
       "        vertical-align: top;\n",
       "    }\n",
       "\n",
       "    .dataframe thead th {\n",
       "        text-align: right;\n",
       "    }\n",
       "</style>\n",
       "<table border=\"1\" class=\"dataframe\">\n",
       "  <thead>\n",
       "    <tr style=\"text-align: right;\">\n",
       "      <th></th>\n",
       "      <th>loss</th>\n",
       "      <th>grad_norm</th>\n",
       "      <th>learning_rate</th>\n",
       "      <th>epoch</th>\n",
       "      <th>eval_runtime</th>\n",
       "      <th>eval_samples_per_second</th>\n",
       "      <th>eval_steps_per_second</th>\n",
       "      <th>train_runtime</th>\n",
       "      <th>train_samples_per_second</th>\n",
       "      <th>train_steps_per_second</th>\n",
       "      <th>total_flos</th>\n",
       "      <th>train_loss</th>\n",
       "    </tr>\n",
       "  </thead>\n",
       "  <tbody>\n",
       "    <tr>\n",
       "      <th>0</th>\n",
       "      <td>2.6179</td>\n",
       "      <td>76.176979</td>\n",
       "      <td>0.000020</td>\n",
       "      <td>0.01</td>\n",
       "      <td>NaN</td>\n",
       "      <td>NaN</td>\n",
       "      <td>NaN</td>\n",
       "      <td>NaN</td>\n",
       "      <td>NaN</td>\n",
       "      <td>NaN</td>\n",
       "      <td>NaN</td>\n",
       "      <td>NaN</td>\n",
       "    </tr>\n",
       "    <tr>\n",
       "      <th>1</th>\n",
       "      <td>2.0040</td>\n",
       "      <td>49.159458</td>\n",
       "      <td>0.000019</td>\n",
       "      <td>0.03</td>\n",
       "      <td>NaN</td>\n",
       "      <td>NaN</td>\n",
       "      <td>NaN</td>\n",
       "      <td>NaN</td>\n",
       "      <td>NaN</td>\n",
       "      <td>NaN</td>\n",
       "      <td>NaN</td>\n",
       "      <td>NaN</td>\n",
       "    </tr>\n",
       "    <tr>\n",
       "      <th>2</th>\n",
       "      <td>1.4124</td>\n",
       "      <td>34.978764</td>\n",
       "      <td>0.000019</td>\n",
       "      <td>0.04</td>\n",
       "      <td>NaN</td>\n",
       "      <td>NaN</td>\n",
       "      <td>NaN</td>\n",
       "      <td>NaN</td>\n",
       "      <td>NaN</td>\n",
       "      <td>NaN</td>\n",
       "      <td>NaN</td>\n",
       "      <td>NaN</td>\n",
       "    </tr>\n",
       "    <tr>\n",
       "      <th>3</th>\n",
       "      <td>1.5030</td>\n",
       "      <td>28.714746</td>\n",
       "      <td>0.000019</td>\n",
       "      <td>0.06</td>\n",
       "      <td>NaN</td>\n",
       "      <td>NaN</td>\n",
       "      <td>NaN</td>\n",
       "      <td>NaN</td>\n",
       "      <td>NaN</td>\n",
       "      <td>NaN</td>\n",
       "      <td>NaN</td>\n",
       "      <td>NaN</td>\n",
       "    </tr>\n",
       "    <tr>\n",
       "      <th>4</th>\n",
       "      <td>1.4342</td>\n",
       "      <td>22.719784</td>\n",
       "      <td>0.000019</td>\n",
       "      <td>0.07</td>\n",
       "      <td>NaN</td>\n",
       "      <td>NaN</td>\n",
       "      <td>NaN</td>\n",
       "      <td>NaN</td>\n",
       "      <td>NaN</td>\n",
       "      <td>NaN</td>\n",
       "      <td>NaN</td>\n",
       "      <td>NaN</td>\n",
       "    </tr>\n",
       "  </tbody>\n",
       "</table>\n",
       "</div>"
      ],
      "text/plain": [
       "     loss  grad_norm  learning_rate  epoch  eval_runtime  \\\n",
       "0  2.6179  76.176979       0.000020   0.01           NaN   \n",
       "1  2.0040  49.159458       0.000019   0.03           NaN   \n",
       "2  1.4124  34.978764       0.000019   0.04           NaN   \n",
       "3  1.5030  28.714746       0.000019   0.06           NaN   \n",
       "4  1.4342  22.719784       0.000019   0.07           NaN   \n",
       "\n",
       "   eval_samples_per_second  eval_steps_per_second  train_runtime  \\\n",
       "0                      NaN                    NaN            NaN   \n",
       "1                      NaN                    NaN            NaN   \n",
       "2                      NaN                    NaN            NaN   \n",
       "3                      NaN                    NaN            NaN   \n",
       "4                      NaN                    NaN            NaN   \n",
       "\n",
       "   train_samples_per_second  train_steps_per_second  total_flos  train_loss  \n",
       "0                       NaN                     NaN         NaN         NaN  \n",
       "1                       NaN                     NaN         NaN         NaN  \n",
       "2                       NaN                     NaN         NaN         NaN  \n",
       "3                       NaN                     NaN         NaN         NaN  \n",
       "4                       NaN                     NaN         NaN         NaN  "
      ]
     },
     "execution_count": 49,
     "metadata": {},
     "output_type": "execute_result"
    }
   ],
   "source": [
    "# Convert logged metrics to DataFrame\n",
    "metrics_df = dataframe_logger.get_dataframe()"
   ]
  },
  {
   "cell_type": "code",
   "execution_count": 53,
   "metadata": {},
   "outputs": [],
   "source": [
    "metrics_df = metrics_df[['loss', 'grad_norm', 'learning_rate', 'epoch']]"
   ]
  },
  {
   "cell_type": "code",
   "execution_count": 55,
   "metadata": {},
   "outputs": [
    {
     "data": {
      "text/html": [
       "<div>\n",
       "<style scoped>\n",
       "    .dataframe tbody tr th:only-of-type {\n",
       "        vertical-align: middle;\n",
       "    }\n",
       "\n",
       "    .dataframe tbody tr th {\n",
       "        vertical-align: top;\n",
       "    }\n",
       "\n",
       "    .dataframe thead th {\n",
       "        text-align: right;\n",
       "    }\n",
       "</style>\n",
       "<table border=\"1\" class=\"dataframe\">\n",
       "  <thead>\n",
       "    <tr style=\"text-align: right;\">\n",
       "      <th></th>\n",
       "      <th>loss</th>\n",
       "      <th>grad_norm</th>\n",
       "      <th>learning_rate</th>\n",
       "      <th>epoch</th>\n",
       "    </tr>\n",
       "  </thead>\n",
       "  <tbody>\n",
       "    <tr>\n",
       "      <th>0</th>\n",
       "      <td>2.6179</td>\n",
       "      <td>76.176979</td>\n",
       "      <td>0.000020</td>\n",
       "      <td>0.01</td>\n",
       "    </tr>\n",
       "    <tr>\n",
       "      <th>1</th>\n",
       "      <td>2.0040</td>\n",
       "      <td>49.159458</td>\n",
       "      <td>0.000019</td>\n",
       "      <td>0.03</td>\n",
       "    </tr>\n",
       "    <tr>\n",
       "      <th>2</th>\n",
       "      <td>1.4124</td>\n",
       "      <td>34.978764</td>\n",
       "      <td>0.000019</td>\n",
       "      <td>0.04</td>\n",
       "    </tr>\n",
       "    <tr>\n",
       "      <th>3</th>\n",
       "      <td>1.5030</td>\n",
       "      <td>28.714746</td>\n",
       "      <td>0.000019</td>\n",
       "      <td>0.06</td>\n",
       "    </tr>\n",
       "    <tr>\n",
       "      <th>4</th>\n",
       "      <td>1.4342</td>\n",
       "      <td>22.719784</td>\n",
       "      <td>0.000019</td>\n",
       "      <td>0.07</td>\n",
       "    </tr>\n",
       "  </tbody>\n",
       "</table>\n",
       "</div>"
      ],
      "text/plain": [
       "     loss  grad_norm  learning_rate  epoch\n",
       "0  2.6179  76.176979       0.000020   0.01\n",
       "1  2.0040  49.159458       0.000019   0.03\n",
       "2  1.4124  34.978764       0.000019   0.04\n",
       "3  1.5030  28.714746       0.000019   0.06\n",
       "4  1.4342  22.719784       0.000019   0.07"
      ]
     },
     "execution_count": 55,
     "metadata": {},
     "output_type": "execute_result"
    }
   ],
   "source": [
    "metrics_df.head()"
   ]
  },
  {
   "cell_type": "markdown",
   "metadata": {},
   "source": [
    "- ***Loss:*** Represents the loss function value calculated at a given epoch.\n",
    "- ***grad_norm:*** Refers to the norm (magnitude) of the gradient vector. This is an important metric for understanding the stability of the training process. High gradient norms can indicate issues like exploding gradients.\n",
    "- ***learning_rate:*** Shows the learning rate at each epoch. This parameter controls the size of the steps the optimizer takes while updating the weights. Changes in the learning rate can significantly affect model training dynamics.\n",
    "- ***Epoch:*** Indicates the progression of the training process in terms of epochs. An epoch represents one complete pass through the entire training dataset."
   ]
  },
  {
   "cell_type": "code",
   "execution_count": 47,
   "metadata": {},
   "outputs": [
    {
     "data": {
      "application/vnd.plotly.v1+json": {
       "config": {
        "plotlyServerURL": "https://plot.ly"
       },
       "data": [
        {
         "hovertemplate": "Epoch=%{x}<br>Loss=%{y}<extra></extra>",
         "legendgroup": "",
         "line": {
          "color": "#636efa",
          "dash": "solid"
         },
         "marker": {
          "symbol": "circle"
         },
         "mode": "lines+markers",
         "name": "",
         "orientation": "v",
         "showlegend": false,
         "type": "scatter",
         "x": [
          0.01,
          0.03,
          0.04,
          0.06,
          0.07,
          0.09,
          0.1,
          0.12,
          0.13,
          0.15,
          0.16,
          0.18,
          0.19,
          0.21,
          0.22,
          0.24,
          0.25,
          0.27,
          0.28,
          0.3,
          0.31,
          0.33,
          0.34,
          0.36,
          0.37,
          0.38,
          0.4,
          0.41,
          0.43,
          0.44,
          0.46,
          0.47,
          0.49,
          0.5,
          0.52,
          0.53,
          0.55,
          0.56,
          0.58,
          0.59,
          0.61,
          0.62,
          0.64,
          0.65,
          0.67,
          0.68,
          0.7,
          0.71,
          0.73,
          0.74,
          0.75,
          0.77,
          0.78,
          0.8,
          0.81,
          0.83,
          0.84,
          0.86,
          0.87,
          0.89,
          0.9,
          0.92,
          0.93,
          0.95,
          0.96,
          0.98,
          0.99,
          1,
          1
         ],
         "xaxis": "x",
         "y": [
          2.6179,
          2.004,
          1.4124,
          1.503,
          1.4342,
          1.1982,
          1.5597,
          1.1993,
          1.3244,
          1.3768,
          0.9997,
          1.4574,
          1.8594,
          0.9782,
          1.4045,
          1.1188,
          1.0329,
          1.1981,
          0.9877,
          1.7409,
          1.1189,
          1.0099,
          0.6917,
          1.2583,
          1.6388,
          1.44,
          1.1057,
          1.1434,
          1.1597,
          1.1768,
          1.1401,
          1.4082,
          1.1831,
          0.9811,
          1.3153,
          0.9796,
          1.3177,
          1.1541,
          1.2668,
          0.9285,
          1.7021,
          0.9633,
          0.8737,
          1.629,
          0.6925,
          1.256,
          1.3902,
          0.7025,
          1.2897,
          1.3977,
          0.9636,
          1.589,
          1.3928,
          1.231,
          1.2006,
          1.3097,
          1.2003,
          0.8558,
          1.1737,
          1.3106,
          0.9445,
          1.4808,
          1.2319,
          1.0857,
          1.0245,
          1.2488,
          0.9124,
          null,
          null
         ],
         "yaxis": "y"
        }
       ],
       "layout": {
        "font": {
         "color": "RebeccaPurple",
         "family": "Courier New, monospace",
         "size": 12
        },
        "legend": {
         "title": {
          "text": "Metric"
         },
         "tracegroupgap": 0
        },
        "showlegend": true,
        "template": {
         "data": {
          "bar": [
           {
            "error_x": {
             "color": "#2a3f5f"
            },
            "error_y": {
             "color": "#2a3f5f"
            },
            "marker": {
             "line": {
              "color": "#E5ECF6",
              "width": 0.5
             },
             "pattern": {
              "fillmode": "overlay",
              "size": 10,
              "solidity": 0.2
             }
            },
            "type": "bar"
           }
          ],
          "barpolar": [
           {
            "marker": {
             "line": {
              "color": "#E5ECF6",
              "width": 0.5
             },
             "pattern": {
              "fillmode": "overlay",
              "size": 10,
              "solidity": 0.2
             }
            },
            "type": "barpolar"
           }
          ],
          "carpet": [
           {
            "aaxis": {
             "endlinecolor": "#2a3f5f",
             "gridcolor": "white",
             "linecolor": "white",
             "minorgridcolor": "white",
             "startlinecolor": "#2a3f5f"
            },
            "baxis": {
             "endlinecolor": "#2a3f5f",
             "gridcolor": "white",
             "linecolor": "white",
             "minorgridcolor": "white",
             "startlinecolor": "#2a3f5f"
            },
            "type": "carpet"
           }
          ],
          "choropleth": [
           {
            "colorbar": {
             "outlinewidth": 0,
             "ticks": ""
            },
            "type": "choropleth"
           }
          ],
          "contour": [
           {
            "colorbar": {
             "outlinewidth": 0,
             "ticks": ""
            },
            "colorscale": [
             [
              0,
              "#0d0887"
             ],
             [
              0.1111111111111111,
              "#46039f"
             ],
             [
              0.2222222222222222,
              "#7201a8"
             ],
             [
              0.3333333333333333,
              "#9c179e"
             ],
             [
              0.4444444444444444,
              "#bd3786"
             ],
             [
              0.5555555555555556,
              "#d8576b"
             ],
             [
              0.6666666666666666,
              "#ed7953"
             ],
             [
              0.7777777777777778,
              "#fb9f3a"
             ],
             [
              0.8888888888888888,
              "#fdca26"
             ],
             [
              1,
              "#f0f921"
             ]
            ],
            "type": "contour"
           }
          ],
          "contourcarpet": [
           {
            "colorbar": {
             "outlinewidth": 0,
             "ticks": ""
            },
            "type": "contourcarpet"
           }
          ],
          "heatmap": [
           {
            "colorbar": {
             "outlinewidth": 0,
             "ticks": ""
            },
            "colorscale": [
             [
              0,
              "#0d0887"
             ],
             [
              0.1111111111111111,
              "#46039f"
             ],
             [
              0.2222222222222222,
              "#7201a8"
             ],
             [
              0.3333333333333333,
              "#9c179e"
             ],
             [
              0.4444444444444444,
              "#bd3786"
             ],
             [
              0.5555555555555556,
              "#d8576b"
             ],
             [
              0.6666666666666666,
              "#ed7953"
             ],
             [
              0.7777777777777778,
              "#fb9f3a"
             ],
             [
              0.8888888888888888,
              "#fdca26"
             ],
             [
              1,
              "#f0f921"
             ]
            ],
            "type": "heatmap"
           }
          ],
          "heatmapgl": [
           {
            "colorbar": {
             "outlinewidth": 0,
             "ticks": ""
            },
            "colorscale": [
             [
              0,
              "#0d0887"
             ],
             [
              0.1111111111111111,
              "#46039f"
             ],
             [
              0.2222222222222222,
              "#7201a8"
             ],
             [
              0.3333333333333333,
              "#9c179e"
             ],
             [
              0.4444444444444444,
              "#bd3786"
             ],
             [
              0.5555555555555556,
              "#d8576b"
             ],
             [
              0.6666666666666666,
              "#ed7953"
             ],
             [
              0.7777777777777778,
              "#fb9f3a"
             ],
             [
              0.8888888888888888,
              "#fdca26"
             ],
             [
              1,
              "#f0f921"
             ]
            ],
            "type": "heatmapgl"
           }
          ],
          "histogram": [
           {
            "marker": {
             "pattern": {
              "fillmode": "overlay",
              "size": 10,
              "solidity": 0.2
             }
            },
            "type": "histogram"
           }
          ],
          "histogram2d": [
           {
            "colorbar": {
             "outlinewidth": 0,
             "ticks": ""
            },
            "colorscale": [
             [
              0,
              "#0d0887"
             ],
             [
              0.1111111111111111,
              "#46039f"
             ],
             [
              0.2222222222222222,
              "#7201a8"
             ],
             [
              0.3333333333333333,
              "#9c179e"
             ],
             [
              0.4444444444444444,
              "#bd3786"
             ],
             [
              0.5555555555555556,
              "#d8576b"
             ],
             [
              0.6666666666666666,
              "#ed7953"
             ],
             [
              0.7777777777777778,
              "#fb9f3a"
             ],
             [
              0.8888888888888888,
              "#fdca26"
             ],
             [
              1,
              "#f0f921"
             ]
            ],
            "type": "histogram2d"
           }
          ],
          "histogram2dcontour": [
           {
            "colorbar": {
             "outlinewidth": 0,
             "ticks": ""
            },
            "colorscale": [
             [
              0,
              "#0d0887"
             ],
             [
              0.1111111111111111,
              "#46039f"
             ],
             [
              0.2222222222222222,
              "#7201a8"
             ],
             [
              0.3333333333333333,
              "#9c179e"
             ],
             [
              0.4444444444444444,
              "#bd3786"
             ],
             [
              0.5555555555555556,
              "#d8576b"
             ],
             [
              0.6666666666666666,
              "#ed7953"
             ],
             [
              0.7777777777777778,
              "#fb9f3a"
             ],
             [
              0.8888888888888888,
              "#fdca26"
             ],
             [
              1,
              "#f0f921"
             ]
            ],
            "type": "histogram2dcontour"
           }
          ],
          "mesh3d": [
           {
            "colorbar": {
             "outlinewidth": 0,
             "ticks": ""
            },
            "type": "mesh3d"
           }
          ],
          "parcoords": [
           {
            "line": {
             "colorbar": {
              "outlinewidth": 0,
              "ticks": ""
             }
            },
            "type": "parcoords"
           }
          ],
          "pie": [
           {
            "automargin": true,
            "type": "pie"
           }
          ],
          "scatter": [
           {
            "fillpattern": {
             "fillmode": "overlay",
             "size": 10,
             "solidity": 0.2
            },
            "type": "scatter"
           }
          ],
          "scatter3d": [
           {
            "line": {
             "colorbar": {
              "outlinewidth": 0,
              "ticks": ""
             }
            },
            "marker": {
             "colorbar": {
              "outlinewidth": 0,
              "ticks": ""
             }
            },
            "type": "scatter3d"
           }
          ],
          "scattercarpet": [
           {
            "marker": {
             "colorbar": {
              "outlinewidth": 0,
              "ticks": ""
             }
            },
            "type": "scattercarpet"
           }
          ],
          "scattergeo": [
           {
            "marker": {
             "colorbar": {
              "outlinewidth": 0,
              "ticks": ""
             }
            },
            "type": "scattergeo"
           }
          ],
          "scattergl": [
           {
            "marker": {
             "colorbar": {
              "outlinewidth": 0,
              "ticks": ""
             }
            },
            "type": "scattergl"
           }
          ],
          "scattermapbox": [
           {
            "marker": {
             "colorbar": {
              "outlinewidth": 0,
              "ticks": ""
             }
            },
            "type": "scattermapbox"
           }
          ],
          "scatterpolar": [
           {
            "marker": {
             "colorbar": {
              "outlinewidth": 0,
              "ticks": ""
             }
            },
            "type": "scatterpolar"
           }
          ],
          "scatterpolargl": [
           {
            "marker": {
             "colorbar": {
              "outlinewidth": 0,
              "ticks": ""
             }
            },
            "type": "scatterpolargl"
           }
          ],
          "scatterternary": [
           {
            "marker": {
             "colorbar": {
              "outlinewidth": 0,
              "ticks": ""
             }
            },
            "type": "scatterternary"
           }
          ],
          "surface": [
           {
            "colorbar": {
             "outlinewidth": 0,
             "ticks": ""
            },
            "colorscale": [
             [
              0,
              "#0d0887"
             ],
             [
              0.1111111111111111,
              "#46039f"
             ],
             [
              0.2222222222222222,
              "#7201a8"
             ],
             [
              0.3333333333333333,
              "#9c179e"
             ],
             [
              0.4444444444444444,
              "#bd3786"
             ],
             [
              0.5555555555555556,
              "#d8576b"
             ],
             [
              0.6666666666666666,
              "#ed7953"
             ],
             [
              0.7777777777777778,
              "#fb9f3a"
             ],
             [
              0.8888888888888888,
              "#fdca26"
             ],
             [
              1,
              "#f0f921"
             ]
            ],
            "type": "surface"
           }
          ],
          "table": [
           {
            "cells": {
             "fill": {
              "color": "#EBF0F8"
             },
             "line": {
              "color": "white"
             }
            },
            "header": {
             "fill": {
              "color": "#C8D4E3"
             },
             "line": {
              "color": "white"
             }
            },
            "type": "table"
           }
          ]
         },
         "layout": {
          "annotationdefaults": {
           "arrowcolor": "#2a3f5f",
           "arrowhead": 0,
           "arrowwidth": 1
          },
          "autotypenumbers": "strict",
          "coloraxis": {
           "colorbar": {
            "outlinewidth": 0,
            "ticks": ""
           }
          },
          "colorscale": {
           "diverging": [
            [
             0,
             "#8e0152"
            ],
            [
             0.1,
             "#c51b7d"
            ],
            [
             0.2,
             "#de77ae"
            ],
            [
             0.3,
             "#f1b6da"
            ],
            [
             0.4,
             "#fde0ef"
            ],
            [
             0.5,
             "#f7f7f7"
            ],
            [
             0.6,
             "#e6f5d0"
            ],
            [
             0.7,
             "#b8e186"
            ],
            [
             0.8,
             "#7fbc41"
            ],
            [
             0.9,
             "#4d9221"
            ],
            [
             1,
             "#276419"
            ]
           ],
           "sequential": [
            [
             0,
             "#0d0887"
            ],
            [
             0.1111111111111111,
             "#46039f"
            ],
            [
             0.2222222222222222,
             "#7201a8"
            ],
            [
             0.3333333333333333,
             "#9c179e"
            ],
            [
             0.4444444444444444,
             "#bd3786"
            ],
            [
             0.5555555555555556,
             "#d8576b"
            ],
            [
             0.6666666666666666,
             "#ed7953"
            ],
            [
             0.7777777777777778,
             "#fb9f3a"
            ],
            [
             0.8888888888888888,
             "#fdca26"
            ],
            [
             1,
             "#f0f921"
            ]
           ],
           "sequentialminus": [
            [
             0,
             "#0d0887"
            ],
            [
             0.1111111111111111,
             "#46039f"
            ],
            [
             0.2222222222222222,
             "#7201a8"
            ],
            [
             0.3333333333333333,
             "#9c179e"
            ],
            [
             0.4444444444444444,
             "#bd3786"
            ],
            [
             0.5555555555555556,
             "#d8576b"
            ],
            [
             0.6666666666666666,
             "#ed7953"
            ],
            [
             0.7777777777777778,
             "#fb9f3a"
            ],
            [
             0.8888888888888888,
             "#fdca26"
            ],
            [
             1,
             "#f0f921"
            ]
           ]
          },
          "colorway": [
           "#636efa",
           "#EF553B",
           "#00cc96",
           "#ab63fa",
           "#FFA15A",
           "#19d3f3",
           "#FF6692",
           "#B6E880",
           "#FF97FF",
           "#FECB52"
          ],
          "font": {
           "color": "#2a3f5f"
          },
          "geo": {
           "bgcolor": "white",
           "lakecolor": "white",
           "landcolor": "#E5ECF6",
           "showlakes": true,
           "showland": true,
           "subunitcolor": "white"
          },
          "hoverlabel": {
           "align": "left"
          },
          "hovermode": "closest",
          "mapbox": {
           "style": "light"
          },
          "paper_bgcolor": "white",
          "plot_bgcolor": "#E5ECF6",
          "polar": {
           "angularaxis": {
            "gridcolor": "white",
            "linecolor": "white",
            "ticks": ""
           },
           "bgcolor": "#E5ECF6",
           "radialaxis": {
            "gridcolor": "white",
            "linecolor": "white",
            "ticks": ""
           }
          },
          "scene": {
           "xaxis": {
            "backgroundcolor": "#E5ECF6",
            "gridcolor": "white",
            "gridwidth": 2,
            "linecolor": "white",
            "showbackground": true,
            "ticks": "",
            "zerolinecolor": "white"
           },
           "yaxis": {
            "backgroundcolor": "#E5ECF6",
            "gridcolor": "white",
            "gridwidth": 2,
            "linecolor": "white",
            "showbackground": true,
            "ticks": "",
            "zerolinecolor": "white"
           },
           "zaxis": {
            "backgroundcolor": "#E5ECF6",
            "gridcolor": "white",
            "gridwidth": 2,
            "linecolor": "white",
            "showbackground": true,
            "ticks": "",
            "zerolinecolor": "white"
           }
          },
          "shapedefaults": {
           "line": {
            "color": "#2a3f5f"
           }
          },
          "ternary": {
           "aaxis": {
            "gridcolor": "white",
            "linecolor": "white",
            "ticks": ""
           },
           "baxis": {
            "gridcolor": "white",
            "linecolor": "white",
            "ticks": ""
           },
           "bgcolor": "#E5ECF6",
           "caxis": {
            "gridcolor": "white",
            "linecolor": "white",
            "ticks": ""
           }
          },
          "title": {
           "x": 0.05
          },
          "xaxis": {
           "automargin": true,
           "gridcolor": "white",
           "linecolor": "white",
           "ticks": "",
           "title": {
            "standoff": 15
           },
           "zerolinecolor": "white",
           "zerolinewidth": 2
          },
          "yaxis": {
           "automargin": true,
           "gridcolor": "white",
           "linecolor": "white",
           "ticks": "",
           "title": {
            "standoff": 15
           },
           "zerolinecolor": "white",
           "zerolinewidth": 2
          }
         }
        },
        "title": {
         "text": "Loss over Epochs"
        },
        "xaxis": {
         "anchor": "y",
         "domain": [
          0,
          1
         ],
         "nticks": 20,
         "tickmode": "auto",
         "title": {
          "text": "Epoch"
         }
        },
        "yaxis": {
         "anchor": "x",
         "domain": [
          0,
          1
         ],
         "title": {
          "text": "Loss"
         }
        }
       }
      }
     },
     "metadata": {},
     "output_type": "display_data"
    }
   ],
   "source": [
    "# Assuming 'metrics_df' is your DataFrame and it contains 'epoch' and 'loss'\n",
    "fig = px.line(metrics_df, x='epoch', y='loss', \n",
    "              title='Loss over Epochs', \n",
    "              labels={'epoch': 'Epoch', 'loss': 'Loss'},\n",
    "              markers=True)  # Enable markers on the line\n",
    "\n",
    "# Update layout for more customization\n",
    "fig.update_layout(\n",
    "    xaxis_title='Epoch',  # Title for the X-axis\n",
    "    yaxis_title='Loss',   # Title for the Y-axis\n",
    "    font=dict(family=\"Courier New, monospace\", size=12, color=\"RebeccaPurple\"),\n",
    "    xaxis=dict(tickmode='auto', nticks=20),  # Auto mode for ticks, adjust as needed\n",
    "    showlegend=True\n",
    ")\n",
    "\n",
    "# Show the plot\n",
    "fig.show()\n"
   ]
  },
  {
   "cell_type": "code",
   "execution_count": 58,
   "metadata": {},
   "outputs": [
    {
     "data": {
      "application/vnd.plotly.v1+json": {
       "config": {
        "plotlyServerURL": "https://plot.ly"
       },
       "data": [
        {
         "hovertemplate": "Epoch=%{x}<br>Gradient Norm=%{y}<extra></extra>",
         "legendgroup": "",
         "line": {
          "color": "#636efa",
          "dash": "solid"
         },
         "marker": {
          "symbol": "circle"
         },
         "mode": "lines+markers",
         "name": "",
         "orientation": "v",
         "showlegend": false,
         "type": "scatter",
         "x": [
          0.01,
          0.03,
          0.04,
          0.06,
          0.07,
          0.09,
          0.1,
          0.12,
          0.13,
          0.15,
          0.16,
          0.18,
          0.19,
          0.21,
          0.22,
          0.24,
          0.25,
          0.27,
          0.28,
          0.3,
          0.31,
          0.33,
          0.34,
          0.36,
          0.37,
          0.38,
          0.4,
          0.41,
          0.43,
          0.44,
          0.46,
          0.47,
          0.49,
          0.5,
          0.52,
          0.53,
          0.55,
          0.56,
          0.58,
          0.59,
          0.61,
          0.62,
          0.64,
          0.65,
          0.67,
          0.68,
          0.7,
          0.71,
          0.73,
          0.74,
          0.75,
          0.77,
          0.78,
          0.8,
          0.81,
          0.83,
          0.84,
          0.86,
          0.87,
          0.89,
          0.9,
          0.92,
          0.93,
          0.95,
          0.96,
          0.98,
          0.99,
          1,
          1,
          1
         ],
         "xaxis": "x",
         "y": [
          76.1769790649414,
          49.15945816040039,
          34.978763580322266,
          28.714746475219727,
          22.719783782958984,
          25.8891544342041,
          15.912856101989746,
          18.213233947753906,
          33.71144485473633,
          18.291790008544922,
          26.240144729614258,
          36.931488037109375,
          41.35459518432617,
          6.519445896148682,
          16.489757537841797,
          30.66977882385254,
          28.29925537109375,
          19.36685562133789,
          21.537769317626953,
          23.17822265625,
          18.928220748901367,
          22.3678035736084,
          11.348708152770996,
          47.07306671142578,
          21.958873748779297,
          38.95858383178711,
          30.055139541625977,
          28.252859115600586,
          10.924700736999512,
          38.368465423583984,
          20.25294303894043,
          52.93439483642578,
          11.715909004211426,
          18.250019073486328,
          22.105409622192383,
          36.01674270629883,
          13.589487075805664,
          11.981739044189453,
          6.926937580108643,
          22.206558227539062,
          24.19704818725586,
          11.696314811706543,
          31.345396041870117,
          13.444466590881348,
          25.02983856201172,
          14.766058921813965,
          28.373689651489258,
          10.291872024536133,
          31.847217559814453,
          23.085783004760742,
          11.56934642791748,
          28.929759979248047,
          16.420175552368164,
          16.542051315307617,
          12.831380844116211,
          16.362302780151367,
          17.152074813842773,
          12.088212013244629,
          11.852638244628906,
          13.394857406616211,
          20.243961334228516,
          19.174203872680664,
          19.97263526916504,
          27.963010787963867,
          29.007125854492188,
          30.497726440429688,
          15.246856689453125,
          null,
          null,
          null
         ],
         "yaxis": "y"
        }
       ],
       "layout": {
        "font": {
         "color": "RebeccaPurple",
         "family": "Courier New, monospace",
         "size": 12
        },
        "legend": {
         "title": {
          "text": "Metric"
         },
         "tracegroupgap": 0
        },
        "showlegend": true,
        "template": {
         "data": {
          "bar": [
           {
            "error_x": {
             "color": "#2a3f5f"
            },
            "error_y": {
             "color": "#2a3f5f"
            },
            "marker": {
             "line": {
              "color": "#E5ECF6",
              "width": 0.5
             },
             "pattern": {
              "fillmode": "overlay",
              "size": 10,
              "solidity": 0.2
             }
            },
            "type": "bar"
           }
          ],
          "barpolar": [
           {
            "marker": {
             "line": {
              "color": "#E5ECF6",
              "width": 0.5
             },
             "pattern": {
              "fillmode": "overlay",
              "size": 10,
              "solidity": 0.2
             }
            },
            "type": "barpolar"
           }
          ],
          "carpet": [
           {
            "aaxis": {
             "endlinecolor": "#2a3f5f",
             "gridcolor": "white",
             "linecolor": "white",
             "minorgridcolor": "white",
             "startlinecolor": "#2a3f5f"
            },
            "baxis": {
             "endlinecolor": "#2a3f5f",
             "gridcolor": "white",
             "linecolor": "white",
             "minorgridcolor": "white",
             "startlinecolor": "#2a3f5f"
            },
            "type": "carpet"
           }
          ],
          "choropleth": [
           {
            "colorbar": {
             "outlinewidth": 0,
             "ticks": ""
            },
            "type": "choropleth"
           }
          ],
          "contour": [
           {
            "colorbar": {
             "outlinewidth": 0,
             "ticks": ""
            },
            "colorscale": [
             [
              0,
              "#0d0887"
             ],
             [
              0.1111111111111111,
              "#46039f"
             ],
             [
              0.2222222222222222,
              "#7201a8"
             ],
             [
              0.3333333333333333,
              "#9c179e"
             ],
             [
              0.4444444444444444,
              "#bd3786"
             ],
             [
              0.5555555555555556,
              "#d8576b"
             ],
             [
              0.6666666666666666,
              "#ed7953"
             ],
             [
              0.7777777777777778,
              "#fb9f3a"
             ],
             [
              0.8888888888888888,
              "#fdca26"
             ],
             [
              1,
              "#f0f921"
             ]
            ],
            "type": "contour"
           }
          ],
          "contourcarpet": [
           {
            "colorbar": {
             "outlinewidth": 0,
             "ticks": ""
            },
            "type": "contourcarpet"
           }
          ],
          "heatmap": [
           {
            "colorbar": {
             "outlinewidth": 0,
             "ticks": ""
            },
            "colorscale": [
             [
              0,
              "#0d0887"
             ],
             [
              0.1111111111111111,
              "#46039f"
             ],
             [
              0.2222222222222222,
              "#7201a8"
             ],
             [
              0.3333333333333333,
              "#9c179e"
             ],
             [
              0.4444444444444444,
              "#bd3786"
             ],
             [
              0.5555555555555556,
              "#d8576b"
             ],
             [
              0.6666666666666666,
              "#ed7953"
             ],
             [
              0.7777777777777778,
              "#fb9f3a"
             ],
             [
              0.8888888888888888,
              "#fdca26"
             ],
             [
              1,
              "#f0f921"
             ]
            ],
            "type": "heatmap"
           }
          ],
          "heatmapgl": [
           {
            "colorbar": {
             "outlinewidth": 0,
             "ticks": ""
            },
            "colorscale": [
             [
              0,
              "#0d0887"
             ],
             [
              0.1111111111111111,
              "#46039f"
             ],
             [
              0.2222222222222222,
              "#7201a8"
             ],
             [
              0.3333333333333333,
              "#9c179e"
             ],
             [
              0.4444444444444444,
              "#bd3786"
             ],
             [
              0.5555555555555556,
              "#d8576b"
             ],
             [
              0.6666666666666666,
              "#ed7953"
             ],
             [
              0.7777777777777778,
              "#fb9f3a"
             ],
             [
              0.8888888888888888,
              "#fdca26"
             ],
             [
              1,
              "#f0f921"
             ]
            ],
            "type": "heatmapgl"
           }
          ],
          "histogram": [
           {
            "marker": {
             "pattern": {
              "fillmode": "overlay",
              "size": 10,
              "solidity": 0.2
             }
            },
            "type": "histogram"
           }
          ],
          "histogram2d": [
           {
            "colorbar": {
             "outlinewidth": 0,
             "ticks": ""
            },
            "colorscale": [
             [
              0,
              "#0d0887"
             ],
             [
              0.1111111111111111,
              "#46039f"
             ],
             [
              0.2222222222222222,
              "#7201a8"
             ],
             [
              0.3333333333333333,
              "#9c179e"
             ],
             [
              0.4444444444444444,
              "#bd3786"
             ],
             [
              0.5555555555555556,
              "#d8576b"
             ],
             [
              0.6666666666666666,
              "#ed7953"
             ],
             [
              0.7777777777777778,
              "#fb9f3a"
             ],
             [
              0.8888888888888888,
              "#fdca26"
             ],
             [
              1,
              "#f0f921"
             ]
            ],
            "type": "histogram2d"
           }
          ],
          "histogram2dcontour": [
           {
            "colorbar": {
             "outlinewidth": 0,
             "ticks": ""
            },
            "colorscale": [
             [
              0,
              "#0d0887"
             ],
             [
              0.1111111111111111,
              "#46039f"
             ],
             [
              0.2222222222222222,
              "#7201a8"
             ],
             [
              0.3333333333333333,
              "#9c179e"
             ],
             [
              0.4444444444444444,
              "#bd3786"
             ],
             [
              0.5555555555555556,
              "#d8576b"
             ],
             [
              0.6666666666666666,
              "#ed7953"
             ],
             [
              0.7777777777777778,
              "#fb9f3a"
             ],
             [
              0.8888888888888888,
              "#fdca26"
             ],
             [
              1,
              "#f0f921"
             ]
            ],
            "type": "histogram2dcontour"
           }
          ],
          "mesh3d": [
           {
            "colorbar": {
             "outlinewidth": 0,
             "ticks": ""
            },
            "type": "mesh3d"
           }
          ],
          "parcoords": [
           {
            "line": {
             "colorbar": {
              "outlinewidth": 0,
              "ticks": ""
             }
            },
            "type": "parcoords"
           }
          ],
          "pie": [
           {
            "automargin": true,
            "type": "pie"
           }
          ],
          "scatter": [
           {
            "fillpattern": {
             "fillmode": "overlay",
             "size": 10,
             "solidity": 0.2
            },
            "type": "scatter"
           }
          ],
          "scatter3d": [
           {
            "line": {
             "colorbar": {
              "outlinewidth": 0,
              "ticks": ""
             }
            },
            "marker": {
             "colorbar": {
              "outlinewidth": 0,
              "ticks": ""
             }
            },
            "type": "scatter3d"
           }
          ],
          "scattercarpet": [
           {
            "marker": {
             "colorbar": {
              "outlinewidth": 0,
              "ticks": ""
             }
            },
            "type": "scattercarpet"
           }
          ],
          "scattergeo": [
           {
            "marker": {
             "colorbar": {
              "outlinewidth": 0,
              "ticks": ""
             }
            },
            "type": "scattergeo"
           }
          ],
          "scattergl": [
           {
            "marker": {
             "colorbar": {
              "outlinewidth": 0,
              "ticks": ""
             }
            },
            "type": "scattergl"
           }
          ],
          "scattermapbox": [
           {
            "marker": {
             "colorbar": {
              "outlinewidth": 0,
              "ticks": ""
             }
            },
            "type": "scattermapbox"
           }
          ],
          "scatterpolar": [
           {
            "marker": {
             "colorbar": {
              "outlinewidth": 0,
              "ticks": ""
             }
            },
            "type": "scatterpolar"
           }
          ],
          "scatterpolargl": [
           {
            "marker": {
             "colorbar": {
              "outlinewidth": 0,
              "ticks": ""
             }
            },
            "type": "scatterpolargl"
           }
          ],
          "scatterternary": [
           {
            "marker": {
             "colorbar": {
              "outlinewidth": 0,
              "ticks": ""
             }
            },
            "type": "scatterternary"
           }
          ],
          "surface": [
           {
            "colorbar": {
             "outlinewidth": 0,
             "ticks": ""
            },
            "colorscale": [
             [
              0,
              "#0d0887"
             ],
             [
              0.1111111111111111,
              "#46039f"
             ],
             [
              0.2222222222222222,
              "#7201a8"
             ],
             [
              0.3333333333333333,
              "#9c179e"
             ],
             [
              0.4444444444444444,
              "#bd3786"
             ],
             [
              0.5555555555555556,
              "#d8576b"
             ],
             [
              0.6666666666666666,
              "#ed7953"
             ],
             [
              0.7777777777777778,
              "#fb9f3a"
             ],
             [
              0.8888888888888888,
              "#fdca26"
             ],
             [
              1,
              "#f0f921"
             ]
            ],
            "type": "surface"
           }
          ],
          "table": [
           {
            "cells": {
             "fill": {
              "color": "#EBF0F8"
             },
             "line": {
              "color": "white"
             }
            },
            "header": {
             "fill": {
              "color": "#C8D4E3"
             },
             "line": {
              "color": "white"
             }
            },
            "type": "table"
           }
          ]
         },
         "layout": {
          "annotationdefaults": {
           "arrowcolor": "#2a3f5f",
           "arrowhead": 0,
           "arrowwidth": 1
          },
          "autotypenumbers": "strict",
          "coloraxis": {
           "colorbar": {
            "outlinewidth": 0,
            "ticks": ""
           }
          },
          "colorscale": {
           "diverging": [
            [
             0,
             "#8e0152"
            ],
            [
             0.1,
             "#c51b7d"
            ],
            [
             0.2,
             "#de77ae"
            ],
            [
             0.3,
             "#f1b6da"
            ],
            [
             0.4,
             "#fde0ef"
            ],
            [
             0.5,
             "#f7f7f7"
            ],
            [
             0.6,
             "#e6f5d0"
            ],
            [
             0.7,
             "#b8e186"
            ],
            [
             0.8,
             "#7fbc41"
            ],
            [
             0.9,
             "#4d9221"
            ],
            [
             1,
             "#276419"
            ]
           ],
           "sequential": [
            [
             0,
             "#0d0887"
            ],
            [
             0.1111111111111111,
             "#46039f"
            ],
            [
             0.2222222222222222,
             "#7201a8"
            ],
            [
             0.3333333333333333,
             "#9c179e"
            ],
            [
             0.4444444444444444,
             "#bd3786"
            ],
            [
             0.5555555555555556,
             "#d8576b"
            ],
            [
             0.6666666666666666,
             "#ed7953"
            ],
            [
             0.7777777777777778,
             "#fb9f3a"
            ],
            [
             0.8888888888888888,
             "#fdca26"
            ],
            [
             1,
             "#f0f921"
            ]
           ],
           "sequentialminus": [
            [
             0,
             "#0d0887"
            ],
            [
             0.1111111111111111,
             "#46039f"
            ],
            [
             0.2222222222222222,
             "#7201a8"
            ],
            [
             0.3333333333333333,
             "#9c179e"
            ],
            [
             0.4444444444444444,
             "#bd3786"
            ],
            [
             0.5555555555555556,
             "#d8576b"
            ],
            [
             0.6666666666666666,
             "#ed7953"
            ],
            [
             0.7777777777777778,
             "#fb9f3a"
            ],
            [
             0.8888888888888888,
             "#fdca26"
            ],
            [
             1,
             "#f0f921"
            ]
           ]
          },
          "colorway": [
           "#636efa",
           "#EF553B",
           "#00cc96",
           "#ab63fa",
           "#FFA15A",
           "#19d3f3",
           "#FF6692",
           "#B6E880",
           "#FF97FF",
           "#FECB52"
          ],
          "font": {
           "color": "#2a3f5f"
          },
          "geo": {
           "bgcolor": "white",
           "lakecolor": "white",
           "landcolor": "#E5ECF6",
           "showlakes": true,
           "showland": true,
           "subunitcolor": "white"
          },
          "hoverlabel": {
           "align": "left"
          },
          "hovermode": "closest",
          "mapbox": {
           "style": "light"
          },
          "paper_bgcolor": "white",
          "plot_bgcolor": "#E5ECF6",
          "polar": {
           "angularaxis": {
            "gridcolor": "white",
            "linecolor": "white",
            "ticks": ""
           },
           "bgcolor": "#E5ECF6",
           "radialaxis": {
            "gridcolor": "white",
            "linecolor": "white",
            "ticks": ""
           }
          },
          "scene": {
           "xaxis": {
            "backgroundcolor": "#E5ECF6",
            "gridcolor": "white",
            "gridwidth": 2,
            "linecolor": "white",
            "showbackground": true,
            "ticks": "",
            "zerolinecolor": "white"
           },
           "yaxis": {
            "backgroundcolor": "#E5ECF6",
            "gridcolor": "white",
            "gridwidth": 2,
            "linecolor": "white",
            "showbackground": true,
            "ticks": "",
            "zerolinecolor": "white"
           },
           "zaxis": {
            "backgroundcolor": "#E5ECF6",
            "gridcolor": "white",
            "gridwidth": 2,
            "linecolor": "white",
            "showbackground": true,
            "ticks": "",
            "zerolinecolor": "white"
           }
          },
          "shapedefaults": {
           "line": {
            "color": "#2a3f5f"
           }
          },
          "ternary": {
           "aaxis": {
            "gridcolor": "white",
            "linecolor": "white",
            "ticks": ""
           },
           "baxis": {
            "gridcolor": "white",
            "linecolor": "white",
            "ticks": ""
           },
           "bgcolor": "#E5ECF6",
           "caxis": {
            "gridcolor": "white",
            "linecolor": "white",
            "ticks": ""
           }
          },
          "title": {
           "x": 0.05
          },
          "xaxis": {
           "automargin": true,
           "gridcolor": "white",
           "linecolor": "white",
           "ticks": "",
           "title": {
            "standoff": 15
           },
           "zerolinecolor": "white",
           "zerolinewidth": 2
          },
          "yaxis": {
           "automargin": true,
           "gridcolor": "white",
           "linecolor": "white",
           "ticks": "",
           "title": {
            "standoff": 15
           },
           "zerolinecolor": "white",
           "zerolinewidth": 2
          }
         }
        },
        "title": {
         "text": "Gradient norm over Epochs"
        },
        "xaxis": {
         "anchor": "y",
         "domain": [
          0,
          1
         ],
         "nticks": 20,
         "tickmode": "auto",
         "title": {
          "text": "Epoch"
         }
        },
        "yaxis": {
         "anchor": "x",
         "domain": [
          0,
          1
         ],
         "title": {
          "text": "Gradient Norm"
         }
        }
       }
      }
     },
     "metadata": {},
     "output_type": "display_data"
    }
   ],
   "source": [
    "fig = px.line(metrics_df, x='epoch', y='grad_norm', \n",
    "              title='Trend of Gradient Norms Across Epochs', \n",
    "              labels={'epoch': 'Epoch', 'grad_norm': 'Gradient Norm'},\n",
    "              markers=True)  # Enable markers on the line\n",
    "\n",
    "# Update layout for more customization\n",
    "fig.update_layout(\n",
    "    xaxis_title='Epoch',  # Title for the X-axis\n",
    "    yaxis_title='Gradient Norm',   # Title for the Y-axis\n",
    "    font=dict(family=\"Courier New, monospace\", size=12, color=\"RebeccaPurple\"),\n",
    "    xaxis=dict(tickmode='auto', nticks=20),  # Auto mode for ticks, adjust as needed\n",
    "    showlegend=True\n",
    ")\n",
    "\n",
    "# Show the plot\n",
    "fig.show()"
   ]
  },
  {
   "cell_type": "markdown",
   "metadata": {},
   "source": [
    "- A typical and healthy training process is indicated by a decreasing gradient norm.\n",
    "- Stability in the gradient norm across epochs, without sudden spikes, indicates consistent learning. If the training process is stable, the gradient norms should not fluctuate excessively.\n",
    "- If the gradient norm becomes very small and does not change much, it could either mean the model has converged or is stuck in a plateau where it is not learning effectively.\n",
    "- On the other hand, a very small gradient norm, especially early in training, might be indicative of \"vanishing gradients.\" This is a situation where gradients become so small that they do not contribute effectively to updating weights, slowing down the training or stopping it prematurely.\n",
    "- "
   ]
  },
  {
   "cell_type": "code",
   "execution_count": 45,
   "metadata": {},
   "outputs": [
    {
     "data": {
      "application/vnd.jupyter.widget-view+json": {
       "model_id": "0cd11f6a059e4159857623933f9e9808",
       "version_major": 2,
       "version_minor": 0
      },
      "text/plain": [
       "  0%|          | 0/138 [00:00<?, ?it/s]"
      ]
     },
     "metadata": {},
     "output_type": "display_data"
    },
    {
     "name": "stdout",
     "output_type": "stream",
     "text": [
      "{'eval_runtime': 484.3884, 'eval_samples_per_second': 2.279, 'eval_steps_per_second': 0.285, 'epoch': 1.0}\n"
     ]
    }
   ],
   "source": [
    "# Evaluate the model\n",
    "evaluation_results = trainer.evaluate()\n",
    "\n",
    "# Print the evaluation results\n",
    "print(evaluation_results)"
   ]
  },
  {
   "cell_type": "code",
   "execution_count": 46,
   "metadata": {},
   "outputs": [],
   "source": [
    "# Save the model\n",
    "model_path = './results/Roberta-Squad2-Subjqa'\n",
    "trainer.save_model(model_path)"
   ]
  }
 ],
 "metadata": {
  "kernelspec": {
   "display_name": "Python 3",
   "language": "python",
   "name": "python3"
  },
  "language_info": {
   "codemirror_mode": {
    "name": "ipython",
    "version": 3
   },
   "file_extension": ".py",
   "mimetype": "text/x-python",
   "name": "python",
   "nbconvert_exporter": "python",
   "pygments_lexer": "ipython3",
   "version": "3.12.3"
  }
 },
 "nbformat": 4,
 "nbformat_minor": 2
}
