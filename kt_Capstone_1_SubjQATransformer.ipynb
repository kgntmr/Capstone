{
  "nbformat": 4,
  "nbformat_minor": 0,
  "metadata": {
    "colab": {
      "provenance": []
    },
    "kernelspec": {
      "name": "python3",
      "display_name": "Python 3"
    },
    "language_info": {
      "name": "python"
    },
    "widgets": {
      "application/vnd.jupyter.widget-state+json": {
        "abf43236d01c4ce7b5d13371749e43fc": {
          "model_module": "@jupyter-widgets/controls",
          "model_name": "VBoxModel",
          "model_module_version": "1.5.0",
          "state": {
            "_dom_classes": [],
            "_model_module": "@jupyter-widgets/controls",
            "_model_module_version": "1.5.0",
            "_model_name": "VBoxModel",
            "_view_count": null,
            "_view_module": "@jupyter-widgets/controls",
            "_view_module_version": "1.5.0",
            "_view_name": "VBoxView",
            "box_style": "",
            "children": [
              "IPY_MODEL_1bba7c8ec0b442b2a400083a0410c671",
              "IPY_MODEL_4ca20f14b25c4ad0a9dfb6bae0564a70",
              "IPY_MODEL_e1b11bd2bf184ca0ac3ab75d83cd116e",
              "IPY_MODEL_ede11ee1ff03484bbf20a5e562a01091"
            ],
            "layout": "IPY_MODEL_a07f40d806554cd0a8fce6d1422d56e8"
          }
        },
        "602222d9978543b8b9abecad8b5b975a": {
          "model_module": "@jupyter-widgets/controls",
          "model_name": "HTMLModel",
          "model_module_version": "1.5.0",
          "state": {
            "_dom_classes": [],
            "_model_module": "@jupyter-widgets/controls",
            "_model_module_version": "1.5.0",
            "_model_name": "HTMLModel",
            "_view_count": null,
            "_view_module": "@jupyter-widgets/controls",
            "_view_module_version": "1.5.0",
            "_view_name": "HTMLView",
            "description": "",
            "description_tooltip": null,
            "layout": "IPY_MODEL_b345df41d9aa4f4ba3b5f244031ea0ba",
            "placeholder": "​",
            "style": "IPY_MODEL_872430e7259643c6bddcdf2a4b845280",
            "value": "<center> <img\nsrc=https://huggingface.co/front/assets/huggingface_logo-noborder.svg\nalt='Hugging Face'> <br> Copy a token from <a\nhref=\"https://huggingface.co/settings/tokens\" target=\"_blank\">your Hugging Face\ntokens page</a> and paste it below. <br> Immediately click login after copying\nyour token or it might be stored in plain text in this notebook file. </center>"
          }
        },
        "b34e91fa54684f449e7c1567a0d338a0": {
          "model_module": "@jupyter-widgets/controls",
          "model_name": "PasswordModel",
          "model_module_version": "1.5.0",
          "state": {
            "_dom_classes": [],
            "_model_module": "@jupyter-widgets/controls",
            "_model_module_version": "1.5.0",
            "_model_name": "PasswordModel",
            "_view_count": null,
            "_view_module": "@jupyter-widgets/controls",
            "_view_module_version": "1.5.0",
            "_view_name": "PasswordView",
            "continuous_update": true,
            "description": "Token:",
            "description_tooltip": null,
            "disabled": false,
            "layout": "IPY_MODEL_d94763eb59ae4ed882d33c4d1d244578",
            "placeholder": "​",
            "style": "IPY_MODEL_ff9ad65318da47c89bb62e156a87276e",
            "value": ""
          }
        },
        "090349e6285a48598ce35ae039949f7f": {
          "model_module": "@jupyter-widgets/controls",
          "model_name": "CheckboxModel",
          "model_module_version": "1.5.0",
          "state": {
            "_dom_classes": [],
            "_model_module": "@jupyter-widgets/controls",
            "_model_module_version": "1.5.0",
            "_model_name": "CheckboxModel",
            "_view_count": null,
            "_view_module": "@jupyter-widgets/controls",
            "_view_module_version": "1.5.0",
            "_view_name": "CheckboxView",
            "description": "Add token as git credential?",
            "description_tooltip": null,
            "disabled": false,
            "indent": true,
            "layout": "IPY_MODEL_9881eaff23a648bfa5cb82b5de8cb83c",
            "style": "IPY_MODEL_ac46de27a2e04f638d22cd4d2a572b16",
            "value": true
          }
        },
        "5f05381eafb14fc09168521392c90c1f": {
          "model_module": "@jupyter-widgets/controls",
          "model_name": "ButtonModel",
          "model_module_version": "1.5.0",
          "state": {
            "_dom_classes": [],
            "_model_module": "@jupyter-widgets/controls",
            "_model_module_version": "1.5.0",
            "_model_name": "ButtonModel",
            "_view_count": null,
            "_view_module": "@jupyter-widgets/controls",
            "_view_module_version": "1.5.0",
            "_view_name": "ButtonView",
            "button_style": "",
            "description": "Login",
            "disabled": false,
            "icon": "",
            "layout": "IPY_MODEL_f48f8ae6c75a44e3bb0647f68ce1e2e9",
            "style": "IPY_MODEL_47fda5cb69bb48d497e25e97ca034c58",
            "tooltip": ""
          }
        },
        "688fd479460f41e0810cc32ba9ba6085": {
          "model_module": "@jupyter-widgets/controls",
          "model_name": "HTMLModel",
          "model_module_version": "1.5.0",
          "state": {
            "_dom_classes": [],
            "_model_module": "@jupyter-widgets/controls",
            "_model_module_version": "1.5.0",
            "_model_name": "HTMLModel",
            "_view_count": null,
            "_view_module": "@jupyter-widgets/controls",
            "_view_module_version": "1.5.0",
            "_view_name": "HTMLView",
            "description": "",
            "description_tooltip": null,
            "layout": "IPY_MODEL_9e77aff953e74b33be933440e479b6f9",
            "placeholder": "​",
            "style": "IPY_MODEL_8a5eba2e313a4f3898b421bcb17f14aa",
            "value": "\n<b>Pro Tip:</b> If you don't already have one, you can create a dedicated\n'notebooks' token with 'write' access, that you can then easily reuse for all\nnotebooks. </center>"
          }
        },
        "a07f40d806554cd0a8fce6d1422d56e8": {
          "model_module": "@jupyter-widgets/base",
          "model_name": "LayoutModel",
          "model_module_version": "1.2.0",
          "state": {
            "_model_module": "@jupyter-widgets/base",
            "_model_module_version": "1.2.0",
            "_model_name": "LayoutModel",
            "_view_count": null,
            "_view_module": "@jupyter-widgets/base",
            "_view_module_version": "1.2.0",
            "_view_name": "LayoutView",
            "align_content": null,
            "align_items": "center",
            "align_self": null,
            "border": null,
            "bottom": null,
            "display": "flex",
            "flex": null,
            "flex_flow": "column",
            "grid_area": null,
            "grid_auto_columns": null,
            "grid_auto_flow": null,
            "grid_auto_rows": null,
            "grid_column": null,
            "grid_gap": null,
            "grid_row": null,
            "grid_template_areas": null,
            "grid_template_columns": null,
            "grid_template_rows": null,
            "height": null,
            "justify_content": null,
            "justify_items": null,
            "left": null,
            "margin": null,
            "max_height": null,
            "max_width": null,
            "min_height": null,
            "min_width": null,
            "object_fit": null,
            "object_position": null,
            "order": null,
            "overflow": null,
            "overflow_x": null,
            "overflow_y": null,
            "padding": null,
            "right": null,
            "top": null,
            "visibility": null,
            "width": "50%"
          }
        },
        "b345df41d9aa4f4ba3b5f244031ea0ba": {
          "model_module": "@jupyter-widgets/base",
          "model_name": "LayoutModel",
          "model_module_version": "1.2.0",
          "state": {
            "_model_module": "@jupyter-widgets/base",
            "_model_module_version": "1.2.0",
            "_model_name": "LayoutModel",
            "_view_count": null,
            "_view_module": "@jupyter-widgets/base",
            "_view_module_version": "1.2.0",
            "_view_name": "LayoutView",
            "align_content": null,
            "align_items": null,
            "align_self": null,
            "border": null,
            "bottom": null,
            "display": null,
            "flex": null,
            "flex_flow": null,
            "grid_area": null,
            "grid_auto_columns": null,
            "grid_auto_flow": null,
            "grid_auto_rows": null,
            "grid_column": null,
            "grid_gap": null,
            "grid_row": null,
            "grid_template_areas": null,
            "grid_template_columns": null,
            "grid_template_rows": null,
            "height": null,
            "justify_content": null,
            "justify_items": null,
            "left": null,
            "margin": null,
            "max_height": null,
            "max_width": null,
            "min_height": null,
            "min_width": null,
            "object_fit": null,
            "object_position": null,
            "order": null,
            "overflow": null,
            "overflow_x": null,
            "overflow_y": null,
            "padding": null,
            "right": null,
            "top": null,
            "visibility": null,
            "width": null
          }
        },
        "872430e7259643c6bddcdf2a4b845280": {
          "model_module": "@jupyter-widgets/controls",
          "model_name": "DescriptionStyleModel",
          "model_module_version": "1.5.0",
          "state": {
            "_model_module": "@jupyter-widgets/controls",
            "_model_module_version": "1.5.0",
            "_model_name": "DescriptionStyleModel",
            "_view_count": null,
            "_view_module": "@jupyter-widgets/base",
            "_view_module_version": "1.2.0",
            "_view_name": "StyleView",
            "description_width": ""
          }
        },
        "d94763eb59ae4ed882d33c4d1d244578": {
          "model_module": "@jupyter-widgets/base",
          "model_name": "LayoutModel",
          "model_module_version": "1.2.0",
          "state": {
            "_model_module": "@jupyter-widgets/base",
            "_model_module_version": "1.2.0",
            "_model_name": "LayoutModel",
            "_view_count": null,
            "_view_module": "@jupyter-widgets/base",
            "_view_module_version": "1.2.0",
            "_view_name": "LayoutView",
            "align_content": null,
            "align_items": null,
            "align_self": null,
            "border": null,
            "bottom": null,
            "display": null,
            "flex": null,
            "flex_flow": null,
            "grid_area": null,
            "grid_auto_columns": null,
            "grid_auto_flow": null,
            "grid_auto_rows": null,
            "grid_column": null,
            "grid_gap": null,
            "grid_row": null,
            "grid_template_areas": null,
            "grid_template_columns": null,
            "grid_template_rows": null,
            "height": null,
            "justify_content": null,
            "justify_items": null,
            "left": null,
            "margin": null,
            "max_height": null,
            "max_width": null,
            "min_height": null,
            "min_width": null,
            "object_fit": null,
            "object_position": null,
            "order": null,
            "overflow": null,
            "overflow_x": null,
            "overflow_y": null,
            "padding": null,
            "right": null,
            "top": null,
            "visibility": null,
            "width": null
          }
        },
        "ff9ad65318da47c89bb62e156a87276e": {
          "model_module": "@jupyter-widgets/controls",
          "model_name": "DescriptionStyleModel",
          "model_module_version": "1.5.0",
          "state": {
            "_model_module": "@jupyter-widgets/controls",
            "_model_module_version": "1.5.0",
            "_model_name": "DescriptionStyleModel",
            "_view_count": null,
            "_view_module": "@jupyter-widgets/base",
            "_view_module_version": "1.2.0",
            "_view_name": "StyleView",
            "description_width": ""
          }
        },
        "9881eaff23a648bfa5cb82b5de8cb83c": {
          "model_module": "@jupyter-widgets/base",
          "model_name": "LayoutModel",
          "model_module_version": "1.2.0",
          "state": {
            "_model_module": "@jupyter-widgets/base",
            "_model_module_version": "1.2.0",
            "_model_name": "LayoutModel",
            "_view_count": null,
            "_view_module": "@jupyter-widgets/base",
            "_view_module_version": "1.2.0",
            "_view_name": "LayoutView",
            "align_content": null,
            "align_items": null,
            "align_self": null,
            "border": null,
            "bottom": null,
            "display": null,
            "flex": null,
            "flex_flow": null,
            "grid_area": null,
            "grid_auto_columns": null,
            "grid_auto_flow": null,
            "grid_auto_rows": null,
            "grid_column": null,
            "grid_gap": null,
            "grid_row": null,
            "grid_template_areas": null,
            "grid_template_columns": null,
            "grid_template_rows": null,
            "height": null,
            "justify_content": null,
            "justify_items": null,
            "left": null,
            "margin": null,
            "max_height": null,
            "max_width": null,
            "min_height": null,
            "min_width": null,
            "object_fit": null,
            "object_position": null,
            "order": null,
            "overflow": null,
            "overflow_x": null,
            "overflow_y": null,
            "padding": null,
            "right": null,
            "top": null,
            "visibility": null,
            "width": null
          }
        },
        "ac46de27a2e04f638d22cd4d2a572b16": {
          "model_module": "@jupyter-widgets/controls",
          "model_name": "DescriptionStyleModel",
          "model_module_version": "1.5.0",
          "state": {
            "_model_module": "@jupyter-widgets/controls",
            "_model_module_version": "1.5.0",
            "_model_name": "DescriptionStyleModel",
            "_view_count": null,
            "_view_module": "@jupyter-widgets/base",
            "_view_module_version": "1.2.0",
            "_view_name": "StyleView",
            "description_width": ""
          }
        },
        "f48f8ae6c75a44e3bb0647f68ce1e2e9": {
          "model_module": "@jupyter-widgets/base",
          "model_name": "LayoutModel",
          "model_module_version": "1.2.0",
          "state": {
            "_model_module": "@jupyter-widgets/base",
            "_model_module_version": "1.2.0",
            "_model_name": "LayoutModel",
            "_view_count": null,
            "_view_module": "@jupyter-widgets/base",
            "_view_module_version": "1.2.0",
            "_view_name": "LayoutView",
            "align_content": null,
            "align_items": null,
            "align_self": null,
            "border": null,
            "bottom": null,
            "display": null,
            "flex": null,
            "flex_flow": null,
            "grid_area": null,
            "grid_auto_columns": null,
            "grid_auto_flow": null,
            "grid_auto_rows": null,
            "grid_column": null,
            "grid_gap": null,
            "grid_row": null,
            "grid_template_areas": null,
            "grid_template_columns": null,
            "grid_template_rows": null,
            "height": null,
            "justify_content": null,
            "justify_items": null,
            "left": null,
            "margin": null,
            "max_height": null,
            "max_width": null,
            "min_height": null,
            "min_width": null,
            "object_fit": null,
            "object_position": null,
            "order": null,
            "overflow": null,
            "overflow_x": null,
            "overflow_y": null,
            "padding": null,
            "right": null,
            "top": null,
            "visibility": null,
            "width": null
          }
        },
        "47fda5cb69bb48d497e25e97ca034c58": {
          "model_module": "@jupyter-widgets/controls",
          "model_name": "ButtonStyleModel",
          "model_module_version": "1.5.0",
          "state": {
            "_model_module": "@jupyter-widgets/controls",
            "_model_module_version": "1.5.0",
            "_model_name": "ButtonStyleModel",
            "_view_count": null,
            "_view_module": "@jupyter-widgets/base",
            "_view_module_version": "1.2.0",
            "_view_name": "StyleView",
            "button_color": null,
            "font_weight": ""
          }
        },
        "9e77aff953e74b33be933440e479b6f9": {
          "model_module": "@jupyter-widgets/base",
          "model_name": "LayoutModel",
          "model_module_version": "1.2.0",
          "state": {
            "_model_module": "@jupyter-widgets/base",
            "_model_module_version": "1.2.0",
            "_model_name": "LayoutModel",
            "_view_count": null,
            "_view_module": "@jupyter-widgets/base",
            "_view_module_version": "1.2.0",
            "_view_name": "LayoutView",
            "align_content": null,
            "align_items": null,
            "align_self": null,
            "border": null,
            "bottom": null,
            "display": null,
            "flex": null,
            "flex_flow": null,
            "grid_area": null,
            "grid_auto_columns": null,
            "grid_auto_flow": null,
            "grid_auto_rows": null,
            "grid_column": null,
            "grid_gap": null,
            "grid_row": null,
            "grid_template_areas": null,
            "grid_template_columns": null,
            "grid_template_rows": null,
            "height": null,
            "justify_content": null,
            "justify_items": null,
            "left": null,
            "margin": null,
            "max_height": null,
            "max_width": null,
            "min_height": null,
            "min_width": null,
            "object_fit": null,
            "object_position": null,
            "order": null,
            "overflow": null,
            "overflow_x": null,
            "overflow_y": null,
            "padding": null,
            "right": null,
            "top": null,
            "visibility": null,
            "width": null
          }
        },
        "8a5eba2e313a4f3898b421bcb17f14aa": {
          "model_module": "@jupyter-widgets/controls",
          "model_name": "DescriptionStyleModel",
          "model_module_version": "1.5.0",
          "state": {
            "_model_module": "@jupyter-widgets/controls",
            "_model_module_version": "1.5.0",
            "_model_name": "DescriptionStyleModel",
            "_view_count": null,
            "_view_module": "@jupyter-widgets/base",
            "_view_module_version": "1.2.0",
            "_view_name": "StyleView",
            "description_width": ""
          }
        },
        "5529649de2954e98a019ae35f4fee1d0": {
          "model_module": "@jupyter-widgets/controls",
          "model_name": "HBoxModel",
          "model_module_version": "1.5.0",
          "state": {
            "_dom_classes": [],
            "_model_module": "@jupyter-widgets/controls",
            "_model_module_version": "1.5.0",
            "_model_name": "HBoxModel",
            "_view_count": null,
            "_view_module": "@jupyter-widgets/controls",
            "_view_module_version": "1.5.0",
            "_view_name": "HBoxView",
            "box_style": "",
            "children": [
              "IPY_MODEL_fbe73bd4d6de4861a919494cc4be4a80",
              "IPY_MODEL_f117280a6fdf4fc28fb8c55788a5d532",
              "IPY_MODEL_cfb48f7f593542cea6702175ad47920d"
            ],
            "layout": "IPY_MODEL_7a85cf1672a74bc2887f4c6aacd7d1ce"
          }
        },
        "fbe73bd4d6de4861a919494cc4be4a80": {
          "model_module": "@jupyter-widgets/controls",
          "model_name": "HTMLModel",
          "model_module_version": "1.5.0",
          "state": {
            "_dom_classes": [],
            "_model_module": "@jupyter-widgets/controls",
            "_model_module_version": "1.5.0",
            "_model_name": "HTMLModel",
            "_view_count": null,
            "_view_module": "@jupyter-widgets/controls",
            "_view_module_version": "1.5.0",
            "_view_name": "HTMLView",
            "description": "",
            "description_tooltip": null,
            "layout": "IPY_MODEL_3893edb1b07443128999a793a0640ccc",
            "placeholder": "​",
            "style": "IPY_MODEL_ad5ad245610a41be850840489495e64a",
            "value": "Map: 100%"
          }
        },
        "f117280a6fdf4fc28fb8c55788a5d532": {
          "model_module": "@jupyter-widgets/controls",
          "model_name": "FloatProgressModel",
          "model_module_version": "1.5.0",
          "state": {
            "_dom_classes": [],
            "_model_module": "@jupyter-widgets/controls",
            "_model_module_version": "1.5.0",
            "_model_name": "FloatProgressModel",
            "_view_count": null,
            "_view_module": "@jupyter-widgets/controls",
            "_view_module_version": "1.5.0",
            "_view_name": "ProgressView",
            "bar_style": "success",
            "description": "",
            "description_tooltip": null,
            "layout": "IPY_MODEL_1666e824113f460fa862e1eba1d4a845",
            "max": 2501,
            "min": 0,
            "orientation": "horizontal",
            "style": "IPY_MODEL_84eb247fb6a04dbaa0987a1097c40c41",
            "value": 2501
          }
        },
        "cfb48f7f593542cea6702175ad47920d": {
          "model_module": "@jupyter-widgets/controls",
          "model_name": "HTMLModel",
          "model_module_version": "1.5.0",
          "state": {
            "_dom_classes": [],
            "_model_module": "@jupyter-widgets/controls",
            "_model_module_version": "1.5.0",
            "_model_name": "HTMLModel",
            "_view_count": null,
            "_view_module": "@jupyter-widgets/controls",
            "_view_module_version": "1.5.0",
            "_view_name": "HTMLView",
            "description": "",
            "description_tooltip": null,
            "layout": "IPY_MODEL_7ce551d313e34902b9372ead22fb1b06",
            "placeholder": "​",
            "style": "IPY_MODEL_e13c3843c58142feb9c72f2f534d4d8c",
            "value": " 2501/2501 [00:07&lt;00:00, 357.42 examples/s]"
          }
        },
        "7a85cf1672a74bc2887f4c6aacd7d1ce": {
          "model_module": "@jupyter-widgets/base",
          "model_name": "LayoutModel",
          "model_module_version": "1.2.0",
          "state": {
            "_model_module": "@jupyter-widgets/base",
            "_model_module_version": "1.2.0",
            "_model_name": "LayoutModel",
            "_view_count": null,
            "_view_module": "@jupyter-widgets/base",
            "_view_module_version": "1.2.0",
            "_view_name": "LayoutView",
            "align_content": null,
            "align_items": null,
            "align_self": null,
            "border": null,
            "bottom": null,
            "display": null,
            "flex": null,
            "flex_flow": null,
            "grid_area": null,
            "grid_auto_columns": null,
            "grid_auto_flow": null,
            "grid_auto_rows": null,
            "grid_column": null,
            "grid_gap": null,
            "grid_row": null,
            "grid_template_areas": null,
            "grid_template_columns": null,
            "grid_template_rows": null,
            "height": null,
            "justify_content": null,
            "justify_items": null,
            "left": null,
            "margin": null,
            "max_height": null,
            "max_width": null,
            "min_height": null,
            "min_width": null,
            "object_fit": null,
            "object_position": null,
            "order": null,
            "overflow": null,
            "overflow_x": null,
            "overflow_y": null,
            "padding": null,
            "right": null,
            "top": null,
            "visibility": null,
            "width": null
          }
        },
        "3893edb1b07443128999a793a0640ccc": {
          "model_module": "@jupyter-widgets/base",
          "model_name": "LayoutModel",
          "model_module_version": "1.2.0",
          "state": {
            "_model_module": "@jupyter-widgets/base",
            "_model_module_version": "1.2.0",
            "_model_name": "LayoutModel",
            "_view_count": null,
            "_view_module": "@jupyter-widgets/base",
            "_view_module_version": "1.2.0",
            "_view_name": "LayoutView",
            "align_content": null,
            "align_items": null,
            "align_self": null,
            "border": null,
            "bottom": null,
            "display": null,
            "flex": null,
            "flex_flow": null,
            "grid_area": null,
            "grid_auto_columns": null,
            "grid_auto_flow": null,
            "grid_auto_rows": null,
            "grid_column": null,
            "grid_gap": null,
            "grid_row": null,
            "grid_template_areas": null,
            "grid_template_columns": null,
            "grid_template_rows": null,
            "height": null,
            "justify_content": null,
            "justify_items": null,
            "left": null,
            "margin": null,
            "max_height": null,
            "max_width": null,
            "min_height": null,
            "min_width": null,
            "object_fit": null,
            "object_position": null,
            "order": null,
            "overflow": null,
            "overflow_x": null,
            "overflow_y": null,
            "padding": null,
            "right": null,
            "top": null,
            "visibility": null,
            "width": null
          }
        },
        "ad5ad245610a41be850840489495e64a": {
          "model_module": "@jupyter-widgets/controls",
          "model_name": "DescriptionStyleModel",
          "model_module_version": "1.5.0",
          "state": {
            "_model_module": "@jupyter-widgets/controls",
            "_model_module_version": "1.5.0",
            "_model_name": "DescriptionStyleModel",
            "_view_count": null,
            "_view_module": "@jupyter-widgets/base",
            "_view_module_version": "1.2.0",
            "_view_name": "StyleView",
            "description_width": ""
          }
        },
        "1666e824113f460fa862e1eba1d4a845": {
          "model_module": "@jupyter-widgets/base",
          "model_name": "LayoutModel",
          "model_module_version": "1.2.0",
          "state": {
            "_model_module": "@jupyter-widgets/base",
            "_model_module_version": "1.2.0",
            "_model_name": "LayoutModel",
            "_view_count": null,
            "_view_module": "@jupyter-widgets/base",
            "_view_module_version": "1.2.0",
            "_view_name": "LayoutView",
            "align_content": null,
            "align_items": null,
            "align_self": null,
            "border": null,
            "bottom": null,
            "display": null,
            "flex": null,
            "flex_flow": null,
            "grid_area": null,
            "grid_auto_columns": null,
            "grid_auto_flow": null,
            "grid_auto_rows": null,
            "grid_column": null,
            "grid_gap": null,
            "grid_row": null,
            "grid_template_areas": null,
            "grid_template_columns": null,
            "grid_template_rows": null,
            "height": null,
            "justify_content": null,
            "justify_items": null,
            "left": null,
            "margin": null,
            "max_height": null,
            "max_width": null,
            "min_height": null,
            "min_width": null,
            "object_fit": null,
            "object_position": null,
            "order": null,
            "overflow": null,
            "overflow_x": null,
            "overflow_y": null,
            "padding": null,
            "right": null,
            "top": null,
            "visibility": null,
            "width": null
          }
        },
        "84eb247fb6a04dbaa0987a1097c40c41": {
          "model_module": "@jupyter-widgets/controls",
          "model_name": "ProgressStyleModel",
          "model_module_version": "1.5.0",
          "state": {
            "_model_module": "@jupyter-widgets/controls",
            "_model_module_version": "1.5.0",
            "_model_name": "ProgressStyleModel",
            "_view_count": null,
            "_view_module": "@jupyter-widgets/base",
            "_view_module_version": "1.2.0",
            "_view_name": "StyleView",
            "bar_color": null,
            "description_width": ""
          }
        },
        "7ce551d313e34902b9372ead22fb1b06": {
          "model_module": "@jupyter-widgets/base",
          "model_name": "LayoutModel",
          "model_module_version": "1.2.0",
          "state": {
            "_model_module": "@jupyter-widgets/base",
            "_model_module_version": "1.2.0",
            "_model_name": "LayoutModel",
            "_view_count": null,
            "_view_module": "@jupyter-widgets/base",
            "_view_module_version": "1.2.0",
            "_view_name": "LayoutView",
            "align_content": null,
            "align_items": null,
            "align_self": null,
            "border": null,
            "bottom": null,
            "display": null,
            "flex": null,
            "flex_flow": null,
            "grid_area": null,
            "grid_auto_columns": null,
            "grid_auto_flow": null,
            "grid_auto_rows": null,
            "grid_column": null,
            "grid_gap": null,
            "grid_row": null,
            "grid_template_areas": null,
            "grid_template_columns": null,
            "grid_template_rows": null,
            "height": null,
            "justify_content": null,
            "justify_items": null,
            "left": null,
            "margin": null,
            "max_height": null,
            "max_width": null,
            "min_height": null,
            "min_width": null,
            "object_fit": null,
            "object_position": null,
            "order": null,
            "overflow": null,
            "overflow_x": null,
            "overflow_y": null,
            "padding": null,
            "right": null,
            "top": null,
            "visibility": null,
            "width": null
          }
        },
        "e13c3843c58142feb9c72f2f534d4d8c": {
          "model_module": "@jupyter-widgets/controls",
          "model_name": "DescriptionStyleModel",
          "model_module_version": "1.5.0",
          "state": {
            "_model_module": "@jupyter-widgets/controls",
            "_model_module_version": "1.5.0",
            "_model_name": "DescriptionStyleModel",
            "_view_count": null,
            "_view_module": "@jupyter-widgets/base",
            "_view_module_version": "1.2.0",
            "_view_name": "StyleView",
            "description_width": ""
          }
        },
        "ca3d07964ae444a7bb0800e16bcbb8b9": {
          "model_module": "@jupyter-widgets/controls",
          "model_name": "HBoxModel",
          "model_module_version": "1.5.0",
          "state": {
            "_dom_classes": [],
            "_model_module": "@jupyter-widgets/controls",
            "_model_module_version": "1.5.0",
            "_model_name": "HBoxModel",
            "_view_count": null,
            "_view_module": "@jupyter-widgets/controls",
            "_view_module_version": "1.5.0",
            "_view_name": "HBoxView",
            "box_style": "",
            "children": [
              "IPY_MODEL_606120ccd3c34a83b010ea2942b07a5a",
              "IPY_MODEL_d4426bd2f11749c4a9ecceaa135a4c00",
              "IPY_MODEL_bdb28e8b7186466fb60fb20b59b0ad7f"
            ],
            "layout": "IPY_MODEL_3cc0b0662ffa453d94ed67b7f8f0fca7"
          }
        },
        "606120ccd3c34a83b010ea2942b07a5a": {
          "model_module": "@jupyter-widgets/controls",
          "model_name": "HTMLModel",
          "model_module_version": "1.5.0",
          "state": {
            "_dom_classes": [],
            "_model_module": "@jupyter-widgets/controls",
            "_model_module_version": "1.5.0",
            "_model_name": "HTMLModel",
            "_view_count": null,
            "_view_module": "@jupyter-widgets/controls",
            "_view_module_version": "1.5.0",
            "_view_name": "HTMLView",
            "description": "",
            "description_tooltip": null,
            "layout": "IPY_MODEL_233e2d3abc44463197e67d2e5b377801",
            "placeholder": "​",
            "style": "IPY_MODEL_654849c47cf44cd1ab7ae5d5b5e02cac",
            "value": "Map: 100%"
          }
        },
        "d4426bd2f11749c4a9ecceaa135a4c00": {
          "model_module": "@jupyter-widgets/controls",
          "model_name": "FloatProgressModel",
          "model_module_version": "1.5.0",
          "state": {
            "_dom_classes": [],
            "_model_module": "@jupyter-widgets/controls",
            "_model_module_version": "1.5.0",
            "_model_name": "FloatProgressModel",
            "_view_count": null,
            "_view_module": "@jupyter-widgets/controls",
            "_view_module_version": "1.5.0",
            "_view_name": "ProgressView",
            "bar_style": "success",
            "description": "",
            "description_tooltip": null,
            "layout": "IPY_MODEL_5bbe5491a6384bacae3181c7e3c3481a",
            "max": 582,
            "min": 0,
            "orientation": "horizontal",
            "style": "IPY_MODEL_d00256f013c34a02a0933decd93f4dfb",
            "value": 582
          }
        },
        "bdb28e8b7186466fb60fb20b59b0ad7f": {
          "model_module": "@jupyter-widgets/controls",
          "model_name": "HTMLModel",
          "model_module_version": "1.5.0",
          "state": {
            "_dom_classes": [],
            "_model_module": "@jupyter-widgets/controls",
            "_model_module_version": "1.5.0",
            "_model_name": "HTMLModel",
            "_view_count": null,
            "_view_module": "@jupyter-widgets/controls",
            "_view_module_version": "1.5.0",
            "_view_name": "HTMLView",
            "description": "",
            "description_tooltip": null,
            "layout": "IPY_MODEL_bd9b25165e4f44299016640f8ba9cd41",
            "placeholder": "​",
            "style": "IPY_MODEL_9377892d7a2b4a2ca0cb0da3f8ad17e6",
            "value": " 582/582 [00:01&lt;00:00, 431.76 examples/s]"
          }
        },
        "3cc0b0662ffa453d94ed67b7f8f0fca7": {
          "model_module": "@jupyter-widgets/base",
          "model_name": "LayoutModel",
          "model_module_version": "1.2.0",
          "state": {
            "_model_module": "@jupyter-widgets/base",
            "_model_module_version": "1.2.0",
            "_model_name": "LayoutModel",
            "_view_count": null,
            "_view_module": "@jupyter-widgets/base",
            "_view_module_version": "1.2.0",
            "_view_name": "LayoutView",
            "align_content": null,
            "align_items": null,
            "align_self": null,
            "border": null,
            "bottom": null,
            "display": null,
            "flex": null,
            "flex_flow": null,
            "grid_area": null,
            "grid_auto_columns": null,
            "grid_auto_flow": null,
            "grid_auto_rows": null,
            "grid_column": null,
            "grid_gap": null,
            "grid_row": null,
            "grid_template_areas": null,
            "grid_template_columns": null,
            "grid_template_rows": null,
            "height": null,
            "justify_content": null,
            "justify_items": null,
            "left": null,
            "margin": null,
            "max_height": null,
            "max_width": null,
            "min_height": null,
            "min_width": null,
            "object_fit": null,
            "object_position": null,
            "order": null,
            "overflow": null,
            "overflow_x": null,
            "overflow_y": null,
            "padding": null,
            "right": null,
            "top": null,
            "visibility": null,
            "width": null
          }
        },
        "233e2d3abc44463197e67d2e5b377801": {
          "model_module": "@jupyter-widgets/base",
          "model_name": "LayoutModel",
          "model_module_version": "1.2.0",
          "state": {
            "_model_module": "@jupyter-widgets/base",
            "_model_module_version": "1.2.0",
            "_model_name": "LayoutModel",
            "_view_count": null,
            "_view_module": "@jupyter-widgets/base",
            "_view_module_version": "1.2.0",
            "_view_name": "LayoutView",
            "align_content": null,
            "align_items": null,
            "align_self": null,
            "border": null,
            "bottom": null,
            "display": null,
            "flex": null,
            "flex_flow": null,
            "grid_area": null,
            "grid_auto_columns": null,
            "grid_auto_flow": null,
            "grid_auto_rows": null,
            "grid_column": null,
            "grid_gap": null,
            "grid_row": null,
            "grid_template_areas": null,
            "grid_template_columns": null,
            "grid_template_rows": null,
            "height": null,
            "justify_content": null,
            "justify_items": null,
            "left": null,
            "margin": null,
            "max_height": null,
            "max_width": null,
            "min_height": null,
            "min_width": null,
            "object_fit": null,
            "object_position": null,
            "order": null,
            "overflow": null,
            "overflow_x": null,
            "overflow_y": null,
            "padding": null,
            "right": null,
            "top": null,
            "visibility": null,
            "width": null
          }
        },
        "654849c47cf44cd1ab7ae5d5b5e02cac": {
          "model_module": "@jupyter-widgets/controls",
          "model_name": "DescriptionStyleModel",
          "model_module_version": "1.5.0",
          "state": {
            "_model_module": "@jupyter-widgets/controls",
            "_model_module_version": "1.5.0",
            "_model_name": "DescriptionStyleModel",
            "_view_count": null,
            "_view_module": "@jupyter-widgets/base",
            "_view_module_version": "1.2.0",
            "_view_name": "StyleView",
            "description_width": ""
          }
        },
        "5bbe5491a6384bacae3181c7e3c3481a": {
          "model_module": "@jupyter-widgets/base",
          "model_name": "LayoutModel",
          "model_module_version": "1.2.0",
          "state": {
            "_model_module": "@jupyter-widgets/base",
            "_model_module_version": "1.2.0",
            "_model_name": "LayoutModel",
            "_view_count": null,
            "_view_module": "@jupyter-widgets/base",
            "_view_module_version": "1.2.0",
            "_view_name": "LayoutView",
            "align_content": null,
            "align_items": null,
            "align_self": null,
            "border": null,
            "bottom": null,
            "display": null,
            "flex": null,
            "flex_flow": null,
            "grid_area": null,
            "grid_auto_columns": null,
            "grid_auto_flow": null,
            "grid_auto_rows": null,
            "grid_column": null,
            "grid_gap": null,
            "grid_row": null,
            "grid_template_areas": null,
            "grid_template_columns": null,
            "grid_template_rows": null,
            "height": null,
            "justify_content": null,
            "justify_items": null,
            "left": null,
            "margin": null,
            "max_height": null,
            "max_width": null,
            "min_height": null,
            "min_width": null,
            "object_fit": null,
            "object_position": null,
            "order": null,
            "overflow": null,
            "overflow_x": null,
            "overflow_y": null,
            "padding": null,
            "right": null,
            "top": null,
            "visibility": null,
            "width": null
          }
        },
        "d00256f013c34a02a0933decd93f4dfb": {
          "model_module": "@jupyter-widgets/controls",
          "model_name": "ProgressStyleModel",
          "model_module_version": "1.5.0",
          "state": {
            "_model_module": "@jupyter-widgets/controls",
            "_model_module_version": "1.5.0",
            "_model_name": "ProgressStyleModel",
            "_view_count": null,
            "_view_module": "@jupyter-widgets/base",
            "_view_module_version": "1.2.0",
            "_view_name": "StyleView",
            "bar_color": null,
            "description_width": ""
          }
        },
        "bd9b25165e4f44299016640f8ba9cd41": {
          "model_module": "@jupyter-widgets/base",
          "model_name": "LayoutModel",
          "model_module_version": "1.2.0",
          "state": {
            "_model_module": "@jupyter-widgets/base",
            "_model_module_version": "1.2.0",
            "_model_name": "LayoutModel",
            "_view_count": null,
            "_view_module": "@jupyter-widgets/base",
            "_view_module_version": "1.2.0",
            "_view_name": "LayoutView",
            "align_content": null,
            "align_items": null,
            "align_self": null,
            "border": null,
            "bottom": null,
            "display": null,
            "flex": null,
            "flex_flow": null,
            "grid_area": null,
            "grid_auto_columns": null,
            "grid_auto_flow": null,
            "grid_auto_rows": null,
            "grid_column": null,
            "grid_gap": null,
            "grid_row": null,
            "grid_template_areas": null,
            "grid_template_columns": null,
            "grid_template_rows": null,
            "height": null,
            "justify_content": null,
            "justify_items": null,
            "left": null,
            "margin": null,
            "max_height": null,
            "max_width": null,
            "min_height": null,
            "min_width": null,
            "object_fit": null,
            "object_position": null,
            "order": null,
            "overflow": null,
            "overflow_x": null,
            "overflow_y": null,
            "padding": null,
            "right": null,
            "top": null,
            "visibility": null,
            "width": null
          }
        },
        "9377892d7a2b4a2ca0cb0da3f8ad17e6": {
          "model_module": "@jupyter-widgets/controls",
          "model_name": "DescriptionStyleModel",
          "model_module_version": "1.5.0",
          "state": {
            "_model_module": "@jupyter-widgets/controls",
            "_model_module_version": "1.5.0",
            "_model_name": "DescriptionStyleModel",
            "_view_count": null,
            "_view_module": "@jupyter-widgets/base",
            "_view_module_version": "1.2.0",
            "_view_name": "StyleView",
            "description_width": ""
          }
        },
        "a7667418fecc431da637f1f40c770944": {
          "model_module": "@jupyter-widgets/controls",
          "model_name": "HBoxModel",
          "model_module_version": "1.5.0",
          "state": {
            "_dom_classes": [],
            "_model_module": "@jupyter-widgets/controls",
            "_model_module_version": "1.5.0",
            "_model_name": "HBoxModel",
            "_view_count": null,
            "_view_module": "@jupyter-widgets/controls",
            "_view_module_version": "1.5.0",
            "_view_name": "HBoxView",
            "box_style": "",
            "children": [
              "IPY_MODEL_69a4c2c9ff1f442a889a211afd50c622",
              "IPY_MODEL_69f83a69a921470c9895e0e4e24d7f6a",
              "IPY_MODEL_a755c30e26f8497c931aef53378236b4"
            ],
            "layout": "IPY_MODEL_858a09c2808843e38f15fb0e3e02ef5d"
          }
        },
        "69a4c2c9ff1f442a889a211afd50c622": {
          "model_module": "@jupyter-widgets/controls",
          "model_name": "HTMLModel",
          "model_module_version": "1.5.0",
          "state": {
            "_dom_classes": [],
            "_model_module": "@jupyter-widgets/controls",
            "_model_module_version": "1.5.0",
            "_model_name": "HTMLModel",
            "_view_count": null,
            "_view_module": "@jupyter-widgets/controls",
            "_view_module_version": "1.5.0",
            "_view_name": "HTMLView",
            "description": "",
            "description_tooltip": null,
            "layout": "IPY_MODEL_554514fdb77b40cfb0206f04bfa035d1",
            "placeholder": "​",
            "style": "IPY_MODEL_066daadbff974fbba11a8c6ff771c44a",
            "value": "100%"
          }
        },
        "69f83a69a921470c9895e0e4e24d7f6a": {
          "model_module": "@jupyter-widgets/controls",
          "model_name": "FloatProgressModel",
          "model_module_version": "1.5.0",
          "state": {
            "_dom_classes": [],
            "_model_module": "@jupyter-widgets/controls",
            "_model_module_version": "1.5.0",
            "_model_name": "FloatProgressModel",
            "_view_count": null,
            "_view_module": "@jupyter-widgets/controls",
            "_view_module_version": "1.5.0",
            "_view_name": "ProgressView",
            "bar_style": "success",
            "description": "",
            "description_tooltip": null,
            "layout": "IPY_MODEL_303472e1991149d5886132a624a2b492",
            "max": 582,
            "min": 0,
            "orientation": "horizontal",
            "style": "IPY_MODEL_1641ac33374c40cf822a49fd856ebebc",
            "value": 582
          }
        },
        "a755c30e26f8497c931aef53378236b4": {
          "model_module": "@jupyter-widgets/controls",
          "model_name": "HTMLModel",
          "model_module_version": "1.5.0",
          "state": {
            "_dom_classes": [],
            "_model_module": "@jupyter-widgets/controls",
            "_model_module_version": "1.5.0",
            "_model_name": "HTMLModel",
            "_view_count": null,
            "_view_module": "@jupyter-widgets/controls",
            "_view_module_version": "1.5.0",
            "_view_name": "HTMLView",
            "description": "",
            "description_tooltip": null,
            "layout": "IPY_MODEL_e6172fbf5c4447e2bed3fdf2e3296449",
            "placeholder": "​",
            "style": "IPY_MODEL_03b597eed6974df680a41cae75199edb",
            "value": " 582/582 [00:02&lt;00:00, 232.67it/s]"
          }
        },
        "858a09c2808843e38f15fb0e3e02ef5d": {
          "model_module": "@jupyter-widgets/base",
          "model_name": "LayoutModel",
          "model_module_version": "1.2.0",
          "state": {
            "_model_module": "@jupyter-widgets/base",
            "_model_module_version": "1.2.0",
            "_model_name": "LayoutModel",
            "_view_count": null,
            "_view_module": "@jupyter-widgets/base",
            "_view_module_version": "1.2.0",
            "_view_name": "LayoutView",
            "align_content": null,
            "align_items": null,
            "align_self": null,
            "border": null,
            "bottom": null,
            "display": null,
            "flex": null,
            "flex_flow": null,
            "grid_area": null,
            "grid_auto_columns": null,
            "grid_auto_flow": null,
            "grid_auto_rows": null,
            "grid_column": null,
            "grid_gap": null,
            "grid_row": null,
            "grid_template_areas": null,
            "grid_template_columns": null,
            "grid_template_rows": null,
            "height": null,
            "justify_content": null,
            "justify_items": null,
            "left": null,
            "margin": null,
            "max_height": null,
            "max_width": null,
            "min_height": null,
            "min_width": null,
            "object_fit": null,
            "object_position": null,
            "order": null,
            "overflow": null,
            "overflow_x": null,
            "overflow_y": null,
            "padding": null,
            "right": null,
            "top": null,
            "visibility": null,
            "width": null
          }
        },
        "554514fdb77b40cfb0206f04bfa035d1": {
          "model_module": "@jupyter-widgets/base",
          "model_name": "LayoutModel",
          "model_module_version": "1.2.0",
          "state": {
            "_model_module": "@jupyter-widgets/base",
            "_model_module_version": "1.2.0",
            "_model_name": "LayoutModel",
            "_view_count": null,
            "_view_module": "@jupyter-widgets/base",
            "_view_module_version": "1.2.0",
            "_view_name": "LayoutView",
            "align_content": null,
            "align_items": null,
            "align_self": null,
            "border": null,
            "bottom": null,
            "display": null,
            "flex": null,
            "flex_flow": null,
            "grid_area": null,
            "grid_auto_columns": null,
            "grid_auto_flow": null,
            "grid_auto_rows": null,
            "grid_column": null,
            "grid_gap": null,
            "grid_row": null,
            "grid_template_areas": null,
            "grid_template_columns": null,
            "grid_template_rows": null,
            "height": null,
            "justify_content": null,
            "justify_items": null,
            "left": null,
            "margin": null,
            "max_height": null,
            "max_width": null,
            "min_height": null,
            "min_width": null,
            "object_fit": null,
            "object_position": null,
            "order": null,
            "overflow": null,
            "overflow_x": null,
            "overflow_y": null,
            "padding": null,
            "right": null,
            "top": null,
            "visibility": null,
            "width": null
          }
        },
        "066daadbff974fbba11a8c6ff771c44a": {
          "model_module": "@jupyter-widgets/controls",
          "model_name": "DescriptionStyleModel",
          "model_module_version": "1.5.0",
          "state": {
            "_model_module": "@jupyter-widgets/controls",
            "_model_module_version": "1.5.0",
            "_model_name": "DescriptionStyleModel",
            "_view_count": null,
            "_view_module": "@jupyter-widgets/base",
            "_view_module_version": "1.2.0",
            "_view_name": "StyleView",
            "description_width": ""
          }
        },
        "303472e1991149d5886132a624a2b492": {
          "model_module": "@jupyter-widgets/base",
          "model_name": "LayoutModel",
          "model_module_version": "1.2.0",
          "state": {
            "_model_module": "@jupyter-widgets/base",
            "_model_module_version": "1.2.0",
            "_model_name": "LayoutModel",
            "_view_count": null,
            "_view_module": "@jupyter-widgets/base",
            "_view_module_version": "1.2.0",
            "_view_name": "LayoutView",
            "align_content": null,
            "align_items": null,
            "align_self": null,
            "border": null,
            "bottom": null,
            "display": null,
            "flex": null,
            "flex_flow": null,
            "grid_area": null,
            "grid_auto_columns": null,
            "grid_auto_flow": null,
            "grid_auto_rows": null,
            "grid_column": null,
            "grid_gap": null,
            "grid_row": null,
            "grid_template_areas": null,
            "grid_template_columns": null,
            "grid_template_rows": null,
            "height": null,
            "justify_content": null,
            "justify_items": null,
            "left": null,
            "margin": null,
            "max_height": null,
            "max_width": null,
            "min_height": null,
            "min_width": null,
            "object_fit": null,
            "object_position": null,
            "order": null,
            "overflow": null,
            "overflow_x": null,
            "overflow_y": null,
            "padding": null,
            "right": null,
            "top": null,
            "visibility": null,
            "width": null
          }
        },
        "1641ac33374c40cf822a49fd856ebebc": {
          "model_module": "@jupyter-widgets/controls",
          "model_name": "ProgressStyleModel",
          "model_module_version": "1.5.0",
          "state": {
            "_model_module": "@jupyter-widgets/controls",
            "_model_module_version": "1.5.0",
            "_model_name": "ProgressStyleModel",
            "_view_count": null,
            "_view_module": "@jupyter-widgets/base",
            "_view_module_version": "1.2.0",
            "_view_name": "StyleView",
            "bar_color": null,
            "description_width": ""
          }
        },
        "e6172fbf5c4447e2bed3fdf2e3296449": {
          "model_module": "@jupyter-widgets/base",
          "model_name": "LayoutModel",
          "model_module_version": "1.2.0",
          "state": {
            "_model_module": "@jupyter-widgets/base",
            "_model_module_version": "1.2.0",
            "_model_name": "LayoutModel",
            "_view_count": null,
            "_view_module": "@jupyter-widgets/base",
            "_view_module_version": "1.2.0",
            "_view_name": "LayoutView",
            "align_content": null,
            "align_items": null,
            "align_self": null,
            "border": null,
            "bottom": null,
            "display": null,
            "flex": null,
            "flex_flow": null,
            "grid_area": null,
            "grid_auto_columns": null,
            "grid_auto_flow": null,
            "grid_auto_rows": null,
            "grid_column": null,
            "grid_gap": null,
            "grid_row": null,
            "grid_template_areas": null,
            "grid_template_columns": null,
            "grid_template_rows": null,
            "height": null,
            "justify_content": null,
            "justify_items": null,
            "left": null,
            "margin": null,
            "max_height": null,
            "max_width": null,
            "min_height": null,
            "min_width": null,
            "object_fit": null,
            "object_position": null,
            "order": null,
            "overflow": null,
            "overflow_x": null,
            "overflow_y": null,
            "padding": null,
            "right": null,
            "top": null,
            "visibility": null,
            "width": null
          }
        },
        "03b597eed6974df680a41cae75199edb": {
          "model_module": "@jupyter-widgets/controls",
          "model_name": "DescriptionStyleModel",
          "model_module_version": "1.5.0",
          "state": {
            "_model_module": "@jupyter-widgets/controls",
            "_model_module_version": "1.5.0",
            "_model_name": "DescriptionStyleModel",
            "_view_count": null,
            "_view_module": "@jupyter-widgets/base",
            "_view_module_version": "1.2.0",
            "_view_name": "StyleView",
            "description_width": ""
          }
        }
      }
    }
  },
  "cells": [
    {
      "cell_type": "markdown",
      "source": [
        "## Data Collection 🛠\n",
        "\n",
        "The subjQA dataset is constructed based on publicly available review datasets. Specifically, the movies, books, electronics, and grocery categories are constructed using reviews from the Amazon Review dataset. The TripAdvisor category, as the name suggests, is constructed using reviews from TripAdvisor which can be found [here](link). Finally, the restaurants category is constructed using the Yelp Dataset which is also publicly available.\n",
        "\n",
        "The process of constructing SubjQA is discussed in detail in our paper. In a nutshell, the dataset construction consists of the following steps:\n",
        "\n",
        "1. First, all opinions expressed in reviews are extracted. In the pipeline, each opinion is modeled as a (modifier, aspect) pair which is a pair of spans where the former describes the latter. *(e.g., \"good, hotel\", and \"terrible, acting\" are a few examples of extracted opinions)*.\n",
        "2. Using Matrix Factorization techniques, implication relationships between different expressed opinions are mined. For instance, the system mines that \"responsive keys\" implies \"good keyboard\". In our pipeline, we refer to the conclusion of an implication (i.e., \"good keyboard\" in this example) as the query opinion, and we refer to the premise (i.e., \"responsive keys\") as its neighboring opinion.\n",
        "3. Annotators are then asked to write a question based on query opinions. For instance, given \"good keyboard\" as the query opinion, they might write \"Is this keyboard any good?\"\n",
        "4. Each question written based on a query opinion is then paired with a review that mentions its neighboring opinion. In our example, that would be a review that mentions \"responsive keys\".\n",
        "5. The question and review pairs are presented to annotators to select the correct answer span, and rate the subjectivity level of the question as well as the subjectivity level of the highlighted answer span."
      ],
      "metadata": {
        "id": "r32wNE8C5FeQ"
      }
    },
    {
      "cell_type": "markdown",
      "source": [
        "## Data Format 📊\n",
        "\n",
        "All files are in standard CSV format, and they consist of the following columns:\n",
        "\n",
        "- **domain**: The category/domain of the review (e.g., hotels, books, ...).\n",
        "- **question**: The question (written based on a query opinion).\n",
        "- **review**: The review (that mentions the neighboring opinion).\n",
        "- **human_ans_spans**: The span labeled by annotators as the answer.\n",
        "- **human_ans_indices**: The (character-level) start and end indices of the answer span highlighted by annotators.\n",
        "- **question_subj_level**: The subjectivity level of the question (on a 1 to 5 scale with 1 being the most subjective).\n",
        "- **ques_subj_score**: The subjectivity score of the question computed using the TextBlob package.\n",
        "- **is_ques_subjective**: A boolean subjectivity label derived from question_subj_level (i.e., scores below 4 are considered as subjective).\n",
        "- **answer_subj_level**: The subjectivity level of the answer span (on a 1 to 5 scale with 5 being the most subjective).\n",
        "- **ans_subj_score**: The subjectivity score of the answer span computed using the TextBlob package.\n",
        "- **is_ans_subjective**: A boolean subjectivity label derived from answer_subj_level (i.e., scores below 4 are considered as subjective).\n",
        "- **nn_mod**: The modifier of the neighboring opinion (which appears in the review).\n",
        "- **nn_asp**: The aspect of the neighboring opinion (which appears in the review).\n",
        "- **query_mod**: The modifier of the query opinion (around which a question is manually written).\n",
        "- **query_asp**: The aspect of the query opinion (around which a question is manually written).\n",
        "- **item_id**: The id of the item/business discussed in the review.\n",
        "- **review_id**: A unique id associated with the review.\n",
        "- **q_review_id**: A unique id assigned to the question-review pair.\n",
        "- **q_reviews_id**: A unique id assigned to all question-review pairs with a shared question."
      ],
      "metadata": {
        "id": "GM783wxV4XQa"
      }
    },
    {
      "cell_type": "markdown",
      "source": [
        "### Citation\n",
        "Johannes Bjerva, Nikita Bhutani, Behzad Golahn, Wang-Chiew Tan, and Isabelle Augenstein. (2020). SubjQA: A Dataset for Subjectivity and Review Comprehension. In *Proceedings of the 2020 Conference on Empirical Methods in Natural Language Processing*. Association for Computational Linguistics."
      ],
      "metadata": {
        "id": "1-kEwC-R5a14"
      }
    },
    {
      "cell_type": "code",
      "source": [
        "from google.colab import drive\n",
        "drive.mount('/content/drive')"
      ],
      "metadata": {
        "id": "0o0FpySH2Mvb",
        "colab": {
          "base_uri": "https://localhost:8080/"
        },
        "outputId": "9c4e473a-a55b-42fa-a6a9-8e68db6f8f9e"
      },
      "execution_count": null,
      "outputs": [
        {
          "output_type": "stream",
          "name": "stdout",
          "text": [
            "Drive already mounted at /content/drive; to attempt to forcibly remount, call drive.mount(\"/content/drive\", force_remount=True).\n"
          ]
        }
      ]
    },
    {
      "cell_type": "code",
      "source": [
        "# !pip install datasets evaluate transformers[sentencepiece]\n",
        "# !pip install accelerate\n",
        "# !apt install git-lfs"
      ],
      "metadata": {
        "id": "IDelWMKy2YmG"
      },
      "execution_count": null,
      "outputs": []
    },
    {
      "cell_type": "code",
      "source": [
        "from google.colab import userdata\n",
        "userdata.get('HuggingFace')\n",
        "\n",
        "# Retrieve secret name\n",
        "secret_name = userdata.get('HuggingFace')\n",
        "\n",
        "# Set up Git configuration\n",
        "!git config --global credential.helper store\n",
        "!git config --global user.email \"kagantimur@icloud.com\"\n",
        "!git config --global user.name \"kgntmr\"\n",
        "\n",
        "# Log in to the Hugging Face Hub\n",
        "!huggingface-cli login"
      ],
      "metadata": {
        "id": "f5HXB1xKmjIE",
        "colab": {
          "base_uri": "https://localhost:8080/"
        },
        "outputId": "0636fce2-e4ac-4900-f5ff-cf3167351604"
      },
      "execution_count": null,
      "outputs": [
        {
          "output_type": "stream",
          "name": "stdout",
          "text": [
            "\n",
            "    _|    _|  _|    _|    _|_|_|    _|_|_|  _|_|_|  _|      _|    _|_|_|      _|_|_|_|    _|_|      _|_|_|  _|_|_|_|\n",
            "    _|    _|  _|    _|  _|        _|          _|    _|_|    _|  _|            _|        _|    _|  _|        _|\n",
            "    _|_|_|_|  _|    _|  _|  _|_|  _|  _|_|    _|    _|  _|  _|  _|  _|_|      _|_|_|    _|_|_|_|  _|        _|_|_|\n",
            "    _|    _|  _|    _|  _|    _|  _|    _|    _|    _|    _|_|  _|    _|      _|        _|    _|  _|        _|\n",
            "    _|    _|    _|_|      _|_|_|    _|_|_|  _|_|_|  _|      _|    _|_|_|      _|        _|    _|    _|_|_|  _|_|_|_|\n",
            "\n",
            "    To login, `huggingface_hub` requires a token generated from https://huggingface.co/settings/tokens .\n",
            "Token: \n",
            "Add token as git credential? (Y/n) y\n",
            "Token is valid (permission: read).\n",
            "Your token has been saved in your configured git credential helpers (store).\n",
            "Your token has been saved to /root/.cache/huggingface/token\n",
            "Login successful\n"
          ]
        }
      ]
    },
    {
      "cell_type": "code",
      "source": [
        "from huggingface_hub import notebook_login\n",
        "\n",
        "notebook_login()"
      ],
      "metadata": {
        "id": "yaTEJggLuZaK",
        "colab": {
          "base_uri": "https://localhost:8080/",
          "height": 359,
          "referenced_widgets": [
            "abf43236d01c4ce7b5d13371749e43fc",
            "602222d9978543b8b9abecad8b5b975a",
            "b34e91fa54684f449e7c1567a0d338a0",
            "090349e6285a48598ce35ae039949f7f",
            "5f05381eafb14fc09168521392c90c1f",
            "688fd479460f41e0810cc32ba9ba6085",
            "a07f40d806554cd0a8fce6d1422d56e8",
            "b345df41d9aa4f4ba3b5f244031ea0ba",
            "872430e7259643c6bddcdf2a4b845280",
            "d94763eb59ae4ed882d33c4d1d244578",
            "ff9ad65318da47c89bb62e156a87276e",
            "9881eaff23a648bfa5cb82b5de8cb83c",
            "ac46de27a2e04f638d22cd4d2a572b16",
            "f48f8ae6c75a44e3bb0647f68ce1e2e9",
            "47fda5cb69bb48d497e25e97ca034c58",
            "9e77aff953e74b33be933440e479b6f9",
            "8a5eba2e313a4f3898b421bcb17f14aa",
            "1bba7c8ec0b442b2a400083a0410c671",
            "4ca20f14b25c4ad0a9dfb6bae0564a70",
            "e1b11bd2bf184ca0ac3ab75d83cd116e",
            "ede11ee1ff03484bbf20a5e562a01091"
          ]
        },
        "outputId": "8c81a72e-941e-4581-e24c-2f2222258bec"
      },
      "execution_count": null,
      "outputs": [
        {
          "output_type": "display_data",
          "data": {
            "text/plain": [
              "VBox(children=(HTML(value='<center> <img\\nsrc=https://huggingface.co/front/assets/huggingface_logo-noborder.sv…"
            ],
            "application/vnd.jupyter.widget-view+json": {
              "version_major": 2,
              "version_minor": 0,
              "model_id": "abf43236d01c4ce7b5d13371749e43fc"
            }
          },
          "metadata": {}
        }
      ]
    },
    {
      "cell_type": "code",
      "source": [
        "from datasets import load_dataset\n",
        "import datasets\n",
        "from transformers import AutoTokenizer\n",
        "import numpy as np"
      ],
      "metadata": {
        "id": "kZvfdiRsuhs2"
      },
      "execution_count": null,
      "outputs": []
    },
    {
      "cell_type": "code",
      "source": [
        "model = \"deepset/roberta-base-squad2\"\n",
        "tokenizer = AutoTokenizer.from_pretrained(model)"
      ],
      "metadata": {
        "id": "MQqXE-tPu_uG",
        "colab": {
          "base_uri": "https://localhost:8080/"
        },
        "outputId": "572e1ef4-cc92-4477-c025-fff288888663"
      },
      "execution_count": null,
      "outputs": [
        {
          "output_type": "stream",
          "name": "stderr",
          "text": [
            "/usr/local/lib/python3.10/dist-packages/huggingface_hub/utils/_token.py:88: UserWarning: \n",
            "The secret `HF_TOKEN` does not exist in your Colab secrets.\n",
            "To authenticate with the Hugging Face Hub, create a token in your settings tab (https://huggingface.co/settings/tokens), set it as secret in your Google Colab and restart your session.\n",
            "You will be able to reuse this secret in all of your notebooks.\n",
            "Please note that authentication is recommended but still optional to access public models or datasets.\n",
            "  warnings.warn(\n"
          ]
        }
      ]
    },
    {
      "cell_type": "code",
      "source": [
        "# A fast tokenizer is optimized for speed and efficiency in tokenizing text\n",
        "# Often implement faster processing, useful for large-scale NLP tasks.\n",
        "tokenizer.is_fast"
      ],
      "metadata": {
        "id": "i2ezr5hGvIvu",
        "colab": {
          "base_uri": "https://localhost:8080/"
        },
        "outputId": "caf02879-2f76-4fca-b6b6-c5282624f6b2"
      },
      "execution_count": null,
      "outputs": [
        {
          "output_type": "execute_result",
          "data": {
            "text/plain": [
              "True"
            ]
          },
          "metadata": {},
          "execution_count": 3
        }
      ]
    },
    {
      "cell_type": "code",
      "source": [
        "import pandas as pd\n",
        "df_train = pd.read_csv('/content/drive/MyDrive/Colab Notebooks/subjqa-train.csv')\n",
        "df_test = pd.read_csv('/content/drive/MyDrive/Colab Notebooks/subjqa-test.csv')"
      ],
      "metadata": {
        "id": "O3WTknCj1qru"
      },
      "execution_count": null,
      "outputs": []
    },
    {
      "cell_type": "code",
      "source": [
        "# Define the maximum length and stride parameters for tokenization\n",
        "max_length = 384  # Maximum length of tokenized sequences, commonly used for a balance between context and memory usage\n",
        "stride = 128  # Stride determines overlap between tokenized sequences, providing context while avoiding redundancy"
      ],
      "metadata": {
        "id": "GP6zPXP30gnH"
      },
      "execution_count": null,
      "outputs": []
    },
    {
      "cell_type": "code",
      "source": [
        "def preprocess_training_examples(examples):\n",
        "    questions = [q.strip() for q in examples[\"question\"]]\n",
        "    inputs = tokenizer(\n",
        "        questions,\n",
        "        examples[\"context\"],\n",
        "        max_length=max_length,\n",
        "        truncation=\"only_second\",\n",
        "        stride=stride,\n",
        "        return_overflowing_tokens=True,\n",
        "        return_offsets_mapping=True,\n",
        "        padding=\"max_length\",\n",
        "    )\n",
        "\n",
        "    offset_mapping = inputs.pop(\"offset_mapping\")\n",
        "    sample_map = inputs.pop(\"overflow_to_sample_mapping\")\n",
        "    answers = examples[\"answers\"]\n",
        "    start_positions = []\n",
        "    end_positions = []\n",
        "\n",
        "    for i, offset in enumerate(offset_mapping):\n",
        "        sample_idx = sample_map[i]\n",
        "        answer = answers[sample_idx]\n",
        "        start_char = answer[\"answer_start\"][0]\n",
        "        end_char = answer[\"answer_start\"][0] + len(answer[\"text\"][0])\n",
        "        sequence_ids = inputs.sequence_ids(i)\n",
        "\n",
        "        # Find the start and end of the context\n",
        "        idx = 0\n",
        "        while sequence_ids[idx] != 1:\n",
        "            idx += 1\n",
        "        context_start = idx\n",
        "        while sequence_ids[idx] == 1:\n",
        "            idx += 1\n",
        "        context_end = idx - 1\n",
        "\n",
        "        # If the answer is not fully inside the context, label is (0, 0)\n",
        "        if offset[context_start][0] > start_char or offset[context_end][1] < end_char:\n",
        "            start_positions.append(0)\n",
        "            end_positions.append(0)\n",
        "        else:\n",
        "            # Otherwise it's the start and end token positions\n",
        "            idx = context_start\n",
        "            while idx <= context_end and offset[idx][0] <= start_char:\n",
        "                idx += 1\n",
        "            start_positions.append(idx - 1)\n",
        "\n",
        "            idx = context_end\n",
        "            while idx >= context_start and offset[idx][1] >= end_char:\n",
        "                idx -= 1\n",
        "            end_positions.append(idx + 1)\n",
        "\n",
        "    inputs[\"start_positions\"] = start_positions\n",
        "    inputs[\"end_positions\"] = end_positions\n",
        "    return inputs"
      ],
      "metadata": {
        "id": "eisYCm-TvyL1"
      },
      "execution_count": null,
      "outputs": []
    },
    {
      "cell_type": "code",
      "source": [
        "df_train.head()"
      ],
      "metadata": {
        "id": "HzhybUfc1BxM",
        "colab": {
          "base_uri": "https://localhost:8080/",
          "height": 608
        },
        "outputId": "aeaaf7f4-95c5-42d7-e9d5-9aaefacc4a82"
      },
      "execution_count": null,
      "outputs": [
        {
          "output_type": "execute_result",
          "data": {
            "text/plain": [
              "      item_id  domain         nn_mod             nn_asp  query_mod  \\\n",
              "0  B00BVMXBDO  movies      addictive               show       full   \n",
              "1  1404918051  movies  enough simple               film   charming   \n",
              "2  B0000633ZP  movies           weak               plot        bad   \n",
              "3  B0000AQS0F  movies    outstanding               show  wonderful   \n",
              "4  B003Y5H5FG  movies          great  production design      great   \n",
              "\n",
              "        query_asp                       q_review_id  \\\n",
              "0          series  d9a9615d45df2f6e6108db4ca46bfded   \n",
              "1           movie  06ffe37a8023636a3ce00b020a517e87   \n",
              "2             one  3b625c68e91b9e6987a08b84a9a9d234   \n",
              "3          series  f3abfa98b011127e7cb49bcd07f8deeb   \n",
              "4  costume design  1b03744e764b257592c2c768345c14bc   \n",
              "\n",
              "                       q_reviews_id  \\\n",
              "0  399f1046fe6bd97990107f9d7aa86f4a   \n",
              "1  42d9dd5b0c67150cac1e13308811cbb5   \n",
              "2  32d06ccf2132cda644aea791fa688c53   \n",
              "3  e546636f0bb9f93d5f24b4ade9ebab45   \n",
              "4  a0a97e460a194bcb3286fe68d20aadc2   \n",
              "\n",
              "                                         question  question_subj_level  \\\n",
              "0               Who is the author of this series?                    1   \n",
              "1  Can we enjoy the movie along with our family ?                    1   \n",
              "2                             Does this one good?                    5   \n",
              "3               Is this series good and excelent?                    1   \n",
              "4                      How is the costume design?                    1   \n",
              "\n",
              "   ques_subj_score  is_ques_subjective                         review_id  \\\n",
              "0              0.0               False  090671369dddfeb02db9bf7125a47c79   \n",
              "1              0.5               False  a29821121e74d319cb93f77101e99c88   \n",
              "2              0.6                True  12a1b821f761bd19a75be7b16cef4a7c   \n",
              "3              0.6                True  cd0f92322e67cc9d70de6674caace78c   \n",
              "4              0.0               False  f6b5024393ebc70287befdaf47a50b75   \n",
              "\n",
              "                                              review  \\\n",
              "0  Whether it be in her portrayal of a nerdy lesb...   \n",
              "1  An outstanding romantic comedy, 13 Going on 30...   \n",
              "2  To let the truth be known, I watched this movi...   \n",
              "3  At the time of my review, there had been 910 c...   \n",
              "4  \"Fright Night\" is great! This is how the story...   \n",
              "\n",
              "                                 human_ans_spans human_ans_indices  \\\n",
              "0                                 ANSWERNOTFOUND        (251, 265)   \n",
              "1                                 ANSWERNOTFOUND      (1195, 1209)   \n",
              "2                                 ANSWERNOTFOUND      (1476, 1490)   \n",
              "3                       this show is OUTSTANDING        (296, 320)   \n",
              "4  The costume design by Susan Matheson is great      (1254, 1299)   \n",
              "\n",
              "   answer_subj_level  ans_subj_score  is_ans_subjective  \n",
              "0                  1           0.000              False  \n",
              "1                  1           0.000              False  \n",
              "2                  5           0.000              False  \n",
              "3                  1           0.875               True  \n",
              "4                  1           0.750               True  "
            ],
            "text/html": [
              "\n",
              "  <div id=\"df-cea4b25a-5d5b-4d54-b9a9-7bba33c2fd74\" class=\"colab-df-container\">\n",
              "    <div>\n",
              "<style scoped>\n",
              "    .dataframe tbody tr th:only-of-type {\n",
              "        vertical-align: middle;\n",
              "    }\n",
              "\n",
              "    .dataframe tbody tr th {\n",
              "        vertical-align: top;\n",
              "    }\n",
              "\n",
              "    .dataframe thead th {\n",
              "        text-align: right;\n",
              "    }\n",
              "</style>\n",
              "<table border=\"1\" class=\"dataframe\">\n",
              "  <thead>\n",
              "    <tr style=\"text-align: right;\">\n",
              "      <th></th>\n",
              "      <th>item_id</th>\n",
              "      <th>domain</th>\n",
              "      <th>nn_mod</th>\n",
              "      <th>nn_asp</th>\n",
              "      <th>query_mod</th>\n",
              "      <th>query_asp</th>\n",
              "      <th>q_review_id</th>\n",
              "      <th>q_reviews_id</th>\n",
              "      <th>question</th>\n",
              "      <th>question_subj_level</th>\n",
              "      <th>ques_subj_score</th>\n",
              "      <th>is_ques_subjective</th>\n",
              "      <th>review_id</th>\n",
              "      <th>review</th>\n",
              "      <th>human_ans_spans</th>\n",
              "      <th>human_ans_indices</th>\n",
              "      <th>answer_subj_level</th>\n",
              "      <th>ans_subj_score</th>\n",
              "      <th>is_ans_subjective</th>\n",
              "    </tr>\n",
              "  </thead>\n",
              "  <tbody>\n",
              "    <tr>\n",
              "      <th>0</th>\n",
              "      <td>B00BVMXBDO</td>\n",
              "      <td>movies</td>\n",
              "      <td>addictive</td>\n",
              "      <td>show</td>\n",
              "      <td>full</td>\n",
              "      <td>series</td>\n",
              "      <td>d9a9615d45df2f6e6108db4ca46bfded</td>\n",
              "      <td>399f1046fe6bd97990107f9d7aa86f4a</td>\n",
              "      <td>Who is the author of this series?</td>\n",
              "      <td>1</td>\n",
              "      <td>0.0</td>\n",
              "      <td>False</td>\n",
              "      <td>090671369dddfeb02db9bf7125a47c79</td>\n",
              "      <td>Whether it be in her portrayal of a nerdy lesb...</td>\n",
              "      <td>ANSWERNOTFOUND</td>\n",
              "      <td>(251, 265)</td>\n",
              "      <td>1</td>\n",
              "      <td>0.000</td>\n",
              "      <td>False</td>\n",
              "    </tr>\n",
              "    <tr>\n",
              "      <th>1</th>\n",
              "      <td>1404918051</td>\n",
              "      <td>movies</td>\n",
              "      <td>enough simple</td>\n",
              "      <td>film</td>\n",
              "      <td>charming</td>\n",
              "      <td>movie</td>\n",
              "      <td>06ffe37a8023636a3ce00b020a517e87</td>\n",
              "      <td>42d9dd5b0c67150cac1e13308811cbb5</td>\n",
              "      <td>Can we enjoy the movie along with our family ?</td>\n",
              "      <td>1</td>\n",
              "      <td>0.5</td>\n",
              "      <td>False</td>\n",
              "      <td>a29821121e74d319cb93f77101e99c88</td>\n",
              "      <td>An outstanding romantic comedy, 13 Going on 30...</td>\n",
              "      <td>ANSWERNOTFOUND</td>\n",
              "      <td>(1195, 1209)</td>\n",
              "      <td>1</td>\n",
              "      <td>0.000</td>\n",
              "      <td>False</td>\n",
              "    </tr>\n",
              "    <tr>\n",
              "      <th>2</th>\n",
              "      <td>B0000633ZP</td>\n",
              "      <td>movies</td>\n",
              "      <td>weak</td>\n",
              "      <td>plot</td>\n",
              "      <td>bad</td>\n",
              "      <td>one</td>\n",
              "      <td>3b625c68e91b9e6987a08b84a9a9d234</td>\n",
              "      <td>32d06ccf2132cda644aea791fa688c53</td>\n",
              "      <td>Does this one good?</td>\n",
              "      <td>5</td>\n",
              "      <td>0.6</td>\n",
              "      <td>True</td>\n",
              "      <td>12a1b821f761bd19a75be7b16cef4a7c</td>\n",
              "      <td>To let the truth be known, I watched this movi...</td>\n",
              "      <td>ANSWERNOTFOUND</td>\n",
              "      <td>(1476, 1490)</td>\n",
              "      <td>5</td>\n",
              "      <td>0.000</td>\n",
              "      <td>False</td>\n",
              "    </tr>\n",
              "    <tr>\n",
              "      <th>3</th>\n",
              "      <td>B0000AQS0F</td>\n",
              "      <td>movies</td>\n",
              "      <td>outstanding</td>\n",
              "      <td>show</td>\n",
              "      <td>wonderful</td>\n",
              "      <td>series</td>\n",
              "      <td>f3abfa98b011127e7cb49bcd07f8deeb</td>\n",
              "      <td>e546636f0bb9f93d5f24b4ade9ebab45</td>\n",
              "      <td>Is this series good and excelent?</td>\n",
              "      <td>1</td>\n",
              "      <td>0.6</td>\n",
              "      <td>True</td>\n",
              "      <td>cd0f92322e67cc9d70de6674caace78c</td>\n",
              "      <td>At the time of my review, there had been 910 c...</td>\n",
              "      <td>this show is OUTSTANDING</td>\n",
              "      <td>(296, 320)</td>\n",
              "      <td>1</td>\n",
              "      <td>0.875</td>\n",
              "      <td>True</td>\n",
              "    </tr>\n",
              "    <tr>\n",
              "      <th>4</th>\n",
              "      <td>B003Y5H5FG</td>\n",
              "      <td>movies</td>\n",
              "      <td>great</td>\n",
              "      <td>production design</td>\n",
              "      <td>great</td>\n",
              "      <td>costume design</td>\n",
              "      <td>1b03744e764b257592c2c768345c14bc</td>\n",
              "      <td>a0a97e460a194bcb3286fe68d20aadc2</td>\n",
              "      <td>How is the costume design?</td>\n",
              "      <td>1</td>\n",
              "      <td>0.0</td>\n",
              "      <td>False</td>\n",
              "      <td>f6b5024393ebc70287befdaf47a50b75</td>\n",
              "      <td>\"Fright Night\" is great! This is how the story...</td>\n",
              "      <td>The costume design by Susan Matheson is great</td>\n",
              "      <td>(1254, 1299)</td>\n",
              "      <td>1</td>\n",
              "      <td>0.750</td>\n",
              "      <td>True</td>\n",
              "    </tr>\n",
              "  </tbody>\n",
              "</table>\n",
              "</div>\n",
              "    <div class=\"colab-df-buttons\">\n",
              "\n",
              "  <div class=\"colab-df-container\">\n",
              "    <button class=\"colab-df-convert\" onclick=\"convertToInteractive('df-cea4b25a-5d5b-4d54-b9a9-7bba33c2fd74')\"\n",
              "            title=\"Convert this dataframe to an interactive table.\"\n",
              "            style=\"display:none;\">\n",
              "\n",
              "  <svg xmlns=\"http://www.w3.org/2000/svg\" height=\"24px\" viewBox=\"0 -960 960 960\">\n",
              "    <path d=\"M120-120v-720h720v720H120Zm60-500h600v-160H180v160Zm220 220h160v-160H400v160Zm0 220h160v-160H400v160ZM180-400h160v-160H180v160Zm440 0h160v-160H620v160ZM180-180h160v-160H180v160Zm440 0h160v-160H620v160Z\"/>\n",
              "  </svg>\n",
              "    </button>\n",
              "\n",
              "  <style>\n",
              "    .colab-df-container {\n",
              "      display:flex;\n",
              "      gap: 12px;\n",
              "    }\n",
              "\n",
              "    .colab-df-convert {\n",
              "      background-color: #E8F0FE;\n",
              "      border: none;\n",
              "      border-radius: 50%;\n",
              "      cursor: pointer;\n",
              "      display: none;\n",
              "      fill: #1967D2;\n",
              "      height: 32px;\n",
              "      padding: 0 0 0 0;\n",
              "      width: 32px;\n",
              "    }\n",
              "\n",
              "    .colab-df-convert:hover {\n",
              "      background-color: #E2EBFA;\n",
              "      box-shadow: 0px 1px 2px rgba(60, 64, 67, 0.3), 0px 1px 3px 1px rgba(60, 64, 67, 0.15);\n",
              "      fill: #174EA6;\n",
              "    }\n",
              "\n",
              "    .colab-df-buttons div {\n",
              "      margin-bottom: 4px;\n",
              "    }\n",
              "\n",
              "    [theme=dark] .colab-df-convert {\n",
              "      background-color: #3B4455;\n",
              "      fill: #D2E3FC;\n",
              "    }\n",
              "\n",
              "    [theme=dark] .colab-df-convert:hover {\n",
              "      background-color: #434B5C;\n",
              "      box-shadow: 0px 1px 3px 1px rgba(0, 0, 0, 0.15);\n",
              "      filter: drop-shadow(0px 1px 2px rgba(0, 0, 0, 0.3));\n",
              "      fill: #FFFFFF;\n",
              "    }\n",
              "  </style>\n",
              "\n",
              "    <script>\n",
              "      const buttonEl =\n",
              "        document.querySelector('#df-cea4b25a-5d5b-4d54-b9a9-7bba33c2fd74 button.colab-df-convert');\n",
              "      buttonEl.style.display =\n",
              "        google.colab.kernel.accessAllowed ? 'block' : 'none';\n",
              "\n",
              "      async function convertToInteractive(key) {\n",
              "        const element = document.querySelector('#df-cea4b25a-5d5b-4d54-b9a9-7bba33c2fd74');\n",
              "        const dataTable =\n",
              "          await google.colab.kernel.invokeFunction('convertToInteractive',\n",
              "                                                    [key], {});\n",
              "        if (!dataTable) return;\n",
              "\n",
              "        const docLinkHtml = 'Like what you see? Visit the ' +\n",
              "          '<a target=\"_blank\" href=https://colab.research.google.com/notebooks/data_table.ipynb>data table notebook</a>'\n",
              "          + ' to learn more about interactive tables.';\n",
              "        element.innerHTML = '';\n",
              "        dataTable['output_type'] = 'display_data';\n",
              "        await google.colab.output.renderOutput(dataTable, element);\n",
              "        const docLink = document.createElement('div');\n",
              "        docLink.innerHTML = docLinkHtml;\n",
              "        element.appendChild(docLink);\n",
              "      }\n",
              "    </script>\n",
              "  </div>\n",
              "\n",
              "\n",
              "<div id=\"df-1c6c92d8-53c4-488b-8e70-5a7704c9dddc\">\n",
              "  <button class=\"colab-df-quickchart\" onclick=\"quickchart('df-1c6c92d8-53c4-488b-8e70-5a7704c9dddc')\"\n",
              "            title=\"Suggest charts\"\n",
              "            style=\"display:none;\">\n",
              "\n",
              "<svg xmlns=\"http://www.w3.org/2000/svg\" height=\"24px\"viewBox=\"0 0 24 24\"\n",
              "     width=\"24px\">\n",
              "    <g>\n",
              "        <path d=\"M19 3H5c-1.1 0-2 .9-2 2v14c0 1.1.9 2 2 2h14c1.1 0 2-.9 2-2V5c0-1.1-.9-2-2-2zM9 17H7v-7h2v7zm4 0h-2V7h2v10zm4 0h-2v-4h2v4z\"/>\n",
              "    </g>\n",
              "</svg>\n",
              "  </button>\n",
              "\n",
              "<style>\n",
              "  .colab-df-quickchart {\n",
              "      --bg-color: #E8F0FE;\n",
              "      --fill-color: #1967D2;\n",
              "      --hover-bg-color: #E2EBFA;\n",
              "      --hover-fill-color: #174EA6;\n",
              "      --disabled-fill-color: #AAA;\n",
              "      --disabled-bg-color: #DDD;\n",
              "  }\n",
              "\n",
              "  [theme=dark] .colab-df-quickchart {\n",
              "      --bg-color: #3B4455;\n",
              "      --fill-color: #D2E3FC;\n",
              "      --hover-bg-color: #434B5C;\n",
              "      --hover-fill-color: #FFFFFF;\n",
              "      --disabled-bg-color: #3B4455;\n",
              "      --disabled-fill-color: #666;\n",
              "  }\n",
              "\n",
              "  .colab-df-quickchart {\n",
              "    background-color: var(--bg-color);\n",
              "    border: none;\n",
              "    border-radius: 50%;\n",
              "    cursor: pointer;\n",
              "    display: none;\n",
              "    fill: var(--fill-color);\n",
              "    height: 32px;\n",
              "    padding: 0;\n",
              "    width: 32px;\n",
              "  }\n",
              "\n",
              "  .colab-df-quickchart:hover {\n",
              "    background-color: var(--hover-bg-color);\n",
              "    box-shadow: 0 1px 2px rgba(60, 64, 67, 0.3), 0 1px 3px 1px rgba(60, 64, 67, 0.15);\n",
              "    fill: var(--button-hover-fill-color);\n",
              "  }\n",
              "\n",
              "  .colab-df-quickchart-complete:disabled,\n",
              "  .colab-df-quickchart-complete:disabled:hover {\n",
              "    background-color: var(--disabled-bg-color);\n",
              "    fill: var(--disabled-fill-color);\n",
              "    box-shadow: none;\n",
              "  }\n",
              "\n",
              "  .colab-df-spinner {\n",
              "    border: 2px solid var(--fill-color);\n",
              "    border-color: transparent;\n",
              "    border-bottom-color: var(--fill-color);\n",
              "    animation:\n",
              "      spin 1s steps(1) infinite;\n",
              "  }\n",
              "\n",
              "  @keyframes spin {\n",
              "    0% {\n",
              "      border-color: transparent;\n",
              "      border-bottom-color: var(--fill-color);\n",
              "      border-left-color: var(--fill-color);\n",
              "    }\n",
              "    20% {\n",
              "      border-color: transparent;\n",
              "      border-left-color: var(--fill-color);\n",
              "      border-top-color: var(--fill-color);\n",
              "    }\n",
              "    30% {\n",
              "      border-color: transparent;\n",
              "      border-left-color: var(--fill-color);\n",
              "      border-top-color: var(--fill-color);\n",
              "      border-right-color: var(--fill-color);\n",
              "    }\n",
              "    40% {\n",
              "      border-color: transparent;\n",
              "      border-right-color: var(--fill-color);\n",
              "      border-top-color: var(--fill-color);\n",
              "    }\n",
              "    60% {\n",
              "      border-color: transparent;\n",
              "      border-right-color: var(--fill-color);\n",
              "    }\n",
              "    80% {\n",
              "      border-color: transparent;\n",
              "      border-right-color: var(--fill-color);\n",
              "      border-bottom-color: var(--fill-color);\n",
              "    }\n",
              "    90% {\n",
              "      border-color: transparent;\n",
              "      border-bottom-color: var(--fill-color);\n",
              "    }\n",
              "  }\n",
              "</style>\n",
              "\n",
              "  <script>\n",
              "    async function quickchart(key) {\n",
              "      const quickchartButtonEl =\n",
              "        document.querySelector('#' + key + ' button');\n",
              "      quickchartButtonEl.disabled = true;  // To prevent multiple clicks.\n",
              "      quickchartButtonEl.classList.add('colab-df-spinner');\n",
              "      try {\n",
              "        const charts = await google.colab.kernel.invokeFunction(\n",
              "            'suggestCharts', [key], {});\n",
              "      } catch (error) {\n",
              "        console.error('Error during call to suggestCharts:', error);\n",
              "      }\n",
              "      quickchartButtonEl.classList.remove('colab-df-spinner');\n",
              "      quickchartButtonEl.classList.add('colab-df-quickchart-complete');\n",
              "    }\n",
              "    (() => {\n",
              "      let quickchartButtonEl =\n",
              "        document.querySelector('#df-1c6c92d8-53c4-488b-8e70-5a7704c9dddc button');\n",
              "      quickchartButtonEl.style.display =\n",
              "        google.colab.kernel.accessAllowed ? 'block' : 'none';\n",
              "    })();\n",
              "  </script>\n",
              "</div>\n",
              "    </div>\n",
              "  </div>\n"
            ],
            "application/vnd.google.colaboratory.intrinsic+json": {
              "type": "dataframe",
              "variable_name": "df_train",
              "summary": "{\n  \"name\": \"df_train\",\n  \"rows\": 2501,\n  \"fields\": [\n    {\n      \"column\": \"item_id\",\n      \"properties\": {\n        \"dtype\": \"category\",\n        \"num_unique_values\": 503,\n        \"samples\": [\n          \"B00005JNTI\",\n          \"B000EQ5PUA\",\n          \"B0000BWVCJ\"\n        ],\n        \"semantic_type\": \"\",\n        \"description\": \"\"\n      }\n    },\n    {\n      \"column\": \"domain\",\n      \"properties\": {\n        \"dtype\": \"category\",\n        \"num_unique_values\": 1,\n        \"samples\": [\n          \"movies\"\n        ],\n        \"semantic_type\": \"\",\n        \"description\": \"\"\n      }\n    },\n    {\n      \"column\": \"nn_mod\",\n      \"properties\": {\n        \"dtype\": \"category\",\n        \"num_unique_values\": 277,\n        \"samples\": [\n          \"watchable\"\n        ],\n        \"semantic_type\": \"\",\n        \"description\": \"\"\n      }\n    },\n    {\n      \"column\": \"nn_asp\",\n      \"properties\": {\n        \"dtype\": \"category\",\n        \"num_unique_values\": 188,\n        \"samples\": [\n          \"emotion\"\n        ],\n        \"semantic_type\": \"\",\n        \"description\": \"\"\n      }\n    },\n    {\n      \"column\": \"query_mod\",\n      \"properties\": {\n        \"dtype\": \"category\",\n        \"num_unique_values\": 314,\n        \"samples\": [\n          \"believable\"\n        ],\n        \"semantic_type\": \"\",\n        \"description\": \"\"\n      }\n    },\n    {\n      \"column\": \"query_asp\",\n      \"properties\": {\n        \"dtype\": \"category\",\n        \"num_unique_values\": 181,\n        \"samples\": [\n          \"thing\"\n        ],\n        \"semantic_type\": \"\",\n        \"description\": \"\"\n      }\n    },\n    {\n      \"column\": \"q_review_id\",\n      \"properties\": {\n        \"dtype\": \"string\",\n        \"num_unique_values\": 1369,\n        \"samples\": [\n          \"8563d7cf4c4f5432ec5cd62d06d436c1\"\n        ],\n        \"semantic_type\": \"\",\n        \"description\": \"\"\n      }\n    },\n    {\n      \"column\": \"q_reviews_id\",\n      \"properties\": {\n        \"dtype\": \"string\",\n        \"num_unique_values\": 1265,\n        \"samples\": [\n          \"c8c5527688a2acd208ba8d62e2dad23b\"\n        ],\n        \"semantic_type\": \"\",\n        \"description\": \"\"\n      }\n    },\n    {\n      \"column\": \"question\",\n      \"properties\": {\n        \"dtype\": \"category\",\n        \"num_unique_values\": 798,\n        \"samples\": [\n          \"How can I read the set story at this hotel?\"\n        ],\n        \"semantic_type\": \"\",\n        \"description\": \"\"\n      }\n    },\n    {\n      \"column\": \"question_subj_level\",\n      \"properties\": {\n        \"dtype\": \"number\",\n        \"std\": 1,\n        \"min\": 1,\n        \"max\": 5,\n        \"num_unique_values\": 5,\n        \"samples\": [\n          5\n        ],\n        \"semantic_type\": \"\",\n        \"description\": \"\"\n      }\n    },\n    {\n      \"column\": \"ques_subj_score\",\n      \"properties\": {\n        \"dtype\": \"number\",\n        \"std\": 0.29416550579019396,\n        \"min\": 0.0,\n        \"max\": 1.0,\n        \"num_unique_values\": 50,\n        \"samples\": [\n          0.1\n        ],\n        \"semantic_type\": \"\",\n        \"description\": \"\"\n      }\n    },\n    {\n      \"column\": \"is_ques_subjective\",\n      \"properties\": {\n        \"dtype\": \"boolean\",\n        \"num_unique_values\": 2,\n        \"samples\": [\n          true\n        ],\n        \"semantic_type\": \"\",\n        \"description\": \"\"\n      }\n    },\n    {\n      \"column\": \"review_id\",\n      \"properties\": {\n        \"dtype\": \"string\",\n        \"num_unique_values\": 1330,\n        \"samples\": [\n          \"24ad2780d2984f734476f57a5d412537\"\n        ],\n        \"semantic_type\": \"\",\n        \"description\": \"\"\n      }\n    },\n    {\n      \"column\": \"review\",\n      \"properties\": {\n        \"dtype\": \"string\",\n        \"num_unique_values\": 1330,\n        \"samples\": [\n          \"An outstanding animated romantic comedy, Shrek, brings to the screen the love story between, an ogre (Shrek), and a beautiful princess (Fiona), with all the ups and downs that that entails!  In addition, the couple finds itself in the company of adorable characters from classic fairy tales, with the cherry on the cake being the hilarious talking donkey.It is a film about human relations, hope and second chances, but most importantly about trust, love, and inner strength.Mike Myers, Eddie Murphy, Cameron Diaz, and the rest of the cast, have truly outdone themselves with their performances, which are exceptional to say the least!  All the actors, without exceptions, give it their 100% and it really shows (the animation does come ALIVE)! Very well written and very well presented, the movie is without a doubt guaranteed to provide more than just a few laughs.  The film is simple enough, but does a great job of describing people's every day lives and the problems they face.  It just goes to show that simplicity is often far better than complexity, when trying to present issues of a human nature.The setting, the plot, the dialogues, the HUMOR (!!!) and the music are all wonderful!In short, Shrek is a movie definitely worth watching and one to seriously consider adding to your movie collection!  Strongly recommended along with Shrek 2. ANSWERNOTFOUND\"\n        ],\n        \"semantic_type\": \"\",\n        \"description\": \"\"\n      }\n    },\n    {\n      \"column\": \"human_ans_spans\",\n      \"properties\": {\n        \"dtype\": \"category\",\n        \"num_unique_values\": 906,\n        \"samples\": [\n          \"my review of Christopher Nolan 's \\\" Memento \\\"\"\n        ],\n        \"semantic_type\": \"\",\n        \"description\": \"\"\n      }\n    },\n    {\n      \"column\": \"human_ans_indices\",\n      \"properties\": {\n        \"dtype\": \"string\",\n        \"num_unique_values\": 1744,\n        \"samples\": [\n          \"(985, 999)\"\n        ],\n        \"semantic_type\": \"\",\n        \"description\": \"\"\n      }\n    },\n    {\n      \"column\": \"answer_subj_level\",\n      \"properties\": {\n        \"dtype\": \"number\",\n        \"std\": 1,\n        \"min\": 1,\n        \"max\": 5,\n        \"num_unique_values\": 5,\n        \"samples\": [\n          5\n        ],\n        \"semantic_type\": \"\",\n        \"description\": \"\"\n      }\n    },\n    {\n      \"column\": \"ans_subj_score\",\n      \"properties\": {\n        \"dtype\": \"number\",\n        \"std\": 0.33359523274248176,\n        \"min\": 0.0,\n        \"max\": 1.0,\n        \"num_unique_values\": 148,\n        \"samples\": [\n          0.6749999999999999\n        ],\n        \"semantic_type\": \"\",\n        \"description\": \"\"\n      }\n    },\n    {\n      \"column\": \"is_ans_subjective\",\n      \"properties\": {\n        \"dtype\": \"boolean\",\n        \"num_unique_values\": 2,\n        \"samples\": [\n          true\n        ],\n        \"semantic_type\": \"\",\n        \"description\": \"\"\n      }\n    }\n  ]\n}"
            }
          },
          "metadata": {},
          "execution_count": 7
        }
      ]
    },
    {
      "cell_type": "code",
      "source": [
        "df_train.info()"
      ],
      "metadata": {
        "id": "PRe8FNYw133V",
        "colab": {
          "base_uri": "https://localhost:8080/"
        },
        "outputId": "e5bfd784-0d69-4316-8a5f-d33a24c5ac11"
      },
      "execution_count": null,
      "outputs": [
        {
          "output_type": "stream",
          "name": "stdout",
          "text": [
            "<class 'pandas.core.frame.DataFrame'>\n",
            "RangeIndex: 2501 entries, 0 to 2500\n",
            "Data columns (total 19 columns):\n",
            " #   Column               Non-Null Count  Dtype  \n",
            "---  ------               --------------  -----  \n",
            " 0   item_id              2501 non-null   object \n",
            " 1   domain               2501 non-null   object \n",
            " 2   nn_mod               2501 non-null   object \n",
            " 3   nn_asp               2501 non-null   object \n",
            " 4   query_mod            2501 non-null   object \n",
            " 5   query_asp            2501 non-null   object \n",
            " 6   q_review_id          2501 non-null   object \n",
            " 7   q_reviews_id         2501 non-null   object \n",
            " 8   question             2501 non-null   object \n",
            " 9   question_subj_level  2501 non-null   int64  \n",
            " 10  ques_subj_score      2501 non-null   float64\n",
            " 11  is_ques_subjective   2501 non-null   bool   \n",
            " 12  review_id            2501 non-null   object \n",
            " 13  review               2501 non-null   object \n",
            " 14  human_ans_spans      2501 non-null   object \n",
            " 15  human_ans_indices    2501 non-null   object \n",
            " 16  answer_subj_level    2501 non-null   int64  \n",
            " 17  ans_subj_score       2501 non-null   float64\n",
            " 18  is_ans_subjective    2501 non-null   bool   \n",
            "dtypes: bool(2), float64(2), int64(2), object(13)\n",
            "memory usage: 337.2+ KB\n"
          ]
        }
      ]
    },
    {
      "cell_type": "code",
      "source": [
        "df_train.columns"
      ],
      "metadata": {
        "id": "5X6yTrJ-2Fmo",
        "colab": {
          "base_uri": "https://localhost:8080/"
        },
        "outputId": "ff76f289-91aa-4f07-b397-b398451ff52a"
      },
      "execution_count": null,
      "outputs": [
        {
          "output_type": "execute_result",
          "data": {
            "text/plain": [
              "Index(['item_id', 'domain', 'nn_mod', 'nn_asp', 'query_mod', 'query_asp',\n",
              "       'q_review_id', 'q_reviews_id', 'question', 'question_subj_level',\n",
              "       'ques_subj_score', 'is_ques_subjective', 'review_id', 'review',\n",
              "       'human_ans_spans', 'human_ans_indices', 'answer_subj_level',\n",
              "       'ans_subj_score', 'is_ans_subjective'],\n",
              "      dtype='object')"
            ]
          },
          "metadata": {},
          "execution_count": 9
        }
      ]
    },
    {
      "cell_type": "markdown",
      "source": [
        "## Checking the questions and answers\n",
        "- Let's check it questions and answer according to the 'human_ans_indices'"
      ],
      "metadata": {
        "id": "Q2g1tPGc0r89"
      }
    },
    {
      "cell_type": "code",
      "source": [
        "df_train.iloc[0].question"
      ],
      "metadata": {
        "id": "6nnoYQyK2MBe",
        "colab": {
          "base_uri": "https://localhost:8080/",
          "height": 35
        },
        "outputId": "401f9a8e-34a9-4de1-cfdd-d62b1c9c605f"
      },
      "execution_count": null,
      "outputs": [
        {
          "output_type": "execute_result",
          "data": {
            "text/plain": [
              "'Who is the author of this series?'"
            ],
            "application/vnd.google.colaboratory.intrinsic+json": {
              "type": "string"
            }
          },
          "metadata": {},
          "execution_count": 10
        }
      ]
    },
    {
      "cell_type": "code",
      "source": [
        "df_train.iloc[0].review"
      ],
      "metadata": {
        "id": "0lpkVFjm26FR",
        "colab": {
          "base_uri": "https://localhost:8080/",
          "height": 53
        },
        "outputId": "90d5faac-732f-42da-ffbb-3bb810e510bc"
      },
      "execution_count": null,
      "outputs": [
        {
          "output_type": "execute_result",
          "data": {
            "text/plain": [
              "\"Whether it be in her portrayal of a nerdy lesbian or a punk rock rebel, Maslany's plural personalities, (though very stereotypical), are entertaining eye-candy. Combined with a complex and unpredictable plot line, this show is surprisingly addictive. ANSWERNOTFOUND\""
            ],
            "application/vnd.google.colaboratory.intrinsic+json": {
              "type": "string"
            }
          },
          "metadata": {},
          "execution_count": 11
        }
      ]
    },
    {
      "cell_type": "code",
      "source": [
        "df_train.iloc[0].human_ans_indices"
      ],
      "metadata": {
        "id": "CNxpn9lv3QRx",
        "colab": {
          "base_uri": "https://localhost:8080/",
          "height": 35
        },
        "outputId": "fc7787ce-7a49-4e20-97b3-166b3a2194bd"
      },
      "execution_count": null,
      "outputs": [
        {
          "output_type": "execute_result",
          "data": {
            "text/plain": [
              "'(251, 265)'"
            ],
            "application/vnd.google.colaboratory.intrinsic+json": {
              "type": "string"
            }
          },
          "metadata": {},
          "execution_count": 12
        }
      ]
    },
    {
      "cell_type": "code",
      "source": [
        "df_train.iloc[0].review[251:265]"
      ],
      "metadata": {
        "id": "mi0231lB3cjJ",
        "colab": {
          "base_uri": "https://localhost:8080/",
          "height": 35
        },
        "outputId": "6f39a9c1-60b8-4ece-979f-68bbe726e5bb"
      },
      "execution_count": null,
      "outputs": [
        {
          "output_type": "execute_result",
          "data": {
            "text/plain": [
              "'ANSWERNOTFOUND'"
            ],
            "application/vnd.google.colaboratory.intrinsic+json": {
              "type": "string"
            }
          },
          "metadata": {},
          "execution_count": 13
        }
      ]
    },
    {
      "cell_type": "code",
      "source": [
        "# Picking the necessary columns for further analysis\n",
        "df_train=df_train[['question','human_ans_indices','review','human_ans_spans']]\n",
        "df_test=df_test[['question','human_ans_indices','review','human_ans_spans']]"
      ],
      "metadata": {
        "id": "GYTknC6D3zZQ"
      },
      "execution_count": null,
      "outputs": []
    },
    {
      "cell_type": "code",
      "source": [
        "# Generate a sequence evenly spaced numbers\n",
        "df_train['id']=np.linspace(0,len(df_train)-1,len(df_train))\n",
        "df_test['id']=np.linspace(0,len(df_test)-1,len(df_test))"
      ],
      "metadata": {
        "id": "Ginf6f7C330b"
      },
      "execution_count": null,
      "outputs": []
    },
    {
      "cell_type": "code",
      "source": [
        "df_train['id']=df_train['id'].astype(str)\n",
        "df_test['id']=df_test['id'].astype(str)"
      ],
      "metadata": {
        "id": "SCm_uyKH5dPR"
      },
      "execution_count": null,
      "outputs": []
    },
    {
      "cell_type": "code",
      "source": [
        "int(df_train.iloc[0].human_ans_indices.split('(')[1].split(',')[0])"
      ],
      "metadata": {
        "id": "dDGXgO925wRW",
        "colab": {
          "base_uri": "https://localhost:8080/"
        },
        "outputId": "e770b925-364e-4de0-8b32-4a7791cf1f22"
      },
      "execution_count": null,
      "outputs": [
        {
          "output_type": "execute_result",
          "data": {
            "text/plain": [
              "251"
            ]
          },
          "metadata": {},
          "execution_count": 17
        }
      ]
    },
    {
      "cell_type": "code",
      "source": [
        "float(df_train.iloc[0].human_ans_indices.split('(')[1].split(',')[1].split(' ')[1].split(')')[0])"
      ],
      "metadata": {
        "id": "NCXUJLI09hjC",
        "colab": {
          "base_uri": "https://localhost:8080/"
        },
        "outputId": "8eb3f8b9-7064-47c5-e176-09069b903ea0"
      },
      "execution_count": null,
      "outputs": [
        {
          "output_type": "execute_result",
          "data": {
            "text/plain": [
              "265.0"
            ]
          },
          "metadata": {},
          "execution_count": 18
        }
      ]
    },
    {
      "cell_type": "code",
      "source": [
        "# Indicating where the answers are\n",
        "df_train['answers']=df_train['human_ans_spans']\n",
        "# Actual answer text itself, right answer where should be\n",
        "df_test['answers']=df_test['human_ans_spans']"
      ],
      "metadata": {
        "id": "_2AIdMOg_E9_"
      },
      "execution_count": null,
      "outputs": []
    },
    {
      "cell_type": "code",
      "source": [
        "# Extract answer data and adds it to a new column\n",
        "for i in range(0,len(df_train)):\n",
        "  answer1={}\n",
        "  si=int(df_train.iloc[i].human_ans_indices.split('(')[1].split(',')[0])\n",
        "  ei=int(df_train.iloc[i].human_ans_indices.split('(')[1].split(',')[1].split(' ')[1].split(')')[0])\n",
        "  answer1['text']=[df_train.iloc[i].review[si:ei]]\n",
        "  answer1['answer_start']=[si]\n",
        "  df_train.at[i, 'answers']=answer1"
      ],
      "metadata": {
        "id": "NBY1eCL9-wNR"
      },
      "execution_count": null,
      "outputs": []
    },
    {
      "cell_type": "code",
      "source": [
        "print(df_train.iloc[i].answers,df_train.iloc[i].human_ans_spans)"
      ],
      "metadata": {
        "id": "XEPxIoLK-yg_",
        "colab": {
          "base_uri": "https://localhost:8080/"
        },
        "outputId": "5f301d86-aec3-4dae-cd3d-0c0623a1d5e1"
      },
      "execution_count": null,
      "outputs": [
        {
          "output_type": "stream",
          "name": "stdout",
          "text": [
            "{'text': ['ANSWERNOTFOUND'], 'answer_start': [801]} ANSWERNOTFOUND\n"
          ]
        }
      ]
    },
    {
      "cell_type": "code",
      "source": [
        "df_train.columns"
      ],
      "metadata": {
        "id": "g12BcNVH6Hsw",
        "colab": {
          "base_uri": "https://localhost:8080/"
        },
        "outputId": "1813c289-44d7-482a-e7e0-db68e2a3ea51"
      },
      "execution_count": null,
      "outputs": [
        {
          "output_type": "execute_result",
          "data": {
            "text/plain": [
              "Index(['question', 'human_ans_indices', 'review', 'human_ans_spans', 'id',\n",
              "       'answers'],\n",
              "      dtype='object')"
            ]
          },
          "metadata": {},
          "execution_count": 22
        }
      ]
    },
    {
      "cell_type": "code",
      "source": [
        "df_train.columns=['question', 'human_ans_indices', 'context', 'human_ans_spans', 'id',\n",
        "       'answers']\n",
        "\n",
        "df_test.columns=['question', 'human_ans_indices', 'context', 'human_ans_spans','id',\n",
        "       'answers']"
      ],
      "metadata": {
        "id": "-z-QfZ-v6Qc-"
      },
      "execution_count": null,
      "outputs": []
    },
    {
      "cell_type": "code",
      "source": [
        "val_dataset2 = datasets.Dataset.from_pandas(df_test)\n",
        "train_dataset2 = datasets.Dataset.from_pandas(df_train)"
      ],
      "metadata": {
        "id": "yQQ3A3QV6TNu"
      },
      "execution_count": null,
      "outputs": []
    },
    {
      "cell_type": "code",
      "source": [
        "# Preprocess the training examples .map() function on training dataset with the preprocessing function\n",
        "train_dataset = train_dataset2.map(\n",
        "    preprocess_training_examples,\n",
        "    batched=True,\n",
        "    remove_columns=train_dataset2.column_names,\n",
        ")\n",
        "len(train_dataset2), len(train_dataset) # compare the lengths of the original dataset (train_dataset2) and the preprocessed dataset (train_dataset)."
      ],
      "metadata": {
        "id": "KdDTNLBf6UkA",
        "colab": {
          "base_uri": "https://localhost:8080/",
          "height": 67,
          "referenced_widgets": [
            "5529649de2954e98a019ae35f4fee1d0",
            "fbe73bd4d6de4861a919494cc4be4a80",
            "f117280a6fdf4fc28fb8c55788a5d532",
            "cfb48f7f593542cea6702175ad47920d",
            "7a85cf1672a74bc2887f4c6aacd7d1ce",
            "3893edb1b07443128999a793a0640ccc",
            "ad5ad245610a41be850840489495e64a",
            "1666e824113f460fa862e1eba1d4a845",
            "84eb247fb6a04dbaa0987a1097c40c41",
            "7ce551d313e34902b9372ead22fb1b06",
            "e13c3843c58142feb9c72f2f534d4d8c"
          ]
        },
        "outputId": "7852676d-bad0-4654-8e9e-d256fd725cf1"
      },
      "execution_count": null,
      "outputs": [
        {
          "output_type": "display_data",
          "data": {
            "text/plain": [
              "Map:   0%|          | 0/2501 [00:00<?, ? examples/s]"
            ],
            "application/vnd.jupyter.widget-view+json": {
              "version_major": 2,
              "version_minor": 0,
              "model_id": "5529649de2954e98a019ae35f4fee1d0"
            }
          },
          "metadata": {}
        },
        {
          "output_type": "execute_result",
          "data": {
            "text/plain": [
              "(2501, 4862)"
            ]
          },
          "metadata": {},
          "execution_count": 25
        }
      ]
    },
    {
      "cell_type": "code",
      "source": [
        "train_dataset2.shape"
      ],
      "metadata": {
        "id": "2uB2NPvA6Ug5",
        "colab": {
          "base_uri": "https://localhost:8080/"
        },
        "outputId": "921499c2-26ba-4dd5-b3ae-3f0b3b580688"
      },
      "execution_count": null,
      "outputs": [
        {
          "output_type": "execute_result",
          "data": {
            "text/plain": [
              "(2501, 6)"
            ]
          },
          "metadata": {},
          "execution_count": 26
        }
      ]
    },
    {
      "cell_type": "markdown",
      "source": [
        "It shows that all 2501 examples were processed in 10 seconds at a speed of 260.48 examples per second. The resulting dataset has 4862 examples."
      ],
      "metadata": {
        "id": "rWUvAhSNDS2U"
      }
    },
    {
      "cell_type": "code",
      "source": [
        "def preprocess_validation_examples(examples):\n",
        "    # Cleaning the questions by stripping leading and trailing whitespace for consistency\n",
        "    questions = [q.strip() for q in examples[\"question\"]]\n",
        "\n",
        "    # Tokenization; converting questions and contexts into numerical IDs, enabling the model to understand\n",
        "    inputs = tokenizer(\n",
        "        questions,\n",
        "        examples[\"context\"],\n",
        "        max_length=max_length, # Total length of the input sequence\n",
        "        truncation=\"only_second\", # If the total length exceeds max_length, only the context will be truncated\n",
        "        stride=stride, # Overlap between the chunks\n",
        "        return_overflowing_tokens=True,\n",
        "        return_offsets_mapping=True,\n",
        "        padding=\"max_length\",\n",
        "    )\n",
        "\n",
        "    # Extracting overflow_to_sample_mapping\n",
        "    sample_map = inputs.pop(\"overflow_to_sample_mapping\")\n",
        "    example_ids = []\n",
        "\n",
        "    # Looping over the tokenized inputs\n",
        "    for i in range(len(inputs[\"input_ids\"])):\n",
        "        sample_idx = sample_map[i]\n",
        "        example_ids.append(examples[\"id\"][sample_idx]) # Retrieving example IDs\n",
        "\n",
        "        # Adjusting offset mapping based on sequence IDs\n",
        "        sequence_ids = inputs.sequence_ids(i)\n",
        "        offset = inputs[\"offset_mapping\"][i]\n",
        "        inputs[\"offset_mapping\"][i] = [\n",
        "            o if sequence_ids[k] == 1 else None for k, o in enumerate(offset)\n",
        "        ]\n",
        "\n",
        "    # Adding example IDs to the tokenized inputs\n",
        "    inputs[\"example_id\"] = example_ids\n",
        "    return inputs"
      ],
      "metadata": {
        "id": "FMNSy4J6DaWF"
      },
      "execution_count": null,
      "outputs": []
    },
    {
      "cell_type": "code",
      "source": [
        "# Preprocess the validation dataset by applying the preprocess_validation_examples function to each example\n",
        "validation_dataset = val_dataset2.map(\n",
        "    preprocess_validation_examples,  # Function to preprocess each example\n",
        "    batched=True,  # Process examples in batches for efficiency\n",
        "    remove_columns=val_dataset2.column_names,  # Remove unnecessary columns from the dataset\n",
        ")\n",
        "\n",
        "# Calculate the length of the preprocessed validation dataset\n",
        "len(validation_dataset)"
      ],
      "metadata": {
        "id": "zJsykeGs6wDn",
        "colab": {
          "base_uri": "https://localhost:8080/",
          "height": 67,
          "referenced_widgets": [
            "ca3d07964ae444a7bb0800e16bcbb8b9",
            "606120ccd3c34a83b010ea2942b07a5a",
            "d4426bd2f11749c4a9ecceaa135a4c00",
            "bdb28e8b7186466fb60fb20b59b0ad7f",
            "3cc0b0662ffa453d94ed67b7f8f0fca7",
            "233e2d3abc44463197e67d2e5b377801",
            "654849c47cf44cd1ab7ae5d5b5e02cac",
            "5bbe5491a6384bacae3181c7e3c3481a",
            "d00256f013c34a02a0933decd93f4dfb",
            "bd9b25165e4f44299016640f8ba9cd41",
            "9377892d7a2b4a2ca0cb0da3f8ad17e6"
          ]
        },
        "outputId": "e1f22c2e-dd5e-45c1-a70a-09cfa1e7b882"
      },
      "execution_count": null,
      "outputs": [
        {
          "output_type": "display_data",
          "data": {
            "text/plain": [
              "Map:   0%|          | 0/582 [00:00<?, ? examples/s]"
            ],
            "application/vnd.jupyter.widget-view+json": {
              "version_major": 2,
              "version_minor": 0,
              "model_id": "ca3d07964ae444a7bb0800e16bcbb8b9"
            }
          },
          "metadata": {}
        },
        {
          "output_type": "execute_result",
          "data": {
            "text/plain": [
              "1104"
            ]
          },
          "metadata": {},
          "execution_count": 28
        }
      ]
    },
    {
      "cell_type": "code",
      "source": [
        "tokenizer = AutoTokenizer.from_pretrained(model)"
      ],
      "metadata": {
        "id": "pPGYTjd-8xka"
      },
      "execution_count": null,
      "outputs": []
    },
    {
      "cell_type": "code",
      "source": [
        "import torch\n",
        "from transformers import AutoModelForQuestionAnswering\n",
        "from tqdm.auto import tqdm\n",
        "import collections\n",
        "import evaluate\n",
        "\n",
        "metric = evaluate.load(\"squad\")"
      ],
      "metadata": {
        "id": "fGeOwco-8z8s"
      },
      "execution_count": null,
      "outputs": []
    },
    {
      "cell_type": "code",
      "source": [
        "# # Compute metrics based on model predictions and reference answers\n",
        "# def compute_metrics(start_logits, end_logits, features, examples):\n",
        "#     # Dictionary to map example IDs to their corresponding features\n",
        "#     example_to_features = collections.defaultdict(list)\n",
        "#     for idx, feature in enumerate(features):\n",
        "#         example_to_features[feature[\"example_id\"]].append(idx)\n",
        "\n",
        "#     # List to store predicted answers\n",
        "#     predicted_answers = []\n",
        "#     # Iterate over each example\n",
        "#     for example in tqdm(examples):\n",
        "#         example_id = example[\"id\"]\n",
        "#         context = example[\"context\"]\n",
        "#         answers = []\n",
        "\n",
        "#         # Loop through all features associated with that example\n",
        "#         for feature_index in example_to_features[example_id]:\n",
        "#             start_logit = start_logits[feature_index]\n",
        "#             end_logit = end_logits[feature_index]\n",
        "#             offsets = features[feature_index][\"offset_mapping\"]\n",
        "\n",
        "#             # Select top n_best start and end indices based on logits\n",
        "#             start_indexes = np.argsort(start_logit)[-1 : -n_best - 1 : -1].tolist()\n",
        "#             end_indexes = np.argsort(end_logit)[-1 : -n_best - 1 : -1].tolist()\n",
        "#             # Generate candidate answers\n",
        "#             for start_index in start_indexes:\n",
        "#                 for end_index in end_indexes:\n",
        "#                     # Skip answers that are not fully in the context\n",
        "#                     if offsets[start_index] is None or offsets[end_index] is None:\n",
        "#                         continue\n",
        "#                     # Skip answers with a length outside the range [0, max_answer_length]\n",
        "#                     if (\n",
        "#                         end_index < start_index\n",
        "#                         or end_index - start_index + 1 > max_answer_length\n",
        "#                     ):\n",
        "#                         continue\n",
        "\n",
        "#                     # Extract answer text and its combined logit score\n",
        "#                     answer = {\n",
        "#                         \"text\": context[offsets[start_index][0] : offsets[end_index][1]],\n",
        "#                         \"logit_score\": start_logit[start_index] + end_logit[end_index],\n",
        "#                     }\n",
        "#                     answers.append(answer)\n",
        "\n",
        "#         # Select the answer with the best score\n",
        "#         if len(answers) > 0:\n",
        "#             best_answer = max(answers, key=lambda x: x[\"logit_score\"])\n",
        "#             predicted_answers.append(\n",
        "#                 {\"id\": example_id, \"prediction_text\": best_answer[\"text\"]}\n",
        "#             )\n",
        "#         else:\n",
        "#             predicted_answers.append({\"id\": example_id, \"prediction_text\": \"\"})\n",
        "\n",
        "#     # Create theoretical answers for each example\n",
        "#     theoretical_answers = [{\"id\": ex[\"id\"], \"answers\": ex[\"answers\"]} for ex in examples]\n",
        "#     # Compute metrics based on predicted and theoretical answers\n",
        "#     return metric.compute(predictions=predicted_answers, references=theoretical_answers)"
      ],
      "metadata": {
        "id": "ItTNs_Eo9ZBE"
      },
      "execution_count": null,
      "outputs": []
    },
    {
      "cell_type": "code",
      "source": [
        "def compute_metrics(start_logits, end_logits, features, examples):\n",
        "    # Initialize a defaultdict to map example IDs to their corresponding feature indices\n",
        "    example_to_features = collections.defaultdict(list)\n",
        "    for idx, feature in enumerate(features):\n",
        "        example_to_features[feature[\"example_id\"]].append(idx)\n",
        "\n",
        "    # List to store the formatted predicted answers\n",
        "    predicted_answers = []\n",
        "\n",
        "    # Placeholder values for n_best and max_answer_length, adjust as necessary\n",
        "    n_best = 20  # Example value, adjust according to your needs\n",
        "    max_answer_length = 30  # Example value, adjust according to your needs\n",
        "\n",
        "    # Process each example to generate predictions\n",
        "    for example in tqdm(examples):\n",
        "        example_id = example[\"id\"]\n",
        "        context = example[\"context\"]\n",
        "        answers = []\n",
        "\n",
        "        # Iterate through all features linked to the current example\n",
        "        for feature_index in example_to_features[example_id]:\n",
        "            start_logit = start_logits[feature_index]\n",
        "            end_logit = end_logits[feature_index]\n",
        "            offsets = features[feature_index][\"offset_mapping\"]\n",
        "\n",
        "            # Determine top n_best start and end positions\n",
        "            start_indexes = np.argsort(start_logit)[-1: -n_best - 1: -1].tolist()\n",
        "            end_indexes = np.argsort(end_logit)[-1: -n_best - 1: -1].tolist()\n",
        "\n",
        "            # Generate candidate answers based on top start/end positions\n",
        "            for start_index in start_indexes:\n",
        "                for end_index in end_indexes:\n",
        "                    # Validate answer positions\n",
        "                    if offsets[start_index] is None or offsets[end_index] is None:\n",
        "                        continue\n",
        "                    if end_index < start_index or end_index - start_index + 1 > max_answer_length:\n",
        "                        continue\n",
        "\n",
        "                    # Formulate the answer and score\n",
        "                    answer = {\n",
        "                        \"text\": context[offsets[start_index][0]: offsets[end_index][1]],\n",
        "                        \"logit_score\": start_logit[start_index] + end_logit[end_index],\n",
        "                    }\n",
        "                    answers.append(answer)\n",
        "\n",
        "        # Choose the best answer for the current example\n",
        "        if answers:\n",
        "            best_answer = max(answers, key=lambda x: x[\"logit_score\"])\n",
        "            predicted_answers.append({\"id\": example_id, \"prediction_text\": best_answer[\"text\"]})\n",
        "        else:\n",
        "            predicted_answers.append({\"id\": example_id, \"prediction_text\": \"\"})\n",
        "\n",
        "    # Correctly format the references from the examples dataset\n",
        "    references_corrected = []\n",
        "    for ex in examples:\n",
        "        # Split answers if needed and create the correct format\n",
        "        individual_answers = [{'text': ans, 'answer_start': 0} for ans in ex['answers'].split('|')]  # Adjust splitting mechanism as needed\n",
        "        references_corrected.append({\n",
        "            'id': ex['id'],\n",
        "            'answers': individual_answers\n",
        "        })\n",
        "\n",
        "    # Compute the evaluation metric using the formatted predictions and references\n",
        "    return metric.compute(predictions=predicted_answers, references=references_corrected)"
      ],
      "metadata": {
        "id": "YSUOVXPdi5Ys"
      },
      "execution_count": null,
      "outputs": []
    },
    {
      "cell_type": "code",
      "source": [
        "model1 = AutoModelForQuestionAnswering.from_pretrained(model)"
      ],
      "metadata": {
        "id": "cIf0Mlut9Y-f"
      },
      "execution_count": null,
      "outputs": []
    },
    {
      "cell_type": "code",
      "source": [
        "from transformers import TrainingArguments"
      ],
      "metadata": {
        "id": "Jbk5HQC3_DF8"
      },
      "execution_count": null,
      "outputs": []
    },
    {
      "cell_type": "code",
      "source": [
        "args = TrainingArguments(\n",
        "    \"roberta-finetuned-subjqa-movies_2\",\n",
        "    evaluation_strategy=\"epoch\",\n",
        "    logging_strategy=\"epoch\",\n",
        "    save_strategy=\"epoch\",\n",
        "    learning_rate=2e-5,\n",
        "    num_train_epochs=5,\n",
        "    weight_decay=0.01,\n",
        "    push_to_hub=False,\n",
        "    report_to=\"all\",\n",
        "    fp16=False  # Set fp16 to False as it requires CUDA, NPU, or certain XPU devices with IPEX\n",
        ")\n"
      ],
      "metadata": {
        "id": "oBJF2JVMWFRF"
      },
      "execution_count": null,
      "outputs": []
    },
    {
      "cell_type": "code",
      "source": [
        "# # Define training arguments for the model\n",
        "# args = TrainingArguments(\n",
        "#     \"roberta-finetuned-subjqa-movies_2\", # Output dir for saving model and checkpoints\n",
        "#     evaluation_strategy=\"epoch\", # Evaluate at the end of each epoch\n",
        "#     save_strategy=\"epoch\", # Save model at the end of each epoch to match evaluation timing\n",
        "#     per_device_train_batch_size=8, # Training batch size per device\n",
        "#     per_device_eval_batch_size=8, # Evaluation batch size per device\n",
        "#     num_train_epochs=4, # Total number of training epochs\n",
        "#     seed=42, # Seed for reproducibility\n",
        "#     load_best_model_at_end=True # Load the best model based on evaluation at the end of training\n",
        "# )"
      ],
      "metadata": {
        "id": "okAsJ-zlAqEf"
      },
      "execution_count": null,
      "outputs": []
    },
    {
      "cell_type": "code",
      "source": [
        "from transformers import Trainer\n",
        "\n",
        "# Create a Trainer instance for model training\n",
        "trainer = Trainer(\n",
        "    model=model1,  # The model to be trained\n",
        "    args=args,  # Training arguments defined earlier\n",
        "    train_dataset=train_dataset,  # Training dataset\n",
        "    eval_dataset=validation_dataset,  # Evaluation dataset\n",
        "    tokenizer=tokenizer,  # Tokenizer for processing inputs\n",
        ")"
      ],
      "metadata": {
        "id": "BCj5sbeP9uMe",
        "colab": {
          "base_uri": "https://localhost:8080/"
        },
        "outputId": "0d43e72e-99a3-4be0-98ea-47d994d3f947"
      },
      "execution_count": null,
      "outputs": [
        {
          "output_type": "stream",
          "name": "stderr",
          "text": [
            "/usr/local/lib/python3.10/dist-packages/accelerate/accelerator.py:436: FutureWarning: Passing the following arguments to `Accelerator` is deprecated and will be removed in version 1.0 of Accelerate: dict_keys(['dispatch_batches', 'split_batches', 'even_batches', 'use_seedable_sampler']). Please pass an `accelerate.DataLoaderConfiguration` instead: \n",
            "dataloader_config = DataLoaderConfiguration(dispatch_batches=None, split_batches=False, even_batches=True, use_seedable_sampler=True)\n",
            "  warnings.warn(\n"
          ]
        }
      ]
    },
    {
      "cell_type": "code",
      "source": [
        "predictions, _, _ = trainer.predict(validation_dataset)\n",
        "start_logits, end_logits = predictions\n",
        "compute_metrics(start_logits, end_logits, validation_dataset, val_dataset2)§"
      ],
      "metadata": {
        "id": "v8zVojuyBO0b",
        "outputId": "cca29622-a209-4b22-ed25-de8165d1b325",
        "colab": {
          "base_uri": "https://localhost:8080/",
          "height": 67,
          "referenced_widgets": [
            "a7667418fecc431da637f1f40c770944",
            "69a4c2c9ff1f442a889a211afd50c622",
            "69f83a69a921470c9895e0e4e24d7f6a",
            "a755c30e26f8497c931aef53378236b4",
            "858a09c2808843e38f15fb0e3e02ef5d",
            "554514fdb77b40cfb0206f04bfa035d1",
            "066daadbff974fbba11a8c6ff771c44a",
            "303472e1991149d5886132a624a2b492",
            "1641ac33374c40cf822a49fd856ebebc",
            "e6172fbf5c4447e2bed3fdf2e3296449",
            "03b597eed6974df680a41cae75199edb"
          ]
        }
      },
      "execution_count": null,
      "outputs": [
        {
          "output_type": "display_data",
          "data": {
            "text/plain": [
              "<IPython.core.display.HTML object>"
            ],
            "text/html": []
          },
          "metadata": {}
        },
        {
          "output_type": "display_data",
          "data": {
            "text/plain": [
              "  0%|          | 0/582 [00:00<?, ?it/s]"
            ],
            "application/vnd.jupyter.widget-view+json": {
              "version_major": 2,
              "version_minor": 0,
              "model_id": "a7667418fecc431da637f1f40c770944"
            }
          },
          "metadata": {}
        },
        {
          "output_type": "execute_result",
          "data": {
            "text/plain": [
              "{'exact_match': 2.0618556701030926, 'f1': 9.415323986809298}"
            ]
          },
          "metadata": {},
          "execution_count": 55
        }
      ]
    },
    {
      "cell_type": "code",
      "source": [
        "from transformers import TrainerCallback, TrainerControl, TrainerState\n",
        "import matplotlib.pyplot as plt"
      ],
      "metadata": {
        "id": "-8nNUKPu6722"
      },
      "execution_count": null,
      "outputs": []
    },
    {
      "cell_type": "code",
      "source": [
        "class MetricsCaptureCallback(TrainerCallback):\n",
        "    \"\"\"\n",
        "    Capture the each epochs metrics for displaying the training process\n",
        "    \"\"\"\n",
        "    def __init__(self):\n",
        "        super().__init__()\n",
        "        self.metrics = {}  # Stores metrics in a dictionary\n",
        "\n",
        "    def on_evaluate(self, args: TrainingArguments, state: TrainerState, control: TrainerControl, metrics=None, **kwargs):\n",
        "        for key, value in metrics.items():\n",
        "            if key not in self.metrics:\n",
        "                self.metrics[key] = []\n",
        "            self.metrics[key].append(value)"
      ],
      "metadata": {
        "id": "4mt1lj7_9WZz"
      },
      "execution_count": null,
      "outputs": []
    },
    {
      "cell_type": "code",
      "source": [
        "# Initialize the callback\n",
        "metrics_capture = MetricsCaptureCallback()\n",
        "\n",
        "# Create a trainer instance for the training\n",
        "trainer.add_callback(metrics_capture)"
      ],
      "metadata": {
        "id": "JiiRZ7Db9ZfW"
      },
      "execution_count": null,
      "outputs": []
    },
    {
      "cell_type": "code",
      "source": [
        "# Proceed with training\n",
        "trainer.train()"
      ],
      "metadata": {
        "colab": {
          "base_uri": "https://localhost:8080/",
          "height": 162
        },
        "id": "H2-DsEOX9bgh",
        "outputId": "cf71c864-37f0-4693-e4bc-dfa477fe2e39"
      },
      "execution_count": null,
      "outputs": [
        {
          "output_type": "error",
          "ename": "NameError",
          "evalue": "name 'trainer' is not defined",
          "traceback": [
            "\u001b[0;31m---------------------------------------------------------------------------\u001b[0m",
            "\u001b[0;31mNameError\u001b[0m                                 Traceback (most recent call last)",
            "\u001b[0;32m<ipython-input-1-8d70dc2028ec>\u001b[0m in \u001b[0;36m<cell line: 2>\u001b[0;34m()\u001b[0m\n\u001b[1;32m      1\u001b[0m \u001b[0;31m# Proceed with training\u001b[0m\u001b[0;34m\u001b[0m\u001b[0;34m\u001b[0m\u001b[0m\n\u001b[0;32m----> 2\u001b[0;31m \u001b[0mtrainer\u001b[0m\u001b[0;34m.\u001b[0m\u001b[0mtrain\u001b[0m\u001b[0;34m(\u001b[0m\u001b[0;34m)\u001b[0m\u001b[0;34m\u001b[0m\u001b[0;34m\u001b[0m\u001b[0m\n\u001b[0m",
            "\u001b[0;31mNameError\u001b[0m: name 'trainer' is not defined"
          ]
        }
      ]
    },
    {
      "cell_type": "code",
      "source": [
        "trainer.push_to_hub(commit_message=\"Done with The Training\")"
      ],
      "metadata": {
        "id": "00g6CmdHGNJx"
      },
      "execution_count": null,
      "outputs": []
    },
    {
      "cell_type": "code",
      "source": [
        "# Function to plot the captured metrics\n",
        "def plot_metrics(metrics_dict, title='Model Performance Metrics Over Epochs'):\n",
        "    plt.figure(figsize=(12, 8))\n",
        "    for metric_name, values in metrics_dict.items():\n",
        "        plt.plot(values, label=metric_name)\n",
        "    plt.title(title)\n",
        "    plt.xlabel('Epochs')\n",
        "    plt.ylabel('Metric Value')\n",
        "    plt.legend()\n",
        "    plt.grid(True)\n",
        "    plt.show()"
      ],
      "metadata": {
        "id": "W6d1GOKw9eHO"
      },
      "execution_count": null,
      "outputs": []
    },
    {
      "cell_type": "code",
      "source": [
        "# Function to print the final scores\n",
        "def scores(metrics_dict):\n",
        "    print(\"Scores:\")\n",
        "    for metric_name, values in metrics_dict.items():\n",
        "        # Print the last value recorded for each metric, which is its final score\n",
        "        print(f\"{metric_name}: {values[-1]:.4f}\")"
      ],
      "metadata": {
        "id": "drvQkr6A9hud"
      },
      "execution_count": null,
      "outputs": []
    },
    {
      "cell_type": "code",
      "source": [
        "# Call the functions to plot your metrics and print final scores\n",
        "plot_metrics(metrics_capture.metrics)\n",
        "scores(metrics_capture.metrics)\n"
      ],
      "metadata": {
        "id": "BaHDYokg6y5q"
      },
      "execution_count": null,
      "outputs": []
    },
    {
      "cell_type": "code",
      "source": [
        "predictions, _, _ = trainer.predict(validation_dataset)\n",
        "start_logits, end_logits = predictions\n",
        "compute_metrics(start_logits, end_logits, validation_dataset, val_dataset2)"
      ],
      "metadata": {
        "id": "4elqwpQlGTOV"
      },
      "execution_count": null,
      "outputs": []
    },
    {
      "cell_type": "code",
      "source": [
        "from transformers import pipeline"
      ],
      "metadata": {
        "id": "LFw1xBcIGdKm"
      },
      "execution_count": null,
      "outputs": []
    },
    {
      "cell_type": "code",
      "source": [
        "model_checkpoint_1 = \"kgntmr/Capstone\"\n",
        "question_answerer = pipeline(\"question-answering\", model=model_checkpoint_1)"
      ],
      "metadata": {
        "id": "EbhFaKkBGevn"
      },
      "execution_count": null,
      "outputs": []
    },
    {
      "cell_type": "code",
      "source": [
        "df_train_1 = pd.read_csv('/content/drive/MyDrive/Colab Notebooks/subjqa-train.csv')\n",
        "df_test_1 = pd.read_csv('/content/drive/MyDrive/Colab Notebooks/subjqa-test.csv')"
      ],
      "metadata": {
        "id": "fyBTKr0zGqw4"
      },
      "execution_count": null,
      "outputs": []
    },
    {
      "cell_type": "code",
      "source": [
        "df_train_1.iloc[5].question"
      ],
      "metadata": {
        "id": "0Tp3USA4G0L0"
      },
      "execution_count": null,
      "outputs": []
    },
    {
      "cell_type": "code",
      "source": [
        "context = df_train_1.iloc[5].review\n",
        "question = df_train_1.iloc[5].question\n",
        "question_answerer(question=question, context=context)"
      ],
      "metadata": {
        "id": "o47HwyxqG3W4"
      },
      "execution_count": null,
      "outputs": []
    },
    {
      "cell_type": "code",
      "source": [
        "# Replace this with your own checkpoint\n",
        "model_checkpoint_cs = \"kgntmr/Capstone\"\n",
        "question_answerer_old = pipeline(\"question-answering\", model=model_checkpoint_cs)"
      ],
      "metadata": {
        "id": "Ew3x8O40G5M9"
      },
      "execution_count": null,
      "outputs": []
    },
    {
      "cell_type": "code",
      "source": [],
      "metadata": {
        "id": "5XxlqTuEHLh6"
      },
      "execution_count": null,
      "outputs": []
    }
  ]
}