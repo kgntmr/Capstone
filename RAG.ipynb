{
  "cells": [
    {
      "cell_type": "code",
      "source": [
        "from langchain import hub\n",
        "from langchain_community.document_loaders import WebBaseLoader\n",
        "from langchain_chroma import Chroma\n",
        "from langchain_core.output_parsers import StrOutputParser\n",
        "from langchain_core.runnables import RunnablePassthrough\n",
        "from langchain_openai import OpenAIEmbeddings\n",
        "from langchain_text_splitters import RecursiveCharacterTextSplitter\n",
        "import requests\n",
        "from langchain_openai import ChatOpenAI\n",
        "import bs4\n",
        "from bs4 import BeautifulSoup\n",
        "import getpass\n",
        "import os"
      ],
      "metadata": {
        "id": "D6c92KhTV6M2"
      },
      "execution_count": 1,
      "outputs": []
    },
    {
      "cell_type": "code",
      "source": [
        "os.environ[\"OPENAI_API_KEY\"] = getpass.getpass()"
      ],
      "metadata": {
        "colab": {
          "base_uri": "https://localhost:8080/"
        },
        "id": "ypLjHMfGWL3k",
        "outputId": "4376903d-670b-4ac4-d22c-2cbcf1f776c4"
      },
      "execution_count": 7,
      "outputs": [
        {
          "name": "stdout",
          "output_type": "stream",
          "text": [
            "··········\n"
          ]
        }
      ]
    },
    {
      "cell_type": "code",
      "source": [
        "class WebBaseLoader:\n",
        "    def __init__(self, web_paths, bs_kwargs):\n",
        "        self.web_paths = web_paths\n",
        "        self.bs_kwargs = bs_kwargs\n",
        "\n",
        "    def load(self):\n",
        "        results = {}\n",
        "        for url in self.web_paths:\n",
        "            try:\n",
        "                response = requests.get(url)\n",
        "                if response.status_code == 200:\n",
        "                    soup = BeautifulSoup(response.text, 'html.parser', parse_only=self.bs_kwargs['parse_only'])\n",
        "                    results[url] = soup.get_text()\n",
        "                else:\n",
        "                    results[url] = None\n",
        "            except requests.RequestException as e:\n",
        "                results[url] = str(e)\n",
        "        return results\n",
        "\n",
        "    def save_to_document(self, filename='document.txt'):\n",
        "        results = self.load()\n",
        "        with open(filename, 'w', encoding='utf-8') as file:\n",
        "            for url, text in results.items():\n",
        "                file.write(f'# URL: {url}\\n{text}\\n\\n')\n",
        "\n",
        "def fetch_website_text(urls, selector_attrs):\n",
        "    strainer = bs4.SoupStrainer(**selector_attrs)\n",
        "    loader = WebBaseLoader(\n",
        "        web_paths=urls,\n",
        "        bs_kwargs={\"parse_only\": strainer}\n",
        "    )\n",
        "    return loader.load()\n",
        "\n",
        "urls = [\n",
        "    \"https://www.theguardian.com/technology/2016/may/03/amazon-fresh-food-deliveries-understood-to-start-this-month\",\n",
        "    \"https://www.theguardian.com/media/2016/may/16/bbc-netflix-rival-itv-nbc-universal\",\n",
        "    \"https://www.theguardian.com/technology/2016/apr/28/amazon-most-profitable-quarter-sales-up-costs\",\n",
        "    \"https://www.theguardian.com/technology/2016/apr/26/amazon-kindle-oasis-review-luxury-e-reader\",\n",
        "    \"https://www.theguardian.com/environment/andes-to-the-amazon/2016/may/25/london-stock-exchange-amazon-deforestation\",\n",
        "    \"https://www.theguardian.com/media/2016/may/25/netflix-and-amazon-must-guarantee-20-of-content-is-european\",\n",
        "    \"https://www.theguardian.com/technology/2016/may/26/amazon-echo-virtual-assistant-child-privacy-law\",\n",
        "]\n",
        "selector_attrs1 = {\"class\": \"dcr-1qg0p6f\"}\n",
        "selector_attrs2 = {\"class\": \"dcr-1qg0p6f\"}\n",
        "selector_attrs3 = {\"class\": \"dcr-1qg0p6f\"}\n",
        "selector_attrs4 = {\"class\": \"dcr-1qg0p6f\"}\n",
        "selector_attrs5 = {\"class\": \"dcr-1qg0p6f\"}\n",
        "selector_attrs6 = {\"class\": \"dcr-1qg0p6f\"}\n",
        "selector_attrs7 = {\"class\": \"dcr-1qg0p6f\"}\n",
        "\n",
        "loader = WebBaseLoader(urls, {\"parse_only\": bs4.SoupStrainer(**selector_attrs1)})"
      ],
      "metadata": {
        "id": "knXqYsNzUXmt"
      },
      "execution_count": 3,
      "outputs": []
    },
    {
      "cell_type": "code",
      "source": [
        "docs = loader.load()"
      ],
      "metadata": {
        "id": "rQ6D98x3VHKO"
      },
      "execution_count": 4,
      "outputs": []
    },
    {
      "cell_type": "code",
      "source": [
        "class RecursiveCharacterTextSplitter:\n",
        "    def __init__(self, chunk_size, chunk_overlap):\n",
        "        self.chunk_size = chunk_size\n",
        "        self.chunk_overlap = chunk_overlap\n",
        "\n",
        "    def split_document(self, text):\n",
        "        \"\"\" Split a single document based on chunk size and overlap. \"\"\"\n",
        "        return [text[i:i + self.chunk_size] for i in range(0, len(text), self.chunk_size - self.chunk_overlap)]\n",
        "\n",
        "    def split_documents(self, documents):\n",
        "        \"\"\" Split multiple documents. Documents can be either a list of strings or objects with 'page_content' attribute. \"\"\"\n",
        "        splits = []\n",
        "        for doc in documents:\n",
        "            # Check if 'doc' is a string or has attribute 'page_content'\n",
        "            if isinstance(doc, str):\n",
        "                text = doc  # Treat doc as plain text\n",
        "            else:\n",
        "                text = getattr(doc, 'page_content', '')\n",
        "            splits.extend(self.split_document(text))\n",
        "        return splits\n",
        "\n",
        "text_splitter = RecursiveCharacterTextSplitter(chunk_size=1000, chunk_overlap=200)\n",
        "splits = text_splitter.split_documents(docs)"
      ],
      "metadata": {
        "id": "t-I2WgxmVq5C"
      },
      "execution_count": 5,
      "outputs": []
    },
    {
      "cell_type": "code",
      "source": [
        "# Embed into the db\n",
        "vectorstore = Chroma.from_texts(texts=splits, embedding=OpenAIEmbeddings())"
      ],
      "metadata": {
        "id": "FNyfyFNqVzvg"
      },
      "execution_count": 8,
      "outputs": []
    },
    {
      "cell_type": "code",
      "source": [
        "# Set up the retriever\n",
        "retriever = vectorstore.as_retriever()\n",
        "# Prompt from langchain hub\n",
        "prompt = hub.pull(\"rlm/rag-prompt\")\n",
        "# LLM\n",
        "llm = ChatOpenAI(model=\"gpt-3.5-turbo-0125\")"
      ],
      "metadata": {
        "id": "jH1jGCZqVztU"
      },
      "execution_count": 9,
      "outputs": []
    },
    {
      "cell_type": "code",
      "source": [
        "def format_strings(documents):\n",
        "    \"\"\"Formats a list of documents by extracting 'page_content' from dictionary or directly using string documents.\"\"\"\n",
        "    formatted_documents = []\n",
        "    for doc in documents:\n",
        "        if isinstance(doc, str):\n",
        "            formatted_documents.append(doc)\n",
        "        elif isinstance(doc, dict):\n",
        "            # Check and extract 'page_content'\n",
        "            formatted_documents.append(doc.get('page_content', ''))\n",
        "        else:\n",
        "            # Fallback or default string if the document type is not supported\n",
        "            formatted_documents.append('')\n",
        "    return \"\\n\\n\".join(formatted_documents)\n",
        "\n",
        "formatted_context = format_strings(docs)  # Format the loaded documents\n",
        "#question = \"What is the story about Amazon?\"\n",
        "\n",
        "rag_chain = (\n",
        "    {\"context\": lambda x: retriever, \"question\": RunnablePassthrough()} | prompt | llm\n",
        ")"
      ],
      "metadata": {
        "id": "9OqG1QGDVzrA"
      },
      "execution_count": 10,
      "outputs": []
    },
    {
      "cell_type": "code",
      "source": [
        "def main():\n",
        "    while True:\n",
        "        question = input(\"Ask a question about Amazon between April and June 2016 (or type 'exit' to quit): \")\n",
        "        if question.lower() == 'exit':\n",
        "            break\n",
        "        response = rag_chain.invoke(question)\n",
        "        response_str = str(response)\n",
        "        content_start = response_str.find(\"content='\") + len(\"content='\")\n",
        "        content_end = response_str.find(\"'\", content_start) + 1\n",
        "        content = response_str[content_start:content_end]\n",
        "        print(\"Response:\", content)\n",
        "\n",
        "if __name__ == \"__main__\":\n",
        "    main()"
      ],
      "metadata": {
        "colab": {
          "base_uri": "https://localhost:8080/"
        },
        "id": "4BEVHtBsmMcF",
        "outputId": "84a6ee23-c2de-49cb-9857-ee15fec87c6f"
      },
      "execution_count": null,
      "outputs": [
        {
          "output_type": "stream",
          "name": "stdout",
          "text": [
            "Ask a question about Amazon between April and June 2016 (or type 'exit' to quit): What are the news about Amazon between April and June 2016?\n",
            "Response: \"Amazon reported its most profitable quarter in April 2016 with increased sales and lower costs. In May 2016, Amazon was understood to start fresh food deliveries. Additionally, in the same month, there were concerns about Amazon'\n",
            "Ask a question about Amazon between April and June 2016 (or type 'exit' to quit): Tell me more about Amazon profitable quarter\n",
            "Response: \"Amazon reported its most profitable quarter in April 2016, with sales up and costs down. The increase in profits was attributed to strong demand for Amazon Web Services and growth in its Prime program. This success came despite concerns about the impact of Amazon'\n",
            "Ask a question about Amazon between April and June 2016 (or type 'exit' to quit): Why is the most profitable quarter?\n",
            "Response: The most profitable quarter is typically the one where sales are high and costs are controlled. Amazon experienced its most profitable quarter with increased sales and effective cost management strategies. The details of why a specific quarter is the most profitable can vary based on company performance and market conditions.'\n",
            "Ask a question about Amazon between April and June 2016 (or type 'exit' to quit): Tell me more about Amazon's new launch about fresh food deliveries\n",
            "Response: \"Amazon'\n",
            "Ask a question about Amazon between April and June 2016 (or type 'exit' to quit): Tell me more about Amazon about fresh food deliveries\n",
            "Response: Amazon Fresh is a service that offers fresh food deliveries. It was reported to start in May 2016. The service allows customers to order groceries online and have them delivered to their homes.'\n"
          ]
        }
      ]
    }
  ],
  "metadata": {
    "colab": {
      "name": "Welcome To Colab",
      "provenance": []
    },
    "kernelspec": {
      "display_name": "Python 3",
      "name": "python3"
    }
  },
  "nbformat": 4,
  "nbformat_minor": 0
}