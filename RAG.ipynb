{
  "cells": [
    {
      "cell_type": "code",
      "execution_count": 1,
      "metadata": {
        "id": "D6c92KhTV6M2"
      },
      "outputs": [],
      "source": [
        "from langchain import hub\n",
        "from langchain_community.document_loaders import WebBaseLoader\n",
        "from langchain_chroma import Chroma\n",
        "from langchain_core.output_parsers import StrOutputParser\n",
        "from langchain_core.runnables import RunnablePassthrough\n",
        "from langchain_openai import OpenAIEmbeddings\n",
        "from langchain_text_splitters import RecursiveCharacterTextSplitter\n",
        "import requests\n",
        "from langchain_openai import ChatOpenAI\n",
        "import bs4\n",
        "from bs4 import BeautifulSoup\n",
        "import getpass\n",
        "import os"
      ]
    },
    {
      "cell_type": "code",
      "execution_count": 2,
      "metadata": {
        "colab": {
          "base_uri": "https://localhost:8080/"
        },
        "id": "ypLjHMfGWL3k",
        "outputId": "95b99ff0-2746-425d-cc57-473f66005b6f"
      },
      "outputs": [],
      "source": [
        "os.environ[\"OPENAI_API_KEY\"] = getpass.getpass()"
      ]
    },
    {
      "cell_type": "code",
      "execution_count": 3,
      "metadata": {
        "id": "knXqYsNzUXmt"
      },
      "outputs": [],
      "source": [
        "class WebBaseLoader:\n",
        "    def __init__(self, web_paths, bs_kwargs):\n",
        "        self.web_paths = web_paths\n",
        "        self.bs_kwargs = bs_kwargs\n",
        "\n",
        "    def load(self):\n",
        "        results = {}\n",
        "        for url in self.web_paths:\n",
        "            try:\n",
        "                response = requests.get(url)\n",
        "                if response.status_code == 200:\n",
        "                    soup = BeautifulSoup(response.text, 'html.parser', parse_only=self.bs_kwargs['parse_only'])\n",
        "                    results[url] = soup.get_text()\n",
        "                else:\n",
        "                    results[url] = None\n",
        "            except requests.RequestException as e:\n",
        "                results[url] = str(e)\n",
        "        return results\n",
        "\n",
        "    def save_to_document(self, filename='document.txt'):\n",
        "        results = self.load()\n",
        "        with open(filename, 'w', encoding='utf-8') as file:\n",
        "            for url, text in results.items():\n",
        "                file.write(f'# URL: {url}\\n{text}\\n\\n')\n",
        "\n",
        "def fetch_website_text(urls, selector_attrs):\n",
        "    strainer = bs4.SoupStrainer(**selector_attrs)\n",
        "    loader = WebBaseLoader(\n",
        "        web_paths=urls,\n",
        "        bs_kwargs={\"parse_only\": strainer}\n",
        "    )\n",
        "    return loader.load()\n",
        "\n",
        "urls = [\n",
        "    \"https://www.theguardian.com/commentisfree/2016/jun/10/amazon-fresh-culture-instant-gratification\",\n",
        "    \"https://www.theguardian.com/technology/2016/dec/11/amazon-accused-of-intolerable-conditions-at-scottish-warehouse\"\n",
        "]\n",
        "selector_attrs1 = {\"class_\":\"dcr-1bgz3hb\"}\n",
        "selector_attrs2 = {\"class\": \"dcr-iy9ec7\"}\n",
        "\n",
        "loader = WebBaseLoader(urls, {\"parse_only\": bs4.SoupStrainer(**selector_attrs1)})"
      ]
    },
    {
      "cell_type": "code",
      "execution_count": 4,
      "metadata": {
        "id": "rQ6D98x3VHKO"
      },
      "outputs": [],
      "source": [
        "docs = loader.load()"
      ]
    },
    {
      "cell_type": "code",
      "execution_count": 5,
      "metadata": {
        "id": "t-I2WgxmVq5C"
      },
      "outputs": [],
      "source": [
        "class RecursiveCharacterTextSplitter:\n",
        "    def __init__(self, chunk_size, chunk_overlap):\n",
        "        self.chunk_size = chunk_size\n",
        "        self.chunk_overlap = chunk_overlap\n",
        "\n",
        "    def split_document(self, text):\n",
        "        \"\"\" Split a single document based on chunk size and overlap. \"\"\"\n",
        "        return [text[i:i + self.chunk_size] for i in range(0, len(text), self.chunk_size - self.chunk_overlap)]\n",
        "\n",
        "    def split_documents(self, documents):\n",
        "        \"\"\" Split multiple documents. Documents can be either a list of strings or objects with 'page_content' attribute. \"\"\"\n",
        "        splits = []\n",
        "        for doc in documents:\n",
        "            # Check if 'doc' is a string or has attribute 'page_content'\n",
        "            if isinstance(doc, str):\n",
        "                text = doc  # Treat doc as plain text\n",
        "            else:\n",
        "                text = getattr(doc, 'page_content', '')\n",
        "            splits.extend(self.split_document(text))\n",
        "        return splits\n",
        "\n",
        "text_splitter = RecursiveCharacterTextSplitter(chunk_size=1000, chunk_overlap=200)\n",
        "splits = text_splitter.split_documents(docs)"
      ]
    },
    {
      "cell_type": "code",
      "execution_count": null,
      "metadata": {
        "id": "FNyfyFNqVzvg"
      },
      "outputs": [],
      "source": [
        "# Embed into the db\n",
        "vectorstore = Chroma.from_texts(texts=splits, embedding=OpenAIEmbeddings())"
      ]
    },
    {
      "cell_type": "code",
      "execution_count": null,
      "metadata": {
        "id": "jH1jGCZqVztU"
      },
      "outputs": [],
      "source": [
        "# Set up the retriever\n",
        "retriever = vectorstore.as_retriever()\n",
        "# Prompt from langchain hub\n",
        "prompt = hub.pull(\"rlm/rag-prompt\")\n",
        "# LLM\n",
        "llm = ChatOpenAI(model=\"gpt-3.5-turbo-0125\")"
      ]
    },
    {
      "cell_type": "code",
      "execution_count": null,
      "metadata": {
        "id": "9OqG1QGDVzrA"
      },
      "outputs": [],
      "source": [
        "def format_strings(documents):\n",
        "    \"\"\"Formats a list of documents by extracting 'page_content' from dictionary or directly using string documents.\"\"\"\n",
        "    formatted_documents = []\n",
        "    for doc in documents:\n",
        "        if isinstance(doc, str):\n",
        "            formatted_documents.append(doc)\n",
        "        elif isinstance(doc, dict):\n",
        "            # Check and extract 'page_content'\n",
        "            formatted_documents.append(doc.get('page_content', ''))\n",
        "        else:\n",
        "            # Fallback or default string if the document type is not supported\n",
        "            formatted_documents.append('')\n",
        "    return \"\\n\\n\".join(formatted_documents)\n",
        "\n",
        "formatted_context = format_strings(docs)  # Format the loaded documents\n",
        "#question = \"What is the story about Amazon?\"\n",
        "\n",
        "rag_chain = (\n",
        "    {\"context\": lambda x: retriever, \"question\": RunnablePassthrough()} | prompt | llm\n",
        ")"
      ]
    },
    {
      "cell_type": "code",
      "execution_count": null,
      "metadata": {
        "colab": {
          "base_uri": "https://localhost:8080/",
          "height": 469
        },
        "id": "4BEVHtBsmMcF",
        "outputId": "e2f111af-befa-49c9-d49c-5034f8947f2c"
      },
      "outputs": [
        {
          "name": "stdout",
          "output_type": "stream",
          "text": [
            "Ask a question about Amazon between April and June 2016 (or type 'exit' to quit): WHAT HAPPENED TO THE AMAZON WAREHOUSE AND WAREHOUSE IN SCOTLAND?\n",
            "Response: Workers at the Amazon warehouse in Scotland were reportedly subjected to intolerable conditions, according to accusations. The company has faced criticism regarding its treatment of employees in various locations. Specific details of what happened at the Amazon warehouse in Scotland were not provided in the retrieved context.'\n",
            "Ask a question about Amazon between April and June 2016 (or type 'exit' to quit): CAN YOU GIVE ME THE LINK ABOUT THIS NEW?\n",
            "Response: Here are two links related to Amazon: \\n1. https://www.theguardian.com/commentisfree/2016/jun/10/amazon-fresh-culture-instant-gratification\\n2. https://www.theguardian.com/technology/2016/dec/11/amazon-accused-of-intolerable-conditions-at-scottish-warehouse'\n",
            "Ask a question about Amazon between April and June 2016 (or type 'exit' to quit): QUIT\n",
            "Response: \"I'\n"
          ]
        },
        {
          "ename": "KeyboardInterrupt",
          "evalue": "Interrupted by user",
          "output_type": "error",
          "traceback": [
            "\u001b[0;31m---------------------------------------------------------------------------\u001b[0m",
            "\u001b[0;31mKeyboardInterrupt\u001b[0m                         Traceback (most recent call last)",
            "\u001b[0;32m<ipython-input-56-2529ea793b43>\u001b[0m in \u001b[0;36m<cell line: 13>\u001b[0;34m()\u001b[0m\n\u001b[1;32m     12\u001b[0m \u001b[0;34m\u001b[0m\u001b[0m\n\u001b[1;32m     13\u001b[0m \u001b[0;32mif\u001b[0m \u001b[0m__name__\u001b[0m \u001b[0;34m==\u001b[0m \u001b[0;34m\"__main__\"\u001b[0m\u001b[0;34m:\u001b[0m\u001b[0;34m\u001b[0m\u001b[0;34m\u001b[0m\u001b[0m\n\u001b[0;32m---> 14\u001b[0;31m     \u001b[0mmain\u001b[0m\u001b[0;34m(\u001b[0m\u001b[0;34m)\u001b[0m\u001b[0;34m\u001b[0m\u001b[0;34m\u001b[0m\u001b[0m\n\u001b[0m",
            "\u001b[0;32m<ipython-input-56-2529ea793b43>\u001b[0m in \u001b[0;36mmain\u001b[0;34m()\u001b[0m\n\u001b[1;32m      1\u001b[0m \u001b[0;32mdef\u001b[0m \u001b[0mmain\u001b[0m\u001b[0;34m(\u001b[0m\u001b[0;34m)\u001b[0m\u001b[0;34m:\u001b[0m\u001b[0;34m\u001b[0m\u001b[0;34m\u001b[0m\u001b[0m\n\u001b[1;32m      2\u001b[0m     \u001b[0;32mwhile\u001b[0m \u001b[0;32mTrue\u001b[0m\u001b[0;34m:\u001b[0m\u001b[0;34m\u001b[0m\u001b[0;34m\u001b[0m\u001b[0m\n\u001b[0;32m----> 3\u001b[0;31m         \u001b[0mquestion\u001b[0m \u001b[0;34m=\u001b[0m \u001b[0minput\u001b[0m\u001b[0;34m(\u001b[0m\u001b[0;34m\"Ask a question about Amazon between April and June 2016 (or type 'exit' to quit): \"\u001b[0m\u001b[0;34m)\u001b[0m\u001b[0;34m\u001b[0m\u001b[0;34m\u001b[0m\u001b[0m\n\u001b[0m\u001b[1;32m      4\u001b[0m         \u001b[0;32mif\u001b[0m \u001b[0mquestion\u001b[0m\u001b[0;34m.\u001b[0m\u001b[0mlower\u001b[0m\u001b[0;34m(\u001b[0m\u001b[0;34m)\u001b[0m \u001b[0;34m==\u001b[0m \u001b[0;34m'exit'\u001b[0m\u001b[0;34m:\u001b[0m\u001b[0;34m\u001b[0m\u001b[0;34m\u001b[0m\u001b[0m\n\u001b[1;32m      5\u001b[0m             \u001b[0;32mbreak\u001b[0m\u001b[0;34m\u001b[0m\u001b[0;34m\u001b[0m\u001b[0m\n",
            "\u001b[0;32m/usr/local/lib/python3.10/dist-packages/ipykernel/kernelbase.py\u001b[0m in \u001b[0;36mraw_input\u001b[0;34m(self, prompt)\u001b[0m\n\u001b[1;32m    849\u001b[0m                 \u001b[0;34m\"raw_input was called, but this frontend does not support input requests.\"\u001b[0m\u001b[0;34m\u001b[0m\u001b[0;34m\u001b[0m\u001b[0m\n\u001b[1;32m    850\u001b[0m             )\n\u001b[0;32m--> 851\u001b[0;31m         return self._input_request(str(prompt),\n\u001b[0m\u001b[1;32m    852\u001b[0m             \u001b[0mself\u001b[0m\u001b[0;34m.\u001b[0m\u001b[0m_parent_ident\u001b[0m\u001b[0;34m,\u001b[0m\u001b[0;34m\u001b[0m\u001b[0;34m\u001b[0m\u001b[0m\n\u001b[1;32m    853\u001b[0m             \u001b[0mself\u001b[0m\u001b[0;34m.\u001b[0m\u001b[0m_parent_header\u001b[0m\u001b[0;34m,\u001b[0m\u001b[0;34m\u001b[0m\u001b[0;34m\u001b[0m\u001b[0m\n",
            "\u001b[0;32m/usr/local/lib/python3.10/dist-packages/ipykernel/kernelbase.py\u001b[0m in \u001b[0;36m_input_request\u001b[0;34m(self, prompt, ident, parent, password)\u001b[0m\n\u001b[1;32m    893\u001b[0m             \u001b[0;32mexcept\u001b[0m \u001b[0mKeyboardInterrupt\u001b[0m\u001b[0;34m:\u001b[0m\u001b[0;34m\u001b[0m\u001b[0;34m\u001b[0m\u001b[0m\n\u001b[1;32m    894\u001b[0m                 \u001b[0;31m# re-raise KeyboardInterrupt, to truncate traceback\u001b[0m\u001b[0;34m\u001b[0m\u001b[0;34m\u001b[0m\u001b[0m\n\u001b[0;32m--> 895\u001b[0;31m                 \u001b[0;32mraise\u001b[0m \u001b[0mKeyboardInterrupt\u001b[0m\u001b[0;34m(\u001b[0m\u001b[0;34m\"Interrupted by user\"\u001b[0m\u001b[0;34m)\u001b[0m \u001b[0;32mfrom\u001b[0m \u001b[0;32mNone\u001b[0m\u001b[0;34m\u001b[0m\u001b[0;34m\u001b[0m\u001b[0m\n\u001b[0m\u001b[1;32m    896\u001b[0m             \u001b[0;32mexcept\u001b[0m \u001b[0mException\u001b[0m \u001b[0;32mas\u001b[0m \u001b[0me\u001b[0m\u001b[0;34m:\u001b[0m\u001b[0;34m\u001b[0m\u001b[0;34m\u001b[0m\u001b[0m\n\u001b[1;32m    897\u001b[0m                 \u001b[0mself\u001b[0m\u001b[0;34m.\u001b[0m\u001b[0mlog\u001b[0m\u001b[0;34m.\u001b[0m\u001b[0mwarning\u001b[0m\u001b[0;34m(\u001b[0m\u001b[0;34m\"Invalid Message:\"\u001b[0m\u001b[0;34m,\u001b[0m \u001b[0mexc_info\u001b[0m\u001b[0;34m=\u001b[0m\u001b[0;32mTrue\u001b[0m\u001b[0;34m)\u001b[0m\u001b[0;34m\u001b[0m\u001b[0;34m\u001b[0m\u001b[0m\n",
            "\u001b[0;31mKeyboardInterrupt\u001b[0m: Interrupted by user"
          ]
        }
      ],
      "source": [
        "def main():\n",
        "    while True:\n",
        "        question = input(\"Ask a question about Amazon between April and June 2016 (or type 'exit' to quit): \")\n",
        "        if question.lower() == 'exit':\n",
        "            break\n",
        "        response = rag_chain.invoke(question)\n",
        "        response_str = str(response)\n",
        "        content_start = response_str.find(\"content='\") + len(\"content='\")\n",
        "        content_end = response_str.find(\"'\", content_start) + 1\n",
        "        content = response_str[content_start:content_end]\n",
        "        print(\"Response:\", content)\n",
        "\n",
        "if __name__ == \"__main__\":\n",
        "    main()"
      ]
    }
  ],
  "metadata": {
    "colab": {
      "name": "Welcome To Colab",
      "provenance": []
    },
    "kernelspec": {
      "display_name": "Python 3",
      "name": "python3"
    },
    "language_info": {
      "codemirror_mode": {
        "name": "ipython",
        "version": 3
      },
      "file_extension": ".py",
      "mimetype": "text/x-python",
      "name": "python",
      "nbconvert_exporter": "python",
      "pygments_lexer": "ipython3",
      "version": "3.12.3"
    }
  },
  "nbformat": 4,
  "nbformat_minor": 0
}
