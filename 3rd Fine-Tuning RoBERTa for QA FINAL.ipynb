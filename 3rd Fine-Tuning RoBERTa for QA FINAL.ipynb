{
 "cells": [
  {
   "cell_type": "markdown",
   "metadata": {},
   "source": [
    "## Data Collection 🛠\n",
    "\n",
    "The subjQA dataset is constructed based on publicly available review datasets. Specifically, the movies, books, electronics, and grocery categories are constructed using reviews from the Amazon Review dataset. The TripAdvisor category, as the name suggests, is constructed using reviews from TripAdvisor which can be found [here](link). Finally, the restaurants category is constructed using the Yelp Dataset which is also publicly available.\n",
    "\n",
    "The process of constructing SubjQA is discussed in detail in our paper. In a nutshell, the dataset construction consists of the following steps:\n",
    "\n",
    "1. First, all opinions expressed in reviews are extracted. In the pipeline, each opinion is modeled as a (modifier, aspect) pair which is a pair of spans where the former describes the latter. *(e.g., \"good, hotel\", and \"terrible, acting\" are a few examples of extracted opinions)*.\n",
    "2. Using Matrix Factorization techniques, implication relationships between different expressed opinions are mined. For instance, the system mines that \"responsive keys\" implies \"good keyboard\". In our pipeline, we refer to the conclusion of an implication (i.e., \"good keyboard\" in this example) as the query opinion, and we refer to the premise (i.e., \"responsive keys\") as its neighboring opinion.\n",
    "3. Annotators are then asked to write a question based on query opinions. For instance, given \"good keyboard\" as the query opinion, they might write \"Is this keyboard any good?\"\n",
    "4. Each question written based on a query opinion is then paired with a review that mentions its neighboring opinion. In our example, that would be a review that mentions \"responsive keys\".\n",
    "5. The question and review pairs are presented to annotators to select the correct answer span, and rate the subjectivity level of the question as well as the subjectivity level of the highlighted answer span."
   ]
  },
  {
   "cell_type": "markdown",
   "metadata": {},
   "source": [
    "## Data Format 📊\n",
    "\n",
    "All files are in standard CSV format, and they consist of the following columns:\n",
    "\n",
    "- **domain**: The category/domain of the review (e.g., hotels, books, ...).\n",
    "- **question**: The question (written based on a query opinion).\n",
    "- **review**: The review (that mentions the neighboring opinion).\n",
    "- **human_ans_spans**: The span labeled by annotators as the answer.\n",
    "- **human_ans_indices**: The (character-level) start and end indices of the answer span highlighted by annotators.\n",
    "- **question_subj_level**: The subjectivity level of the question (on a 1 to 5 scale with 1 being the most subjective).\n",
    "- **ques_subj_score**: The subjectivity score of the question computed using the TextBlob package.\n",
    "- **is_ques_subjective**: A boolean subjectivity label derived from question_subj_level (i.e., scores below 4 are considered as subjective).\n",
    "- **answer_subj_level**: The subjectivity level of the answer span (on a 1 to 5 scale with 5 being the most subjective).\n",
    "- **ans_subj_score**: The subjectivity score of the answer span computed using the TextBlob package.\n",
    "- **is_ans_subjective**: A boolean subjectivity label derived from answer_subj_level (i.e., scores below 4 are considered as subjective).\n",
    "- **nn_mod**: The modifier of the neighboring opinion (which appears in the review).\n",
    "- **nn_asp**: The aspect of the neighboring opinion (which appears in the review).\n",
    "- **query_mod**: The modifier of the query opinion (around which a question is manually written).\n",
    "- **query_asp**: The aspect of the query opinion (around which a question is manually written).\n",
    "- **item_id**: The id of the item/business discussed in the review.\n",
    "- **review_id**: A unique id associated with the review.\n",
    "- **q_review_id**: A unique id assigned to the question-review pair.\n",
    "- **q_reviews_id**: A unique id assigned to all question-review pairs with a shared question."
   ]
  },
  {
   "cell_type": "markdown",
   "metadata": {},
   "source": [
    "### Citation\n",
    "Johannes Bjerva, Nikita Bhutani, Behzad Golahn, Wang-Chiew Tan, and Isabelle Augenstein. (2020). SubjQA: A Dataset for Subjectivity and Review Comprehension. In *Proceedings of the 2020 Conference on Empirical Methods in Natural Language Processing*. Association for Computational Linguistics."
   ]
  },
  {
   "cell_type": "markdown",
   "metadata": {},
   "source": [
    "# RoBERTa - SQuAD 2.0 and fine-tuning with SubjQA for Question Answering:\n",
    "\n",
    "When answering questions about \"Financial News,\" fine-tuning a model such as RoBERTa - SQuAD 2.0 on a dataset with SubjQA could offer advantages, particularly since SubjQA involves subjectivity and opinion, which can be relevant in the analysis of financial news articles.\n",
    "\n",
    "- Nuanced Comprehension:\n",
    "Factual reporting and professional opinion or analysis are frequently combined in financial news. A model that has been refined on SubjQA—a set of subjective questions and answers—may be more adept at deciphering the subtleties of this kind of language and might even offer more perceptive answers than extractive ones.\n",
    "\n",
    "- Handling Ambiguity:\n",
    "With financial news, not every question can be directly answered by a given text, so the ability to determine when a question is answerable or not—a skill honed on SQuAD 2.0—is advantageous. When data necessary to support a conclusion is missing from the text, the model can highlight those instances.\n",
    "\n",
    "- Aspect-Based Analysis:\n",
    "The model can be assisted in identifying and focusing on important aspects within financial news, such as the performance of a specific stock, opinions on market trends, or the impact of economic policies, by using SubjQA's aspect-based opinions focus. These elements are crucial to financial analysis.\n",
    "\n",
    "- Complex Reasoning:\n",
    "Strong language comprehension skills that RoBERTa - SQuaD 2.0 has developed via refinement on a variety of datasets may be useful for the sophisticated reasoning needed for financial news, such as interpreting intricate relationships between various market variables or speculating on the effects of economic events.\n",
    "\n",
    "-  Subjectivity Interpretation:\n",
    "Inquiries concerning financial news frequently involve interpreting subjectivity and sentiment, such as determining the mood of the market or investor confidence. The model may be better equipped to produce responses that take into account these more nuanced aspects of financial reporting as a result of its exposure to subjective data in SubjQA.\n",
    "\n",
    "It's advantageous to have a model trained on diverse datasets, including those involving subjective language, such as SubjQA. Even though the model itself is trained with CC News, BookCorpus, and Wikipedia, further training to extract more precise answers from the context might be necessary. Additionally, the question-answering model is available for use on Hugging Face;
*** https://huggingface.co/kgntmr/RoBERTa-SQuAD2.0-SubjQA ***"
   ]
  },
  {
   "cell_type": "code",
   "execution_count": 1,
   "metadata": {},
   "outputs": [],
   "source": [
    "# Standard Libraries\n",
    "import collections\n",
    "import numpy as np\n",
    "import os\n",
    "\n",
    "# Visualization Libraries\n",
    "import plotly.express as px\n",
    "from plotly.subplots import make_subplots\n",
    "import plotly.graph_objects as go\n",
    "\n",
    "# Deep Learning and Computation\n",
    "import torch\n",
    "from tqdm.auto import tqdm\n",
    "\n",
    "# Machine Learning Metrics\n",
    "from sklearn.metrics import accuracy_score\n",
    "\n",
    "# Data Loading and Acceleration Utilities\n",
    "from datasets import load_dataset\n",
    "import datasets\n",
    "from accelerate import Accelerator\n",
    "import evaluate\n",
    "\n",
    "# Transformers Library for NLP\n",
    "from transformers import (\n",
    "    AutoTokenizer,\n",
    "    AutoModelForQuestionAnswering,\n",
    "    Trainer,\n",
    "    pipeline,\n",
    "    TrainingArguments,\n",
    "    TrainerCallback\n",
    ")"
   ]
  },
  {
   "cell_type": "code",
   "execution_count": 2,
   "metadata": {},
   "outputs": [],
   "source": [
    "model = \"deepset/roberta-base-squad2\"\n",
    "tokenizer = AutoTokenizer.from_pretrained(model)"
   ]
  },
  {
   "cell_type": "code",
   "execution_count": 3,
   "metadata": {},
   "outputs": [
    {
     "data": {
      "text/plain": [
       "True"
      ]
     },
     "execution_count": 3,
     "metadata": {},
     "output_type": "execute_result"
    }
   ],
   "source": [
    "# A fast tokenizer is optimized for speed and efficiency in tokenizing text\n",
    "# Often implement faster processing, useful for large-scale NLP tasks.\n",
    "tokenizer.is_fast"
   ]
  },
  {
   "cell_type": "code",
   "execution_count": 4,
   "metadata": {},
   "outputs": [],
   "source": [
    "import pandas as pd\n",
    "df_train = pd.read_csv('subjqa-train.csv')\n",
    "df_test = pd.read_csv('subjqa-test.csv')"
   ]
  },
  {
   "cell_type": "code",
   "execution_count": 5,
   "metadata": {},
   "outputs": [],
   "source": [
    "# Define the maximum length and stride parameters for tokenization\n",
    "max_length = 384  # Maximum length of tokenized sequences, commonly used for a balance between context and memory usage\n",
    "stride = 128  # Stride determines overlap between tokenized sequences, providing context while avoiding redundancy"
   ]
  },
  {
   "cell_type": "code",
   "execution_count": 6,
   "metadata": {},
   "outputs": [],
   "source": [
    "def preprocess_training_examples(examples):\n",
    "    questions = [q.strip() for q in examples[\"question\"]]\n",
    "    inputs = tokenizer(\n",
    "        questions,\n",
    "        examples[\"context\"],\n",
    "        max_length=max_length,\n",
    "        truncation=\"only_second\",\n",
    "        stride=stride,\n",
    "        return_overflowing_tokens=True,\n",
    "        return_offsets_mapping=True,\n",
    "        padding=\"max_length\",\n",
    "    )\n",
    "\n",
    "    offset_mapping = inputs.pop(\"offset_mapping\")\n",
    "    sample_map = inputs.pop(\"overflow_to_sample_mapping\")\n",
    "    answers = examples[\"answers\"]\n",
    "    start_positions = []\n",
    "    end_positions = []\n",
    "\n",
    "    for i, offset in enumerate(offset_mapping):\n",
    "        sample_idx = sample_map[i]\n",
    "        answer = answers[sample_idx]\n",
    "        start_char = answer[\"answer_start\"][0]\n",
    "        end_char = answer[\"answer_start\"][0] + len(answer[\"text\"][0])\n",
    "        sequence_ids = inputs.sequence_ids(i)\n",
    "\n",
    "        # Find the start and end of the context\n",
    "        idx = 0\n",
    "        while sequence_ids[idx] != 1:\n",
    "            idx += 1\n",
    "        context_start = idx\n",
    "        while sequence_ids[idx] == 1:\n",
    "            idx += 1\n",
    "        context_end = idx - 1\n",
    "\n",
    "        # If the answer is not fully inside the context, label is (0, 0)\n",
    "        if offset[context_start][0] > start_char or offset[context_end][1] < end_char:\n",
    "            start_positions.append(0)\n",
    "            end_positions.append(0)\n",
    "        else:\n",
    "            # Otherwise it's the start and end token positions\n",
    "            idx = context_start\n",
    "            while idx <= context_end and offset[idx][0] <= start_char:\n",
    "                idx += 1\n",
    "            start_positions.append(idx - 1)\n",
    "\n",
    "            idx = context_end\n",
    "            while idx >= context_start and offset[idx][1] >= end_char:\n",
    "                idx -= 1\n",
    "            end_positions.append(idx + 1)\n",
    "\n",
    "    inputs[\"start_positions\"] = start_positions\n",
    "    inputs[\"end_positions\"] = end_positions\n",
    "    return inputs"
   ]
  },
  {
   "cell_type": "code",
   "execution_count": 7,
   "metadata": {},
   "outputs": [
    {
     "data": {
      "text/html": [
       "<div>\n",
       "<style scoped>\n",
       "    .dataframe tbody tr th:only-of-type {\n",
       "        vertical-align: middle;\n",
       "    }\n",
       "\n",
       "    .dataframe tbody tr th {\n",
       "        vertical-align: top;\n",
       "    }\n",
       "\n",
       "    .dataframe thead th {\n",
       "        text-align: right;\n",
       "    }\n",
       "</style>\n",
       "<table border=\"1\" class=\"dataframe\">\n",
       "  <thead>\n",
       "    <tr style=\"text-align: right;\">\n",
       "      <th></th>\n",
       "      <th>item_id</th>\n",
       "      <th>domain</th>\n",
       "      <th>nn_mod</th>\n",
       "      <th>nn_asp</th>\n",
       "      <th>query_mod</th>\n",
       "      <th>query_asp</th>\n",
       "      <th>q_review_id</th>\n",
       "      <th>q_reviews_id</th>\n",
       "      <th>question</th>\n",
       "      <th>question_subj_level</th>\n",
       "      <th>ques_subj_score</th>\n",
       "      <th>is_ques_subjective</th>\n",
       "      <th>review_id</th>\n",
       "      <th>review</th>\n",
       "      <th>human_ans_spans</th>\n",
       "      <th>human_ans_indices</th>\n",
       "      <th>answer_subj_level</th>\n",
       "      <th>ans_subj_score</th>\n",
       "      <th>is_ans_subjective</th>\n",
       "    </tr>\n",
       "  </thead>\n",
       "  <tbody>\n",
       "    <tr>\n",
       "      <th>0</th>\n",
       "      <td>B00BVMXBDO</td>\n",
       "      <td>movies</td>\n",
       "      <td>addictive</td>\n",
       "      <td>show</td>\n",
       "      <td>full</td>\n",
       "      <td>series</td>\n",
       "      <td>d9a9615d45df2f6e6108db4ca46bfded</td>\n",
       "      <td>399f1046fe6bd97990107f9d7aa86f4a</td>\n",
       "      <td>Who is the author of this series?</td>\n",
       "      <td>1</td>\n",
       "      <td>0.0</td>\n",
       "      <td>False</td>\n",
       "      <td>090671369dddfeb02db9bf7125a47c79</td>\n",
       "      <td>Whether it be in her portrayal of a nerdy lesb...</td>\n",
       "      <td>ANSWERNOTFOUND</td>\n",
       "      <td>(251, 265)</td>\n",
       "      <td>1</td>\n",
       "      <td>0.000</td>\n",
       "      <td>False</td>\n",
       "    </tr>\n",
       "    <tr>\n",
       "      <th>1</th>\n",
       "      <td>1404918051</td>\n",
       "      <td>movies</td>\n",
       "      <td>enough simple</td>\n",
       "      <td>film</td>\n",
       "      <td>charming</td>\n",
       "      <td>movie</td>\n",
       "      <td>06ffe37a8023636a3ce00b020a517e87</td>\n",
       "      <td>42d9dd5b0c67150cac1e13308811cbb5</td>\n",
       "      <td>Can we enjoy the movie along with our family ?</td>\n",
       "      <td>1</td>\n",
       "      <td>0.5</td>\n",
       "      <td>False</td>\n",
       "      <td>a29821121e74d319cb93f77101e99c88</td>\n",
       "      <td>An outstanding romantic comedy, 13 Going on 30...</td>\n",
       "      <td>ANSWERNOTFOUND</td>\n",
       "      <td>(1195, 1209)</td>\n",
       "      <td>1</td>\n",
       "      <td>0.000</td>\n",
       "      <td>False</td>\n",
       "    </tr>\n",
       "    <tr>\n",
       "      <th>2</th>\n",
       "      <td>B0000633ZP</td>\n",
       "      <td>movies</td>\n",
       "      <td>weak</td>\n",
       "      <td>plot</td>\n",
       "      <td>bad</td>\n",
       "      <td>one</td>\n",
       "      <td>3b625c68e91b9e6987a08b84a9a9d234</td>\n",
       "      <td>32d06ccf2132cda644aea791fa688c53</td>\n",
       "      <td>Does this one good?</td>\n",
       "      <td>5</td>\n",
       "      <td>0.6</td>\n",
       "      <td>True</td>\n",
       "      <td>12a1b821f761bd19a75be7b16cef4a7c</td>\n",
       "      <td>To let the truth be known, I watched this movi...</td>\n",
       "      <td>ANSWERNOTFOUND</td>\n",
       "      <td>(1476, 1490)</td>\n",
       "      <td>5</td>\n",
       "      <td>0.000</td>\n",
       "      <td>False</td>\n",
       "    </tr>\n",
       "    <tr>\n",
       "      <th>3</th>\n",
       "      <td>B0000AQS0F</td>\n",
       "      <td>movies</td>\n",
       "      <td>outstanding</td>\n",
       "      <td>show</td>\n",
       "      <td>wonderful</td>\n",
       "      <td>series</td>\n",
       "      <td>f3abfa98b011127e7cb49bcd07f8deeb</td>\n",
       "      <td>e546636f0bb9f93d5f24b4ade9ebab45</td>\n",
       "      <td>Is this series good and excelent?</td>\n",
       "      <td>1</td>\n",
       "      <td>0.6</td>\n",
       "      <td>True</td>\n",
       "      <td>cd0f92322e67cc9d70de6674caace78c</td>\n",
       "      <td>At the time of my review, there had been 910 c...</td>\n",
       "      <td>this show is OUTSTANDING</td>\n",
       "      <td>(296, 320)</td>\n",
       "      <td>1</td>\n",
       "      <td>0.875</td>\n",
       "      <td>True</td>\n",
       "    </tr>\n",
       "    <tr>\n",
       "      <th>4</th>\n",
       "      <td>B003Y5H5FG</td>\n",
       "      <td>movies</td>\n",
       "      <td>great</td>\n",
       "      <td>production design</td>\n",
       "      <td>great</td>\n",
       "      <td>costume design</td>\n",
       "      <td>1b03744e764b257592c2c768345c14bc</td>\n",
       "      <td>a0a97e460a194bcb3286fe68d20aadc2</td>\n",
       "      <td>How is the costume design?</td>\n",
       "      <td>1</td>\n",
       "      <td>0.0</td>\n",
       "      <td>False</td>\n",
       "      <td>f6b5024393ebc70287befdaf47a50b75</td>\n",
       "      <td>\"Fright Night\" is great! This is how the story...</td>\n",
       "      <td>The costume design by Susan Matheson is great</td>\n",
       "      <td>(1254, 1299)</td>\n",
       "      <td>1</td>\n",
       "      <td>0.750</td>\n",
       "      <td>True</td>\n",
       "    </tr>\n",
       "  </tbody>\n",
       "</table>\n",
       "</div>"
      ],
      "text/plain": [
       "      item_id  domain         nn_mod             nn_asp  query_mod  \\\n",
       "0  B00BVMXBDO  movies      addictive               show       full   \n",
       "1  1404918051  movies  enough simple               film   charming   \n",
       "2  B0000633ZP  movies           weak               plot        bad   \n",
       "3  B0000AQS0F  movies    outstanding               show  wonderful   \n",
       "4  B003Y5H5FG  movies          great  production design      great   \n",
       "\n",
       "        query_asp                       q_review_id  \\\n",
       "0          series  d9a9615d45df2f6e6108db4ca46bfded   \n",
       "1           movie  06ffe37a8023636a3ce00b020a517e87   \n",
       "2             one  3b625c68e91b9e6987a08b84a9a9d234   \n",
       "3          series  f3abfa98b011127e7cb49bcd07f8deeb   \n",
       "4  costume design  1b03744e764b257592c2c768345c14bc   \n",
       "\n",
       "                       q_reviews_id  \\\n",
       "0  399f1046fe6bd97990107f9d7aa86f4a   \n",
       "1  42d9dd5b0c67150cac1e13308811cbb5   \n",
       "2  32d06ccf2132cda644aea791fa688c53   \n",
       "3  e546636f0bb9f93d5f24b4ade9ebab45   \n",
       "4  a0a97e460a194bcb3286fe68d20aadc2   \n",
       "\n",
       "                                         question  question_subj_level  \\\n",
       "0               Who is the author of this series?                    1   \n",
       "1  Can we enjoy the movie along with our family ?                    1   \n",
       "2                             Does this one good?                    5   \n",
       "3               Is this series good and excelent?                    1   \n",
       "4                      How is the costume design?                    1   \n",
       "\n",
       "   ques_subj_score  is_ques_subjective                         review_id  \\\n",
       "0              0.0               False  090671369dddfeb02db9bf7125a47c79   \n",
       "1              0.5               False  a29821121e74d319cb93f77101e99c88   \n",
       "2              0.6                True  12a1b821f761bd19a75be7b16cef4a7c   \n",
       "3              0.6                True  cd0f92322e67cc9d70de6674caace78c   \n",
       "4              0.0               False  f6b5024393ebc70287befdaf47a50b75   \n",
       "\n",
       "                                              review  \\\n",
       "0  Whether it be in her portrayal of a nerdy lesb...   \n",
       "1  An outstanding romantic comedy, 13 Going on 30...   \n",
       "2  To let the truth be known, I watched this movi...   \n",
       "3  At the time of my review, there had been 910 c...   \n",
       "4  \"Fright Night\" is great! This is how the story...   \n",
       "\n",
       "                                 human_ans_spans human_ans_indices  \\\n",
       "0                                 ANSWERNOTFOUND        (251, 265)   \n",
       "1                                 ANSWERNOTFOUND      (1195, 1209)   \n",
       "2                                 ANSWERNOTFOUND      (1476, 1490)   \n",
       "3                       this show is OUTSTANDING        (296, 320)   \n",
       "4  The costume design by Susan Matheson is great      (1254, 1299)   \n",
       "\n",
       "   answer_subj_level  ans_subj_score  is_ans_subjective  \n",
       "0                  1           0.000              False  \n",
       "1                  1           0.000              False  \n",
       "2                  5           0.000              False  \n",
       "3                  1           0.875               True  \n",
       "4                  1           0.750               True  "
      ]
     },
     "execution_count": 7,
     "metadata": {},
     "output_type": "execute_result"
    }
   ],
   "source": [
    "df_train.head()"
   ]
  },
  {
   "cell_type": "code",
   "execution_count": 8,
   "metadata": {},
   "outputs": [
    {
     "name": "stdout",
     "output_type": "stream",
     "text": [
      "<class 'pandas.core.frame.DataFrame'>\n",
      "RangeIndex: 2501 entries, 0 to 2500\n",
      "Data columns (total 19 columns):\n",
      " #   Column               Non-Null Count  Dtype  \n",
      "---  ------               --------------  -----  \n",
      " 0   item_id              2501 non-null   object \n",
      " 1   domain               2501 non-null   object \n",
      " 2   nn_mod               2501 non-null   object \n",
      " 3   nn_asp               2501 non-null   object \n",
      " 4   query_mod            2501 non-null   object \n",
      " 5   query_asp            2501 non-null   object \n",
      " 6   q_review_id          2501 non-null   object \n",
      " 7   q_reviews_id         2501 non-null   object \n",
      " 8   question             2501 non-null   object \n",
      " 9   question_subj_level  2501 non-null   int64  \n",
      " 10  ques_subj_score      2501 non-null   float64\n",
      " 11  is_ques_subjective   2501 non-null   bool   \n",
      " 12  review_id            2501 non-null   object \n",
      " 13  review               2501 non-null   object \n",
      " 14  human_ans_spans      2501 non-null   object \n",
      " 15  human_ans_indices    2501 non-null   object \n",
      " 16  answer_subj_level    2501 non-null   int64  \n",
      " 17  ans_subj_score       2501 non-null   float64\n",
      " 18  is_ans_subjective    2501 non-null   bool   \n",
      "dtypes: bool(2), float64(2), int64(2), object(13)\n",
      "memory usage: 337.2+ KB\n"
     ]
    }
   ],
   "source": [
    "df_train.info()"
   ]
  },
  {
   "cell_type": "code",
   "execution_count": 9,
   "metadata": {},
   "outputs": [
    {
     "data": {
      "text/plain": [
       "Index(['item_id', 'domain', 'nn_mod', 'nn_asp', 'query_mod', 'query_asp',\n",
       "       'q_review_id', 'q_reviews_id', 'question', 'question_subj_level',\n",
       "       'ques_subj_score', 'is_ques_subjective', 'review_id', 'review',\n",
       "       'human_ans_spans', 'human_ans_indices', 'answer_subj_level',\n",
       "       'ans_subj_score', 'is_ans_subjective'],\n",
       "      dtype='object')"
      ]
     },
     "execution_count": 9,
     "metadata": {},
     "output_type": "execute_result"
    }
   ],
   "source": [
    "df_train.columns"
   ]
  },
  {
   "cell_type": "code",
   "execution_count": 10,
   "metadata": {},
   "outputs": [
    {
     "name": "stdout",
     "output_type": "stream",
     "text": [
      "<class 'pandas.core.frame.DataFrame'>\n",
      "RangeIndex: 2501 entries, 0 to 2500\n",
      "Data columns (total 19 columns):\n",
      " #   Column               Non-Null Count  Dtype  \n",
      "---  ------               --------------  -----  \n",
      " 0   item_id              2501 non-null   object \n",
      " 1   domain               2501 non-null   object \n",
      " 2   nn_mod               2501 non-null   object \n",
      " 3   nn_asp               2501 non-null   object \n",
      " 4   query_mod            2501 non-null   object \n",
      " 5   query_asp            2501 non-null   object \n",
      " 6   q_review_id          2501 non-null   object \n",
      " 7   q_reviews_id         2501 non-null   object \n",
      " 8   question             2501 non-null   object \n",
      " 9   question_subj_level  2501 non-null   int64  \n",
      " 10  ques_subj_score      2501 non-null   float64\n",
      " 11  is_ques_subjective   2501 non-null   bool   \n",
      " 12  review_id            2501 non-null   object \n",
      " 13  review               2501 non-null   object \n",
      " 14  human_ans_spans      2501 non-null   object \n",
      " 15  human_ans_indices    2501 non-null   object \n",
      " 16  answer_subj_level    2501 non-null   int64  \n",
      " 17  ans_subj_score       2501 non-null   float64\n",
      " 18  is_ans_subjective    2501 non-null   bool   \n",
      "dtypes: bool(2), float64(2), int64(2), object(13)\n",
      "memory usage: 337.2+ KB\n"
     ]
    }
   ],
   "source": [
    "df_train.info()"
   ]
  },
  {
   "cell_type": "markdown",
   "metadata": {},
   "source": [
    "## Checking the questions and answers\n",
    "- Let's check the questions and answer according to the 'human_ans_indices'"
   ]
  },
  {
   "cell_type": "code",
   "execution_count": 11,
   "metadata": {},
   "outputs": [
    {
     "data": {
      "text/plain": [
       "'Who is the author of this series?'"
      ]
     },
     "execution_count": 11,
     "metadata": {},
     "output_type": "execute_result"
    }
   ],
   "source": [
    "df_train.iloc[0].question"
   ]
  },
  {
   "cell_type": "code",
   "execution_count": 12,
   "metadata": {},
   "outputs": [
    {
     "data": {
      "text/plain": [
       "\"Whether it be in her portrayal of a nerdy lesbian or a punk rock rebel, Maslany's plural personalities, (though very stereotypical), are entertaining eye-candy. Combined with a complex and unpredictable plot line, this show is surprisingly addictive. ANSWERNOTFOUND\""
      ]
     },
     "execution_count": 12,
     "metadata": {},
     "output_type": "execute_result"
    }
   ],
   "source": [
    "df_train.iloc[0].review"
   ]
  },
  {
   "cell_type": "code",
   "execution_count": 13,
   "metadata": {},
   "outputs": [
    {
     "data": {
      "text/plain": [
       "'(251, 265)'"
      ]
     },
     "execution_count": 13,
     "metadata": {},
     "output_type": "execute_result"
    }
   ],
   "source": [
    "df_train.iloc[0].human_ans_indices"
   ]
  },
  {
   "cell_type": "code",
   "execution_count": 14,
   "metadata": {},
   "outputs": [
    {
     "data": {
      "text/plain": [
       "'ANSWERNOTFOUND'"
      ]
     },
     "execution_count": 14,
     "metadata": {},
     "output_type": "execute_result"
    }
   ],
   "source": [
    "df_train.iloc[0].review[251:265]"
   ]
  },
  {
   "cell_type": "code",
   "execution_count": 15,
   "metadata": {},
   "outputs": [],
   "source": [
    "# Picking the necessary columns for further analysis\n",
    "df_train=df_train[['question','human_ans_indices','review','human_ans_spans']]\n",
    "df_test=df_test[['question','human_ans_indices','review','human_ans_spans']]"
   ]
  },
  {
   "cell_type": "code",
   "execution_count": 16,
   "metadata": {},
   "outputs": [],
   "source": [
    "# Generate a sequence evenly spaced numbers\n",
    "df_train['id']=np.linspace(0,len(df_train)-1,len(df_train))\n",
    "df_test['id']=np.linspace(0,len(df_test)-1,len(df_test))"
   ]
  },
  {
   "cell_type": "code",
   "execution_count": 17,
   "metadata": {},
   "outputs": [],
   "source": [
    "df_train['id']=df_train['id'].astype(str)\n",
    "df_test['id']=df_test['id'].astype(str)"
   ]
  },
  {
   "cell_type": "code",
   "execution_count": 18,
   "metadata": {},
   "outputs": [
    {
     "name": "stdout",
     "output_type": "stream",
     "text": [
      "<class 'pandas.core.frame.DataFrame'>\n",
      "RangeIndex: 2501 entries, 0 to 2500\n",
      "Data columns (total 5 columns):\n",
      " #   Column             Non-Null Count  Dtype \n",
      "---  ------             --------------  ----- \n",
      " 0   question           2501 non-null   object\n",
      " 1   human_ans_indices  2501 non-null   object\n",
      " 2   review             2501 non-null   object\n",
      " 3   human_ans_spans    2501 non-null   object\n",
      " 4   id                 2501 non-null   object\n",
      "dtypes: object(5)\n",
      "memory usage: 97.8+ KB\n"
     ]
    }
   ],
   "source": [
    "df_train.info()"
   ]
  },
  {
   "cell_type": "code",
   "execution_count": 19,
   "metadata": {},
   "outputs": [
    {
     "name": "stdout",
     "output_type": "stream",
     "text": [
      "<class 'pandas.core.frame.DataFrame'>\n",
      "RangeIndex: 582 entries, 0 to 581\n",
      "Data columns (total 5 columns):\n",
      " #   Column             Non-Null Count  Dtype \n",
      "---  ------             --------------  ----- \n",
      " 0   question           582 non-null    object\n",
      " 1   human_ans_indices  582 non-null    object\n",
      " 2   review             582 non-null    object\n",
      " 3   human_ans_spans    582 non-null    object\n",
      " 4   id                 582 non-null    object\n",
      "dtypes: object(5)\n",
      "memory usage: 22.9+ KB\n"
     ]
    }
   ],
   "source": [
    "df_test.info()"
   ]
  },
  {
   "cell_type": "code",
   "execution_count": 20,
   "metadata": {},
   "outputs": [
    {
     "data": {
      "text/plain": [
       "251"
      ]
     },
     "execution_count": 20,
     "metadata": {},
     "output_type": "execute_result"
    }
   ],
   "source": [
    "int(df_train.iloc[0].human_ans_indices.split('(')[1].split(',')[0])"
   ]
  },
  {
   "cell_type": "code",
   "execution_count": 21,
   "metadata": {},
   "outputs": [
    {
     "data": {
      "text/plain": [
       "265.0"
      ]
     },
     "execution_count": 21,
     "metadata": {},
     "output_type": "execute_result"
    }
   ],
   "source": [
    "float(df_train.iloc[0].human_ans_indices.split('(')[1].split(',')[1].split(' ')[1].split(')')[0])"
   ]
  },
  {
   "cell_type": "code",
   "execution_count": 22,
   "metadata": {},
   "outputs": [],
   "source": [
    "# Indicating where the answers are\n",
    "df_train['answers']=df_train['human_ans_spans']\n",
    "# Actual answer text itself, right answer where should be\n",
    "df_test['answers']=df_test['human_ans_spans']"
   ]
  },
  {
   "cell_type": "code",
   "execution_count": 23,
   "metadata": {},
   "outputs": [],
   "source": [
    "# Extract answer data and adds it to a new column\n",
    "for i in range(0,len(df_train)):\n",
    "  answer1={}\n",
    "  si=int(df_train.iloc[i].human_ans_indices.split('(')[1].split(',')[0])\n",
    "  ei=int(df_train.iloc[i].human_ans_indices.split('(')[1].split(',')[1].split(' ')[1].split(')')[0])\n",
    "  answer1['text']=[df_train.iloc[i].review[si:ei]]\n",
    "  answer1['answer_start']=[si]\n",
    "  df_train.at[i, 'answers']=answer1"
   ]
  },
  {
   "cell_type": "code",
   "execution_count": 24,
   "metadata": {},
   "outputs": [
    {
     "name": "stdout",
     "output_type": "stream",
     "text": [
      "{'text': ['ANSWERNOTFOUND'], 'answer_start': [801]} ANSWERNOTFOUND\n"
     ]
    }
   ],
   "source": [
    "print(df_train.iloc[i].answers,df_train.iloc[i].human_ans_spans)"
   ]
  },
  {
   "cell_type": "code",
   "execution_count": 25,
   "metadata": {},
   "outputs": [
    {
     "data": {
      "text/plain": [
       "Index(['question', 'human_ans_indices', 'review', 'human_ans_spans', 'id',\n",
       "       'answers'],\n",
       "      dtype='object')"
      ]
     },
     "execution_count": 25,
     "metadata": {},
     "output_type": "execute_result"
    }
   ],
   "source": [
    "df_train.columns"
   ]
  },
  {
   "cell_type": "code",
   "execution_count": 26,
   "metadata": {},
   "outputs": [],
   "source": [
    "df_train.columns=['question', 'human_ans_indices', 'context', 'human_ans_spans', 'id',\n",
    "       'answers']\n",
    "\n",
    "df_test.columns=['question', 'human_ans_indices', 'context', 'human_ans_spans','id',\n",
    "       'answers']"
   ]
  },
  {
   "cell_type": "code",
   "execution_count": 27,
   "metadata": {},
   "outputs": [],
   "source": [
    "val_dataset2 = datasets.Dataset.from_pandas(df_test)\n",
    "train_dataset2 = datasets.Dataset.from_pandas(df_train)"
   ]
  },
  {
   "cell_type": "code",
   "execution_count": 28,
   "metadata": {},
   "outputs": [
    {
     "data": {
      "application/vnd.jupyter.widget-view+json": {
       "model_id": "d4dfe047f96545a5b5e5fa8d9719e1bb",
       "version_major": 2,
       "version_minor": 0
      },
      "text/plain": [
       "Map:   0%|          | 0/2501 [00:00<?, ? examples/s]"
      ]
     },
     "metadata": {},
     "output_type": "display_data"
    },
    {
     "data": {
      "text/plain": [
       "(2501, 4862)"
      ]
     },
     "execution_count": 28,
     "metadata": {},
     "output_type": "execute_result"
    }
   ],
   "source": [
    "# Preprocess the training examples .map() function on training dataset with the preprocessing function\n",
    "train_dataset = train_dataset2.map(\n",
    "    preprocess_training_examples,\n",
    "    batched=True,\n",
    "    remove_columns=train_dataset2.column_names,\n",
    ")\n",
    "len(train_dataset2), len(train_dataset) # compare the lengths of the original dataset (train_dataset2) and the preprocessed dataset (train_dataset)."
   ]
  },
  {
   "cell_type": "markdown",
   "metadata": {},
   "source": [
    "It shows that all 2501 examples were processed in 10 seconds at a speed of 260.48 examples per second. The resulting dataset has 4862 examples."
   ]
  },
  {
   "cell_type": "code",
   "execution_count": 29,
   "metadata": {},
   "outputs": [],
   "source": [
    "def preprocess_validation_examples(examples):\n",
    "    # Cleaning the questions by stripping leading and trailing whitespace for consistency\n",
    "    questions = [q.strip() for q in examples[\"question\"]]\n",
    "\n",
    "    # Tokenization; converting questions and contexts into numerical IDs, enabling the model to understand\n",
    "    inputs = tokenizer(\n",
    "        questions,\n",
    "        examples[\"context\"],\n",
    "        max_length=max_length, # Total length of the input sequence\n",
    "        truncation=\"only_second\", # If the total length exceeds max_length, only the context will be truncated\n",
    "        stride=stride, # Overlap between the chunks\n",
    "        return_overflowing_tokens=True,\n",
    "        return_offsets_mapping=True,\n",
    "        padding=\"max_length\",\n",
    "    )\n",
    "\n",
    "    # Extracting overflow_to_sample_mapping\n",
    "    sample_map = inputs.pop(\"overflow_to_sample_mapping\")\n",
    "    example_ids = []\n",
    "\n",
    "    # Looping over the tokenized inputs\n",
    "    for i in range(len(inputs[\"input_ids\"])):\n",
    "        sample_idx = sample_map[i]\n",
    "        example_ids.append(examples[\"id\"][sample_idx]) # Retrieving example IDs\n",
    "\n",
    "        # Adjusting offset mapping based on sequence IDs\n",
    "        sequence_ids = inputs.sequence_ids(i)\n",
    "        offset = inputs[\"offset_mapping\"][i]\n",
    "        inputs[\"offset_mapping\"][i] = [\n",
    "            o if sequence_ids[k] == 1 else None for k, o in enumerate(offset)\n",
    "        ]\n",
    "\n",
    "    # Adding example IDs to the tokenized inputs\n",
    "    inputs[\"example_id\"] = example_ids\n",
    "    return inputs"
   ]
  },
  {
   "cell_type": "code",
   "execution_count": 30,
   "metadata": {},
   "outputs": [
    {
     "data": {
      "application/vnd.jupyter.widget-view+json": {
       "model_id": "91f895b1d1fb4097bb6f8fec757c815e",
       "version_major": 2,
       "version_minor": 0
      },
      "text/plain": [
       "Map:   0%|          | 0/582 [00:00<?, ? examples/s]"
      ]
     },
     "metadata": {},
     "output_type": "display_data"
    },
    {
     "data": {
      "text/plain": [
       "1104"
      ]
     },
     "execution_count": 30,
     "metadata": {},
     "output_type": "execute_result"
    }
   ],
   "source": [
    "# Preprocess the validation dataset by applying the preprocess_validation_examples function to each example\n",
    "validation_dataset = val_dataset2.map(\n",
    "    preprocess_validation_examples,  # Function to preprocess each example\n",
    "    batched=True,  # Process examples in batches for efficiency\n",
    "    remove_columns=val_dataset2.column_names,  # Remove unnecessary columns from the dataset\n",
    ")\n",
    "\n",
    "# Calculate the length of the preprocessed validation dataset\n",
    "len(validation_dataset)"
   ]
  },
  {
   "cell_type": "code",
   "execution_count": 31,
   "metadata": {},
   "outputs": [
    {
     "data": {
      "text/plain": [
       "Dataset({\n",
       "    features: ['input_ids', 'attention_mask', 'offset_mapping', 'example_id'],\n",
       "    num_rows: 1104\n",
       "})"
      ]
     },
     "execution_count": 31,
     "metadata": {},
     "output_type": "execute_result"
    }
   ],
   "source": [
    "validation_dataset"
   ]
  },
  {
   "cell_type": "code",
   "execution_count": 32,
   "metadata": {},
   "outputs": [],
   "source": [
    "tokenizer = AutoTokenizer.from_pretrained(model)"
   ]
  },
  {
   "cell_type": "code",
   "execution_count": 33,
   "metadata": {},
   "outputs": [],
   "source": [
    "metric = evaluate.load(\"squad\")"
   ]
  },
  {
   "cell_type": "code",
   "execution_count": 34,
   "metadata": {},
   "outputs": [],
   "source": [
    "def compute_metrics(start_logits, end_logits, features, examples):\n",
    "    # Initialize a defaultdict to map example IDs to their corresponding feature indices\n",
    "    example_to_features = collections.defaultdict(list)\n",
    "    for idx, feature in enumerate(features):\n",
    "        example_to_features[feature[\"example_id\"]].append(idx)\n",
    "\n",
    "    # List to store the formatted predicted answers\n",
    "    predicted_answers = []\n",
    "\n",
    "    # Placeholder values for n_best and max_answer_length\n",
    "    n_best = 20\n",
    "    max_answer_length = 30 \n",
    "\n",
    "    # Process each example to generate predictions\n",
    "    for example in tqdm(examples):\n",
    "        example_id = example[\"id\"]\n",
    "        context = example[\"context\"]\n",
    "        answers = []\n",
    "\n",
    "        # Iterate through all features linked to the current example\n",
    "        for feature_index in example_to_features[example_id]:\n",
    "            start_logit = start_logits[feature_index]\n",
    "            end_logit = end_logits[feature_index]\n",
    "            offsets = features[feature_index][\"offset_mapping\"]\n",
    "\n",
    "            # Determine top n_best start and end positions\n",
    "            start_indexes = np.argsort(start_logit)[-1: -n_best - 1: -1].tolist()\n",
    "            end_indexes = np.argsort(end_logit)[-1: -n_best - 1: -1].tolist()\n",
    "\n",
    "            # Generate candidate answers based on top start/end positions\n",
    "            for start_index in start_indexes:\n",
    "                for end_index in end_indexes:\n",
    "                    # Validate answer positions\n",
    "                    if offsets[start_index] is None or offsets[end_index] is None:\n",
    "                        continue\n",
    "                    if end_index < start_index or end_index - start_index + 1 > max_answer_length:\n",
    "                        continue\n",
    "\n",
    "                    # Formulate the answer and score\n",
    "                    answer = {\n",
    "                        \"text\": context[offsets[start_index][0]: offsets[end_index][1]],\n",
    "                        \"logit_score\": start_logit[start_index] + end_logit[end_index],\n",
    "                    }\n",
    "                    answers.append(answer)\n",
    "\n",
    "        # Choose the best answer for the current example\n",
    "        if answers:\n",
    "            best_answer = max(answers, key=lambda x: x[\"logit_score\"])\n",
    "            predicted_answers.append({\"id\": example_id, \"prediction_text\": best_answer[\"text\"]})\n",
    "        else:\n",
    "            predicted_answers.append({\"id\": example_id, \"prediction_text\": \"\"})\n",
    "\n",
    "    # Correctly format the references from the examples dataset\n",
    "    references_corrected = []\n",
    "    for ex in examples:\n",
    "        # Split answers if needed and create the correct format\n",
    "        individual_answers = [{'text': ans, 'answer_start': 0} for ans in ex['answers'].split('|')]\n",
    "        references_corrected.append({\n",
    "            'id': ex['id'],\n",
    "            'answers': individual_answers\n",
    "        })\n",
    "\n",
    "    # Compute the evaluation metric using the formatted predictions and references\n",
    "    return metric.compute(predictions=predicted_answers, references=references_corrected)"
   ]
  },
  {
   "cell_type": "code",
   "execution_count": 35,
   "metadata": {},
   "outputs": [],
   "source": [
    "model1 = AutoModelForQuestionAnswering.from_pretrained(model)"
   ]
  },
  {
   "cell_type": "code",
   "execution_count": 36,
   "metadata": {},
   "outputs": [],
   "source": [
    "class DataFrameMetricsLogger(TrainerCallback):\n",
    "    def __init__(self):\n",
    "        # Initialize an empty list to store metrics dictionaries\n",
    "        self.metrics_list = []\n",
    "\n",
    "    def on_log(self, args, state, control, logs=None, **kwargs):\n",
    "        # This method is called whenever logs are emitted by the Trainer\n",
    "        if logs is not None:\n",
    "            # Append the log metrics directly to the list\n",
    "            self.metrics_list.append(logs.copy())  # Copy to ensure no overwriting\n",
    "\n",
    "    def get_dataframe(self):\n",
    "        # Convert the list of dictionaries to a DataFrame\n",
    "        return pd.DataFrame(self.metrics_list)"
   ]
  },
  {
   "cell_type": "code",
   "execution_count": 37,
   "metadata": {},
   "outputs": [],
   "source": [
    "args = TrainingArguments(\n",
    "    output_dir=\"roberta-finetuned-subjqa-for-rag\",\n",
    "    evaluation_strategy=\"epoch\",                    # Evaluate at the end of each epoch\n",
    "    logging_strategy=\"steps\",                       # Log every specified number of steps\n",
    "    logging_steps=9,                                # Number of steps to log after\n",
    "    logging_dir='./logs',                           # Directory where logs will be saved\n",
    "    save_strategy=\"epoch\",                          # Save the model at the end of each epoch\n",
    "    learning_rate=2e-5,                             # Learning rate\n",
    "    num_train_epochs=7,                          \n",
    "    weight_decay=0.01,                              # Weight decay for regularization\n",
    "    push_to_hub=False,                              # Whether to push the model to the Hugging Face Hub\n",
    "    report_to=\"all\",                                # Reporting to all integrations\n",
    "    fp16=False                                      # Disable mixed precision training\n",
    ")\n"
   ]
  },
  {
   "cell_type": "code",
   "execution_count": 38,
   "metadata": {},
   "outputs": [],
   "source": [
    "# Initialize the DataFrame logger\n",
    "dataframe_logger = DataFrameMetricsLogger()"
   ]
  },
  {
   "cell_type": "code",
   "execution_count": 39,
   "metadata": {},
   "outputs": [
    {
     "name": "stderr",
     "output_type": "stream",
     "text": [
      "c:\\Users\\Aishwarya\\AppData\\Local\\Programs\\Python\\Python312\\Lib\\site-packages\\accelerate\\accelerator.py:436: FutureWarning: Passing the following arguments to `Accelerator` is deprecated and will be removed in version 1.0 of Accelerate: dict_keys(['dispatch_batches', 'split_batches', 'even_batches', 'use_seedable_sampler']). Please pass an `accelerate.DataLoaderConfiguration` instead: \n",
      "dataloader_config = DataLoaderConfiguration(dispatch_batches=None, split_batches=False, even_batches=True, use_seedable_sampler=True)\n",
      "  warnings.warn(\n"
     ]
    }
   ],
   "source": [
    "# Setup the trainer with the logger\n",
    "trainer = Trainer(\n",
    "    model=model1,\n",
    "    args=args,\n",
    "    train_dataset=train_dataset,\n",
    "    eval_dataset=validation_dataset,\n",
    "    tokenizer=tokenizer,\n",
    "    callbacks=[dataframe_logger]\n",
    ")"
   ]
  },
  {
   "cell_type": "code",
   "execution_count": 40,
   "metadata": {},
   "outputs": [
    {
     "data": {
      "application/vnd.jupyter.widget-view+json": {
       "model_id": "76149b8c7d7c4b9995f1adb6af0d55a3",
       "version_major": 2,
       "version_minor": 0
      },
      "text/plain": [
       "  0%|          | 0/138 [00:00<?, ?it/s]"
      ]
     },
     "metadata": {},
     "output_type": "display_data"
    },
    {
     "data": {
      "application/vnd.jupyter.widget-view+json": {
       "model_id": "ba05c71c30494af894249e1675178377",
       "version_major": 2,
       "version_minor": 0
      },
      "text/plain": [
       "  0%|          | 0/582 [00:00<?, ?it/s]"
      ]
     },
     "metadata": {},
     "output_type": "display_data"
    },
    {
     "data": {
      "text/plain": [
       "{'exact_match': 2.0618556701030926, 'f1': 9.415323986809298}"
      ]
     },
     "execution_count": 40,
     "metadata": {},
     "output_type": "execute_result"
    }
   ],
   "source": [
    "predictions, _, _ = trainer.predict(validation_dataset)\n",
    "start_logits, end_logits = predictions\n",
    "compute_metrics(start_logits, end_logits, validation_dataset, val_dataset2)"
   ]
  },
  {
   "cell_type": "code",
   "execution_count": 41,
   "metadata": {},
   "outputs": [
    {
     "data": {
      "application/vnd.jupyter.widget-view+json": {
       "model_id": "d8a367ae7f8e49deaf68bd87d9770770",
       "version_major": 2,
       "version_minor": 0
      },
      "text/plain": [
       "  0%|          | 0/4256 [00:00<?, ?it/s]"
      ]
     },
     "metadata": {},
     "output_type": "display_data"
    },
    {
     "name": "stdout",
     "output_type": "stream",
     "text": [
      "{'loss': 2.6177, 'grad_norm': 76.0838851928711, 'learning_rate': 1.9957706766917295e-05, 'epoch': 0.01}\n",
      "{'loss': 2.0077, 'grad_norm': 48.948951721191406, 'learning_rate': 1.9915413533834588e-05, 'epoch': 0.03}\n",
      "{'loss': 1.4159, 'grad_norm': 34.51979064941406, 'learning_rate': 1.987312030075188e-05, 'epoch': 0.04}\n",
      "{'loss': 1.5036, 'grad_norm': 28.149858474731445, 'learning_rate': 1.9830827067669175e-05, 'epoch': 0.06}\n",
      "{'loss': 1.4324, 'grad_norm': 22.512527465820312, 'learning_rate': 1.9788533834586468e-05, 'epoch': 0.07}\n",
      "{'loss': 1.1972, 'grad_norm': 21.348005294799805, 'learning_rate': 1.974624060150376e-05, 'epoch': 0.09}\n",
      "{'loss': 1.5444, 'grad_norm': 13.8782958984375, 'learning_rate': 1.9703947368421054e-05, 'epoch': 0.1}\n",
      "{'loss': 1.2213, 'grad_norm': 16.731698989868164, 'learning_rate': 1.9661654135338348e-05, 'epoch': 0.12}\n",
      "{'loss': 1.336, 'grad_norm': 30.180749893188477, 'learning_rate': 1.961936090225564e-05, 'epoch': 0.13}\n",
      "{'loss': 1.3735, 'grad_norm': 17.13225746154785, 'learning_rate': 1.9577067669172934e-05, 'epoch': 0.15}\n",
      "{'loss': 0.9908, 'grad_norm': 24.41388702392578, 'learning_rate': 1.9534774436090227e-05, 'epoch': 0.16}\n",
      "{'loss': 1.4635, 'grad_norm': 31.909746170043945, 'learning_rate': 1.949248120300752e-05, 'epoch': 0.18}\n",
      "{'loss': 1.8811, 'grad_norm': 37.96180725097656, 'learning_rate': 1.9450187969924814e-05, 'epoch': 0.19}\n",
      "{'loss': 0.9648, 'grad_norm': 5.272886753082275, 'learning_rate': 1.9407894736842107e-05, 'epoch': 0.21}\n",
      "{'loss': 1.5064, 'grad_norm': 21.67125701904297, 'learning_rate': 1.93656015037594e-05, 'epoch': 0.22}\n",
      "{'loss': 1.1235, 'grad_norm': 24.64453125, 'learning_rate': 1.9323308270676694e-05, 'epoch': 0.24}\n",
      "{'loss': 1.0091, 'grad_norm': 40.03766632080078, 'learning_rate': 1.9281015037593987e-05, 'epoch': 0.25}\n",
      "{'loss': 1.2433, 'grad_norm': 21.24781036376953, 'learning_rate': 1.923872180451128e-05, 'epoch': 0.27}\n",
      "{'loss': 0.9962, 'grad_norm': 26.358657836914062, 'learning_rate': 1.9196428571428573e-05, 'epoch': 0.28}\n",
      "{'loss': 1.8512, 'grad_norm': 26.410860061645508, 'learning_rate': 1.9154135338345867e-05, 'epoch': 0.3}\n",
      "{'loss': 1.1346, 'grad_norm': 17.893157958984375, 'learning_rate': 1.911184210526316e-05, 'epoch': 0.31}\n",
      "{'loss': 1.0649, 'grad_norm': 20.948467254638672, 'learning_rate': 1.9069548872180453e-05, 'epoch': 0.33}\n",
      "{'loss': 0.7104, 'grad_norm': 7.631809234619141, 'learning_rate': 1.9027255639097746e-05, 'epoch': 0.34}\n",
      "{'loss': 1.3082, 'grad_norm': 46.19166946411133, 'learning_rate': 1.898496240601504e-05, 'epoch': 0.36}\n",
      "{'loss': 1.6961, 'grad_norm': 22.439668655395508, 'learning_rate': 1.8942669172932333e-05, 'epoch': 0.37}\n",
      "{'loss': 1.4578, 'grad_norm': 37.89064025878906, 'learning_rate': 1.8900375939849626e-05, 'epoch': 0.38}\n",
      "{'loss': 1.1526, 'grad_norm': 31.20825958251953, 'learning_rate': 1.885808270676692e-05, 'epoch': 0.4}\n",
      "{'loss': 1.1108, 'grad_norm': 26.636821746826172, 'learning_rate': 1.8815789473684213e-05, 'epoch': 0.41}\n",
      "{'loss': 1.1338, 'grad_norm': 14.26789665222168, 'learning_rate': 1.8773496240601506e-05, 'epoch': 0.43}\n",
      "{'loss': 1.1585, 'grad_norm': 60.64204788208008, 'learning_rate': 1.87312030075188e-05, 'epoch': 0.44}\n",
      "{'loss': 1.1707, 'grad_norm': 17.06499671936035, 'learning_rate': 1.8688909774436092e-05, 'epoch': 0.46}\n",
      "{'loss': 1.418, 'grad_norm': 45.173553466796875, 'learning_rate': 1.8646616541353386e-05, 'epoch': 0.47}\n",
      "{'loss': 1.1895, 'grad_norm': 9.2151460647583, 'learning_rate': 1.860432330827068e-05, 'epoch': 0.49}\n",
      "{'loss': 0.9792, 'grad_norm': 14.728775978088379, 'learning_rate': 1.8562030075187972e-05, 'epoch': 0.5}\n",
      "{'loss': 1.3117, 'grad_norm': 21.266122817993164, 'learning_rate': 1.8519736842105265e-05, 'epoch': 0.52}\n",
      "{'loss': 1.0249, 'grad_norm': 28.275253295898438, 'learning_rate': 1.847744360902256e-05, 'epoch': 0.53}\n",
      "{'loss': 1.3126, 'grad_norm': 15.415726661682129, 'learning_rate': 1.8435150375939852e-05, 'epoch': 0.55}\n",
      "{'loss': 1.167, 'grad_norm': 11.350357055664062, 'learning_rate': 1.8392857142857142e-05, 'epoch': 0.56}\n",
      "{'loss': 1.3017, 'grad_norm': 14.287511825561523, 'learning_rate': 1.835056390977444e-05, 'epoch': 0.58}\n",
      "{'loss': 0.9812, 'grad_norm': 37.02401351928711, 'learning_rate': 1.830827067669173e-05, 'epoch': 0.59}\n",
      "{'loss': 1.6911, 'grad_norm': 15.318913459777832, 'learning_rate': 1.8265977443609025e-05, 'epoch': 0.61}\n",
      "{'loss': 0.9631, 'grad_norm': 10.970183372497559, 'learning_rate': 1.8223684210526318e-05, 'epoch': 0.62}\n",
      "{'loss': 0.9498, 'grad_norm': 36.75771713256836, 'learning_rate': 1.818139097744361e-05, 'epoch': 0.64}\n",
      "{'loss': 1.6478, 'grad_norm': 14.19973087310791, 'learning_rate': 1.81390977443609e-05, 'epoch': 0.65}\n",
      "{'loss': 0.7369, 'grad_norm': 20.767900466918945, 'learning_rate': 1.8096804511278198e-05, 'epoch': 0.67}\n",
      "{'loss': 1.3594, 'grad_norm': 27.160247802734375, 'learning_rate': 1.805451127819549e-05, 'epoch': 0.68}\n",
      "{'loss': 1.4187, 'grad_norm': 27.353933334350586, 'learning_rate': 1.8012218045112784e-05, 'epoch': 0.7}\n",
      "{'loss': 0.8123, 'grad_norm': 8.371872901916504, 'learning_rate': 1.7969924812030078e-05, 'epoch': 0.71}\n",
      "{'loss': 1.4777, 'grad_norm': 22.089820861816406, 'learning_rate': 1.792763157894737e-05, 'epoch': 0.73}\n",
      "{'loss': 1.4532, 'grad_norm': 14.778010368347168, 'learning_rate': 1.788533834586466e-05, 'epoch': 0.74}\n",
      "{'loss': 0.9293, 'grad_norm': 8.64704704284668, 'learning_rate': 1.7843045112781957e-05, 'epoch': 0.75}\n",
      "{'loss': 1.6501, 'grad_norm': 26.21131134033203, 'learning_rate': 1.780075187969925e-05, 'epoch': 0.77}\n",
      "{'loss': 1.4468, 'grad_norm': 15.834428787231445, 'learning_rate': 1.7758458646616544e-05, 'epoch': 0.78}\n",
      "{'loss': 1.2772, 'grad_norm': 15.435220718383789, 'learning_rate': 1.7716165413533837e-05, 'epoch': 0.8}\n",
      "{'loss': 1.264, 'grad_norm': 11.468283653259277, 'learning_rate': 1.7673872180451127e-05, 'epoch': 0.81}\n",
      "{'loss': 1.3515, 'grad_norm': 11.992746353149414, 'learning_rate': 1.763157894736842e-05, 'epoch': 0.83}\n",
      "{'loss': 1.2247, 'grad_norm': 13.867403030395508, 'learning_rate': 1.7589285714285717e-05, 'epoch': 0.84}\n",
      "{'loss': 0.8895, 'grad_norm': 11.208301544189453, 'learning_rate': 1.754699248120301e-05, 'epoch': 0.86}\n",
      "{'loss': 1.2333, 'grad_norm': 16.988882064819336, 'learning_rate': 1.7504699248120303e-05, 'epoch': 0.87}\n",
      "{'loss': 1.3748, 'grad_norm': 16.405797958374023, 'learning_rate': 1.7462406015037597e-05, 'epoch': 0.89}\n",
      "{'loss': 0.9524, 'grad_norm': 16.857004165649414, 'learning_rate': 1.7420112781954886e-05, 'epoch': 0.9}\n",
      "{'loss': 1.507, 'grad_norm': 20.02691078186035, 'learning_rate': 1.737781954887218e-05, 'epoch': 0.92}\n",
      "{'loss': 1.2841, 'grad_norm': 13.0835542678833, 'learning_rate': 1.7335526315789476e-05, 'epoch': 0.93}\n",
      "{'loss': 1.101, 'grad_norm': 23.529808044433594, 'learning_rate': 1.729323308270677e-05, 'epoch': 0.95}\n",
      "{'loss': 1.2013, 'grad_norm': 25.90774917602539, 'learning_rate': 1.7250939849624063e-05, 'epoch': 0.96}\n",
      "{'loss': 1.3756, 'grad_norm': 17.26943016052246, 'learning_rate': 1.7208646616541356e-05, 'epoch': 0.98}\n",
      "{'loss': 0.9579, 'grad_norm': 14.385632514953613, 'learning_rate': 1.7166353383458646e-05, 'epoch': 0.99}\n"
     ]
    },
    {
     "data": {
      "application/vnd.jupyter.widget-view+json": {
       "model_id": "63cc2abbfe3c45fcaf5f789f02595ff8",
       "version_major": 2,
       "version_minor": 0
      },
      "text/plain": [
       "  0%|          | 0/138 [00:00<?, ?it/s]"
      ]
     },
     "metadata": {},
     "output_type": "display_data"
    },
    {
     "name": "stdout",
     "output_type": "stream",
     "text": [
      "{'eval_runtime': 452.2836, 'eval_samples_per_second': 2.441, 'eval_steps_per_second': 0.305, 'epoch': 1.0}\n",
      "{'loss': 0.7057, 'grad_norm': 14.98363971710205, 'learning_rate': 1.712406015037594e-05, 'epoch': 1.01}\n",
      "{'loss': 1.3871, 'grad_norm': 22.37464141845703, 'learning_rate': 1.7081766917293236e-05, 'epoch': 1.02}\n",
      "{'loss': 0.927, 'grad_norm': 13.119917869567871, 'learning_rate': 1.703947368421053e-05, 'epoch': 1.04}\n",
      "{'loss': 1.1197, 'grad_norm': 14.232475280761719, 'learning_rate': 1.6997180451127822e-05, 'epoch': 1.05}\n",
      "{'loss': 1.235, 'grad_norm': 16.54279899597168, 'learning_rate': 1.6954887218045116e-05, 'epoch': 1.07}\n",
      "{'loss': 1.1141, 'grad_norm': 14.951926231384277, 'learning_rate': 1.6912593984962405e-05, 'epoch': 1.08}\n",
      "{'loss': 1.0908, 'grad_norm': 18.379858016967773, 'learning_rate': 1.68703007518797e-05, 'epoch': 1.1}\n",
      "{'loss': 1.1644, 'grad_norm': 21.35282325744629, 'learning_rate': 1.6828007518796995e-05, 'epoch': 1.11}\n",
      "{'loss': 1.114, 'grad_norm': 15.819419860839844, 'learning_rate': 1.678571428571429e-05, 'epoch': 1.12}\n",
      "{'loss': 1.2955, 'grad_norm': 14.387154579162598, 'learning_rate': 1.6743421052631582e-05, 'epoch': 1.14}\n",
      "{'loss': 0.9456, 'grad_norm': 6.229833602905273, 'learning_rate': 1.6701127819548875e-05, 'epoch': 1.15}\n",
      "{'loss': 1.0254, 'grad_norm': 11.293050765991211, 'learning_rate': 1.6658834586466165e-05, 'epoch': 1.17}\n",
      "{'loss': 1.0429, 'grad_norm': 21.448589324951172, 'learning_rate': 1.6616541353383458e-05, 'epoch': 1.18}\n",
      "{'loss': 0.8354, 'grad_norm': 10.619438171386719, 'learning_rate': 1.6574248120300755e-05, 'epoch': 1.2}\n",
      "{'loss': 1.082, 'grad_norm': 6.240084648132324, 'learning_rate': 1.6531954887218048e-05, 'epoch': 1.21}\n",
      "{'loss': 1.0381, 'grad_norm': 12.032090187072754, 'learning_rate': 1.648966165413534e-05, 'epoch': 1.23}\n",
      "{'loss': 0.9991, 'grad_norm': 19.791866302490234, 'learning_rate': 1.644736842105263e-05, 'epoch': 1.24}\n",
      "{'loss': 0.9633, 'grad_norm': 31.278173446655273, 'learning_rate': 1.6405075187969924e-05, 'epoch': 1.26}\n",
      "{'loss': 0.9357, 'grad_norm': 28.20980453491211, 'learning_rate': 1.6362781954887218e-05, 'epoch': 1.27}\n",
      "{'loss': 1.2339, 'grad_norm': 15.01119327545166, 'learning_rate': 1.6320488721804514e-05, 'epoch': 1.29}\n",
      "{'loss': 1.1338, 'grad_norm': 14.547926902770996, 'learning_rate': 1.6278195488721808e-05, 'epoch': 1.3}\n",
      "{'loss': 0.891, 'grad_norm': 19.23919105529785, 'learning_rate': 1.62359022556391e-05, 'epoch': 1.32}\n",
      "{'loss': 1.2223, 'grad_norm': 13.67093563079834, 'learning_rate': 1.619360902255639e-05, 'epoch': 1.33}\n",
      "{'loss': 0.6117, 'grad_norm': 7.577640056610107, 'learning_rate': 1.6151315789473684e-05, 'epoch': 1.35}\n",
      "{'loss': 0.9715, 'grad_norm': 26.58194351196289, 'learning_rate': 1.6109022556390977e-05, 'epoch': 1.36}\n",
      "{'loss': 1.0376, 'grad_norm': 20.080516815185547, 'learning_rate': 1.6066729323308274e-05, 'epoch': 1.38}\n",
      "{'loss': 1.1425, 'grad_norm': 13.695296287536621, 'learning_rate': 1.6024436090225567e-05, 'epoch': 1.39}\n",
      "{'loss': 0.9999, 'grad_norm': 18.165918350219727, 'learning_rate': 1.598214285714286e-05, 'epoch': 1.41}\n",
      "{'loss': 1.1043, 'grad_norm': 27.938058853149414, 'learning_rate': 1.593984962406015e-05, 'epoch': 1.42}\n",
      "{'loss': 1.04, 'grad_norm': 35.27409362792969, 'learning_rate': 1.5897556390977443e-05, 'epoch': 1.44}\n",
      "{'loss': 1.0043, 'grad_norm': 13.055937767028809, 'learning_rate': 1.5855263157894737e-05, 'epoch': 1.45}\n",
      "{'loss': 0.9375, 'grad_norm': 17.70668601989746, 'learning_rate': 1.581296992481203e-05, 'epoch': 1.47}\n",
      "{'loss': 0.554, 'grad_norm': 10.497471809387207, 'learning_rate': 1.5770676691729327e-05, 'epoch': 1.48}\n",
      "{'loss': 0.6449, 'grad_norm': 21.115131378173828, 'learning_rate': 1.572838345864662e-05, 'epoch': 1.5}\n",
      "{'loss': 1.1134, 'grad_norm': 17.009687423706055, 'learning_rate': 1.568609022556391e-05, 'epoch': 1.51}\n",
      "{'loss': 0.8272, 'grad_norm': 2.9328596591949463, 'learning_rate': 1.5643796992481203e-05, 'epoch': 1.52}\n",
      "{'loss': 1.1832, 'grad_norm': 14.348456382751465, 'learning_rate': 1.5601503759398496e-05, 'epoch': 1.54}\n",
      "{'loss': 0.9126, 'grad_norm': 18.993528366088867, 'learning_rate': 1.555921052631579e-05, 'epoch': 1.55}\n",
      "{'loss': 1.2888, 'grad_norm': 6.560078144073486, 'learning_rate': 1.5516917293233086e-05, 'epoch': 1.57}\n",
      "{'loss': 0.9978, 'grad_norm': 11.562115669250488, 'learning_rate': 1.5474624060150376e-05, 'epoch': 1.58}\n",
      "{'loss': 1.2635, 'grad_norm': 25.121095657348633, 'learning_rate': 1.543233082706767e-05, 'epoch': 1.6}\n",
      "{'loss': 0.8202, 'grad_norm': 27.310871124267578, 'learning_rate': 1.5390037593984962e-05, 'epoch': 1.61}\n",
      "{'loss': 1.0206, 'grad_norm': 17.261411666870117, 'learning_rate': 1.5347744360902256e-05, 'epoch': 1.63}\n",
      "{'loss': 1.0416, 'grad_norm': 30.472307205200195, 'learning_rate': 1.530545112781955e-05, 'epoch': 1.64}\n",
      "{'loss': 1.2958, 'grad_norm': 14.413082122802734, 'learning_rate': 1.5263157894736846e-05, 'epoch': 1.66}\n",
      "{'loss': 0.9301, 'grad_norm': 39.09098815917969, 'learning_rate': 1.5220864661654135e-05, 'epoch': 1.67}\n",
      "{'loss': 1.1421, 'grad_norm': 6.669904708862305, 'learning_rate': 1.5178571428571429e-05, 'epoch': 1.69}\n",
      "{'loss': 1.1608, 'grad_norm': 17.41485595703125, 'learning_rate': 1.5136278195488724e-05, 'epoch': 1.7}\n",
      "{'loss': 1.008, 'grad_norm': 14.423589706420898, 'learning_rate': 1.5093984962406017e-05, 'epoch': 1.72}\n",
      "{'loss': 0.9821, 'grad_norm': 31.03705596923828, 'learning_rate': 1.505169172932331e-05, 'epoch': 1.73}\n",
      "{'loss': 0.794, 'grad_norm': 42.08173751831055, 'learning_rate': 1.5009398496240603e-05, 'epoch': 1.75}\n",
      "{'loss': 0.7297, 'grad_norm': 8.916742324829102, 'learning_rate': 1.4967105263157895e-05, 'epoch': 1.76}\n",
      "{'loss': 0.9285, 'grad_norm': 36.531124114990234, 'learning_rate': 1.4924812030075188e-05, 'epoch': 1.78}\n",
      "{'loss': 1.0618, 'grad_norm': 5.132484436035156, 'learning_rate': 1.4882518796992481e-05, 'epoch': 1.79}\n",
      "{'loss': 0.7745, 'grad_norm': 15.6593017578125, 'learning_rate': 1.4840225563909776e-05, 'epoch': 1.81}\n",
      "{'loss': 1.0306, 'grad_norm': 16.762939453125, 'learning_rate': 1.479793233082707e-05, 'epoch': 1.82}\n",
      "{'loss': 1.1416, 'grad_norm': 48.607784271240234, 'learning_rate': 1.4755639097744363e-05, 'epoch': 1.84}\n",
      "{'loss': 0.7301, 'grad_norm': 10.324958801269531, 'learning_rate': 1.4713345864661654e-05, 'epoch': 1.85}\n",
      "{'loss': 0.683, 'grad_norm': 12.234637260437012, 'learning_rate': 1.4671052631578948e-05, 'epoch': 1.87}\n",
      "{'loss': 1.1048, 'grad_norm': 11.226466178894043, 'learning_rate': 1.4628759398496241e-05, 'epoch': 1.88}\n",
      "{'loss': 1.2237, 'grad_norm': 32.767269134521484, 'learning_rate': 1.4586466165413536e-05, 'epoch': 1.89}\n",
      "{'loss': 1.2353, 'grad_norm': 11.77112102508545, 'learning_rate': 1.4544172932330829e-05, 'epoch': 1.91}\n",
      "{'loss': 0.929, 'grad_norm': 17.027790069580078, 'learning_rate': 1.4501879699248122e-05, 'epoch': 1.92}\n",
      "{'loss': 1.2884, 'grad_norm': 11.577437400817871, 'learning_rate': 1.4459586466165414e-05, 'epoch': 1.94}\n",
      "{'loss': 0.8123, 'grad_norm': 19.700925827026367, 'learning_rate': 1.4417293233082707e-05, 'epoch': 1.95}\n",
      "{'loss': 0.9301, 'grad_norm': 18.08301544189453, 'learning_rate': 1.4375e-05, 'epoch': 1.97}\n",
      "{'loss': 0.5983, 'grad_norm': 27.47380828857422, 'learning_rate': 1.4332706766917295e-05, 'epoch': 1.98}\n",
      "{'loss': 1.1113, 'grad_norm': 13.033905029296875, 'learning_rate': 1.4290413533834589e-05, 'epoch': 2.0}\n"
     ]
    },
    {
     "data": {
      "application/vnd.jupyter.widget-view+json": {
       "model_id": "c6568020ab2f45538d2dd61e866d21ae",
       "version_major": 2,
       "version_minor": 0
      },
      "text/plain": [
       "  0%|          | 0/138 [00:00<?, ?it/s]"
      ]
     },
     "metadata": {},
     "output_type": "display_data"
    },
    {
     "name": "stdout",
     "output_type": "stream",
     "text": [
      "{'eval_runtime': 453.9016, 'eval_samples_per_second': 2.432, 'eval_steps_per_second': 0.304, 'epoch': 2.0}\n",
      "{'loss': 0.8016, 'grad_norm': 7.677554130554199, 'learning_rate': 1.424812030075188e-05, 'epoch': 2.01}\n",
      "{'loss': 0.7666, 'grad_norm': 15.55125617980957, 'learning_rate': 1.4205827067669173e-05, 'epoch': 2.03}\n",
      "{'loss': 0.8554, 'grad_norm': 8.711353302001953, 'learning_rate': 1.4163533834586467e-05, 'epoch': 2.04}\n",
      "{'loss': 0.7898, 'grad_norm': 8.45137882232666, 'learning_rate': 1.412124060150376e-05, 'epoch': 2.06}\n",
      "{'loss': 1.1208, 'grad_norm': 17.27356719970703, 'learning_rate': 1.4078947368421055e-05, 'epoch': 2.07}\n",
      "{'loss': 0.9231, 'grad_norm': 11.370024681091309, 'learning_rate': 1.4036654135338348e-05, 'epoch': 2.09}\n",
      "{'loss': 0.9971, 'grad_norm': 27.980588912963867, 'learning_rate': 1.399436090225564e-05, 'epoch': 2.1}\n",
      "{'loss': 0.7314, 'grad_norm': 18.640430450439453, 'learning_rate': 1.3952067669172933e-05, 'epoch': 2.12}\n",
      "{'loss': 0.9519, 'grad_norm': 13.56200122833252, 'learning_rate': 1.3909774436090226e-05, 'epoch': 2.13}\n",
      "{'loss': 1.0202, 'grad_norm': 25.640125274658203, 'learning_rate': 1.386748120300752e-05, 'epoch': 2.15}\n",
      "{'loss': 1.023, 'grad_norm': 12.396903038024902, 'learning_rate': 1.3825187969924814e-05, 'epoch': 2.16}\n",
      "{'loss': 0.6835, 'grad_norm': 13.620206832885742, 'learning_rate': 1.3782894736842108e-05, 'epoch': 2.18}\n",
      "{'loss': 0.7783, 'grad_norm': 46.341182708740234, 'learning_rate': 1.37406015037594e-05, 'epoch': 2.19}\n",
      "{'loss': 0.656, 'grad_norm': 14.57447338104248, 'learning_rate': 1.3698308270676692e-05, 'epoch': 2.21}\n",
      "{'loss': 0.7949, 'grad_norm': 8.247153282165527, 'learning_rate': 1.3656015037593986e-05, 'epoch': 2.22}\n",
      "{'loss': 0.9629, 'grad_norm': 29.10744857788086, 'learning_rate': 1.3613721804511279e-05, 'epoch': 2.24}\n",
      "{'loss': 0.6292, 'grad_norm': 19.233081817626953, 'learning_rate': 1.3571428571428574e-05, 'epoch': 2.25}\n",
      "{'loss': 0.8741, 'grad_norm': 21.472869873046875, 'learning_rate': 1.3529135338345867e-05, 'epoch': 2.26}\n",
      "{'loss': 1.0294, 'grad_norm': 22.038883209228516, 'learning_rate': 1.3486842105263159e-05, 'epoch': 2.28}\n",
      "{'loss': 0.6041, 'grad_norm': 5.850568771362305, 'learning_rate': 1.3444548872180452e-05, 'epoch': 2.29}\n",
      "{'loss': 0.9187, 'grad_norm': 33.470191955566406, 'learning_rate': 1.3402255639097745e-05, 'epoch': 2.31}\n",
      "{'loss': 0.8357, 'grad_norm': 36.413570404052734, 'learning_rate': 1.3359962406015038e-05, 'epoch': 2.32}\n",
      "{'loss': 0.8032, 'grad_norm': 17.012252807617188, 'learning_rate': 1.3317669172932333e-05, 'epoch': 2.34}\n",
      "{'loss': 0.9512, 'grad_norm': 20.850404739379883, 'learning_rate': 1.3275375939849627e-05, 'epoch': 2.35}\n",
      "{'loss': 0.759, 'grad_norm': 19.9390811920166, 'learning_rate': 1.3233082706766918e-05, 'epoch': 2.37}\n",
      "{'loss': 0.9293, 'grad_norm': 27.132246017456055, 'learning_rate': 1.3190789473684211e-05, 'epoch': 2.38}\n",
      "{'loss': 0.8955, 'grad_norm': 7.184160232543945, 'learning_rate': 1.3148496240601505e-05, 'epoch': 2.4}\n",
      "{'loss': 0.8468, 'grad_norm': 22.708911895751953, 'learning_rate': 1.3106203007518798e-05, 'epoch': 2.41}\n",
      "{'loss': 0.8547, 'grad_norm': 12.851737022399902, 'learning_rate': 1.3063909774436093e-05, 'epoch': 2.43}\n",
      "{'loss': 0.8305, 'grad_norm': 46.351539611816406, 'learning_rate': 1.3021616541353383e-05, 'epoch': 2.44}\n",
      "{'loss': 0.7966, 'grad_norm': 42.645809173583984, 'learning_rate': 1.2979323308270678e-05, 'epoch': 2.46}\n",
      "{'loss': 1.2254, 'grad_norm': 33.4620475769043, 'learning_rate': 1.2937030075187971e-05, 'epoch': 2.47}\n",
      "{'loss': 1.1515, 'grad_norm': 27.360885620117188, 'learning_rate': 1.2894736842105264e-05, 'epoch': 2.49}\n",
      "{'loss': 0.9047, 'grad_norm': 9.941360473632812, 'learning_rate': 1.2852443609022557e-05, 'epoch': 2.5}\n",
      "{'loss': 0.7949, 'grad_norm': 11.131185531616211, 'learning_rate': 1.2810150375939852e-05, 'epoch': 2.52}\n",
      "{'loss': 0.6976, 'grad_norm': 21.743623733520508, 'learning_rate': 1.2767857142857142e-05, 'epoch': 2.53}\n",
      "{'loss': 0.7911, 'grad_norm': 27.85624885559082, 'learning_rate': 1.2725563909774437e-05, 'epoch': 2.55}\n",
      "{'loss': 0.9635, 'grad_norm': 6.869490623474121, 'learning_rate': 1.268327067669173e-05, 'epoch': 2.56}\n",
      "{'loss': 0.7963, 'grad_norm': 12.4854154586792, 'learning_rate': 1.2640977443609024e-05, 'epoch': 2.58}\n",
      "{'loss': 1.0061, 'grad_norm': 32.43775177001953, 'learning_rate': 1.2598684210526317e-05, 'epoch': 2.59}\n",
      "{'loss': 0.6971, 'grad_norm': 17.482603073120117, 'learning_rate': 1.2556390977443612e-05, 'epoch': 2.61}\n",
      "{'loss': 1.1376, 'grad_norm': 39.797584533691406, 'learning_rate': 1.2514097744360902e-05, 'epoch': 2.62}\n",
      "{'loss': 0.8495, 'grad_norm': 14.320749282836914, 'learning_rate': 1.2471804511278197e-05, 'epoch': 2.63}\n",
      "{'loss': 0.9018, 'grad_norm': 30.330163955688477, 'learning_rate': 1.242951127819549e-05, 'epoch': 2.65}\n",
      "{'loss': 0.6181, 'grad_norm': 12.779412269592285, 'learning_rate': 1.2387218045112783e-05, 'epoch': 2.66}\n",
      "{'loss': 0.7156, 'grad_norm': 2.9401159286499023, 'learning_rate': 1.2344924812030076e-05, 'epoch': 2.68}\n",
      "{'loss': 0.9031, 'grad_norm': 16.8409366607666, 'learning_rate': 1.230263157894737e-05, 'epoch': 2.69}\n",
      "{'loss': 0.7629, 'grad_norm': 30.495868682861328, 'learning_rate': 1.2260338345864661e-05, 'epoch': 2.71}\n",
      "{'loss': 0.9759, 'grad_norm': 35.98527908325195, 'learning_rate': 1.2218045112781956e-05, 'epoch': 2.72}\n",
      "{'loss': 0.7749, 'grad_norm': 20.81377601623535, 'learning_rate': 1.217575187969925e-05, 'epoch': 2.74}\n",
      "{'loss': 0.9455, 'grad_norm': 22.862215042114258, 'learning_rate': 1.2133458646616543e-05, 'epoch': 2.75}\n",
      "{'loss': 0.63, 'grad_norm': 25.235414505004883, 'learning_rate': 1.2091165413533836e-05, 'epoch': 2.77}\n",
      "{'loss': 0.574, 'grad_norm': 12.54434871673584, 'learning_rate': 1.2048872180451127e-05, 'epoch': 2.78}\n",
      "{'loss': 0.9078, 'grad_norm': 17.5186824798584, 'learning_rate': 1.200657894736842e-05, 'epoch': 2.8}\n",
      "{'loss': 0.6034, 'grad_norm': 21.736122131347656, 'learning_rate': 1.1964285714285716e-05, 'epoch': 2.81}\n",
      "{'loss': 0.9164, 'grad_norm': 40.71708679199219, 'learning_rate': 1.1921992481203009e-05, 'epoch': 2.83}\n",
      "{'loss': 0.7157, 'grad_norm': 17.999008178710938, 'learning_rate': 1.1879699248120302e-05, 'epoch': 2.84}\n",
      "{'loss': 0.7954, 'grad_norm': 11.387951850891113, 'learning_rate': 1.1837406015037595e-05, 'epoch': 2.86}\n",
      "{'loss': 0.6882, 'grad_norm': 33.672847747802734, 'learning_rate': 1.1795112781954887e-05, 'epoch': 2.87}\n",
      "{'loss': 1.0186, 'grad_norm': 72.5705795288086, 'learning_rate': 1.175281954887218e-05, 'epoch': 2.89}\n",
      "{'loss': 0.9186, 'grad_norm': 30.202777862548828, 'learning_rate': 1.1710526315789475e-05, 'epoch': 2.9}\n",
      "{'loss': 1.0076, 'grad_norm': 35.18100357055664, 'learning_rate': 1.1668233082706768e-05, 'epoch': 2.92}\n",
      "{'loss': 0.7737, 'grad_norm': 17.453771591186523, 'learning_rate': 1.1625939849624062e-05, 'epoch': 2.93}\n",
      "{'loss': 0.9837, 'grad_norm': 22.874267578125, 'learning_rate': 1.1583646616541355e-05, 'epoch': 2.95}\n",
      "{'loss': 0.8306, 'grad_norm': 26.013460159301758, 'learning_rate': 1.1541353383458646e-05, 'epoch': 2.96}\n",
      "{'loss': 0.746, 'grad_norm': 10.244420051574707, 'learning_rate': 1.149906015037594e-05, 'epoch': 2.98}\n",
      "{'loss': 0.8701, 'grad_norm': 9.266437530517578, 'learning_rate': 1.1456766917293235e-05, 'epoch': 2.99}\n"
     ]
    },
    {
     "data": {
      "application/vnd.jupyter.widget-view+json": {
       "model_id": "74a64b1fc9f04385a6fef8d9cf5dd2dc",
       "version_major": 2,
       "version_minor": 0
      },
      "text/plain": [
       "  0%|          | 0/138 [00:00<?, ?it/s]"
      ]
     },
     "metadata": {},
     "output_type": "display_data"
    },
    {
     "name": "stdout",
     "output_type": "stream",
     "text": [
      "{'eval_runtime': 452.1228, 'eval_samples_per_second': 2.442, 'eval_steps_per_second': 0.305, 'epoch': 3.0}\n",
      "{'loss': 0.8678, 'grad_norm': 2.784013032913208, 'learning_rate': 1.1414473684210528e-05, 'epoch': 3.0}\n",
      "{'loss': 0.9648, 'grad_norm': 37.2861442565918, 'learning_rate': 1.1372180451127821e-05, 'epoch': 3.02}\n",
      "{'loss': 0.5382, 'grad_norm': 12.05611801147461, 'learning_rate': 1.1329887218045114e-05, 'epoch': 3.03}\n",
      "{'loss': 0.6433, 'grad_norm': 38.90074157714844, 'learning_rate': 1.1287593984962406e-05, 'epoch': 3.05}\n",
      "{'loss': 0.5021, 'grad_norm': 6.188076496124268, 'learning_rate': 1.12453007518797e-05, 'epoch': 3.06}\n",
      "{'loss': 0.4462, 'grad_norm': 7.964102268218994, 'learning_rate': 1.1203007518796994e-05, 'epoch': 3.08}\n",
      "{'loss': 0.9779, 'grad_norm': 56.61402130126953, 'learning_rate': 1.1160714285714287e-05, 'epoch': 3.09}\n",
      "{'loss': 1.1472, 'grad_norm': 21.96409797668457, 'learning_rate': 1.111842105263158e-05, 'epoch': 3.11}\n",
      "{'loss': 0.7294, 'grad_norm': 20.43484878540039, 'learning_rate': 1.1076127819548874e-05, 'epoch': 3.12}\n",
      "{'loss': 0.6983, 'grad_norm': 50.35201644897461, 'learning_rate': 1.1033834586466165e-05, 'epoch': 3.14}\n",
      "{'loss': 0.4126, 'grad_norm': 0.9457170367240906, 'learning_rate': 1.0991541353383459e-05, 'epoch': 3.15}\n",
      "{'loss': 0.9042, 'grad_norm': 23.372577667236328, 'learning_rate': 1.0949248120300752e-05, 'epoch': 3.17}\n",
      "{'loss': 0.8477, 'grad_norm': 30.618953704833984, 'learning_rate': 1.0906954887218047e-05, 'epoch': 3.18}\n",
      "{'loss': 0.9698, 'grad_norm': 35.72951889038086, 'learning_rate': 1.086466165413534e-05, 'epoch': 3.2}\n",
      "{'loss': 0.6388, 'grad_norm': 33.43545150756836, 'learning_rate': 1.0822368421052632e-05, 'epoch': 3.21}\n",
      "{'loss': 0.9261, 'grad_norm': 19.980440139770508, 'learning_rate': 1.0780075187969925e-05, 'epoch': 3.23}\n",
      "{'loss': 0.6811, 'grad_norm': 44.045799255371094, 'learning_rate': 1.0737781954887218e-05, 'epoch': 3.24}\n",
      "{'loss': 0.5599, 'grad_norm': 7.977248668670654, 'learning_rate': 1.0695488721804511e-05, 'epoch': 3.26}\n",
      "{'loss': 0.4738, 'grad_norm': 13.792214393615723, 'learning_rate': 1.0653195488721806e-05, 'epoch': 3.27}\n",
      "{'loss': 0.7499, 'grad_norm': 22.799222946166992, 'learning_rate': 1.06109022556391e-05, 'epoch': 3.29}\n",
      "{'loss': 0.5617, 'grad_norm': 30.77474594116211, 'learning_rate': 1.0568609022556391e-05, 'epoch': 3.3}\n",
      "{'loss': 0.604, 'grad_norm': 27.731481552124023, 'learning_rate': 1.0526315789473684e-05, 'epoch': 3.32}\n",
      "{'loss': 0.4569, 'grad_norm': 17.648937225341797, 'learning_rate': 1.0484022556390978e-05, 'epoch': 3.33}\n",
      "{'loss': 0.9296, 'grad_norm': 39.63817596435547, 'learning_rate': 1.0441729323308271e-05, 'epoch': 3.35}\n",
      "{'loss': 0.8238, 'grad_norm': 20.721343994140625, 'learning_rate': 1.0399436090225566e-05, 'epoch': 3.36}\n",
      "{'loss': 0.4587, 'grad_norm': 12.275656700134277, 'learning_rate': 1.0357142857142859e-05, 'epoch': 3.38}\n",
      "{'loss': 0.7285, 'grad_norm': 19.095550537109375, 'learning_rate': 1.031484962406015e-05, 'epoch': 3.39}\n",
      "{'loss': 1.0021, 'grad_norm': 10.301430702209473, 'learning_rate': 1.0272556390977444e-05, 'epoch': 3.4}\n",
      "{'loss': 1.0215, 'grad_norm': 40.67992401123047, 'learning_rate': 1.0230263157894737e-05, 'epoch': 3.42}\n",
      "{'loss': 0.7167, 'grad_norm': 15.392219543457031, 'learning_rate': 1.018796992481203e-05, 'epoch': 3.43}\n",
      "{'loss': 0.7773, 'grad_norm': 18.085765838623047, 'learning_rate': 1.0145676691729325e-05, 'epoch': 3.45}\n",
      "{'loss': 0.7714, 'grad_norm': 30.49614906311035, 'learning_rate': 1.0103383458646619e-05, 'epoch': 3.46}\n",
      "{'loss': 0.7993, 'grad_norm': 24.278579711914062, 'learning_rate': 1.006109022556391e-05, 'epoch': 3.48}\n",
      "{'loss': 0.8243, 'grad_norm': 20.509021759033203, 'learning_rate': 1.0018796992481203e-05, 'epoch': 3.49}\n",
      "{'loss': 0.5061, 'grad_norm': 27.707611083984375, 'learning_rate': 9.976503759398497e-06, 'epoch': 3.51}\n",
      "{'loss': 0.6172, 'grad_norm': 36.912986755371094, 'learning_rate': 9.93421052631579e-06, 'epoch': 3.52}\n",
      "{'loss': 0.4697, 'grad_norm': 44.822105407714844, 'learning_rate': 9.891917293233083e-06, 'epoch': 3.54}\n",
      "{'loss': 0.8719, 'grad_norm': 26.846153259277344, 'learning_rate': 9.849624060150376e-06, 'epoch': 3.55}\n",
      "{'loss': 0.7411, 'grad_norm': 34.119956970214844, 'learning_rate': 9.80733082706767e-06, 'epoch': 3.57}\n",
      "{'loss': 0.8967, 'grad_norm': 7.946260452270508, 'learning_rate': 9.765037593984963e-06, 'epoch': 3.58}\n",
      "{'loss': 0.6959, 'grad_norm': 10.687684059143066, 'learning_rate': 9.722744360902256e-06, 'epoch': 3.6}\n",
      "{'loss': 0.7278, 'grad_norm': 22.742599487304688, 'learning_rate': 9.68045112781955e-06, 'epoch': 3.61}\n",
      "{'loss': 0.6558, 'grad_norm': 16.219741821289062, 'learning_rate': 9.638157894736843e-06, 'epoch': 3.63}\n",
      "{'loss': 0.7154, 'grad_norm': 18.8494815826416, 'learning_rate': 9.595864661654136e-06, 'epoch': 3.64}\n",
      "{'loss': 0.7243, 'grad_norm': 15.805286407470703, 'learning_rate': 9.55357142857143e-06, 'epoch': 3.66}\n",
      "{'loss': 0.932, 'grad_norm': 14.082350730895996, 'learning_rate': 9.511278195488722e-06, 'epoch': 3.67}\n",
      "{'loss': 0.5277, 'grad_norm': 11.427087783813477, 'learning_rate': 9.468984962406016e-06, 'epoch': 3.69}\n",
      "{'loss': 0.9049, 'grad_norm': 24.16115379333496, 'learning_rate': 9.426691729323309e-06, 'epoch': 3.7}\n",
      "{'loss': 0.7487, 'grad_norm': 41.12704849243164, 'learning_rate': 9.384398496240602e-06, 'epoch': 3.72}\n",
      "{'loss': 0.8974, 'grad_norm': 5.769288063049316, 'learning_rate': 9.342105263157895e-06, 'epoch': 3.73}\n",
      "{'loss': 0.5508, 'grad_norm': 23.37405776977539, 'learning_rate': 9.299812030075189e-06, 'epoch': 3.75}\n",
      "{'loss': 0.9751, 'grad_norm': 12.998167991638184, 'learning_rate': 9.257518796992482e-06, 'epoch': 3.76}\n",
      "{'loss': 0.6054, 'grad_norm': 24.243854522705078, 'learning_rate': 9.215225563909775e-06, 'epoch': 3.77}\n",
      "{'loss': 0.9996, 'grad_norm': 44.07929229736328, 'learning_rate': 9.172932330827068e-06, 'epoch': 3.79}\n",
      "{'loss': 0.5817, 'grad_norm': 29.559396743774414, 'learning_rate': 9.130639097744362e-06, 'epoch': 3.8}\n",
      "{'loss': 0.5355, 'grad_norm': 6.895120620727539, 'learning_rate': 9.088345864661655e-06, 'epoch': 3.82}\n",
      "{'loss': 0.7405, 'grad_norm': 29.296236038208008, 'learning_rate': 9.046052631578948e-06, 'epoch': 3.83}\n",
      "{'loss': 1.0357, 'grad_norm': 20.50558853149414, 'learning_rate': 9.003759398496241e-06, 'epoch': 3.85}\n",
      "{'loss': 0.4964, 'grad_norm': 14.291404724121094, 'learning_rate': 8.961466165413535e-06, 'epoch': 3.86}\n",
      "{'loss': 0.584, 'grad_norm': 12.383359909057617, 'learning_rate': 8.919172932330828e-06, 'epoch': 3.88}\n",
      "{'loss': 0.9748, 'grad_norm': 44.828792572021484, 'learning_rate': 8.876879699248121e-06, 'epoch': 3.89}\n",
      "{'loss': 0.903, 'grad_norm': 15.95994758605957, 'learning_rate': 8.834586466165414e-06, 'epoch': 3.91}\n",
      "{'loss': 0.6287, 'grad_norm': 27.035112380981445, 'learning_rate': 8.792293233082708e-06, 'epoch': 3.92}\n",
      "{'loss': 0.7463, 'grad_norm': 47.86928176879883, 'learning_rate': 8.750000000000001e-06, 'epoch': 3.94}\n",
      "{'loss': 0.6939, 'grad_norm': 24.48914909362793, 'learning_rate': 8.707706766917294e-06, 'epoch': 3.95}\n",
      "{'loss': 0.5592, 'grad_norm': 4.502011775970459, 'learning_rate': 8.665413533834587e-06, 'epoch': 3.97}\n",
      "{'loss': 0.5849, 'grad_norm': 29.431447982788086, 'learning_rate': 8.62312030075188e-06, 'epoch': 3.98}\n",
      "{'loss': 0.7434, 'grad_norm': 44.980323791503906, 'learning_rate': 8.580827067669174e-06, 'epoch': 4.0}\n"
     ]
    },
    {
     "data": {
      "application/vnd.jupyter.widget-view+json": {
       "model_id": "66b94eeaff54430d8e7722bef1ee783c",
       "version_major": 2,
       "version_minor": 0
      },
      "text/plain": [
       "  0%|          | 0/138 [00:00<?, ?it/s]"
      ]
     },
     "metadata": {},
     "output_type": "display_data"
    },
    {
     "name": "stdout",
     "output_type": "stream",
     "text": [
      "{'eval_runtime': 453.8025, 'eval_samples_per_second': 2.433, 'eval_steps_per_second': 0.304, 'epoch': 4.0}\n",
      "{'loss': 0.4987, 'grad_norm': 14.001951217651367, 'learning_rate': 8.538533834586467e-06, 'epoch': 4.01}\n",
      "{'loss': 0.4699, 'grad_norm': 11.766260147094727, 'learning_rate': 8.49624060150376e-06, 'epoch': 4.03}\n",
      "{'loss': 0.5703, 'grad_norm': 19.29128074645996, 'learning_rate': 8.453947368421054e-06, 'epoch': 4.04}\n",
      "{'loss': 0.7188, 'grad_norm': 32.64830780029297, 'learning_rate': 8.411654135338347e-06, 'epoch': 4.06}\n",
      "{'loss': 0.4751, 'grad_norm': 56.383670806884766, 'learning_rate': 8.36936090225564e-06, 'epoch': 4.07}\n",
      "{'loss': 0.4126, 'grad_norm': 20.766626358032227, 'learning_rate': 8.327067669172933e-06, 'epoch': 4.09}\n",
      "{'loss': 0.8675, 'grad_norm': 30.522951126098633, 'learning_rate': 8.284774436090227e-06, 'epoch': 4.1}\n",
      "{'loss': 0.5789, 'grad_norm': 17.777456283569336, 'learning_rate': 8.24248120300752e-06, 'epoch': 4.12}\n",
      "{'loss': 0.7014, 'grad_norm': 34.702430725097656, 'learning_rate': 8.200187969924813e-06, 'epoch': 4.13}\n",
      "{'loss': 0.5572, 'grad_norm': 10.99400520324707, 'learning_rate': 8.157894736842106e-06, 'epoch': 4.14}\n",
      "{'loss': 0.5609, 'grad_norm': 14.65029525756836, 'learning_rate': 8.1156015037594e-06, 'epoch': 4.16}\n",
      "{'loss': 0.5952, 'grad_norm': 22.481246948242188, 'learning_rate': 8.073308270676691e-06, 'epoch': 4.17}\n",
      "{'loss': 0.8637, 'grad_norm': 13.080245018005371, 'learning_rate': 8.031015037593986e-06, 'epoch': 4.19}\n",
      "{'loss': 0.3053, 'grad_norm': 23.680076599121094, 'learning_rate': 7.98872180451128e-06, 'epoch': 4.2}\n",
      "{'loss': 0.4796, 'grad_norm': 38.10095977783203, 'learning_rate': 7.946428571428571e-06, 'epoch': 4.22}\n",
      "{'loss': 1.1142, 'grad_norm': 80.12532806396484, 'learning_rate': 7.904135338345866e-06, 'epoch': 4.23}\n",
      "{'loss': 0.3196, 'grad_norm': 14.335248947143555, 'learning_rate': 7.86184210526316e-06, 'epoch': 4.25}\n",
      "{'loss': 0.8528, 'grad_norm': 26.437030792236328, 'learning_rate': 7.81954887218045e-06, 'epoch': 4.26}\n",
      "{'loss': 0.3215, 'grad_norm': 19.376693725585938, 'learning_rate': 7.777255639097746e-06, 'epoch': 4.28}\n",
      "{'loss': 0.6728, 'grad_norm': 69.5506362915039, 'learning_rate': 7.734962406015039e-06, 'epoch': 4.29}\n",
      "{'loss': 0.64, 'grad_norm': 269.6756896972656, 'learning_rate': 7.69266917293233e-06, 'epoch': 4.31}\n",
      "{'loss': 0.6951, 'grad_norm': 22.86501121520996, 'learning_rate': 7.650375939849625e-06, 'epoch': 4.32}\n",
      "{'loss': 0.6299, 'grad_norm': 14.006589889526367, 'learning_rate': 7.608082706766919e-06, 'epoch': 4.34}\n",
      "{'loss': 0.4992, 'grad_norm': 17.060646057128906, 'learning_rate': 7.565789473684211e-06, 'epoch': 4.35}\n",
      "{'loss': 0.7718, 'grad_norm': 35.000083923339844, 'learning_rate': 7.523496240601504e-06, 'epoch': 4.37}\n",
      "{'loss': 0.5321, 'grad_norm': 15.1170072555542, 'learning_rate': 7.481203007518798e-06, 'epoch': 4.38}\n",
      "{'loss': 0.6453, 'grad_norm': 22.375579833984375, 'learning_rate': 7.438909774436091e-06, 'epoch': 4.4}\n",
      "{'loss': 0.9048, 'grad_norm': 14.048827171325684, 'learning_rate': 7.396616541353384e-06, 'epoch': 4.41}\n",
      "{'loss': 0.5716, 'grad_norm': 12.95390510559082, 'learning_rate': 7.354323308270678e-06, 'epoch': 4.43}\n",
      "{'loss': 0.4534, 'grad_norm': 34.37958526611328, 'learning_rate': 7.3120300751879706e-06, 'epoch': 4.44}\n",
      "{'loss': 0.8297, 'grad_norm': 15.766999244689941, 'learning_rate': 7.269736842105264e-06, 'epoch': 4.46}\n",
      "{'loss': 0.8945, 'grad_norm': 25.65511703491211, 'learning_rate': 7.227443609022557e-06, 'epoch': 4.47}\n",
      "{'loss': 0.4634, 'grad_norm': 40.990867614746094, 'learning_rate': 7.18515037593985e-06, 'epoch': 4.49}\n",
      "{'loss': 0.7432, 'grad_norm': 31.667369842529297, 'learning_rate': 7.1428571428571436e-06, 'epoch': 4.5}\n",
      "{'loss': 0.5418, 'grad_norm': 32.8623161315918, 'learning_rate': 7.100563909774437e-06, 'epoch': 4.51}\n",
      "{'loss': 0.7957, 'grad_norm': 32.56919479370117, 'learning_rate': 7.05827067669173e-06, 'epoch': 4.53}\n",
      "{'loss': 0.4907, 'grad_norm': 10.443431854248047, 'learning_rate': 7.015977443609023e-06, 'epoch': 4.54}\n",
      "{'loss': 0.6047, 'grad_norm': 44.35326385498047, 'learning_rate': 6.973684210526316e-06, 'epoch': 4.56}\n",
      "{'loss': 0.5731, 'grad_norm': 20.176633834838867, 'learning_rate': 6.93139097744361e-06, 'epoch': 4.57}\n",
      "{'loss': 0.5268, 'grad_norm': 41.907649993896484, 'learning_rate': 6.889097744360903e-06, 'epoch': 4.59}\n",
      "{'loss': 0.3301, 'grad_norm': 8.212626457214355, 'learning_rate': 6.8468045112781955e-06, 'epoch': 4.6}\n",
      "{'loss': 0.5146, 'grad_norm': 13.725725173950195, 'learning_rate': 6.8045112781954896e-06, 'epoch': 4.62}\n",
      "{'loss': 0.5885, 'grad_norm': 25.534282684326172, 'learning_rate': 6.762218045112783e-06, 'epoch': 4.63}\n",
      "{'loss': 0.7061, 'grad_norm': 45.64292907714844, 'learning_rate': 6.719924812030075e-06, 'epoch': 4.65}\n",
      "{'loss': 0.6987, 'grad_norm': 23.176668167114258, 'learning_rate': 6.677631578947369e-06, 'epoch': 4.66}\n",
      "{'loss': 0.5452, 'grad_norm': 11.8435697555542, 'learning_rate': 6.6353383458646626e-06, 'epoch': 4.68}\n",
      "{'loss': 0.5704, 'grad_norm': 35.91046142578125, 'learning_rate': 6.593045112781955e-06, 'epoch': 4.69}\n",
      "{'loss': 0.6524, 'grad_norm': 16.986478805541992, 'learning_rate': 6.550751879699249e-06, 'epoch': 4.71}\n",
      "{'loss': 0.5871, 'grad_norm': 38.32142639160156, 'learning_rate': 6.508458646616542e-06, 'epoch': 4.72}\n",
      "{'loss': 0.7275, 'grad_norm': 5.678120136260986, 'learning_rate': 6.466165413533835e-06, 'epoch': 4.74}\n",
      "{'loss': 0.4759, 'grad_norm': 58.845130920410156, 'learning_rate': 6.423872180451128e-06, 'epoch': 4.75}\n",
      "{'loss': 0.755, 'grad_norm': 40.03036880493164, 'learning_rate': 6.381578947368422e-06, 'epoch': 4.77}\n",
      "{'loss': 0.8842, 'grad_norm': 42.57059860229492, 'learning_rate': 6.3392857142857145e-06, 'epoch': 4.78}\n",
      "{'loss': 0.6154, 'grad_norm': 17.28233528137207, 'learning_rate': 6.296992481203008e-06, 'epoch': 4.8}\n",
      "{'loss': 0.64, 'grad_norm': 44.13753890991211, 'learning_rate': 6.254699248120302e-06, 'epoch': 4.81}\n",
      "{'loss': 0.4226, 'grad_norm': 16.792131423950195, 'learning_rate': 6.212406015037594e-06, 'epoch': 4.83}\n",
      "{'loss': 0.8252, 'grad_norm': 18.668256759643555, 'learning_rate': 6.1701127819548875e-06, 'epoch': 4.84}\n",
      "{'loss': 0.7128, 'grad_norm': 16.42937660217285, 'learning_rate': 6.1278195488721816e-06, 'epoch': 4.86}\n",
      "{'loss': 0.5408, 'grad_norm': 17.471172332763672, 'learning_rate': 6.085526315789474e-06, 'epoch': 4.87}\n",
      "{'loss': 0.5116, 'grad_norm': 37.59219741821289, 'learning_rate': 6.043233082706767e-06, 'epoch': 4.88}\n",
      "{'loss': 0.7467, 'grad_norm': 37.699485778808594, 'learning_rate': 6.000939849624061e-06, 'epoch': 4.9}\n",
      "{'loss': 0.6588, 'grad_norm': 45.8936767578125, 'learning_rate': 5.958646616541354e-06, 'epoch': 4.91}\n",
      "{'loss': 0.7829, 'grad_norm': 35.73786163330078, 'learning_rate': 5.916353383458647e-06, 'epoch': 4.93}\n",
      "{'loss': 0.607, 'grad_norm': 15.132292747497559, 'learning_rate': 5.87406015037594e-06, 'epoch': 4.94}\n",
      "{'loss': 0.598, 'grad_norm': 39.19651794433594, 'learning_rate': 5.8317669172932335e-06, 'epoch': 4.96}\n",
      "{'loss': 0.524, 'grad_norm': 21.03137969970703, 'learning_rate': 5.789473684210527e-06, 'epoch': 4.97}\n",
      "{'loss': 0.8662, 'grad_norm': 35.825050354003906, 'learning_rate': 5.74718045112782e-06, 'epoch': 4.99}\n"
     ]
    },
    {
     "data": {
      "application/vnd.jupyter.widget-view+json": {
       "model_id": "a4c9b3a8cf264a26866be6d70e95a29c",
       "version_major": 2,
       "version_minor": 0
      },
      "text/plain": [
       "  0%|          | 0/138 [00:00<?, ?it/s]"
      ]
     },
     "metadata": {},
     "output_type": "display_data"
    },
    {
     "name": "stdout",
     "output_type": "stream",
     "text": [
      "{'eval_runtime': 400.6207, 'eval_samples_per_second': 2.756, 'eval_steps_per_second': 0.344, 'epoch': 5.0}\n",
      "{'loss': 0.457, 'grad_norm': 30.48847198486328, 'learning_rate': 5.704887218045113e-06, 'epoch': 5.0}\n",
      "{'loss': 0.4881, 'grad_norm': 18.263973236083984, 'learning_rate': 5.6625939849624064e-06, 'epoch': 5.02}\n",
      "{'loss': 0.5058, 'grad_norm': 7.832901477813721, 'learning_rate': 5.620300751879699e-06, 'epoch': 5.03}\n",
      "{'loss': 0.6857, 'grad_norm': 17.46605682373047, 'learning_rate': 5.578007518796993e-06, 'epoch': 5.05}\n",
      "{'loss': 0.5898, 'grad_norm': 41.86005783081055, 'learning_rate': 5.535714285714286e-06, 'epoch': 5.06}\n",
      "{'loss': 0.4549, 'grad_norm': 43.204734802246094, 'learning_rate': 5.493421052631579e-06, 'epoch': 5.08}\n",
      "{'loss': 0.4491, 'grad_norm': 42.650272369384766, 'learning_rate': 5.451127819548873e-06, 'epoch': 5.09}\n",
      "{'loss': 0.4286, 'grad_norm': 17.838783264160156, 'learning_rate': 5.408834586466166e-06, 'epoch': 5.11}\n",
      "{'loss': 0.4726, 'grad_norm': 35.171722412109375, 'learning_rate': 5.366541353383458e-06, 'epoch': 5.12}\n",
      "{'loss': 0.8257, 'grad_norm': 23.169376373291016, 'learning_rate': 5.3242481203007524e-06, 'epoch': 5.14}\n",
      "{'loss': 0.5353, 'grad_norm': 41.24907684326172, 'learning_rate': 5.281954887218046e-06, 'epoch': 5.15}\n",
      "{'loss': 0.5392, 'grad_norm': 23.808895111083984, 'learning_rate': 5.239661654135338e-06, 'epoch': 5.17}\n",
      "{'loss': 0.4229, 'grad_norm': 17.006370544433594, 'learning_rate': 5.197368421052632e-06, 'epoch': 5.18}\n",
      "{'loss': 0.5172, 'grad_norm': 16.310420989990234, 'learning_rate': 5.1550751879699254e-06, 'epoch': 5.2}\n",
      "{'loss': 0.6748, 'grad_norm': 55.419944763183594, 'learning_rate': 5.112781954887218e-06, 'epoch': 5.21}\n",
      "{'loss': 0.5302, 'grad_norm': 16.55910873413086, 'learning_rate': 5.070488721804512e-06, 'epoch': 5.23}\n",
      "{'loss': 0.5443, 'grad_norm': 1.140906810760498, 'learning_rate': 5.028195488721805e-06, 'epoch': 5.24}\n",
      "{'loss': 0.5236, 'grad_norm': 47.81314468383789, 'learning_rate': 4.985902255639098e-06, 'epoch': 5.25}\n",
      "{'loss': 0.4812, 'grad_norm': 16.99368667602539, 'learning_rate': 4.943609022556392e-06, 'epoch': 5.27}\n",
      "{'loss': 0.3277, 'grad_norm': 14.533183097839355, 'learning_rate': 4.901315789473685e-06, 'epoch': 5.28}\n",
      "{'loss': 0.3738, 'grad_norm': 13.1793212890625, 'learning_rate': 4.859022556390977e-06, 'epoch': 5.3}\n",
      "{'loss': 0.6682, 'grad_norm': 44.95590591430664, 'learning_rate': 4.8167293233082714e-06, 'epoch': 5.31}\n",
      "{'loss': 0.6049, 'grad_norm': 12.486384391784668, 'learning_rate': 4.774436090225565e-06, 'epoch': 5.33}\n",
      "{'loss': 0.4045, 'grad_norm': 16.81228256225586, 'learning_rate': 4.732142857142857e-06, 'epoch': 5.34}\n",
      "{'loss': 0.4467, 'grad_norm': 40.021575927734375, 'learning_rate': 4.689849624060151e-06, 'epoch': 5.36}\n",
      "{'loss': 0.4862, 'grad_norm': 32.22958755493164, 'learning_rate': 4.6475563909774444e-06, 'epoch': 5.37}\n",
      "{'loss': 0.407, 'grad_norm': 72.03997802734375, 'learning_rate': 4.605263157894737e-06, 'epoch': 5.39}\n",
      "{'loss': 0.9168, 'grad_norm': 84.92304992675781, 'learning_rate': 4.562969924812031e-06, 'epoch': 5.4}\n",
      "{'loss': 0.5599, 'grad_norm': 71.6428451538086, 'learning_rate': 4.520676691729324e-06, 'epoch': 5.42}\n",
      "{'loss': 0.5754, 'grad_norm': 21.52141571044922, 'learning_rate': 4.478383458646617e-06, 'epoch': 5.43}\n",
      "{'loss': 0.4547, 'grad_norm': 3.0816030502319336, 'learning_rate': 4.43609022556391e-06, 'epoch': 5.45}\n",
      "{'loss': 0.6491, 'grad_norm': 10.907073020935059, 'learning_rate': 4.393796992481203e-06, 'epoch': 5.46}\n",
      "{'loss': 0.6073, 'grad_norm': 27.69318199157715, 'learning_rate': 4.351503759398496e-06, 'epoch': 5.48}\n",
      "{'loss': 0.5145, 'grad_norm': 29.241050720214844, 'learning_rate': 4.30921052631579e-06, 'epoch': 5.49}\n",
      "{'loss': 0.2648, 'grad_norm': 1.510179877281189, 'learning_rate': 4.266917293233083e-06, 'epoch': 5.51}\n",
      "{'loss': 0.4502, 'grad_norm': 15.52469539642334, 'learning_rate': 4.224624060150376e-06, 'epoch': 5.52}\n",
      "{'loss': 0.6793, 'grad_norm': 51.88794708251953, 'learning_rate': 4.182330827067669e-06, 'epoch': 5.54}\n",
      "{'loss': 0.6041, 'grad_norm': 55.738975524902344, 'learning_rate': 4.140037593984963e-06, 'epoch': 5.55}\n",
      "{'loss': 0.6086, 'grad_norm': 19.206880569458008, 'learning_rate': 4.097744360902256e-06, 'epoch': 5.57}\n",
      "{'loss': 0.5277, 'grad_norm': 21.280256271362305, 'learning_rate': 4.055451127819549e-06, 'epoch': 5.58}\n",
      "{'loss': 0.6028, 'grad_norm': 31.6082820892334, 'learning_rate': 4.013157894736842e-06, 'epoch': 5.6}\n",
      "{'loss': 0.3566, 'grad_norm': 15.779048919677734, 'learning_rate': 3.970864661654136e-06, 'epoch': 5.61}\n",
      "{'loss': 0.4328, 'grad_norm': 10.447160720825195, 'learning_rate': 3.928571428571429e-06, 'epoch': 5.62}\n",
      "{'loss': 0.5419, 'grad_norm': 22.252307891845703, 'learning_rate': 3.886278195488722e-06, 'epoch': 5.64}\n",
      "{'loss': 0.6693, 'grad_norm': 26.620336532592773, 'learning_rate': 3.843984962406015e-06, 'epoch': 5.65}\n",
      "{'loss': 0.4536, 'grad_norm': 11.911888122558594, 'learning_rate': 3.8016917293233086e-06, 'epoch': 5.67}\n",
      "{'loss': 0.4229, 'grad_norm': 19.64629554748535, 'learning_rate': 3.7593984962406014e-06, 'epoch': 5.68}\n",
      "{'loss': 0.4804, 'grad_norm': 12.03242015838623, 'learning_rate': 3.717105263157895e-06, 'epoch': 5.7}\n",
      "{'loss': 0.5395, 'grad_norm': 7.261569499969482, 'learning_rate': 3.6748120300751883e-06, 'epoch': 5.71}\n",
      "{'loss': 0.4657, 'grad_norm': 13.511953353881836, 'learning_rate': 3.632518796992481e-06, 'epoch': 5.73}\n",
      "{'loss': 0.4263, 'grad_norm': 35.0676383972168, 'learning_rate': 3.590225563909775e-06, 'epoch': 5.74}\n",
      "{'loss': 0.4485, 'grad_norm': 54.07756423950195, 'learning_rate': 3.547932330827068e-06, 'epoch': 5.76}\n",
      "{'loss': 0.6142, 'grad_norm': 30.959110260009766, 'learning_rate': 3.505639097744361e-06, 'epoch': 5.77}\n",
      "{'loss': 0.4243, 'grad_norm': 17.732345581054688, 'learning_rate': 3.4633458646616546e-06, 'epoch': 5.79}\n",
      "{'loss': 0.6482, 'grad_norm': 21.65946388244629, 'learning_rate': 3.421052631578948e-06, 'epoch': 5.8}\n",
      "{'loss': 0.5852, 'grad_norm': 34.33080291748047, 'learning_rate': 3.3787593984962407e-06, 'epoch': 5.82}\n",
      "{'loss': 0.5338, 'grad_norm': 23.12537956237793, 'learning_rate': 3.336466165413534e-06, 'epoch': 5.83}\n",
      "{'loss': 0.7439, 'grad_norm': 14.198922157287598, 'learning_rate': 3.2941729323308276e-06, 'epoch': 5.85}\n",
      "{'loss': 0.5781, 'grad_norm': 44.558834075927734, 'learning_rate': 3.2518796992481204e-06, 'epoch': 5.86}\n",
      "{'loss': 0.6245, 'grad_norm': 55.39570999145508, 'learning_rate': 3.2095864661654137e-06, 'epoch': 5.88}\n",
      "{'loss': 0.4584, 'grad_norm': 22.778413772583008, 'learning_rate': 3.1672932330827073e-06, 'epoch': 5.89}\n",
      "{'loss': 0.3899, 'grad_norm': 53.16616439819336, 'learning_rate': 3.125e-06, 'epoch': 5.91}\n",
      "{'loss': 0.4934, 'grad_norm': 32.0245361328125, 'learning_rate': 3.0827067669172934e-06, 'epoch': 5.92}\n",
      "{'loss': 0.5804, 'grad_norm': 67.61837768554688, 'learning_rate': 3.040413533834587e-06, 'epoch': 5.94}\n",
      "{'loss': 0.688, 'grad_norm': 8.761306762695312, 'learning_rate': 2.99812030075188e-06, 'epoch': 5.95}\n",
      "{'loss': 0.4793, 'grad_norm': 13.07691478729248, 'learning_rate': 2.955827067669173e-06, 'epoch': 5.97}\n",
      "{'loss': 0.5024, 'grad_norm': 16.2424259185791, 'learning_rate': 2.913533834586467e-06, 'epoch': 5.98}\n",
      "{'loss': 0.7102, 'grad_norm': 55.03977966308594, 'learning_rate': 2.8712406015037596e-06, 'epoch': 6.0}\n"
     ]
    },
    {
     "data": {
      "application/vnd.jupyter.widget-view+json": {
       "model_id": "067feb4773064c7aa02143763f34718a",
       "version_major": 2,
       "version_minor": 0
      },
      "text/plain": [
       "  0%|          | 0/138 [00:00<?, ?it/s]"
      ]
     },
     "metadata": {},
     "output_type": "display_data"
    },
    {
     "name": "stdout",
     "output_type": "stream",
     "text": [
      "{'eval_runtime': 399.2398, 'eval_samples_per_second': 2.765, 'eval_steps_per_second': 0.346, 'epoch': 6.0}\n",
      "{'loss': 0.6185, 'grad_norm': 19.794921875, 'learning_rate': 2.828947368421053e-06, 'epoch': 6.01}\n",
      "{'loss': 0.5129, 'grad_norm': 32.24275588989258, 'learning_rate': 2.7866541353383457e-06, 'epoch': 6.02}\n",
      "{'loss': 0.5677, 'grad_norm': 17.371566772460938, 'learning_rate': 2.7443609022556394e-06, 'epoch': 6.04}\n",
      "{'loss': 0.5289, 'grad_norm': 24.890134811401367, 'learning_rate': 2.7020676691729326e-06, 'epoch': 6.05}\n",
      "{'loss': 0.6033, 'grad_norm': 47.13253402709961, 'learning_rate': 2.6597744360902255e-06, 'epoch': 6.07}\n",
      "{'loss': 0.4618, 'grad_norm': 21.815776824951172, 'learning_rate': 2.617481203007519e-06, 'epoch': 6.08}\n",
      "{'loss': 0.4378, 'grad_norm': 14.63692855834961, 'learning_rate': 2.5751879699248124e-06, 'epoch': 6.1}\n",
      "{'loss': 0.3513, 'grad_norm': 55.30411148071289, 'learning_rate': 2.5328947368421052e-06, 'epoch': 6.11}\n",
      "{'loss': 0.5031, 'grad_norm': 52.37452697753906, 'learning_rate': 2.4906015037593985e-06, 'epoch': 6.13}\n",
      "{'loss': 0.5333, 'grad_norm': 27.415977478027344, 'learning_rate': 2.448308270676692e-06, 'epoch': 6.14}\n",
      "{'loss': 0.5426, 'grad_norm': 17.577688217163086, 'learning_rate': 2.406015037593985e-06, 'epoch': 6.16}\n",
      "{'loss': 0.6259, 'grad_norm': 25.074378967285156, 'learning_rate': 2.3637218045112782e-06, 'epoch': 6.17}\n",
      "{'loss': 0.4197, 'grad_norm': 18.685012817382812, 'learning_rate': 2.321428571428572e-06, 'epoch': 6.19}\n",
      "{'loss': 0.7368, 'grad_norm': 32.567989349365234, 'learning_rate': 2.2791353383458647e-06, 'epoch': 6.2}\n",
      "{'loss': 0.3965, 'grad_norm': 34.56188201904297, 'learning_rate': 2.236842105263158e-06, 'epoch': 6.22}\n",
      "{'loss': 0.3256, 'grad_norm': 41.69496536254883, 'learning_rate': 2.1945488721804516e-06, 'epoch': 6.23}\n",
      "{'loss': 0.5604, 'grad_norm': 11.16845417022705, 'learning_rate': 2.1522556390977445e-06, 'epoch': 6.25}\n",
      "{'loss': 0.3608, 'grad_norm': 15.315767288208008, 'learning_rate': 2.1099624060150377e-06, 'epoch': 6.26}\n",
      "{'loss': 0.445, 'grad_norm': 4.128531455993652, 'learning_rate': 2.067669172932331e-06, 'epoch': 6.28}\n",
      "{'loss': 0.5505, 'grad_norm': 51.0404052734375, 'learning_rate': 2.0253759398496242e-06, 'epoch': 6.29}\n",
      "{'loss': 0.5379, 'grad_norm': 9.560561180114746, 'learning_rate': 1.9830827067669175e-06, 'epoch': 6.31}\n",
      "{'loss': 0.3821, 'grad_norm': 3.722785472869873, 'learning_rate': 1.9407894736842107e-06, 'epoch': 6.32}\n",
      "{'loss': 0.4346, 'grad_norm': 11.41561222076416, 'learning_rate': 1.898496240601504e-06, 'epoch': 6.34}\n",
      "{'loss': 0.3577, 'grad_norm': 3.570749044418335, 'learning_rate': 1.856203007518797e-06, 'epoch': 6.35}\n",
      "{'loss': 0.4227, 'grad_norm': 8.745579719543457, 'learning_rate': 1.8139097744360902e-06, 'epoch': 6.37}\n",
      "{'loss': 0.3215, 'grad_norm': 44.83097839355469, 'learning_rate': 1.7716165413533837e-06, 'epoch': 6.38}\n",
      "{'loss': 0.3784, 'grad_norm': 22.46253776550293, 'learning_rate': 1.7293233082706767e-06, 'epoch': 6.39}\n",
      "{'loss': 0.3536, 'grad_norm': 5.231961727142334, 'learning_rate': 1.68703007518797e-06, 'epoch': 6.41}\n",
      "{'loss': 0.3602, 'grad_norm': 9.258927345275879, 'learning_rate': 1.6447368421052635e-06, 'epoch': 6.42}\n",
      "{'loss': 0.6083, 'grad_norm': 30.36258316040039, 'learning_rate': 1.6024436090225565e-06, 'epoch': 6.44}\n",
      "{'loss': 0.4658, 'grad_norm': 12.83320426940918, 'learning_rate': 1.5601503759398497e-06, 'epoch': 6.45}\n",
      "{'loss': 0.4754, 'grad_norm': 19.52073860168457, 'learning_rate': 1.5178571428571428e-06, 'epoch': 6.47}\n",
      "{'loss': 0.4392, 'grad_norm': 22.48356819152832, 'learning_rate': 1.4755639097744362e-06, 'epoch': 6.48}\n",
      "{'loss': 0.5679, 'grad_norm': 12.447044372558594, 'learning_rate': 1.4332706766917295e-06, 'epoch': 6.5}\n",
      "{'loss': 0.3993, 'grad_norm': 17.98676300048828, 'learning_rate': 1.3909774436090225e-06, 'epoch': 6.51}\n",
      "{'loss': 0.3246, 'grad_norm': 11.321002960205078, 'learning_rate': 1.348684210526316e-06, 'epoch': 6.53}\n",
      "{'loss': 0.4399, 'grad_norm': 17.65456199645996, 'learning_rate': 1.3063909774436092e-06, 'epoch': 6.54}\n",
      "{'loss': 0.4025, 'grad_norm': 21.976526260375977, 'learning_rate': 1.2640977443609023e-06, 'epoch': 6.56}\n",
      "{'loss': 0.5582, 'grad_norm': 20.212257385253906, 'learning_rate': 1.2218045112781955e-06, 'epoch': 6.57}\n",
      "{'loss': 0.5589, 'grad_norm': 31.253934860229492, 'learning_rate': 1.1795112781954888e-06, 'epoch': 6.59}\n",
      "{'loss': 0.4319, 'grad_norm': 13.2333402633667, 'learning_rate': 1.137218045112782e-06, 'epoch': 6.6}\n",
      "{'loss': 0.6335, 'grad_norm': 33.653751373291016, 'learning_rate': 1.0949248120300753e-06, 'epoch': 6.62}\n",
      "{'loss': 0.4145, 'grad_norm': 14.458768844604492, 'learning_rate': 1.0526315789473685e-06, 'epoch': 6.63}\n",
      "{'loss': 0.5808, 'grad_norm': 7.352836608886719, 'learning_rate': 1.0103383458646618e-06, 'epoch': 6.65}\n",
      "{'loss': 0.4879, 'grad_norm': 28.79302978515625, 'learning_rate': 9.68045112781955e-07, 'epoch': 6.66}\n",
      "{'loss': 0.4413, 'grad_norm': 39.52197265625, 'learning_rate': 9.257518796992482e-07, 'epoch': 6.68}\n",
      "{'loss': 0.403, 'grad_norm': 41.23985290527344, 'learning_rate': 8.834586466165414e-07, 'epoch': 6.69}\n",
      "{'loss': 0.666, 'grad_norm': 46.87055969238281, 'learning_rate': 8.411654135338347e-07, 'epoch': 6.71}\n",
      "{'loss': 0.3758, 'grad_norm': 52.561004638671875, 'learning_rate': 7.988721804511279e-07, 'epoch': 6.72}\n",
      "{'loss': 0.2753, 'grad_norm': 22.274932861328125, 'learning_rate': 7.565789473684211e-07, 'epoch': 6.74}\n",
      "{'loss': 0.4077, 'grad_norm': 15.434982299804688, 'learning_rate': 7.142857142857143e-07, 'epoch': 6.75}\n",
      "{'loss': 0.4248, 'grad_norm': 53.28901672363281, 'learning_rate': 6.719924812030077e-07, 'epoch': 6.76}\n",
      "{'loss': 0.3482, 'grad_norm': 23.448400497436523, 'learning_rate': 6.296992481203008e-07, 'epoch': 6.78}\n",
      "{'loss': 0.4882, 'grad_norm': 64.41215515136719, 'learning_rate': 5.874060150375941e-07, 'epoch': 6.79}\n",
      "{'loss': 0.3972, 'grad_norm': 18.61127471923828, 'learning_rate': 5.451127819548872e-07, 'epoch': 6.81}\n",
      "{'loss': 0.5465, 'grad_norm': 21.609050750732422, 'learning_rate': 5.028195488721805e-07, 'epoch': 6.82}\n",
      "{'loss': 0.4857, 'grad_norm': 16.375661849975586, 'learning_rate': 4.605263157894737e-07, 'epoch': 6.84}\n",
      "{'loss': 0.5145, 'grad_norm': 35.834373474121094, 'learning_rate': 4.1823308270676695e-07, 'epoch': 6.85}\n",
      "{'loss': 0.5703, 'grad_norm': 21.999557495117188, 'learning_rate': 3.7593984962406015e-07, 'epoch': 6.87}\n",
      "{'loss': 0.6547, 'grad_norm': 13.535197257995605, 'learning_rate': 3.336466165413534e-07, 'epoch': 6.88}\n",
      "{'loss': 0.5696, 'grad_norm': 42.399723052978516, 'learning_rate': 2.9135338345864665e-07, 'epoch': 6.9}\n",
      "{'loss': 0.3761, 'grad_norm': 17.665912628173828, 'learning_rate': 2.4906015037593985e-07, 'epoch': 6.91}\n",
      "{'loss': 0.3246, 'grad_norm': 43.796119689941406, 'learning_rate': 2.067669172932331e-07, 'epoch': 6.93}\n",
      "{'loss': 0.4367, 'grad_norm': 51.993743896484375, 'learning_rate': 1.6447368421052632e-07, 'epoch': 6.94}\n",
      "{'loss': 0.5371, 'grad_norm': 12.320605278015137, 'learning_rate': 1.2218045112781954e-07, 'epoch': 6.96}\n",
      "{'loss': 0.4701, 'grad_norm': 21.82286834716797, 'learning_rate': 7.988721804511278e-08, 'epoch': 6.97}\n",
      "{'loss': 0.3773, 'grad_norm': 39.5008659362793, 'learning_rate': 3.7593984962406015e-08, 'epoch': 6.99}\n"
     ]
    },
    {
     "data": {
      "application/vnd.jupyter.widget-view+json": {
       "model_id": "cbbf93e749854aea872d4f7e0193cd4a",
       "version_major": 2,
       "version_minor": 0
      },
      "text/plain": [
       "  0%|          | 0/138 [00:00<?, ?it/s]"
      ]
     },
     "metadata": {},
     "output_type": "display_data"
    },
    {
     "name": "stdout",
     "output_type": "stream",
     "text": [
      "{'eval_runtime': 492.1988, 'eval_samples_per_second': 2.243, 'eval_steps_per_second': 0.28, 'epoch': 7.0}\n",
      "{'train_runtime': 44156.7606, 'train_samples_per_second': 0.771, 'train_steps_per_second': 0.096, 'train_loss': 0.7852656628964538, 'epoch': 7.0}\n"
     ]
    },
    {
     "data": {
      "text/plain": [
       "TrainOutput(global_step=4256, training_loss=0.7852656628964538, metrics={'train_runtime': 44156.7606, 'train_samples_per_second': 0.771, 'train_steps_per_second': 0.096, 'train_loss': 0.7852656628964538, 'epoch': 7.0})"
      ]
     },
     "execution_count": 41,
     "metadata": {},
     "output_type": "execute_result"
    }
   ],
   "source": [
    "trainer.train()"
   ]
  },
  {
   "cell_type": "markdown",
   "metadata": {},
   "source": [
    "- ***global_step=4256:*** This indicates that the total number of training steps (batches processed) during the entire training was 4,256. Each step corresponds to the optimizer updating the model's weights once.\n",
    "- ***training_loss=0.785:***  This is the average loss over all training steps. A loss value closer to 0 typically indicates better performance, and this value suggests that the model has learned to a reasonable degree from the training data.\n",
    "- ***train_runtime=44156.76:*** The training process took approximately 44,156.76 seconds, which is about 12.26 hours.\n",
    "- ***train_samples_per_second=0.771:*** This metric shows the throughput of the training process, with the model processing approximately 0.771 samples per second.\n",
    "- ***train_steps_per_second=0.096:*** This metric shows 0.096 training steps per second. Given that each step involves processing a batch of data, this number helps assess the training speed.\n",
    "- ***epoch=7.0:*** This indicates that the training process ran for 7 epochs, meaning the entire dataset was passed through the model seven times."
   ]
  },
  {
   "cell_type": "code",
   "execution_count": 76,
   "metadata": {},
   "outputs": [
    {
     "data": {
      "application/vnd.jupyter.widget-view+json": {
       "model_id": "b2df3cb30e154a4f83f6f7e367bde2e8",
       "version_major": 2,
       "version_minor": 0
      },
      "text/plain": [
       "  0%|          | 0/138 [00:00<?, ?it/s]"
      ]
     },
     "metadata": {},
     "output_type": "display_data"
    },
    {
     "data": {
      "application/vnd.jupyter.widget-view+json": {
       "model_id": "8f4a96a807d6453a834632430c4383c3",
       "version_major": 2,
       "version_minor": 0
      },
      "text/plain": [
       "  0%|          | 0/582 [00:00<?, ?it/s]"
      ]
     },
     "metadata": {},
     "output_type": "display_data"
    },
    {
     "data": {
      "text/plain": [
       "{'exact_match': 62.54295532646048, 'f1': 64.62842582348824}"
      ]
     },
     "execution_count": 76,
     "metadata": {},
     "output_type": "execute_result"
    }
   ],
   "source": [
    "predictions, _, _ = trainer.predict(validation_dataset)\n",
    "start_logits, end_logits = predictions\n",
    "compute_metrics(start_logits, end_logits, validation_dataset, val_dataset2)"
   ]
  },
  {
   "cell_type": "markdown",
   "metadata": {},
   "source": [
    "# Improvement of the Model\n",
    "### Before Fine-tuning:\n",
    "The outcomes demonstrate that after fine-tuning, the model's performance on the validation dataset improved noticeably and significantly\n",
    "- ***Exact Match(EM)***: The model's predictions only roughly matched the ground truth in 2.06% of cases. This suggests that the model was probably having a lot of difficulty comprehending the context and giving accurate answers.\n",
    "- ***F1 Score***: Even in cases where the answers produced by the model did not match precisely, they were generally not very close to the correct answers, according to the F1 Score, which takes into consideration the partial overlap between the predicted and true answers. This was another very low score.\n",
    "\n",
    "### After Fine-tuning:\n",
    "- ***Exact Match(EM)***: After making adjustments, the EM score increased to more than 62%, meaning that most of the model's responses were now accurate. This indicates that the model has made significant progress in comprehending the question and its context.\n",
    "- ***F1 Score***: In a similar vein, the F1 Score increased significantly to almost 65%. This indicates that a greater number of the model's responses are entirely accurate as well as that partial responses are substantially closer to the truth because the F1 Score takes both precision and recall into account."
   ]
  },
  {
   "cell_type": "code",
   "execution_count": 42,
   "metadata": {},
   "outputs": [],
   "source": [
    "# Convert logged metrics to DataFrame\n",
    "metrics_df = dataframe_logger.get_dataframe()"
   ]
  },
  {
   "cell_type": "code",
   "execution_count": 43,
   "metadata": {},
   "outputs": [],
   "source": [
    "metrics_df = metrics_df[['loss', 'grad_norm', 'learning_rate', 'epoch']]"
   ]
  },
  {
   "cell_type": "code",
   "execution_count": 44,
   "metadata": {},
   "outputs": [
    {
     "data": {
      "text/html": [
       "<div>\n",
       "<style scoped>\n",
       "    .dataframe tbody tr th:only-of-type {\n",
       "        vertical-align: middle;\n",
       "    }\n",
       "\n",
       "    .dataframe tbody tr th {\n",
       "        vertical-align: top;\n",
       "    }\n",
       "\n",
       "    .dataframe thead th {\n",
       "        text-align: right;\n",
       "    }\n",
       "</style>\n",
       "<table border=\"1\" class=\"dataframe\">\n",
       "  <thead>\n",
       "    <tr style=\"text-align: right;\">\n",
       "      <th></th>\n",
       "      <th>loss</th>\n",
       "      <th>grad_norm</th>\n",
       "      <th>learning_rate</th>\n",
       "      <th>epoch</th>\n",
       "    </tr>\n",
       "  </thead>\n",
       "  <tbody>\n",
       "    <tr>\n",
       "      <th>0</th>\n",
       "      <td>2.6177</td>\n",
       "      <td>76.083885</td>\n",
       "      <td>0.00002</td>\n",
       "      <td>0.01</td>\n",
       "    </tr>\n",
       "    <tr>\n",
       "      <th>1</th>\n",
       "      <td>2.0077</td>\n",
       "      <td>48.948952</td>\n",
       "      <td>0.00002</td>\n",
       "      <td>0.03</td>\n",
       "    </tr>\n",
       "    <tr>\n",
       "      <th>2</th>\n",
       "      <td>1.4159</td>\n",
       "      <td>34.519791</td>\n",
       "      <td>0.00002</td>\n",
       "      <td>0.04</td>\n",
       "    </tr>\n",
       "    <tr>\n",
       "      <th>3</th>\n",
       "      <td>1.5036</td>\n",
       "      <td>28.149858</td>\n",
       "      <td>0.00002</td>\n",
       "      <td>0.06</td>\n",
       "    </tr>\n",
       "    <tr>\n",
       "      <th>4</th>\n",
       "      <td>1.4324</td>\n",
       "      <td>22.512527</td>\n",
       "      <td>0.00002</td>\n",
       "      <td>0.07</td>\n",
       "    </tr>\n",
       "  </tbody>\n",
       "</table>\n",
       "</div>"
      ],
      "text/plain": [
       "     loss  grad_norm  learning_rate  epoch\n",
       "0  2.6177  76.083885        0.00002   0.01\n",
       "1  2.0077  48.948952        0.00002   0.03\n",
       "2  1.4159  34.519791        0.00002   0.04\n",
       "3  1.5036  28.149858        0.00002   0.06\n",
       "4  1.4324  22.512527        0.00002   0.07"
      ]
     },
     "execution_count": 44,
     "metadata": {},
     "output_type": "execute_result"
    }
   ],
   "source": [
    "metrics_df.head()"
   ]
  },
  {
   "cell_type": "markdown",
   "metadata": {},
   "source": [
    "- ***Loss:*** Represents the loss function value calculated at a given epoch.\n",
    "- ***grad_norm:*** Refers to the norm (magnitude) of the gradient vector. This is an important metric for understanding the stability of the training process. High gradient norms can indicate issues like exploding gradients.\n",
    "- ***learning_rate:*** Shows the learning rate at each epoch. This parameter controls the size of the steps the optimizer takes while updating the weights. Changes in the learning rate can significantly affect model training dynamics.\n",
    "- ***Epoch:*** Indicates the progression of the training process in terms of epochs. An epoch represents one complete pass through the entire training dataset."
   ]
  },
  {
   "cell_type": "markdown",
   "metadata": {},
   "source": [
    "# Monitoring the Model Training"
   ]
  },
  {
   "cell_type": "code",
   "execution_count": 45,
   "metadata": {},
   "outputs": [
    {
     "data": {
      "application/vnd.plotly.v1+json": {
       "config": {
        "plotlyServerURL": "https://plot.ly"
       },
       "data": [
        {
         "hovertemplate": "Epoch=%{x}<br>Loss=%{y}<extra></extra>",
         "legendgroup": "",
         "line": {
          "color": "#636efa",
          "dash": "solid"
         },
         "marker": {
          "symbol": "circle"
         },
         "mode": "lines+markers",
         "name": "",
         "orientation": "v",
         "showlegend": false,
         "type": "scatter",
         "x": [
          0.01,
          0.03,
          0.04,
          0.06,
          0.07,
          0.09,
          0.1,
          0.12,
          0.13,
          0.15,
          0.16,
          0.18,
          0.19,
          0.21,
          0.22,
          0.24,
          0.25,
          0.27,
          0.28,
          0.3,
          0.31,
          0.33,
          0.34,
          0.36,
          0.37,
          0.38,
          0.4,
          0.41,
          0.43,
          0.44,
          0.46,
          0.47,
          0.49,
          0.5,
          0.52,
          0.53,
          0.55,
          0.56,
          0.58,
          0.59,
          0.61,
          0.62,
          0.64,
          0.65,
          0.67,
          0.68,
          0.7,
          0.71,
          0.73,
          0.74,
          0.75,
          0.77,
          0.78,
          0.8,
          0.81,
          0.83,
          0.84,
          0.86,
          0.87,
          0.89,
          0.9,
          0.92,
          0.93,
          0.95,
          0.96,
          0.98,
          0.99,
          1,
          1.01,
          1.02,
          1.04,
          1.05,
          1.07,
          1.08,
          1.1,
          1.11,
          1.12,
          1.14,
          1.15,
          1.17,
          1.18,
          1.2,
          1.21,
          1.23,
          1.24,
          1.26,
          1.27,
          1.29,
          1.3,
          1.32,
          1.33,
          1.35,
          1.36,
          1.38,
          1.39,
          1.41,
          1.42,
          1.44,
          1.45,
          1.47,
          1.48,
          1.5,
          1.51,
          1.52,
          1.54,
          1.55,
          1.57,
          1.58,
          1.6,
          1.61,
          1.63,
          1.64,
          1.66,
          1.67,
          1.69,
          1.7,
          1.72,
          1.73,
          1.75,
          1.76,
          1.78,
          1.79,
          1.81,
          1.82,
          1.84,
          1.85,
          1.87,
          1.88,
          1.89,
          1.91,
          1.92,
          1.94,
          1.95,
          1.97,
          1.98,
          2,
          2,
          2.01,
          2.03,
          2.04,
          2.06,
          2.07,
          2.09,
          2.1,
          2.12,
          2.13,
          2.15,
          2.16,
          2.18,
          2.19,
          2.21,
          2.22,
          2.24,
          2.25,
          2.26,
          2.28,
          2.29,
          2.31,
          2.32,
          2.34,
          2.35,
          2.37,
          2.38,
          2.4,
          2.41,
          2.43,
          2.44,
          2.46,
          2.47,
          2.49,
          2.5,
          2.52,
          2.53,
          2.55,
          2.56,
          2.58,
          2.59,
          2.61,
          2.62,
          2.63,
          2.65,
          2.66,
          2.68,
          2.69,
          2.71,
          2.72,
          2.74,
          2.75,
          2.77,
          2.78,
          2.8,
          2.81,
          2.83,
          2.84,
          2.86,
          2.87,
          2.89,
          2.9,
          2.92,
          2.93,
          2.95,
          2.96,
          2.98,
          2.99,
          3,
          3,
          3.02,
          3.03,
          3.05,
          3.06,
          3.08,
          3.09,
          3.11,
          3.12,
          3.14,
          3.15,
          3.17,
          3.18,
          3.2,
          3.21,
          3.23,
          3.24,
          3.26,
          3.27,
          3.29,
          3.3,
          3.32,
          3.33,
          3.35,
          3.36,
          3.38,
          3.39,
          3.4,
          3.42,
          3.43,
          3.45,
          3.46,
          3.48,
          3.49,
          3.51,
          3.52,
          3.54,
          3.55,
          3.57,
          3.58,
          3.6,
          3.61,
          3.63,
          3.64,
          3.66,
          3.67,
          3.69,
          3.7,
          3.72,
          3.73,
          3.75,
          3.76,
          3.77,
          3.79,
          3.8,
          3.82,
          3.83,
          3.85,
          3.86,
          3.88,
          3.89,
          3.91,
          3.92,
          3.94,
          3.95,
          3.97,
          3.98,
          4,
          4,
          4.01,
          4.03,
          4.04,
          4.06,
          4.07,
          4.09,
          4.1,
          4.12,
          4.13,
          4.14,
          4.16,
          4.17,
          4.19,
          4.2,
          4.22,
          4.23,
          4.25,
          4.26,
          4.28,
          4.29,
          4.31,
          4.32,
          4.34,
          4.35,
          4.37,
          4.38,
          4.4,
          4.41,
          4.43,
          4.44,
          4.46,
          4.47,
          4.49,
          4.5,
          4.51,
          4.53,
          4.54,
          4.56,
          4.57,
          4.59,
          4.6,
          4.62,
          4.63,
          4.65,
          4.66,
          4.68,
          4.69,
          4.71,
          4.72,
          4.74,
          4.75,
          4.77,
          4.78,
          4.8,
          4.81,
          4.83,
          4.84,
          4.86,
          4.87,
          4.88,
          4.9,
          4.91,
          4.93,
          4.94,
          4.96,
          4.97,
          4.99,
          5,
          5,
          5.02,
          5.03,
          5.05,
          5.06,
          5.08,
          5.09,
          5.11,
          5.12,
          5.14,
          5.15,
          5.17,
          5.18,
          5.2,
          5.21,
          5.23,
          5.24,
          5.25,
          5.27,
          5.28,
          5.3,
          5.31,
          5.33,
          5.34,
          5.36,
          5.37,
          5.39,
          5.4,
          5.42,
          5.43,
          5.45,
          5.46,
          5.48,
          5.49,
          5.51,
          5.52,
          5.54,
          5.55,
          5.57,
          5.58,
          5.6,
          5.61,
          5.62,
          5.64,
          5.65,
          5.67,
          5.68,
          5.7,
          5.71,
          5.73,
          5.74,
          5.76,
          5.77,
          5.79,
          5.8,
          5.82,
          5.83,
          5.85,
          5.86,
          5.88,
          5.89,
          5.91,
          5.92,
          5.94,
          5.95,
          5.97,
          5.98,
          6,
          6,
          6.01,
          6.02,
          6.04,
          6.05,
          6.07,
          6.08,
          6.1,
          6.11,
          6.13,
          6.14,
          6.16,
          6.17,
          6.19,
          6.2,
          6.22,
          6.23,
          6.25,
          6.26,
          6.28,
          6.29,
          6.31,
          6.32,
          6.34,
          6.35,
          6.37,
          6.38,
          6.39,
          6.41,
          6.42,
          6.44,
          6.45,
          6.47,
          6.48,
          6.5,
          6.51,
          6.53,
          6.54,
          6.56,
          6.57,
          6.59,
          6.6,
          6.62,
          6.63,
          6.65,
          6.66,
          6.68,
          6.69,
          6.71,
          6.72,
          6.74,
          6.75,
          6.76,
          6.78,
          6.79,
          6.81,
          6.82,
          6.84,
          6.85,
          6.87,
          6.88,
          6.9,
          6.91,
          6.93,
          6.94,
          6.96,
          6.97,
          6.99,
          7,
          7
         ],
         "xaxis": "x",
         "y": [
          2.6177,
          2.0077,
          1.4159,
          1.5036,
          1.4324,
          1.1972,
          1.5444,
          1.2213,
          1.336,
          1.3735,
          0.9908,
          1.4635,
          1.8811,
          0.9648,
          1.5064,
          1.1235,
          1.0091,
          1.2433,
          0.9962,
          1.8512,
          1.1346,
          1.0649,
          0.7104,
          1.3082,
          1.6961,
          1.4578,
          1.1526,
          1.1108,
          1.1338,
          1.1585,
          1.1707,
          1.418,
          1.1895,
          0.9792,
          1.3117,
          1.0249,
          1.3126,
          1.167,
          1.3017,
          0.9812,
          1.6911,
          0.9631,
          0.9498,
          1.6478,
          0.7369,
          1.3594,
          1.4187,
          0.8123,
          1.4777,
          1.4532,
          0.9293,
          1.6501,
          1.4468,
          1.2772,
          1.264,
          1.3515,
          1.2247,
          0.8895,
          1.2333,
          1.3748,
          0.9524,
          1.507,
          1.2841,
          1.101,
          1.2013,
          1.3756,
          0.9579,
          null,
          0.7057,
          1.3871,
          0.927,
          1.1197,
          1.235,
          1.1141,
          1.0908,
          1.1644,
          1.114,
          1.2955,
          0.9456,
          1.0254,
          1.0429,
          0.8354,
          1.082,
          1.0381,
          0.9991,
          0.9633,
          0.9357,
          1.2339,
          1.1338,
          0.891,
          1.2223,
          0.6117,
          0.9715,
          1.0376,
          1.1425,
          0.9999,
          1.1043,
          1.04,
          1.0043,
          0.9375,
          0.554,
          0.6449,
          1.1134,
          0.8272,
          1.1832,
          0.9126,
          1.2888,
          0.9978,
          1.2635,
          0.8202,
          1.0206,
          1.0416,
          1.2958,
          0.9301,
          1.1421,
          1.1608,
          1.008,
          0.9821,
          0.794,
          0.7297,
          0.9285,
          1.0618,
          0.7745,
          1.0306,
          1.1416,
          0.7301,
          0.683,
          1.1048,
          1.2237,
          1.2353,
          0.929,
          1.2884,
          0.8123,
          0.9301,
          0.5983,
          1.1113,
          null,
          0.8016,
          0.7666,
          0.8554,
          0.7898,
          1.1208,
          0.9231,
          0.9971,
          0.7314,
          0.9519,
          1.0202,
          1.023,
          0.6835,
          0.7783,
          0.656,
          0.7949,
          0.9629,
          0.6292,
          0.8741,
          1.0294,
          0.6041,
          0.9187,
          0.8357,
          0.8032,
          0.9512,
          0.759,
          0.9293,
          0.8955,
          0.8468,
          0.8547,
          0.8305,
          0.7966,
          1.2254,
          1.1515,
          0.9047,
          0.7949,
          0.6976,
          0.7911,
          0.9635,
          0.7963,
          1.0061,
          0.6971,
          1.1376,
          0.8495,
          0.9018,
          0.6181,
          0.7156,
          0.9031,
          0.7629,
          0.9759,
          0.7749,
          0.9455,
          0.63,
          0.574,
          0.9078,
          0.6034,
          0.9164,
          0.7157,
          0.7954,
          0.6882,
          1.0186,
          0.9186,
          1.0076,
          0.7737,
          0.9837,
          0.8306,
          0.746,
          0.8701,
          null,
          0.8678,
          0.9648,
          0.5382,
          0.6433,
          0.5021,
          0.4462,
          0.9779,
          1.1472,
          0.7294,
          0.6983,
          0.4126,
          0.9042,
          0.8477,
          0.9698,
          0.6388,
          0.9261,
          0.6811,
          0.5599,
          0.4738,
          0.7499,
          0.5617,
          0.604,
          0.4569,
          0.9296,
          0.8238,
          0.4587,
          0.7285,
          1.0021,
          1.0215,
          0.7167,
          0.7773,
          0.7714,
          0.7993,
          0.8243,
          0.5061,
          0.6172,
          0.4697,
          0.8719,
          0.7411,
          0.8967,
          0.6959,
          0.7278,
          0.6558,
          0.7154,
          0.7243,
          0.932,
          0.5277,
          0.9049,
          0.7487,
          0.8974,
          0.5508,
          0.9751,
          0.6054,
          0.9996,
          0.5817,
          0.5355,
          0.7405,
          1.0357,
          0.4964,
          0.584,
          0.9748,
          0.903,
          0.6287,
          0.7463,
          0.6939,
          0.5592,
          0.5849,
          0.7434,
          null,
          0.4987,
          0.4699,
          0.5703,
          0.7188,
          0.4751,
          0.4126,
          0.8675,
          0.5789,
          0.7014,
          0.5572,
          0.5609,
          0.5952,
          0.8637,
          0.3053,
          0.4796,
          1.1142,
          0.3196,
          0.8528,
          0.3215,
          0.6728,
          0.64,
          0.6951,
          0.6299,
          0.4992,
          0.7718,
          0.5321,
          0.6453,
          0.9048,
          0.5716,
          0.4534,
          0.8297,
          0.8945,
          0.4634,
          0.7432,
          0.5418,
          0.7957,
          0.4907,
          0.6047,
          0.5731,
          0.5268,
          0.3301,
          0.5146,
          0.5885,
          0.7061,
          0.6987,
          0.5452,
          0.5704,
          0.6524,
          0.5871,
          0.7275,
          0.4759,
          0.755,
          0.8842,
          0.6154,
          0.64,
          0.4226,
          0.8252,
          0.7128,
          0.5408,
          0.5116,
          0.7467,
          0.6588,
          0.7829,
          0.607,
          0.598,
          0.524,
          0.8662,
          null,
          0.457,
          0.4881,
          0.5058,
          0.6857,
          0.5898,
          0.4549,
          0.4491,
          0.4286,
          0.4726,
          0.8257,
          0.5353,
          0.5392,
          0.4229,
          0.5172,
          0.6748,
          0.5302,
          0.5443,
          0.5236,
          0.4812,
          0.3277,
          0.3738,
          0.6682,
          0.6049,
          0.4045,
          0.4467,
          0.4862,
          0.407,
          0.9168,
          0.5599,
          0.5754,
          0.4547,
          0.6491,
          0.6073,
          0.5145,
          0.2648,
          0.4502,
          0.6793,
          0.6041,
          0.6086,
          0.5277,
          0.6028,
          0.3566,
          0.4328,
          0.5419,
          0.6693,
          0.4536,
          0.4229,
          0.4804,
          0.5395,
          0.4657,
          0.4263,
          0.4485,
          0.6142,
          0.4243,
          0.6482,
          0.5852,
          0.5338,
          0.7439,
          0.5781,
          0.6245,
          0.4584,
          0.3899,
          0.4934,
          0.5804,
          0.688,
          0.4793,
          0.5024,
          0.7102,
          null,
          0.6185,
          0.5129,
          0.5677,
          0.5289,
          0.6033,
          0.4618,
          0.4378,
          0.3513,
          0.5031,
          0.5333,
          0.5426,
          0.6259,
          0.4197,
          0.7368,
          0.3965,
          0.3256,
          0.5604,
          0.3608,
          0.445,
          0.5505,
          0.5379,
          0.3821,
          0.4346,
          0.3577,
          0.4227,
          0.3215,
          0.3784,
          0.3536,
          0.3602,
          0.6083,
          0.4658,
          0.4754,
          0.4392,
          0.5679,
          0.3993,
          0.3246,
          0.4399,
          0.4025,
          0.5582,
          0.5589,
          0.4319,
          0.6335,
          0.4145,
          0.5808,
          0.4879,
          0.4413,
          0.403,
          0.666,
          0.3758,
          0.2753,
          0.4077,
          0.4248,
          0.3482,
          0.4882,
          0.3972,
          0.5465,
          0.4857,
          0.5145,
          0.5703,
          0.6547,
          0.5696,
          0.3761,
          0.3246,
          0.4367,
          0.5371,
          0.4701,
          0.3773,
          null,
          null
         ],
         "yaxis": "y"
        }
       ],
       "layout": {
        "font": {
         "color": "RebeccaPurple",
         "family": "Courier New, monospace",
         "size": 12
        },
        "legend": {
         "tracegroupgap": 0
        },
        "showlegend": true,
        "template": {
         "data": {
          "bar": [
           {
            "error_x": {
             "color": "#2a3f5f"
            },
            "error_y": {
             "color": "#2a3f5f"
            },
            "marker": {
             "line": {
              "color": "#E5ECF6",
              "width": 0.5
             },
             "pattern": {
              "fillmode": "overlay",
              "size": 10,
              "solidity": 0.2
             }
            },
            "type": "bar"
           }
          ],
          "barpolar": [
           {
            "marker": {
             "line": {
              "color": "#E5ECF6",
              "width": 0.5
             },
             "pattern": {
              "fillmode": "overlay",
              "size": 10,
              "solidity": 0.2
             }
            },
            "type": "barpolar"
           }
          ],
          "carpet": [
           {
            "aaxis": {
             "endlinecolor": "#2a3f5f",
             "gridcolor": "white",
             "linecolor": "white",
             "minorgridcolor": "white",
             "startlinecolor": "#2a3f5f"
            },
            "baxis": {
             "endlinecolor": "#2a3f5f",
             "gridcolor": "white",
             "linecolor": "white",
             "minorgridcolor": "white",
             "startlinecolor": "#2a3f5f"
            },
            "type": "carpet"
           }
          ],
          "choropleth": [
           {
            "colorbar": {
             "outlinewidth": 0,
             "ticks": ""
            },
            "type": "choropleth"
           }
          ],
          "contour": [
           {
            "colorbar": {
             "outlinewidth": 0,
             "ticks": ""
            },
            "colorscale": [
             [
              0,
              "#0d0887"
             ],
             [
              0.1111111111111111,
              "#46039f"
             ],
             [
              0.2222222222222222,
              "#7201a8"
             ],
             [
              0.3333333333333333,
              "#9c179e"
             ],
             [
              0.4444444444444444,
              "#bd3786"
             ],
             [
              0.5555555555555556,
              "#d8576b"
             ],
             [
              0.6666666666666666,
              "#ed7953"
             ],
             [
              0.7777777777777778,
              "#fb9f3a"
             ],
             [
              0.8888888888888888,
              "#fdca26"
             ],
             [
              1,
              "#f0f921"
             ]
            ],
            "type": "contour"
           }
          ],
          "contourcarpet": [
           {
            "colorbar": {
             "outlinewidth": 0,
             "ticks": ""
            },
            "type": "contourcarpet"
           }
          ],
          "heatmap": [
           {
            "colorbar": {
             "outlinewidth": 0,
             "ticks": ""
            },
            "colorscale": [
             [
              0,
              "#0d0887"
             ],
             [
              0.1111111111111111,
              "#46039f"
             ],
             [
              0.2222222222222222,
              "#7201a8"
             ],
             [
              0.3333333333333333,
              "#9c179e"
             ],
             [
              0.4444444444444444,
              "#bd3786"
             ],
             [
              0.5555555555555556,
              "#d8576b"
             ],
             [
              0.6666666666666666,
              "#ed7953"
             ],
             [
              0.7777777777777778,
              "#fb9f3a"
             ],
             [
              0.8888888888888888,
              "#fdca26"
             ],
             [
              1,
              "#f0f921"
             ]
            ],
            "type": "heatmap"
           }
          ],
          "heatmapgl": [
           {
            "colorbar": {
             "outlinewidth": 0,
             "ticks": ""
            },
            "colorscale": [
             [
              0,
              "#0d0887"
             ],
             [
              0.1111111111111111,
              "#46039f"
             ],
             [
              0.2222222222222222,
              "#7201a8"
             ],
             [
              0.3333333333333333,
              "#9c179e"
             ],
             [
              0.4444444444444444,
              "#bd3786"
             ],
             [
              0.5555555555555556,
              "#d8576b"
             ],
             [
              0.6666666666666666,
              "#ed7953"
             ],
             [
              0.7777777777777778,
              "#fb9f3a"
             ],
             [
              0.8888888888888888,
              "#fdca26"
             ],
             [
              1,
              "#f0f921"
             ]
            ],
            "type": "heatmapgl"
           }
          ],
          "histogram": [
           {
            "marker": {
             "pattern": {
              "fillmode": "overlay",
              "size": 10,
              "solidity": 0.2
             }
            },
            "type": "histogram"
           }
          ],
          "histogram2d": [
           {
            "colorbar": {
             "outlinewidth": 0,
             "ticks": ""
            },
            "colorscale": [
             [
              0,
              "#0d0887"
             ],
             [
              0.1111111111111111,
              "#46039f"
             ],
             [
              0.2222222222222222,
              "#7201a8"
             ],
             [
              0.3333333333333333,
              "#9c179e"
             ],
             [
              0.4444444444444444,
              "#bd3786"
             ],
             [
              0.5555555555555556,
              "#d8576b"
             ],
             [
              0.6666666666666666,
              "#ed7953"
             ],
             [
              0.7777777777777778,
              "#fb9f3a"
             ],
             [
              0.8888888888888888,
              "#fdca26"
             ],
             [
              1,
              "#f0f921"
             ]
            ],
            "type": "histogram2d"
           }
          ],
          "histogram2dcontour": [
           {
            "colorbar": {
             "outlinewidth": 0,
             "ticks": ""
            },
            "colorscale": [
             [
              0,
              "#0d0887"
             ],
             [
              0.1111111111111111,
              "#46039f"
             ],
             [
              0.2222222222222222,
              "#7201a8"
             ],
             [
              0.3333333333333333,
              "#9c179e"
             ],
             [
              0.4444444444444444,
              "#bd3786"
             ],
             [
              0.5555555555555556,
              "#d8576b"
             ],
             [
              0.6666666666666666,
              "#ed7953"
             ],
             [
              0.7777777777777778,
              "#fb9f3a"
             ],
             [
              0.8888888888888888,
              "#fdca26"
             ],
             [
              1,
              "#f0f921"
             ]
            ],
            "type": "histogram2dcontour"
           }
          ],
          "mesh3d": [
           {
            "colorbar": {
             "outlinewidth": 0,
             "ticks": ""
            },
            "type": "mesh3d"
           }
          ],
          "parcoords": [
           {
            "line": {
             "colorbar": {
              "outlinewidth": 0,
              "ticks": ""
             }
            },
            "type": "parcoords"
           }
          ],
          "pie": [
           {
            "automargin": true,
            "type": "pie"
           }
          ],
          "scatter": [
           {
            "fillpattern": {
             "fillmode": "overlay",
             "size": 10,
             "solidity": 0.2
            },
            "type": "scatter"
           }
          ],
          "scatter3d": [
           {
            "line": {
             "colorbar": {
              "outlinewidth": 0,
              "ticks": ""
             }
            },
            "marker": {
             "colorbar": {
              "outlinewidth": 0,
              "ticks": ""
             }
            },
            "type": "scatter3d"
           }
          ],
          "scattercarpet": [
           {
            "marker": {
             "colorbar": {
              "outlinewidth": 0,
              "ticks": ""
             }
            },
            "type": "scattercarpet"
           }
          ],
          "scattergeo": [
           {
            "marker": {
             "colorbar": {
              "outlinewidth": 0,
              "ticks": ""
             }
            },
            "type": "scattergeo"
           }
          ],
          "scattergl": [
           {
            "marker": {
             "colorbar": {
              "outlinewidth": 0,
              "ticks": ""
             }
            },
            "type": "scattergl"
           }
          ],
          "scattermapbox": [
           {
            "marker": {
             "colorbar": {
              "outlinewidth": 0,
              "ticks": ""
             }
            },
            "type": "scattermapbox"
           }
          ],
          "scatterpolar": [
           {
            "marker": {
             "colorbar": {
              "outlinewidth": 0,
              "ticks": ""
             }
            },
            "type": "scatterpolar"
           }
          ],
          "scatterpolargl": [
           {
            "marker": {
             "colorbar": {
              "outlinewidth": 0,
              "ticks": ""
             }
            },
            "type": "scatterpolargl"
           }
          ],
          "scatterternary": [
           {
            "marker": {
             "colorbar": {
              "outlinewidth": 0,
              "ticks": ""
             }
            },
            "type": "scatterternary"
           }
          ],
          "surface": [
           {
            "colorbar": {
             "outlinewidth": 0,
             "ticks": ""
            },
            "colorscale": [
             [
              0,
              "#0d0887"
             ],
             [
              0.1111111111111111,
              "#46039f"
             ],
             [
              0.2222222222222222,
              "#7201a8"
             ],
             [
              0.3333333333333333,
              "#9c179e"
             ],
             [
              0.4444444444444444,
              "#bd3786"
             ],
             [
              0.5555555555555556,
              "#d8576b"
             ],
             [
              0.6666666666666666,
              "#ed7953"
             ],
             [
              0.7777777777777778,
              "#fb9f3a"
             ],
             [
              0.8888888888888888,
              "#fdca26"
             ],
             [
              1,
              "#f0f921"
             ]
            ],
            "type": "surface"
           }
          ],
          "table": [
           {
            "cells": {
             "fill": {
              "color": "#EBF0F8"
             },
             "line": {
              "color": "white"
             }
            },
            "header": {
             "fill": {
              "color": "#C8D4E3"
             },
             "line": {
              "color": "white"
             }
            },
            "type": "table"
           }
          ]
         },
         "layout": {
          "annotationdefaults": {
           "arrowcolor": "#2a3f5f",
           "arrowhead": 0,
           "arrowwidth": 1
          },
          "autotypenumbers": "strict",
          "coloraxis": {
           "colorbar": {
            "outlinewidth": 0,
            "ticks": ""
           }
          },
          "colorscale": {
           "diverging": [
            [
             0,
             "#8e0152"
            ],
            [
             0.1,
             "#c51b7d"
            ],
            [
             0.2,
             "#de77ae"
            ],
            [
             0.3,
             "#f1b6da"
            ],
            [
             0.4,
             "#fde0ef"
            ],
            [
             0.5,
             "#f7f7f7"
            ],
            [
             0.6,
             "#e6f5d0"
            ],
            [
             0.7,
             "#b8e186"
            ],
            [
             0.8,
             "#7fbc41"
            ],
            [
             0.9,
             "#4d9221"
            ],
            [
             1,
             "#276419"
            ]
           ],
           "sequential": [
            [
             0,
             "#0d0887"
            ],
            [
             0.1111111111111111,
             "#46039f"
            ],
            [
             0.2222222222222222,
             "#7201a8"
            ],
            [
             0.3333333333333333,
             "#9c179e"
            ],
            [
             0.4444444444444444,
             "#bd3786"
            ],
            [
             0.5555555555555556,
             "#d8576b"
            ],
            [
             0.6666666666666666,
             "#ed7953"
            ],
            [
             0.7777777777777778,
             "#fb9f3a"
            ],
            [
             0.8888888888888888,
             "#fdca26"
            ],
            [
             1,
             "#f0f921"
            ]
           ],
           "sequentialminus": [
            [
             0,
             "#0d0887"
            ],
            [
             0.1111111111111111,
             "#46039f"
            ],
            [
             0.2222222222222222,
             "#7201a8"
            ],
            [
             0.3333333333333333,
             "#9c179e"
            ],
            [
             0.4444444444444444,
             "#bd3786"
            ],
            [
             0.5555555555555556,
             "#d8576b"
            ],
            [
             0.6666666666666666,
             "#ed7953"
            ],
            [
             0.7777777777777778,
             "#fb9f3a"
            ],
            [
             0.8888888888888888,
             "#fdca26"
            ],
            [
             1,
             "#f0f921"
            ]
           ]
          },
          "colorway": [
           "#636efa",
           "#EF553B",
           "#00cc96",
           "#ab63fa",
           "#FFA15A",
           "#19d3f3",
           "#FF6692",
           "#B6E880",
           "#FF97FF",
           "#FECB52"
          ],
          "font": {
           "color": "#2a3f5f"
          },
          "geo": {
           "bgcolor": "white",
           "lakecolor": "white",
           "landcolor": "#E5ECF6",
           "showlakes": true,
           "showland": true,
           "subunitcolor": "white"
          },
          "hoverlabel": {
           "align": "left"
          },
          "hovermode": "closest",
          "mapbox": {
           "style": "light"
          },
          "paper_bgcolor": "white",
          "plot_bgcolor": "#E5ECF6",
          "polar": {
           "angularaxis": {
            "gridcolor": "white",
            "linecolor": "white",
            "ticks": ""
           },
           "bgcolor": "#E5ECF6",
           "radialaxis": {
            "gridcolor": "white",
            "linecolor": "white",
            "ticks": ""
           }
          },
          "scene": {
           "xaxis": {
            "backgroundcolor": "#E5ECF6",
            "gridcolor": "white",
            "gridwidth": 2,
            "linecolor": "white",
            "showbackground": true,
            "ticks": "",
            "zerolinecolor": "white"
           },
           "yaxis": {
            "backgroundcolor": "#E5ECF6",
            "gridcolor": "white",
            "gridwidth": 2,
            "linecolor": "white",
            "showbackground": true,
            "ticks": "",
            "zerolinecolor": "white"
           },
           "zaxis": {
            "backgroundcolor": "#E5ECF6",
            "gridcolor": "white",
            "gridwidth": 2,
            "linecolor": "white",
            "showbackground": true,
            "ticks": "",
            "zerolinecolor": "white"
           }
          },
          "shapedefaults": {
           "line": {
            "color": "#2a3f5f"
           }
          },
          "ternary": {
           "aaxis": {
            "gridcolor": "white",
            "linecolor": "white",
            "ticks": ""
           },
           "baxis": {
            "gridcolor": "white",
            "linecolor": "white",
            "ticks": ""
           },
           "bgcolor": "#E5ECF6",
           "caxis": {
            "gridcolor": "white",
            "linecolor": "white",
            "ticks": ""
           }
          },
          "title": {
           "x": 0.05
          },
          "xaxis": {
           "automargin": true,
           "gridcolor": "white",
           "linecolor": "white",
           "ticks": "",
           "title": {
            "standoff": 15
           },
           "zerolinecolor": "white",
           "zerolinewidth": 2
          },
          "yaxis": {
           "automargin": true,
           "gridcolor": "white",
           "linecolor": "white",
           "ticks": "",
           "title": {
            "standoff": 15
           },
           "zerolinecolor": "white",
           "zerolinewidth": 2
          }
         }
        },
        "title": {
         "text": "Loss over Epochs"
        },
        "xaxis": {
         "anchor": "y",
         "domain": [
          0,
          1
         ],
         "nticks": 20,
         "tickmode": "auto",
         "title": {
          "text": "Epoch"
         }
        },
        "yaxis": {
         "anchor": "x",
         "domain": [
          0,
          1
         ],
         "title": {
          "text": "Loss"
         }
        }
       }
      }
     },
     "metadata": {},
     "output_type": "display_data"
    }
   ],
   "source": [
    "fig = px.line(metrics_df, x='epoch', y='loss', \n",
    "              title='Loss over Epochs', \n",
    "              labels={'epoch': 'Epoch', 'loss': 'Loss'},\n",
    "              markers=True)  # Enable markers on the line\n",
    "\n",
    "# Update layout for more customization\n",
    "fig.update_layout(\n",
    "    xaxis_title='Epoch',  # Title for the X-axis\n",
    "    yaxis_title='Loss',   # Title for the Y-axis\n",
    "    font=dict(family=\"Courier New, monospace\", size=12, color=\"RebeccaPurple\"),\n",
    "    xaxis=dict(tickmode='auto', nticks=20),  # Auto mode for ticks, adjust as needed\n",
    "    showlegend=True\n",
    ")\n",
    "\n",
    "# Show the plot\n",
    "fig.show()\n"
   ]
  },
  {
   "cell_type": "markdown",
   "metadata": {},
   "source": [
    "- ***Training Loss vs. Epochs:*** A training loss of about 0.785 after 7 epochs is the key performance indicator here."
   ]
  },
  {
   "cell_type": "code",
   "execution_count": 46,
   "metadata": {},
   "outputs": [
    {
     "data": {
      "application/vnd.plotly.v1+json": {
       "config": {
        "plotlyServerURL": "https://plot.ly"
       },
       "data": [
        {
         "hovertemplate": "Epoch=%{x}<br>Gradient Norm=%{y}<extra></extra>",
         "legendgroup": "",
         "line": {
          "color": "#636efa",
          "dash": "solid"
         },
         "marker": {
          "symbol": "circle"
         },
         "mode": "lines+markers",
         "name": "",
         "orientation": "v",
         "showlegend": false,
         "type": "scatter",
         "x": [
          0.01,
          0.03,
          0.04,
          0.06,
          0.07,
          0.09,
          0.1,
          0.12,
          0.13,
          0.15,
          0.16,
          0.18,
          0.19,
          0.21,
          0.22,
          0.24,
          0.25,
          0.27,
          0.28,
          0.3,
          0.31,
          0.33,
          0.34,
          0.36,
          0.37,
          0.38,
          0.4,
          0.41,
          0.43,
          0.44,
          0.46,
          0.47,
          0.49,
          0.5,
          0.52,
          0.53,
          0.55,
          0.56,
          0.58,
          0.59,
          0.61,
          0.62,
          0.64,
          0.65,
          0.67,
          0.68,
          0.7,
          0.71,
          0.73,
          0.74,
          0.75,
          0.77,
          0.78,
          0.8,
          0.81,
          0.83,
          0.84,
          0.86,
          0.87,
          0.89,
          0.9,
          0.92,
          0.93,
          0.95,
          0.96,
          0.98,
          0.99,
          1,
          1.01,
          1.02,
          1.04,
          1.05,
          1.07,
          1.08,
          1.1,
          1.11,
          1.12,
          1.14,
          1.15,
          1.17,
          1.18,
          1.2,
          1.21,
          1.23,
          1.24,
          1.26,
          1.27,
          1.29,
          1.3,
          1.32,
          1.33,
          1.35,
          1.36,
          1.38,
          1.39,
          1.41,
          1.42,
          1.44,
          1.45,
          1.47,
          1.48,
          1.5,
          1.51,
          1.52,
          1.54,
          1.55,
          1.57,
          1.58,
          1.6,
          1.61,
          1.63,
          1.64,
          1.66,
          1.67,
          1.69,
          1.7,
          1.72,
          1.73,
          1.75,
          1.76,
          1.78,
          1.79,
          1.81,
          1.82,
          1.84,
          1.85,
          1.87,
          1.88,
          1.89,
          1.91,
          1.92,
          1.94,
          1.95,
          1.97,
          1.98,
          2,
          2,
          2.01,
          2.03,
          2.04,
          2.06,
          2.07,
          2.09,
          2.1,
          2.12,
          2.13,
          2.15,
          2.16,
          2.18,
          2.19,
          2.21,
          2.22,
          2.24,
          2.25,
          2.26,
          2.28,
          2.29,
          2.31,
          2.32,
          2.34,
          2.35,
          2.37,
          2.38,
          2.4,
          2.41,
          2.43,
          2.44,
          2.46,
          2.47,
          2.49,
          2.5,
          2.52,
          2.53,
          2.55,
          2.56,
          2.58,
          2.59,
          2.61,
          2.62,
          2.63,
          2.65,
          2.66,
          2.68,
          2.69,
          2.71,
          2.72,
          2.74,
          2.75,
          2.77,
          2.78,
          2.8,
          2.81,
          2.83,
          2.84,
          2.86,
          2.87,
          2.89,
          2.9,
          2.92,
          2.93,
          2.95,
          2.96,
          2.98,
          2.99,
          3,
          3,
          3.02,
          3.03,
          3.05,
          3.06,
          3.08,
          3.09,
          3.11,
          3.12,
          3.14,
          3.15,
          3.17,
          3.18,
          3.2,
          3.21,
          3.23,
          3.24,
          3.26,
          3.27,
          3.29,
          3.3,
          3.32,
          3.33,
          3.35,
          3.36,
          3.38,
          3.39,
          3.4,
          3.42,
          3.43,
          3.45,
          3.46,
          3.48,
          3.49,
          3.51,
          3.52,
          3.54,
          3.55,
          3.57,
          3.58,
          3.6,
          3.61,
          3.63,
          3.64,
          3.66,
          3.67,
          3.69,
          3.7,
          3.72,
          3.73,
          3.75,
          3.76,
          3.77,
          3.79,
          3.8,
          3.82,
          3.83,
          3.85,
          3.86,
          3.88,
          3.89,
          3.91,
          3.92,
          3.94,
          3.95,
          3.97,
          3.98,
          4,
          4,
          4.01,
          4.03,
          4.04,
          4.06,
          4.07,
          4.09,
          4.1,
          4.12,
          4.13,
          4.14,
          4.16,
          4.17,
          4.19,
          4.2,
          4.22,
          4.23,
          4.25,
          4.26,
          4.28,
          4.29,
          4.31,
          4.32,
          4.34,
          4.35,
          4.37,
          4.38,
          4.4,
          4.41,
          4.43,
          4.44,
          4.46,
          4.47,
          4.49,
          4.5,
          4.51,
          4.53,
          4.54,
          4.56,
          4.57,
          4.59,
          4.6,
          4.62,
          4.63,
          4.65,
          4.66,
          4.68,
          4.69,
          4.71,
          4.72,
          4.74,
          4.75,
          4.77,
          4.78,
          4.8,
          4.81,
          4.83,
          4.84,
          4.86,
          4.87,
          4.88,
          4.9,
          4.91,
          4.93,
          4.94,
          4.96,
          4.97,
          4.99,
          5,
          5,
          5.02,
          5.03,
          5.05,
          5.06,
          5.08,
          5.09,
          5.11,
          5.12,
          5.14,
          5.15,
          5.17,
          5.18,
          5.2,
          5.21,
          5.23,
          5.24,
          5.25,
          5.27,
          5.28,
          5.3,
          5.31,
          5.33,
          5.34,
          5.36,
          5.37,
          5.39,
          5.4,
          5.42,
          5.43,
          5.45,
          5.46,
          5.48,
          5.49,
          5.51,
          5.52,
          5.54,
          5.55,
          5.57,
          5.58,
          5.6,
          5.61,
          5.62,
          5.64,
          5.65,
          5.67,
          5.68,
          5.7,
          5.71,
          5.73,
          5.74,
          5.76,
          5.77,
          5.79,
          5.8,
          5.82,
          5.83,
          5.85,
          5.86,
          5.88,
          5.89,
          5.91,
          5.92,
          5.94,
          5.95,
          5.97,
          5.98,
          6,
          6,
          6.01,
          6.02,
          6.04,
          6.05,
          6.07,
          6.08,
          6.1,
          6.11,
          6.13,
          6.14,
          6.16,
          6.17,
          6.19,
          6.2,
          6.22,
          6.23,
          6.25,
          6.26,
          6.28,
          6.29,
          6.31,
          6.32,
          6.34,
          6.35,
          6.37,
          6.38,
          6.39,
          6.41,
          6.42,
          6.44,
          6.45,
          6.47,
          6.48,
          6.5,
          6.51,
          6.53,
          6.54,
          6.56,
          6.57,
          6.59,
          6.6,
          6.62,
          6.63,
          6.65,
          6.66,
          6.68,
          6.69,
          6.71,
          6.72,
          6.74,
          6.75,
          6.76,
          6.78,
          6.79,
          6.81,
          6.82,
          6.84,
          6.85,
          6.87,
          6.88,
          6.9,
          6.91,
          6.93,
          6.94,
          6.96,
          6.97,
          6.99,
          7,
          7
         ],
         "xaxis": "x",
         "y": [
          76.0838851928711,
          48.948951721191406,
          34.51979064941406,
          28.149858474731445,
          22.512527465820312,
          21.348005294799805,
          13.8782958984375,
          16.731698989868164,
          30.180749893188477,
          17.13225746154785,
          24.41388702392578,
          31.909746170043945,
          37.96180725097656,
          5.272886753082275,
          21.67125701904297,
          24.64453125,
          40.03766632080078,
          21.24781036376953,
          26.358657836914062,
          26.410860061645508,
          17.893157958984375,
          20.948467254638672,
          7.631809234619141,
          46.19166946411133,
          22.439668655395508,
          37.89064025878906,
          31.20825958251953,
          26.636821746826172,
          14.26789665222168,
          60.64204788208008,
          17.06499671936035,
          45.173553466796875,
          9.2151460647583,
          14.728775978088379,
          21.266122817993164,
          28.275253295898438,
          15.415726661682129,
          11.350357055664062,
          14.287511825561523,
          37.02401351928711,
          15.318913459777832,
          10.970183372497559,
          36.75771713256836,
          14.19973087310791,
          20.767900466918945,
          27.160247802734375,
          27.353933334350586,
          8.371872901916504,
          22.089820861816406,
          14.778010368347168,
          8.64704704284668,
          26.21131134033203,
          15.834428787231445,
          15.435220718383789,
          11.468283653259277,
          11.992746353149414,
          13.867403030395508,
          11.208301544189453,
          16.988882064819336,
          16.405797958374023,
          16.857004165649414,
          20.02691078186035,
          13.0835542678833,
          23.529808044433594,
          25.90774917602539,
          17.26943016052246,
          14.385632514953613,
          null,
          14.98363971710205,
          22.37464141845703,
          13.119917869567871,
          14.232475280761719,
          16.54279899597168,
          14.951926231384277,
          18.379858016967773,
          21.35282325744629,
          15.819419860839844,
          14.387154579162598,
          6.229833602905273,
          11.293050765991211,
          21.448589324951172,
          10.619438171386719,
          6.240084648132324,
          12.032090187072754,
          19.791866302490234,
          31.278173446655273,
          28.20980453491211,
          15.01119327545166,
          14.547926902770996,
          19.23919105529785,
          13.67093563079834,
          7.577640056610107,
          26.58194351196289,
          20.080516815185547,
          13.695296287536621,
          18.165918350219727,
          27.938058853149414,
          35.27409362792969,
          13.055937767028809,
          17.70668601989746,
          10.497471809387207,
          21.115131378173828,
          17.009687423706055,
          2.9328596591949463,
          14.348456382751465,
          18.993528366088867,
          6.560078144073486,
          11.562115669250488,
          25.121095657348633,
          27.310871124267578,
          17.261411666870117,
          30.472307205200195,
          14.413082122802734,
          39.09098815917969,
          6.669904708862305,
          17.41485595703125,
          14.423589706420898,
          31.03705596923828,
          42.08173751831055,
          8.916742324829102,
          36.531124114990234,
          5.132484436035156,
          15.6593017578125,
          16.762939453125,
          48.607784271240234,
          10.324958801269531,
          12.234637260437012,
          11.226466178894043,
          32.767269134521484,
          11.77112102508545,
          17.027790069580078,
          11.577437400817871,
          19.700925827026367,
          18.08301544189453,
          27.47380828857422,
          13.033905029296875,
          null,
          7.677554130554199,
          15.55125617980957,
          8.711353302001953,
          8.45137882232666,
          17.27356719970703,
          11.370024681091309,
          27.980588912963867,
          18.640430450439453,
          13.56200122833252,
          25.640125274658203,
          12.396903038024902,
          13.620206832885742,
          46.341182708740234,
          14.57447338104248,
          8.247153282165527,
          29.10744857788086,
          19.233081817626953,
          21.472869873046875,
          22.038883209228516,
          5.850568771362305,
          33.470191955566406,
          36.413570404052734,
          17.012252807617188,
          20.850404739379883,
          19.9390811920166,
          27.132246017456055,
          7.184160232543945,
          22.708911895751953,
          12.851737022399902,
          46.351539611816406,
          42.645809173583984,
          33.4620475769043,
          27.360885620117188,
          9.941360473632812,
          11.131185531616211,
          21.743623733520508,
          27.85624885559082,
          6.869490623474121,
          12.4854154586792,
          32.43775177001953,
          17.482603073120117,
          39.797584533691406,
          14.320749282836914,
          30.330163955688477,
          12.779412269592285,
          2.9401159286499023,
          16.8409366607666,
          30.495868682861328,
          35.98527908325195,
          20.81377601623535,
          22.862215042114258,
          25.235414505004883,
          12.54434871673584,
          17.5186824798584,
          21.736122131347656,
          40.71708679199219,
          17.999008178710938,
          11.387951850891113,
          33.672847747802734,
          72.5705795288086,
          30.202777862548828,
          35.18100357055664,
          17.453771591186523,
          22.874267578125,
          26.013460159301758,
          10.244420051574707,
          9.266437530517578,
          null,
          2.784013032913208,
          37.2861442565918,
          12.05611801147461,
          38.90074157714844,
          6.188076496124268,
          7.964102268218994,
          56.61402130126953,
          21.96409797668457,
          20.43484878540039,
          50.35201644897461,
          0.9457170367240906,
          23.372577667236328,
          30.618953704833984,
          35.72951889038086,
          33.43545150756836,
          19.980440139770508,
          44.045799255371094,
          7.977248668670654,
          13.792214393615723,
          22.799222946166992,
          30.77474594116211,
          27.731481552124023,
          17.648937225341797,
          39.63817596435547,
          20.721343994140625,
          12.275656700134277,
          19.095550537109375,
          10.301430702209473,
          40.67992401123047,
          15.392219543457031,
          18.085765838623047,
          30.49614906311035,
          24.278579711914062,
          20.509021759033203,
          27.707611083984375,
          36.912986755371094,
          44.822105407714844,
          26.846153259277344,
          34.119956970214844,
          7.946260452270508,
          10.687684059143066,
          22.742599487304688,
          16.219741821289062,
          18.8494815826416,
          15.805286407470703,
          14.082350730895996,
          11.427087783813477,
          24.16115379333496,
          41.12704849243164,
          5.769288063049316,
          23.37405776977539,
          12.998167991638184,
          24.243854522705078,
          44.07929229736328,
          29.559396743774414,
          6.895120620727539,
          29.296236038208008,
          20.50558853149414,
          14.291404724121094,
          12.383359909057617,
          44.828792572021484,
          15.95994758605957,
          27.035112380981445,
          47.86928176879883,
          24.48914909362793,
          4.502011775970459,
          29.431447982788086,
          44.980323791503906,
          null,
          14.001951217651367,
          11.766260147094727,
          19.29128074645996,
          32.64830780029297,
          56.383670806884766,
          20.766626358032227,
          30.522951126098633,
          17.777456283569336,
          34.702430725097656,
          10.99400520324707,
          14.65029525756836,
          22.481246948242188,
          13.080245018005371,
          23.680076599121094,
          38.10095977783203,
          80.12532806396484,
          14.335248947143555,
          26.437030792236328,
          19.376693725585938,
          69.5506362915039,
          269.6756896972656,
          22.86501121520996,
          14.006589889526367,
          17.060646057128906,
          35.000083923339844,
          15.1170072555542,
          22.375579833984375,
          14.048827171325684,
          12.95390510559082,
          34.37958526611328,
          15.766999244689941,
          25.65511703491211,
          40.990867614746094,
          31.667369842529297,
          32.8623161315918,
          32.56919479370117,
          10.443431854248047,
          44.35326385498047,
          20.176633834838867,
          41.907649993896484,
          8.212626457214355,
          13.725725173950195,
          25.534282684326172,
          45.64292907714844,
          23.176668167114258,
          11.8435697555542,
          35.91046142578125,
          16.986478805541992,
          38.32142639160156,
          5.678120136260986,
          58.845130920410156,
          40.03036880493164,
          42.57059860229492,
          17.28233528137207,
          44.13753890991211,
          16.792131423950195,
          18.668256759643555,
          16.42937660217285,
          17.471172332763672,
          37.59219741821289,
          37.699485778808594,
          45.8936767578125,
          35.73786163330078,
          15.132292747497559,
          39.19651794433594,
          21.03137969970703,
          35.825050354003906,
          null,
          30.48847198486328,
          18.263973236083984,
          7.832901477813721,
          17.46605682373047,
          41.86005783081055,
          43.204734802246094,
          42.650272369384766,
          17.838783264160156,
          35.171722412109375,
          23.169376373291016,
          41.24907684326172,
          23.808895111083984,
          17.006370544433594,
          16.310420989990234,
          55.419944763183594,
          16.55910873413086,
          1.140906810760498,
          47.81314468383789,
          16.99368667602539,
          14.533183097839355,
          13.1793212890625,
          44.95590591430664,
          12.486384391784668,
          16.81228256225586,
          40.021575927734375,
          32.22958755493164,
          72.03997802734375,
          84.92304992675781,
          71.6428451538086,
          21.52141571044922,
          3.0816030502319336,
          10.907073020935059,
          27.69318199157715,
          29.241050720214844,
          1.510179877281189,
          15.52469539642334,
          51.88794708251953,
          55.738975524902344,
          19.206880569458008,
          21.280256271362305,
          31.6082820892334,
          15.779048919677734,
          10.447160720825195,
          22.252307891845703,
          26.620336532592773,
          11.911888122558594,
          19.64629554748535,
          12.03242015838623,
          7.261569499969482,
          13.511953353881836,
          35.0676383972168,
          54.07756423950195,
          30.959110260009766,
          17.732345581054688,
          21.65946388244629,
          34.33080291748047,
          23.12537956237793,
          14.198922157287598,
          44.558834075927734,
          55.39570999145508,
          22.778413772583008,
          53.16616439819336,
          32.0245361328125,
          67.61837768554688,
          8.761306762695312,
          13.07691478729248,
          16.2424259185791,
          55.03977966308594,
          null,
          19.794921875,
          32.24275588989258,
          17.371566772460938,
          24.890134811401367,
          47.13253402709961,
          21.815776824951172,
          14.63692855834961,
          55.30411148071289,
          52.37452697753906,
          27.415977478027344,
          17.577688217163086,
          25.074378967285156,
          18.685012817382812,
          32.567989349365234,
          34.56188201904297,
          41.69496536254883,
          11.16845417022705,
          15.315767288208008,
          4.128531455993652,
          51.0404052734375,
          9.560561180114746,
          3.722785472869873,
          11.41561222076416,
          3.570749044418335,
          8.745579719543457,
          44.83097839355469,
          22.46253776550293,
          5.231961727142334,
          9.258927345275879,
          30.36258316040039,
          12.83320426940918,
          19.52073860168457,
          22.48356819152832,
          12.447044372558594,
          17.98676300048828,
          11.321002960205078,
          17.65456199645996,
          21.976526260375977,
          20.212257385253906,
          31.253934860229492,
          13.2333402633667,
          33.653751373291016,
          14.458768844604492,
          7.352836608886719,
          28.79302978515625,
          39.52197265625,
          41.23985290527344,
          46.87055969238281,
          52.561004638671875,
          22.274932861328125,
          15.434982299804688,
          53.28901672363281,
          23.448400497436523,
          64.41215515136719,
          18.61127471923828,
          21.609050750732422,
          16.375661849975586,
          35.834373474121094,
          21.999557495117188,
          13.535197257995605,
          42.399723052978516,
          17.665912628173828,
          43.796119689941406,
          51.993743896484375,
          12.320605278015137,
          21.82286834716797,
          39.5008659362793,
          null,
          null
         ],
         "yaxis": "y"
        }
       ],
       "layout": {
        "font": {
         "color": "RebeccaPurple",
         "family": "Courier New, monospace",
         "size": 12
        },
        "legend": {
         "tracegroupgap": 0
        },
        "showlegend": true,
        "template": {
         "data": {
          "bar": [
           {
            "error_x": {
             "color": "#2a3f5f"
            },
            "error_y": {
             "color": "#2a3f5f"
            },
            "marker": {
             "line": {
              "color": "#E5ECF6",
              "width": 0.5
             },
             "pattern": {
              "fillmode": "overlay",
              "size": 10,
              "solidity": 0.2
             }
            },
            "type": "bar"
           }
          ],
          "barpolar": [
           {
            "marker": {
             "line": {
              "color": "#E5ECF6",
              "width": 0.5
             },
             "pattern": {
              "fillmode": "overlay",
              "size": 10,
              "solidity": 0.2
             }
            },
            "type": "barpolar"
           }
          ],
          "carpet": [
           {
            "aaxis": {
             "endlinecolor": "#2a3f5f",
             "gridcolor": "white",
             "linecolor": "white",
             "minorgridcolor": "white",
             "startlinecolor": "#2a3f5f"
            },
            "baxis": {
             "endlinecolor": "#2a3f5f",
             "gridcolor": "white",
             "linecolor": "white",
             "minorgridcolor": "white",
             "startlinecolor": "#2a3f5f"
            },
            "type": "carpet"
           }
          ],
          "choropleth": [
           {
            "colorbar": {
             "outlinewidth": 0,
             "ticks": ""
            },
            "type": "choropleth"
           }
          ],
          "contour": [
           {
            "colorbar": {
             "outlinewidth": 0,
             "ticks": ""
            },
            "colorscale": [
             [
              0,
              "#0d0887"
             ],
             [
              0.1111111111111111,
              "#46039f"
             ],
             [
              0.2222222222222222,
              "#7201a8"
             ],
             [
              0.3333333333333333,
              "#9c179e"
             ],
             [
              0.4444444444444444,
              "#bd3786"
             ],
             [
              0.5555555555555556,
              "#d8576b"
             ],
             [
              0.6666666666666666,
              "#ed7953"
             ],
             [
              0.7777777777777778,
              "#fb9f3a"
             ],
             [
              0.8888888888888888,
              "#fdca26"
             ],
             [
              1,
              "#f0f921"
             ]
            ],
            "type": "contour"
           }
          ],
          "contourcarpet": [
           {
            "colorbar": {
             "outlinewidth": 0,
             "ticks": ""
            },
            "type": "contourcarpet"
           }
          ],
          "heatmap": [
           {
            "colorbar": {
             "outlinewidth": 0,
             "ticks": ""
            },
            "colorscale": [
             [
              0,
              "#0d0887"
             ],
             [
              0.1111111111111111,
              "#46039f"
             ],
             [
              0.2222222222222222,
              "#7201a8"
             ],
             [
              0.3333333333333333,
              "#9c179e"
             ],
             [
              0.4444444444444444,
              "#bd3786"
             ],
             [
              0.5555555555555556,
              "#d8576b"
             ],
             [
              0.6666666666666666,
              "#ed7953"
             ],
             [
              0.7777777777777778,
              "#fb9f3a"
             ],
             [
              0.8888888888888888,
              "#fdca26"
             ],
             [
              1,
              "#f0f921"
             ]
            ],
            "type": "heatmap"
           }
          ],
          "heatmapgl": [
           {
            "colorbar": {
             "outlinewidth": 0,
             "ticks": ""
            },
            "colorscale": [
             [
              0,
              "#0d0887"
             ],
             [
              0.1111111111111111,
              "#46039f"
             ],
             [
              0.2222222222222222,
              "#7201a8"
             ],
             [
              0.3333333333333333,
              "#9c179e"
             ],
             [
              0.4444444444444444,
              "#bd3786"
             ],
             [
              0.5555555555555556,
              "#d8576b"
             ],
             [
              0.6666666666666666,
              "#ed7953"
             ],
             [
              0.7777777777777778,
              "#fb9f3a"
             ],
             [
              0.8888888888888888,
              "#fdca26"
             ],
             [
              1,
              "#f0f921"
             ]
            ],
            "type": "heatmapgl"
           }
          ],
          "histogram": [
           {
            "marker": {
             "pattern": {
              "fillmode": "overlay",
              "size": 10,
              "solidity": 0.2
             }
            },
            "type": "histogram"
           }
          ],
          "histogram2d": [
           {
            "colorbar": {
             "outlinewidth": 0,
             "ticks": ""
            },
            "colorscale": [
             [
              0,
              "#0d0887"
             ],
             [
              0.1111111111111111,
              "#46039f"
             ],
             [
              0.2222222222222222,
              "#7201a8"
             ],
             [
              0.3333333333333333,
              "#9c179e"
             ],
             [
              0.4444444444444444,
              "#bd3786"
             ],
             [
              0.5555555555555556,
              "#d8576b"
             ],
             [
              0.6666666666666666,
              "#ed7953"
             ],
             [
              0.7777777777777778,
              "#fb9f3a"
             ],
             [
              0.8888888888888888,
              "#fdca26"
             ],
             [
              1,
              "#f0f921"
             ]
            ],
            "type": "histogram2d"
           }
          ],
          "histogram2dcontour": [
           {
            "colorbar": {
             "outlinewidth": 0,
             "ticks": ""
            },
            "colorscale": [
             [
              0,
              "#0d0887"
             ],
             [
              0.1111111111111111,
              "#46039f"
             ],
             [
              0.2222222222222222,
              "#7201a8"
             ],
             [
              0.3333333333333333,
              "#9c179e"
             ],
             [
              0.4444444444444444,
              "#bd3786"
             ],
             [
              0.5555555555555556,
              "#d8576b"
             ],
             [
              0.6666666666666666,
              "#ed7953"
             ],
             [
              0.7777777777777778,
              "#fb9f3a"
             ],
             [
              0.8888888888888888,
              "#fdca26"
             ],
             [
              1,
              "#f0f921"
             ]
            ],
            "type": "histogram2dcontour"
           }
          ],
          "mesh3d": [
           {
            "colorbar": {
             "outlinewidth": 0,
             "ticks": ""
            },
            "type": "mesh3d"
           }
          ],
          "parcoords": [
           {
            "line": {
             "colorbar": {
              "outlinewidth": 0,
              "ticks": ""
             }
            },
            "type": "parcoords"
           }
          ],
          "pie": [
           {
            "automargin": true,
            "type": "pie"
           }
          ],
          "scatter": [
           {
            "fillpattern": {
             "fillmode": "overlay",
             "size": 10,
             "solidity": 0.2
            },
            "type": "scatter"
           }
          ],
          "scatter3d": [
           {
            "line": {
             "colorbar": {
              "outlinewidth": 0,
              "ticks": ""
             }
            },
            "marker": {
             "colorbar": {
              "outlinewidth": 0,
              "ticks": ""
             }
            },
            "type": "scatter3d"
           }
          ],
          "scattercarpet": [
           {
            "marker": {
             "colorbar": {
              "outlinewidth": 0,
              "ticks": ""
             }
            },
            "type": "scattercarpet"
           }
          ],
          "scattergeo": [
           {
            "marker": {
             "colorbar": {
              "outlinewidth": 0,
              "ticks": ""
             }
            },
            "type": "scattergeo"
           }
          ],
          "scattergl": [
           {
            "marker": {
             "colorbar": {
              "outlinewidth": 0,
              "ticks": ""
             }
            },
            "type": "scattergl"
           }
          ],
          "scattermapbox": [
           {
            "marker": {
             "colorbar": {
              "outlinewidth": 0,
              "ticks": ""
             }
            },
            "type": "scattermapbox"
           }
          ],
          "scatterpolar": [
           {
            "marker": {
             "colorbar": {
              "outlinewidth": 0,
              "ticks": ""
             }
            },
            "type": "scatterpolar"
           }
          ],
          "scatterpolargl": [
           {
            "marker": {
             "colorbar": {
              "outlinewidth": 0,
              "ticks": ""
             }
            },
            "type": "scatterpolargl"
           }
          ],
          "scatterternary": [
           {
            "marker": {
             "colorbar": {
              "outlinewidth": 0,
              "ticks": ""
             }
            },
            "type": "scatterternary"
           }
          ],
          "surface": [
           {
            "colorbar": {
             "outlinewidth": 0,
             "ticks": ""
            },
            "colorscale": [
             [
              0,
              "#0d0887"
             ],
             [
              0.1111111111111111,
              "#46039f"
             ],
             [
              0.2222222222222222,
              "#7201a8"
             ],
             [
              0.3333333333333333,
              "#9c179e"
             ],
             [
              0.4444444444444444,
              "#bd3786"
             ],
             [
              0.5555555555555556,
              "#d8576b"
             ],
             [
              0.6666666666666666,
              "#ed7953"
             ],
             [
              0.7777777777777778,
              "#fb9f3a"
             ],
             [
              0.8888888888888888,
              "#fdca26"
             ],
             [
              1,
              "#f0f921"
             ]
            ],
            "type": "surface"
           }
          ],
          "table": [
           {
            "cells": {
             "fill": {
              "color": "#EBF0F8"
             },
             "line": {
              "color": "white"
             }
            },
            "header": {
             "fill": {
              "color": "#C8D4E3"
             },
             "line": {
              "color": "white"
             }
            },
            "type": "table"
           }
          ]
         },
         "layout": {
          "annotationdefaults": {
           "arrowcolor": "#2a3f5f",
           "arrowhead": 0,
           "arrowwidth": 1
          },
          "autotypenumbers": "strict",
          "coloraxis": {
           "colorbar": {
            "outlinewidth": 0,
            "ticks": ""
           }
          },
          "colorscale": {
           "diverging": [
            [
             0,
             "#8e0152"
            ],
            [
             0.1,
             "#c51b7d"
            ],
            [
             0.2,
             "#de77ae"
            ],
            [
             0.3,
             "#f1b6da"
            ],
            [
             0.4,
             "#fde0ef"
            ],
            [
             0.5,
             "#f7f7f7"
            ],
            [
             0.6,
             "#e6f5d0"
            ],
            [
             0.7,
             "#b8e186"
            ],
            [
             0.8,
             "#7fbc41"
            ],
            [
             0.9,
             "#4d9221"
            ],
            [
             1,
             "#276419"
            ]
           ],
           "sequential": [
            [
             0,
             "#0d0887"
            ],
            [
             0.1111111111111111,
             "#46039f"
            ],
            [
             0.2222222222222222,
             "#7201a8"
            ],
            [
             0.3333333333333333,
             "#9c179e"
            ],
            [
             0.4444444444444444,
             "#bd3786"
            ],
            [
             0.5555555555555556,
             "#d8576b"
            ],
            [
             0.6666666666666666,
             "#ed7953"
            ],
            [
             0.7777777777777778,
             "#fb9f3a"
            ],
            [
             0.8888888888888888,
             "#fdca26"
            ],
            [
             1,
             "#f0f921"
            ]
           ],
           "sequentialminus": [
            [
             0,
             "#0d0887"
            ],
            [
             0.1111111111111111,
             "#46039f"
            ],
            [
             0.2222222222222222,
             "#7201a8"
            ],
            [
             0.3333333333333333,
             "#9c179e"
            ],
            [
             0.4444444444444444,
             "#bd3786"
            ],
            [
             0.5555555555555556,
             "#d8576b"
            ],
            [
             0.6666666666666666,
             "#ed7953"
            ],
            [
             0.7777777777777778,
             "#fb9f3a"
            ],
            [
             0.8888888888888888,
             "#fdca26"
            ],
            [
             1,
             "#f0f921"
            ]
           ]
          },
          "colorway": [
           "#636efa",
           "#EF553B",
           "#00cc96",
           "#ab63fa",
           "#FFA15A",
           "#19d3f3",
           "#FF6692",
           "#B6E880",
           "#FF97FF",
           "#FECB52"
          ],
          "font": {
           "color": "#2a3f5f"
          },
          "geo": {
           "bgcolor": "white",
           "lakecolor": "white",
           "landcolor": "#E5ECF6",
           "showlakes": true,
           "showland": true,
           "subunitcolor": "white"
          },
          "hoverlabel": {
           "align": "left"
          },
          "hovermode": "closest",
          "mapbox": {
           "style": "light"
          },
          "paper_bgcolor": "white",
          "plot_bgcolor": "#E5ECF6",
          "polar": {
           "angularaxis": {
            "gridcolor": "white",
            "linecolor": "white",
            "ticks": ""
           },
           "bgcolor": "#E5ECF6",
           "radialaxis": {
            "gridcolor": "white",
            "linecolor": "white",
            "ticks": ""
           }
          },
          "scene": {
           "xaxis": {
            "backgroundcolor": "#E5ECF6",
            "gridcolor": "white",
            "gridwidth": 2,
            "linecolor": "white",
            "showbackground": true,
            "ticks": "",
            "zerolinecolor": "white"
           },
           "yaxis": {
            "backgroundcolor": "#E5ECF6",
            "gridcolor": "white",
            "gridwidth": 2,
            "linecolor": "white",
            "showbackground": true,
            "ticks": "",
            "zerolinecolor": "white"
           },
           "zaxis": {
            "backgroundcolor": "#E5ECF6",
            "gridcolor": "white",
            "gridwidth": 2,
            "linecolor": "white",
            "showbackground": true,
            "ticks": "",
            "zerolinecolor": "white"
           }
          },
          "shapedefaults": {
           "line": {
            "color": "#2a3f5f"
           }
          },
          "ternary": {
           "aaxis": {
            "gridcolor": "white",
            "linecolor": "white",
            "ticks": ""
           },
           "baxis": {
            "gridcolor": "white",
            "linecolor": "white",
            "ticks": ""
           },
           "bgcolor": "#E5ECF6",
           "caxis": {
            "gridcolor": "white",
            "linecolor": "white",
            "ticks": ""
           }
          },
          "title": {
           "x": 0.05
          },
          "xaxis": {
           "automargin": true,
           "gridcolor": "white",
           "linecolor": "white",
           "ticks": "",
           "title": {
            "standoff": 15
           },
           "zerolinecolor": "white",
           "zerolinewidth": 2
          },
          "yaxis": {
           "automargin": true,
           "gridcolor": "white",
           "linecolor": "white",
           "ticks": "",
           "title": {
            "standoff": 15
           },
           "zerolinecolor": "white",
           "zerolinewidth": 2
          }
         }
        },
        "title": {
         "text": "Trend of Gradient Norms Across Epochs"
        },
        "xaxis": {
         "anchor": "y",
         "domain": [
          0,
          1
         ],
         "nticks": 20,
         "tickmode": "auto",
         "title": {
          "text": "Epoch"
         }
        },
        "yaxis": {
         "anchor": "x",
         "domain": [
          0,
          1
         ],
         "title": {
          "text": "Gradient Norm"
         }
        }
       }
      }
     },
     "metadata": {},
     "output_type": "display_data"
    }
   ],
   "source": [
    "fig = px.line(metrics_df, x='epoch', y='grad_norm', \n",
    "              title='Trend of Gradient Norms Across Epochs', \n",
    "              labels={'epoch': 'Epoch', 'grad_norm': 'Gradient Norm'},\n",
    "              markers=True)  # Enable markers on the line\n",
    "\n",
    "# Update layout for more customization\n",
    "fig.update_layout(\n",
    "    xaxis_title='Epoch',  # Title for the X-axis\n",
    "    yaxis_title='Gradient Norm',   # Title for the Y-axis\n",
    "    font=dict(family=\"Courier New, monospace\", size=12, color=\"RebeccaPurple\"),\n",
    "    xaxis=dict(tickmode='auto', nticks=20),  # Auto mode for ticks, adjust as needed\n",
    "    showlegend=True\n",
    ")\n",
    "\n",
    "# Show the plot\n",
    "fig.show()"
   ]
  },
  {
   "cell_type": "markdown",
   "metadata": {},
   "source": [
    "- A typical and healthy training process is indicated by a decreasing gradient norm.\n",
    "- Stability in the gradient norm across epochs, without sudden spikes, indicates consistent learning. If the training process is stable, the gradient norms should not fluctuate excessively.\n",
    "- If the gradient norm becomes very small and does not change much, it could either mean the model has converged or is stuck in a plateau where it is not learning effectively.\n",
    "- On the other hand, a very small gradient norm, especially early in training, might be indicative of \"vanishing gradients.\" This is a situation where gradients become so small that they do not contribute effectively to updating weights, slowing down the training or stopping it prematurely."
   ]
  },
  {
   "cell_type": "code",
   "execution_count": 49,
   "metadata": {},
   "outputs": [
    {
     "data": {
      "application/vnd.plotly.v1+json": {
       "config": {
        "plotlyServerURL": "https://plot.ly"
       },
       "data": [
        {
         "hovertemplate": "Epoch=%{x}<br>Learning Rate=%{y}<extra></extra>",
         "legendgroup": "",
         "line": {
          "color": "#636efa",
          "dash": "solid"
         },
         "marker": {
          "symbol": "circle"
         },
         "mode": "lines+markers",
         "name": "",
         "orientation": "v",
         "showlegend": false,
         "type": "scatter",
         "x": [
          0.01,
          0.03,
          0.04,
          0.06,
          0.07,
          0.09,
          0.1,
          0.12,
          0.13,
          0.15,
          0.16,
          0.18,
          0.19,
          0.21,
          0.22,
          0.24,
          0.25,
          0.27,
          0.28,
          0.3,
          0.31,
          0.33,
          0.34,
          0.36,
          0.37,
          0.38,
          0.4,
          0.41,
          0.43,
          0.44,
          0.46,
          0.47,
          0.49,
          0.5,
          0.52,
          0.53,
          0.55,
          0.56,
          0.58,
          0.59,
          0.61,
          0.62,
          0.64,
          0.65,
          0.67,
          0.68,
          0.7,
          0.71,
          0.73,
          0.74,
          0.75,
          0.77,
          0.78,
          0.8,
          0.81,
          0.83,
          0.84,
          0.86,
          0.87,
          0.89,
          0.9,
          0.92,
          0.93,
          0.95,
          0.96,
          0.98,
          0.99,
          1,
          1.01,
          1.02,
          1.04,
          1.05,
          1.07,
          1.08,
          1.1,
          1.11,
          1.12,
          1.14,
          1.15,
          1.17,
          1.18,
          1.2,
          1.21,
          1.23,
          1.24,
          1.26,
          1.27,
          1.29,
          1.3,
          1.32,
          1.33,
          1.35,
          1.36,
          1.38,
          1.39,
          1.41,
          1.42,
          1.44,
          1.45,
          1.47,
          1.48,
          1.5,
          1.51,
          1.52,
          1.54,
          1.55,
          1.57,
          1.58,
          1.6,
          1.61,
          1.63,
          1.64,
          1.66,
          1.67,
          1.69,
          1.7,
          1.72,
          1.73,
          1.75,
          1.76,
          1.78,
          1.79,
          1.81,
          1.82,
          1.84,
          1.85,
          1.87,
          1.88,
          1.89,
          1.91,
          1.92,
          1.94,
          1.95,
          1.97,
          1.98,
          2,
          2,
          2.01,
          2.03,
          2.04,
          2.06,
          2.07,
          2.09,
          2.1,
          2.12,
          2.13,
          2.15,
          2.16,
          2.18,
          2.19,
          2.21,
          2.22,
          2.24,
          2.25,
          2.26,
          2.28,
          2.29,
          2.31,
          2.32,
          2.34,
          2.35,
          2.37,
          2.38,
          2.4,
          2.41,
          2.43,
          2.44,
          2.46,
          2.47,
          2.49,
          2.5,
          2.52,
          2.53,
          2.55,
          2.56,
          2.58,
          2.59,
          2.61,
          2.62,
          2.63,
          2.65,
          2.66,
          2.68,
          2.69,
          2.71,
          2.72,
          2.74,
          2.75,
          2.77,
          2.78,
          2.8,
          2.81,
          2.83,
          2.84,
          2.86,
          2.87,
          2.89,
          2.9,
          2.92,
          2.93,
          2.95,
          2.96,
          2.98,
          2.99,
          3,
          3,
          3.02,
          3.03,
          3.05,
          3.06,
          3.08,
          3.09,
          3.11,
          3.12,
          3.14,
          3.15,
          3.17,
          3.18,
          3.2,
          3.21,
          3.23,
          3.24,
          3.26,
          3.27,
          3.29,
          3.3,
          3.32,
          3.33,
          3.35,
          3.36,
          3.38,
          3.39,
          3.4,
          3.42,
          3.43,
          3.45,
          3.46,
          3.48,
          3.49,
          3.51,
          3.52,
          3.54,
          3.55,
          3.57,
          3.58,
          3.6,
          3.61,
          3.63,
          3.64,
          3.66,
          3.67,
          3.69,
          3.7,
          3.72,
          3.73,
          3.75,
          3.76,
          3.77,
          3.79,
          3.8,
          3.82,
          3.83,
          3.85,
          3.86,
          3.88,
          3.89,
          3.91,
          3.92,
          3.94,
          3.95,
          3.97,
          3.98,
          4,
          4,
          4.01,
          4.03,
          4.04,
          4.06,
          4.07,
          4.09,
          4.1,
          4.12,
          4.13,
          4.14,
          4.16,
          4.17,
          4.19,
          4.2,
          4.22,
          4.23,
          4.25,
          4.26,
          4.28,
          4.29,
          4.31,
          4.32,
          4.34,
          4.35,
          4.37,
          4.38,
          4.4,
          4.41,
          4.43,
          4.44,
          4.46,
          4.47,
          4.49,
          4.5,
          4.51,
          4.53,
          4.54,
          4.56,
          4.57,
          4.59,
          4.6,
          4.62,
          4.63,
          4.65,
          4.66,
          4.68,
          4.69,
          4.71,
          4.72,
          4.74,
          4.75,
          4.77,
          4.78,
          4.8,
          4.81,
          4.83,
          4.84,
          4.86,
          4.87,
          4.88,
          4.9,
          4.91,
          4.93,
          4.94,
          4.96,
          4.97,
          4.99,
          5,
          5,
          5.02,
          5.03,
          5.05,
          5.06,
          5.08,
          5.09,
          5.11,
          5.12,
          5.14,
          5.15,
          5.17,
          5.18,
          5.2,
          5.21,
          5.23,
          5.24,
          5.25,
          5.27,
          5.28,
          5.3,
          5.31,
          5.33,
          5.34,
          5.36,
          5.37,
          5.39,
          5.4,
          5.42,
          5.43,
          5.45,
          5.46,
          5.48,
          5.49,
          5.51,
          5.52,
          5.54,
          5.55,
          5.57,
          5.58,
          5.6,
          5.61,
          5.62,
          5.64,
          5.65,
          5.67,
          5.68,
          5.7,
          5.71,
          5.73,
          5.74,
          5.76,
          5.77,
          5.79,
          5.8,
          5.82,
          5.83,
          5.85,
          5.86,
          5.88,
          5.89,
          5.91,
          5.92,
          5.94,
          5.95,
          5.97,
          5.98,
          6,
          6,
          6.01,
          6.02,
          6.04,
          6.05,
          6.07,
          6.08,
          6.1,
          6.11,
          6.13,
          6.14,
          6.16,
          6.17,
          6.19,
          6.2,
          6.22,
          6.23,
          6.25,
          6.26,
          6.28,
          6.29,
          6.31,
          6.32,
          6.34,
          6.35,
          6.37,
          6.38,
          6.39,
          6.41,
          6.42,
          6.44,
          6.45,
          6.47,
          6.48,
          6.5,
          6.51,
          6.53,
          6.54,
          6.56,
          6.57,
          6.59,
          6.6,
          6.62,
          6.63,
          6.65,
          6.66,
          6.68,
          6.69,
          6.71,
          6.72,
          6.74,
          6.75,
          6.76,
          6.78,
          6.79,
          6.81,
          6.82,
          6.84,
          6.85,
          6.87,
          6.88,
          6.9,
          6.91,
          6.93,
          6.94,
          6.96,
          6.97,
          6.99,
          7,
          7
         ],
         "xaxis": "x",
         "y": [
          0.000019957706766917295,
          0.000019915413533834588,
          0.00001987312030075188,
          0.000019830827067669175,
          0.000019788533834586468,
          0.00001974624060150376,
          0.000019703947368421054,
          0.000019661654135338348,
          0.00001961936090225564,
          0.000019577067669172934,
          0.000019534774436090227,
          0.00001949248120300752,
          0.000019450187969924814,
          0.000019407894736842107,
          0.0000193656015037594,
          0.000019323308270676694,
          0.000019281015037593987,
          0.00001923872180451128,
          0.000019196428571428573,
          0.000019154135338345867,
          0.00001911184210526316,
          0.000019069548872180453,
          0.000019027255639097746,
          0.00001898496240601504,
          0.000018942669172932333,
          0.000018900375939849626,
          0.00001885808270676692,
          0.000018815789473684213,
          0.000018773496240601506,
          0.0000187312030075188,
          0.000018688909774436092,
          0.000018646616541353386,
          0.00001860432330827068,
          0.000018562030075187972,
          0.000018519736842105265,
          0.00001847744360902256,
          0.000018435150375939852,
          0.000018392857142857142,
          0.00001835056390977444,
          0.00001830827067669173,
          0.000018265977443609025,
          0.000018223684210526318,
          0.00001818139097744361,
          0.0000181390977443609,
          0.000018096804511278198,
          0.00001805451127819549,
          0.000018012218045112784,
          0.000017969924812030078,
          0.00001792763157894737,
          0.00001788533834586466,
          0.000017843045112781957,
          0.00001780075187969925,
          0.000017758458646616544,
          0.000017716165413533837,
          0.000017673872180451127,
          0.00001763157894736842,
          0.000017589285714285717,
          0.00001754699248120301,
          0.000017504699248120303,
          0.000017462406015037597,
          0.000017420112781954886,
          0.00001737781954887218,
          0.000017335526315789476,
          0.00001729323308270677,
          0.000017250939849624063,
          0.000017208646616541356,
          0.000017166353383458646,
          null,
          0.00001712406015037594,
          0.000017081766917293236,
          0.00001703947368421053,
          0.000016997180451127822,
          0.000016954887218045116,
          0.000016912593984962405,
          0.0000168703007518797,
          0.000016828007518796995,
          0.00001678571428571429,
          0.000016743421052631582,
          0.000016701127819548875,
          0.000016658834586466165,
          0.000016616541353383458,
          0.000016574248120300755,
          0.000016531954887218048,
          0.00001648966165413534,
          0.00001644736842105263,
          0.000016405075187969924,
          0.000016362781954887218,
          0.000016320488721804514,
          0.000016278195488721808,
          0.0000162359022556391,
          0.00001619360902255639,
          0.000016151315789473684,
          0.000016109022556390977,
          0.000016066729323308274,
          0.000016024436090225567,
          0.00001598214285714286,
          0.00001593984962406015,
          0.000015897556390977443,
          0.000015855263157894737,
          0.00001581296992481203,
          0.000015770676691729327,
          0.00001572838345864662,
          0.00001568609022556391,
          0.000015643796992481203,
          0.000015601503759398496,
          0.00001555921052631579,
          0.000015516917293233086,
          0.000015474624060150376,
          0.00001543233082706767,
          0.000015390037593984962,
          0.000015347744360902256,
          0.00001530545112781955,
          0.000015263157894736846,
          0.000015220864661654135,
          0.000015178571428571429,
          0.000015136278195488724,
          0.000015093984962406017,
          0.00001505169172932331,
          0.000015009398496240603,
          0.000014967105263157895,
          0.000014924812030075188,
          0.000014882518796992481,
          0.000014840225563909776,
          0.00001479793233082707,
          0.000014755639097744363,
          0.000014713345864661654,
          0.000014671052631578948,
          0.000014628759398496241,
          0.000014586466165413536,
          0.000014544172932330829,
          0.000014501879699248122,
          0.000014459586466165414,
          0.000014417293233082707,
          0.000014375,
          0.000014332706766917295,
          0.000014290413533834589,
          null,
          0.00001424812030075188,
          0.000014205827067669173,
          0.000014163533834586467,
          0.00001412124060150376,
          0.000014078947368421055,
          0.000014036654135338348,
          0.00001399436090225564,
          0.000013952067669172933,
          0.000013909774436090226,
          0.00001386748120300752,
          0.000013825187969924814,
          0.000013782894736842108,
          0.0000137406015037594,
          0.000013698308270676692,
          0.000013656015037593986,
          0.000013613721804511279,
          0.000013571428571428574,
          0.000013529135338345867,
          0.000013486842105263159,
          0.000013444548872180452,
          0.000013402255639097745,
          0.000013359962406015038,
          0.000013317669172932333,
          0.000013275375939849627,
          0.000013233082706766918,
          0.000013190789473684211,
          0.000013148496240601505,
          0.000013106203007518798,
          0.000013063909774436093,
          0.000013021616541353383,
          0.000012979323308270678,
          0.000012937030075187971,
          0.000012894736842105264,
          0.000012852443609022557,
          0.000012810150375939852,
          0.000012767857142857142,
          0.000012725563909774437,
          0.00001268327067669173,
          0.000012640977443609024,
          0.000012598684210526317,
          0.000012556390977443612,
          0.000012514097744360902,
          0.000012471804511278197,
          0.00001242951127819549,
          0.000012387218045112783,
          0.000012344924812030076,
          0.00001230263157894737,
          0.000012260338345864661,
          0.000012218045112781956,
          0.00001217575187969925,
          0.000012133458646616543,
          0.000012091165413533836,
          0.000012048872180451127,
          0.00001200657894736842,
          0.000011964285714285716,
          0.000011921992481203009,
          0.000011879699248120302,
          0.000011837406015037595,
          0.000011795112781954887,
          0.00001175281954887218,
          0.000011710526315789475,
          0.000011668233082706768,
          0.000011625939849624062,
          0.000011583646616541355,
          0.000011541353383458646,
          0.00001149906015037594,
          0.000011456766917293235,
          null,
          0.000011414473684210528,
          0.000011372180451127821,
          0.000011329887218045114,
          0.000011287593984962406,
          0.0000112453007518797,
          0.000011203007518796994,
          0.000011160714285714287,
          0.00001111842105263158,
          0.000011076127819548874,
          0.000011033834586466165,
          0.000010991541353383459,
          0.000010949248120300752,
          0.000010906954887218047,
          0.00001086466165413534,
          0.000010822368421052632,
          0.000010780075187969925,
          0.000010737781954887218,
          0.000010695488721804511,
          0.000010653195488721806,
          0.0000106109022556391,
          0.000010568609022556391,
          0.000010526315789473684,
          0.000010484022556390978,
          0.000010441729323308271,
          0.000010399436090225566,
          0.000010357142857142859,
          0.00001031484962406015,
          0.000010272556390977444,
          0.000010230263157894737,
          0.00001018796992481203,
          0.000010145676691729325,
          0.000010103383458646619,
          0.00001006109022556391,
          0.000010018796992481203,
          0.000009976503759398497,
          0.00000993421052631579,
          0.000009891917293233083,
          0.000009849624060150376,
          0.00000980733082706767,
          0.000009765037593984963,
          0.000009722744360902256,
          0.00000968045112781955,
          0.000009638157894736843,
          0.000009595864661654136,
          0.00000955357142857143,
          0.000009511278195488722,
          0.000009468984962406016,
          0.000009426691729323309,
          0.000009384398496240602,
          0.000009342105263157895,
          0.000009299812030075189,
          0.000009257518796992482,
          0.000009215225563909775,
          0.000009172932330827068,
          0.000009130639097744362,
          0.000009088345864661655,
          0.000009046052631578948,
          0.000009003759398496241,
          0.000008961466165413535,
          0.000008919172932330828,
          0.000008876879699248121,
          0.000008834586466165414,
          0.000008792293233082708,
          0.000008750000000000001,
          0.000008707706766917294,
          0.000008665413533834587,
          0.00000862312030075188,
          0.000008580827067669174,
          null,
          0.000008538533834586467,
          0.00000849624060150376,
          0.000008453947368421054,
          0.000008411654135338347,
          0.00000836936090225564,
          0.000008327067669172933,
          0.000008284774436090227,
          0.00000824248120300752,
          0.000008200187969924813,
          0.000008157894736842106,
          0.0000081156015037594,
          0.000008073308270676691,
          0.000008031015037593986,
          0.00000798872180451128,
          0.000007946428571428571,
          0.000007904135338345866,
          0.00000786184210526316,
          0.00000781954887218045,
          0.000007777255639097746,
          0.000007734962406015039,
          0.00000769266917293233,
          0.000007650375939849625,
          0.000007608082706766919,
          0.000007565789473684211,
          0.000007523496240601504,
          0.000007481203007518798,
          0.000007438909774436091,
          0.000007396616541353384,
          0.000007354323308270678,
          0.0000073120300751879706,
          0.000007269736842105264,
          0.000007227443609022557,
          0.00000718515037593985,
          0.0000071428571428571436,
          0.000007100563909774437,
          0.00000705827067669173,
          0.000007015977443609023,
          0.000006973684210526316,
          0.00000693139097744361,
          0.000006889097744360903,
          0.0000068468045112781955,
          0.0000068045112781954896,
          0.000006762218045112783,
          0.000006719924812030075,
          0.000006677631578947369,
          0.0000066353383458646626,
          0.000006593045112781955,
          0.000006550751879699249,
          0.000006508458646616542,
          0.000006466165413533835,
          0.000006423872180451128,
          0.000006381578947368422,
          0.0000063392857142857145,
          0.000006296992481203008,
          0.000006254699248120302,
          0.000006212406015037594,
          0.0000061701127819548875,
          0.0000061278195488721816,
          0.000006085526315789474,
          0.000006043233082706767,
          0.000006000939849624061,
          0.000005958646616541354,
          0.000005916353383458647,
          0.00000587406015037594,
          0.0000058317669172932335,
          0.000005789473684210527,
          0.00000574718045112782,
          null,
          0.000005704887218045113,
          0.0000056625939849624064,
          0.000005620300751879699,
          0.000005578007518796993,
          0.000005535714285714286,
          0.000005493421052631579,
          0.000005451127819548873,
          0.000005408834586466166,
          0.000005366541353383458,
          0.0000053242481203007524,
          0.000005281954887218046,
          0.000005239661654135338,
          0.000005197368421052632,
          0.0000051550751879699254,
          0.000005112781954887218,
          0.000005070488721804512,
          0.000005028195488721805,
          0.000004985902255639098,
          0.000004943609022556392,
          0.000004901315789473685,
          0.000004859022556390977,
          0.0000048167293233082714,
          0.000004774436090225565,
          0.000004732142857142857,
          0.000004689849624060151,
          0.0000046475563909774444,
          0.000004605263157894737,
          0.000004562969924812031,
          0.000004520676691729324,
          0.000004478383458646617,
          0.00000443609022556391,
          0.000004393796992481203,
          0.000004351503759398496,
          0.00000430921052631579,
          0.000004266917293233083,
          0.000004224624060150376,
          0.000004182330827067669,
          0.000004140037593984963,
          0.000004097744360902256,
          0.000004055451127819549,
          0.000004013157894736842,
          0.000003970864661654136,
          0.000003928571428571429,
          0.000003886278195488722,
          0.000003843984962406015,
          0.0000038016917293233086,
          0.0000037593984962406014,
          0.000003717105263157895,
          0.0000036748120300751883,
          0.000003632518796992481,
          0.000003590225563909775,
          0.000003547932330827068,
          0.000003505639097744361,
          0.0000034633458646616546,
          0.000003421052631578948,
          0.0000033787593984962407,
          0.000003336466165413534,
          0.0000032941729323308276,
          0.0000032518796992481204,
          0.0000032095864661654137,
          0.0000031672932330827073,
          0.000003125,
          0.0000030827067669172934,
          0.000003040413533834587,
          0.00000299812030075188,
          0.000002955827067669173,
          0.000002913533834586467,
          0.0000028712406015037596,
          null,
          0.000002828947368421053,
          0.0000027866541353383457,
          0.0000027443609022556394,
          0.0000027020676691729326,
          0.0000026597744360902255,
          0.000002617481203007519,
          0.0000025751879699248124,
          0.0000025328947368421052,
          0.0000024906015037593985,
          0.000002448308270676692,
          0.000002406015037593985,
          0.0000023637218045112782,
          0.000002321428571428572,
          0.0000022791353383458647,
          0.000002236842105263158,
          0.0000021945488721804516,
          0.0000021522556390977445,
          0.0000021099624060150377,
          0.000002067669172932331,
          0.0000020253759398496242,
          0.0000019830827067669175,
          0.0000019407894736842107,
          0.000001898496240601504,
          0.000001856203007518797,
          0.0000018139097744360902,
          0.0000017716165413533837,
          0.0000017293233082706767,
          0.00000168703007518797,
          0.0000016447368421052635,
          0.0000016024436090225565,
          0.0000015601503759398497,
          0.0000015178571428571428,
          0.0000014755639097744362,
          0.0000014332706766917295,
          0.0000013909774436090225,
          0.000001348684210526316,
          0.0000013063909774436092,
          0.0000012640977443609023,
          0.0000012218045112781955,
          0.0000011795112781954888,
          0.000001137218045112782,
          0.0000010949248120300753,
          0.0000010526315789473685,
          0.0000010103383458646618,
          9.68045112781955e-7,
          9.257518796992482e-7,
          8.834586466165414e-7,
          8.411654135338347e-7,
          7.988721804511279e-7,
          7.565789473684211e-7,
          7.142857142857143e-7,
          6.719924812030077e-7,
          6.296992481203008e-7,
          5.874060150375941e-7,
          5.451127819548872e-7,
          5.028195488721805e-7,
          4.605263157894737e-7,
          4.1823308270676695e-7,
          3.7593984962406015e-7,
          3.336466165413534e-7,
          2.9135338345864665e-7,
          2.4906015037593985e-7,
          2.067669172932331e-7,
          1.6447368421052632e-7,
          1.2218045112781954e-7,
          7.988721804511278e-8,
          3.7593984962406015e-8,
          null,
          null
         ],
         "yaxis": "y"
        }
       ],
       "layout": {
        "font": {
         "color": "RebeccaPurple",
         "family": "Courier New, monospace",
         "size": 12
        },
        "legend": {
         "tracegroupgap": 0
        },
        "showlegend": true,
        "template": {
         "data": {
          "bar": [
           {
            "error_x": {
             "color": "#2a3f5f"
            },
            "error_y": {
             "color": "#2a3f5f"
            },
            "marker": {
             "line": {
              "color": "#E5ECF6",
              "width": 0.5
             },
             "pattern": {
              "fillmode": "overlay",
              "size": 10,
              "solidity": 0.2
             }
            },
            "type": "bar"
           }
          ],
          "barpolar": [
           {
            "marker": {
             "line": {
              "color": "#E5ECF6",
              "width": 0.5
             },
             "pattern": {
              "fillmode": "overlay",
              "size": 10,
              "solidity": 0.2
             }
            },
            "type": "barpolar"
           }
          ],
          "carpet": [
           {
            "aaxis": {
             "endlinecolor": "#2a3f5f",
             "gridcolor": "white",
             "linecolor": "white",
             "minorgridcolor": "white",
             "startlinecolor": "#2a3f5f"
            },
            "baxis": {
             "endlinecolor": "#2a3f5f",
             "gridcolor": "white",
             "linecolor": "white",
             "minorgridcolor": "white",
             "startlinecolor": "#2a3f5f"
            },
            "type": "carpet"
           }
          ],
          "choropleth": [
           {
            "colorbar": {
             "outlinewidth": 0,
             "ticks": ""
            },
            "type": "choropleth"
           }
          ],
          "contour": [
           {
            "colorbar": {
             "outlinewidth": 0,
             "ticks": ""
            },
            "colorscale": [
             [
              0,
              "#0d0887"
             ],
             [
              0.1111111111111111,
              "#46039f"
             ],
             [
              0.2222222222222222,
              "#7201a8"
             ],
             [
              0.3333333333333333,
              "#9c179e"
             ],
             [
              0.4444444444444444,
              "#bd3786"
             ],
             [
              0.5555555555555556,
              "#d8576b"
             ],
             [
              0.6666666666666666,
              "#ed7953"
             ],
             [
              0.7777777777777778,
              "#fb9f3a"
             ],
             [
              0.8888888888888888,
              "#fdca26"
             ],
             [
              1,
              "#f0f921"
             ]
            ],
            "type": "contour"
           }
          ],
          "contourcarpet": [
           {
            "colorbar": {
             "outlinewidth": 0,
             "ticks": ""
            },
            "type": "contourcarpet"
           }
          ],
          "heatmap": [
           {
            "colorbar": {
             "outlinewidth": 0,
             "ticks": ""
            },
            "colorscale": [
             [
              0,
              "#0d0887"
             ],
             [
              0.1111111111111111,
              "#46039f"
             ],
             [
              0.2222222222222222,
              "#7201a8"
             ],
             [
              0.3333333333333333,
              "#9c179e"
             ],
             [
              0.4444444444444444,
              "#bd3786"
             ],
             [
              0.5555555555555556,
              "#d8576b"
             ],
             [
              0.6666666666666666,
              "#ed7953"
             ],
             [
              0.7777777777777778,
              "#fb9f3a"
             ],
             [
              0.8888888888888888,
              "#fdca26"
             ],
             [
              1,
              "#f0f921"
             ]
            ],
            "type": "heatmap"
           }
          ],
          "heatmapgl": [
           {
            "colorbar": {
             "outlinewidth": 0,
             "ticks": ""
            },
            "colorscale": [
             [
              0,
              "#0d0887"
             ],
             [
              0.1111111111111111,
              "#46039f"
             ],
             [
              0.2222222222222222,
              "#7201a8"
             ],
             [
              0.3333333333333333,
              "#9c179e"
             ],
             [
              0.4444444444444444,
              "#bd3786"
             ],
             [
              0.5555555555555556,
              "#d8576b"
             ],
             [
              0.6666666666666666,
              "#ed7953"
             ],
             [
              0.7777777777777778,
              "#fb9f3a"
             ],
             [
              0.8888888888888888,
              "#fdca26"
             ],
             [
              1,
              "#f0f921"
             ]
            ],
            "type": "heatmapgl"
           }
          ],
          "histogram": [
           {
            "marker": {
             "pattern": {
              "fillmode": "overlay",
              "size": 10,
              "solidity": 0.2
             }
            },
            "type": "histogram"
           }
          ],
          "histogram2d": [
           {
            "colorbar": {
             "outlinewidth": 0,
             "ticks": ""
            },
            "colorscale": [
             [
              0,
              "#0d0887"
             ],
             [
              0.1111111111111111,
              "#46039f"
             ],
             [
              0.2222222222222222,
              "#7201a8"
             ],
             [
              0.3333333333333333,
              "#9c179e"
             ],
             [
              0.4444444444444444,
              "#bd3786"
             ],
             [
              0.5555555555555556,
              "#d8576b"
             ],
             [
              0.6666666666666666,
              "#ed7953"
             ],
             [
              0.7777777777777778,
              "#fb9f3a"
             ],
             [
              0.8888888888888888,
              "#fdca26"
             ],
             [
              1,
              "#f0f921"
             ]
            ],
            "type": "histogram2d"
           }
          ],
          "histogram2dcontour": [
           {
            "colorbar": {
             "outlinewidth": 0,
             "ticks": ""
            },
            "colorscale": [
             [
              0,
              "#0d0887"
             ],
             [
              0.1111111111111111,
              "#46039f"
             ],
             [
              0.2222222222222222,
              "#7201a8"
             ],
             [
              0.3333333333333333,
              "#9c179e"
             ],
             [
              0.4444444444444444,
              "#bd3786"
             ],
             [
              0.5555555555555556,
              "#d8576b"
             ],
             [
              0.6666666666666666,
              "#ed7953"
             ],
             [
              0.7777777777777778,
              "#fb9f3a"
             ],
             [
              0.8888888888888888,
              "#fdca26"
             ],
             [
              1,
              "#f0f921"
             ]
            ],
            "type": "histogram2dcontour"
           }
          ],
          "mesh3d": [
           {
            "colorbar": {
             "outlinewidth": 0,
             "ticks": ""
            },
            "type": "mesh3d"
           }
          ],
          "parcoords": [
           {
            "line": {
             "colorbar": {
              "outlinewidth": 0,
              "ticks": ""
             }
            },
            "type": "parcoords"
           }
          ],
          "pie": [
           {
            "automargin": true,
            "type": "pie"
           }
          ],
          "scatter": [
           {
            "fillpattern": {
             "fillmode": "overlay",
             "size": 10,
             "solidity": 0.2
            },
            "type": "scatter"
           }
          ],
          "scatter3d": [
           {
            "line": {
             "colorbar": {
              "outlinewidth": 0,
              "ticks": ""
             }
            },
            "marker": {
             "colorbar": {
              "outlinewidth": 0,
              "ticks": ""
             }
            },
            "type": "scatter3d"
           }
          ],
          "scattercarpet": [
           {
            "marker": {
             "colorbar": {
              "outlinewidth": 0,
              "ticks": ""
             }
            },
            "type": "scattercarpet"
           }
          ],
          "scattergeo": [
           {
            "marker": {
             "colorbar": {
              "outlinewidth": 0,
              "ticks": ""
             }
            },
            "type": "scattergeo"
           }
          ],
          "scattergl": [
           {
            "marker": {
             "colorbar": {
              "outlinewidth": 0,
              "ticks": ""
             }
            },
            "type": "scattergl"
           }
          ],
          "scattermapbox": [
           {
            "marker": {
             "colorbar": {
              "outlinewidth": 0,
              "ticks": ""
             }
            },
            "type": "scattermapbox"
           }
          ],
          "scatterpolar": [
           {
            "marker": {
             "colorbar": {
              "outlinewidth": 0,
              "ticks": ""
             }
            },
            "type": "scatterpolar"
           }
          ],
          "scatterpolargl": [
           {
            "marker": {
             "colorbar": {
              "outlinewidth": 0,
              "ticks": ""
             }
            },
            "type": "scatterpolargl"
           }
          ],
          "scatterternary": [
           {
            "marker": {
             "colorbar": {
              "outlinewidth": 0,
              "ticks": ""
             }
            },
            "type": "scatterternary"
           }
          ],
          "surface": [
           {
            "colorbar": {
             "outlinewidth": 0,
             "ticks": ""
            },
            "colorscale": [
             [
              0,
              "#0d0887"
             ],
             [
              0.1111111111111111,
              "#46039f"
             ],
             [
              0.2222222222222222,
              "#7201a8"
             ],
             [
              0.3333333333333333,
              "#9c179e"
             ],
             [
              0.4444444444444444,
              "#bd3786"
             ],
             [
              0.5555555555555556,
              "#d8576b"
             ],
             [
              0.6666666666666666,
              "#ed7953"
             ],
             [
              0.7777777777777778,
              "#fb9f3a"
             ],
             [
              0.8888888888888888,
              "#fdca26"
             ],
             [
              1,
              "#f0f921"
             ]
            ],
            "type": "surface"
           }
          ],
          "table": [
           {
            "cells": {
             "fill": {
              "color": "#EBF0F8"
             },
             "line": {
              "color": "white"
             }
            },
            "header": {
             "fill": {
              "color": "#C8D4E3"
             },
             "line": {
              "color": "white"
             }
            },
            "type": "table"
           }
          ]
         },
         "layout": {
          "annotationdefaults": {
           "arrowcolor": "#2a3f5f",
           "arrowhead": 0,
           "arrowwidth": 1
          },
          "autotypenumbers": "strict",
          "coloraxis": {
           "colorbar": {
            "outlinewidth": 0,
            "ticks": ""
           }
          },
          "colorscale": {
           "diverging": [
            [
             0,
             "#8e0152"
            ],
            [
             0.1,
             "#c51b7d"
            ],
            [
             0.2,
             "#de77ae"
            ],
            [
             0.3,
             "#f1b6da"
            ],
            [
             0.4,
             "#fde0ef"
            ],
            [
             0.5,
             "#f7f7f7"
            ],
            [
             0.6,
             "#e6f5d0"
            ],
            [
             0.7,
             "#b8e186"
            ],
            [
             0.8,
             "#7fbc41"
            ],
            [
             0.9,
             "#4d9221"
            ],
            [
             1,
             "#276419"
            ]
           ],
           "sequential": [
            [
             0,
             "#0d0887"
            ],
            [
             0.1111111111111111,
             "#46039f"
            ],
            [
             0.2222222222222222,
             "#7201a8"
            ],
            [
             0.3333333333333333,
             "#9c179e"
            ],
            [
             0.4444444444444444,
             "#bd3786"
            ],
            [
             0.5555555555555556,
             "#d8576b"
            ],
            [
             0.6666666666666666,
             "#ed7953"
            ],
            [
             0.7777777777777778,
             "#fb9f3a"
            ],
            [
             0.8888888888888888,
             "#fdca26"
            ],
            [
             1,
             "#f0f921"
            ]
           ],
           "sequentialminus": [
            [
             0,
             "#0d0887"
            ],
            [
             0.1111111111111111,
             "#46039f"
            ],
            [
             0.2222222222222222,
             "#7201a8"
            ],
            [
             0.3333333333333333,
             "#9c179e"
            ],
            [
             0.4444444444444444,
             "#bd3786"
            ],
            [
             0.5555555555555556,
             "#d8576b"
            ],
            [
             0.6666666666666666,
             "#ed7953"
            ],
            [
             0.7777777777777778,
             "#fb9f3a"
            ],
            [
             0.8888888888888888,
             "#fdca26"
            ],
            [
             1,
             "#f0f921"
            ]
           ]
          },
          "colorway": [
           "#636efa",
           "#EF553B",
           "#00cc96",
           "#ab63fa",
           "#FFA15A",
           "#19d3f3",
           "#FF6692",
           "#B6E880",
           "#FF97FF",
           "#FECB52"
          ],
          "font": {
           "color": "#2a3f5f"
          },
          "geo": {
           "bgcolor": "white",
           "lakecolor": "white",
           "landcolor": "#E5ECF6",
           "showlakes": true,
           "showland": true,
           "subunitcolor": "white"
          },
          "hoverlabel": {
           "align": "left"
          },
          "hovermode": "closest",
          "mapbox": {
           "style": "light"
          },
          "paper_bgcolor": "white",
          "plot_bgcolor": "#E5ECF6",
          "polar": {
           "angularaxis": {
            "gridcolor": "white",
            "linecolor": "white",
            "ticks": ""
           },
           "bgcolor": "#E5ECF6",
           "radialaxis": {
            "gridcolor": "white",
            "linecolor": "white",
            "ticks": ""
           }
          },
          "scene": {
           "xaxis": {
            "backgroundcolor": "#E5ECF6",
            "gridcolor": "white",
            "gridwidth": 2,
            "linecolor": "white",
            "showbackground": true,
            "ticks": "",
            "zerolinecolor": "white"
           },
           "yaxis": {
            "backgroundcolor": "#E5ECF6",
            "gridcolor": "white",
            "gridwidth": 2,
            "linecolor": "white",
            "showbackground": true,
            "ticks": "",
            "zerolinecolor": "white"
           },
           "zaxis": {
            "backgroundcolor": "#E5ECF6",
            "gridcolor": "white",
            "gridwidth": 2,
            "linecolor": "white",
            "showbackground": true,
            "ticks": "",
            "zerolinecolor": "white"
           }
          },
          "shapedefaults": {
           "line": {
            "color": "#2a3f5f"
           }
          },
          "ternary": {
           "aaxis": {
            "gridcolor": "white",
            "linecolor": "white",
            "ticks": ""
           },
           "baxis": {
            "gridcolor": "white",
            "linecolor": "white",
            "ticks": ""
           },
           "bgcolor": "#E5ECF6",
           "caxis": {
            "gridcolor": "white",
            "linecolor": "white",
            "ticks": ""
           }
          },
          "title": {
           "x": 0.05
          },
          "xaxis": {
           "automargin": true,
           "gridcolor": "white",
           "linecolor": "white",
           "ticks": "",
           "title": {
            "standoff": 15
           },
           "zerolinecolor": "white",
           "zerolinewidth": 2
          },
          "yaxis": {
           "automargin": true,
           "gridcolor": "white",
           "linecolor": "white",
           "ticks": "",
           "title": {
            "standoff": 15
           },
           "zerolinecolor": "white",
           "zerolinewidth": 2
          }
         }
        },
        "title": {
         "text": "Trend of Learning Rate Across Epochs"
        },
        "xaxis": {
         "anchor": "y",
         "domain": [
          0,
          1
         ],
         "nticks": 20,
         "tickmode": "auto",
         "title": {
          "text": "Epoch"
         }
        },
        "yaxis": {
         "anchor": "x",
         "domain": [
          0,
          1
         ],
         "title": {
          "text": "Learning Rate"
         }
        }
       }
      }
     },
     "metadata": {},
     "output_type": "display_data"
    }
   ],
   "source": [
    "fig = px.line(metrics_df, x='epoch', y='learning_rate', \n",
    "              title='Trend of Learning Rate Across Epochs', \n",
    "              labels={'epoch': 'Epoch', 'learning_rate': 'Learning Rate'},\n",
    "              markers=True)  # Enable markers on the line\n",
    "\n",
    "# Update layout for more customization\n",
    "fig.update_layout(\n",
    "    xaxis_title='Epoch',  # Title for the X-axis\n",
    "    yaxis_title='Learning Rate',   # Title for the Y-axis\n",
    "    font=dict(family=\"Courier New, monospace\", size=12, color=\"RebeccaPurple\"),\n",
    "    xaxis=dict(tickmode='auto', nticks=20),  # Auto mode for ticks, adjust as needed\n",
    "    showlegend=True\n",
    ")\n",
    "\n",
    "# Show the plot\n",
    "fig.show()"
   ]
  },
  {
   "cell_type": "markdown",
   "metadata": {},
   "source": [
    "- If the loss fluctuates widely or increases, the initial learning rate might be too high. If the loss decreases rapidly at the beginning of training, it might means that the initial learning rate is effectively facilitating quick progress.\n",
    "- Where the learning rate changes over time, observing how adjustments correlate with changes in loss might be helpful. Decreasing the learning rate over time often helps in stabilizing the convergence as it fine-tunes the adjustments to weights.\n",
    "- A lower learning rate can help in fine-tuning the model parameters without oscillating around the loss minimum. If the learning rate is too high at this stage, it may prevent the model from settling at the best possible values."
   ]
  },
  {
   "cell_type": "code",
   "execution_count": 50,
   "metadata": {},
   "outputs": [
    {
     "data": {
      "application/vnd.plotly.v1+json": {
       "config": {
        "plotlyServerURL": "https://plot.ly"
       },
       "data": [
        {
         "hovertemplate": "Epoch=%{x}<br>Learning Rate=%{y}<extra></extra>",
         "legendgroup": "",
         "line": {
          "color": "#636efa",
          "dash": "solid"
         },
         "marker": {
          "symbol": "circle"
         },
         "mode": "lines",
         "name": "",
         "orientation": "v",
         "showlegend": false,
         "type": "scatter",
         "x": [
          0.01,
          0.03,
          0.04,
          0.06,
          0.07,
          0.09,
          0.1,
          0.12,
          0.13,
          0.15,
          0.16,
          0.18,
          0.19,
          0.21,
          0.22,
          0.24,
          0.25,
          0.27,
          0.28,
          0.3,
          0.31,
          0.33,
          0.34,
          0.36,
          0.37,
          0.38,
          0.4,
          0.41,
          0.43,
          0.44,
          0.46,
          0.47,
          0.49,
          0.5,
          0.52,
          0.53,
          0.55,
          0.56,
          0.58,
          0.59,
          0.61,
          0.62,
          0.64,
          0.65,
          0.67,
          0.68,
          0.7,
          0.71,
          0.73,
          0.74,
          0.75,
          0.77,
          0.78,
          0.8,
          0.81,
          0.83,
          0.84,
          0.86,
          0.87,
          0.89,
          0.9,
          0.92,
          0.93,
          0.95,
          0.96,
          0.98,
          0.99,
          1,
          1.01,
          1.02,
          1.04,
          1.05,
          1.07,
          1.08,
          1.1,
          1.11,
          1.12,
          1.14,
          1.15,
          1.17,
          1.18,
          1.2,
          1.21,
          1.23,
          1.24,
          1.26,
          1.27,
          1.29,
          1.3,
          1.32,
          1.33,
          1.35,
          1.36,
          1.38,
          1.39,
          1.41,
          1.42,
          1.44,
          1.45,
          1.47,
          1.48,
          1.5,
          1.51,
          1.52,
          1.54,
          1.55,
          1.57,
          1.58,
          1.6,
          1.61,
          1.63,
          1.64,
          1.66,
          1.67,
          1.69,
          1.7,
          1.72,
          1.73,
          1.75,
          1.76,
          1.78,
          1.79,
          1.81,
          1.82,
          1.84,
          1.85,
          1.87,
          1.88,
          1.89,
          1.91,
          1.92,
          1.94,
          1.95,
          1.97,
          1.98,
          2,
          2,
          2.01,
          2.03,
          2.04,
          2.06,
          2.07,
          2.09,
          2.1,
          2.12,
          2.13,
          2.15,
          2.16,
          2.18,
          2.19,
          2.21,
          2.22,
          2.24,
          2.25,
          2.26,
          2.28,
          2.29,
          2.31,
          2.32,
          2.34,
          2.35,
          2.37,
          2.38,
          2.4,
          2.41,
          2.43,
          2.44,
          2.46,
          2.47,
          2.49,
          2.5,
          2.52,
          2.53,
          2.55,
          2.56,
          2.58,
          2.59,
          2.61,
          2.62,
          2.63,
          2.65,
          2.66,
          2.68,
          2.69,
          2.71,
          2.72,
          2.74,
          2.75,
          2.77,
          2.78,
          2.8,
          2.81,
          2.83,
          2.84,
          2.86,
          2.87,
          2.89,
          2.9,
          2.92,
          2.93,
          2.95,
          2.96,
          2.98,
          2.99,
          3,
          3,
          3.02,
          3.03,
          3.05,
          3.06,
          3.08,
          3.09,
          3.11,
          3.12,
          3.14,
          3.15,
          3.17,
          3.18,
          3.2,
          3.21,
          3.23,
          3.24,
          3.26,
          3.27,
          3.29,
          3.3,
          3.32,
          3.33,
          3.35,
          3.36,
          3.38,
          3.39,
          3.4,
          3.42,
          3.43,
          3.45,
          3.46,
          3.48,
          3.49,
          3.51,
          3.52,
          3.54,
          3.55,
          3.57,
          3.58,
          3.6,
          3.61,
          3.63,
          3.64,
          3.66,
          3.67,
          3.69,
          3.7,
          3.72,
          3.73,
          3.75,
          3.76,
          3.77,
          3.79,
          3.8,
          3.82,
          3.83,
          3.85,
          3.86,
          3.88,
          3.89,
          3.91,
          3.92,
          3.94,
          3.95,
          3.97,
          3.98,
          4,
          4,
          4.01,
          4.03,
          4.04,
          4.06,
          4.07,
          4.09,
          4.1,
          4.12,
          4.13,
          4.14,
          4.16,
          4.17,
          4.19,
          4.2,
          4.22,
          4.23,
          4.25,
          4.26,
          4.28,
          4.29,
          4.31,
          4.32,
          4.34,
          4.35,
          4.37,
          4.38,
          4.4,
          4.41,
          4.43,
          4.44,
          4.46,
          4.47,
          4.49,
          4.5,
          4.51,
          4.53,
          4.54,
          4.56,
          4.57,
          4.59,
          4.6,
          4.62,
          4.63,
          4.65,
          4.66,
          4.68,
          4.69,
          4.71,
          4.72,
          4.74,
          4.75,
          4.77,
          4.78,
          4.8,
          4.81,
          4.83,
          4.84,
          4.86,
          4.87,
          4.88,
          4.9,
          4.91,
          4.93,
          4.94,
          4.96,
          4.97,
          4.99,
          5,
          5,
          5.02,
          5.03,
          5.05,
          5.06,
          5.08,
          5.09,
          5.11,
          5.12,
          5.14,
          5.15,
          5.17,
          5.18,
          5.2,
          5.21,
          5.23,
          5.24,
          5.25,
          5.27,
          5.28,
          5.3,
          5.31,
          5.33,
          5.34,
          5.36,
          5.37,
          5.39,
          5.4,
          5.42,
          5.43,
          5.45,
          5.46,
          5.48,
          5.49,
          5.51,
          5.52,
          5.54,
          5.55,
          5.57,
          5.58,
          5.6,
          5.61,
          5.62,
          5.64,
          5.65,
          5.67,
          5.68,
          5.7,
          5.71,
          5.73,
          5.74,
          5.76,
          5.77,
          5.79,
          5.8,
          5.82,
          5.83,
          5.85,
          5.86,
          5.88,
          5.89,
          5.91,
          5.92,
          5.94,
          5.95,
          5.97,
          5.98,
          6,
          6,
          6.01,
          6.02,
          6.04,
          6.05,
          6.07,
          6.08,
          6.1,
          6.11,
          6.13,
          6.14,
          6.16,
          6.17,
          6.19,
          6.2,
          6.22,
          6.23,
          6.25,
          6.26,
          6.28,
          6.29,
          6.31,
          6.32,
          6.34,
          6.35,
          6.37,
          6.38,
          6.39,
          6.41,
          6.42,
          6.44,
          6.45,
          6.47,
          6.48,
          6.5,
          6.51,
          6.53,
          6.54,
          6.56,
          6.57,
          6.59,
          6.6,
          6.62,
          6.63,
          6.65,
          6.66,
          6.68,
          6.69,
          6.71,
          6.72,
          6.74,
          6.75,
          6.76,
          6.78,
          6.79,
          6.81,
          6.82,
          6.84,
          6.85,
          6.87,
          6.88,
          6.9,
          6.91,
          6.93,
          6.94,
          6.96,
          6.97,
          6.99,
          7,
          7
         ],
         "xaxis": "x",
         "y": [
          0.000019957706766917295,
          0.000019915413533834588,
          0.00001987312030075188,
          0.000019830827067669175,
          0.000019788533834586468,
          0.00001974624060150376,
          0.000019703947368421054,
          0.000019661654135338348,
          0.00001961936090225564,
          0.000019577067669172934,
          0.000019534774436090227,
          0.00001949248120300752,
          0.000019450187969924814,
          0.000019407894736842107,
          0.0000193656015037594,
          0.000019323308270676694,
          0.000019281015037593987,
          0.00001923872180451128,
          0.000019196428571428573,
          0.000019154135338345867,
          0.00001911184210526316,
          0.000019069548872180453,
          0.000019027255639097746,
          0.00001898496240601504,
          0.000018942669172932333,
          0.000018900375939849626,
          0.00001885808270676692,
          0.000018815789473684213,
          0.000018773496240601506,
          0.0000187312030075188,
          0.000018688909774436092,
          0.000018646616541353386,
          0.00001860432330827068,
          0.000018562030075187972,
          0.000018519736842105265,
          0.00001847744360902256,
          0.000018435150375939852,
          0.000018392857142857142,
          0.00001835056390977444,
          0.00001830827067669173,
          0.000018265977443609025,
          0.000018223684210526318,
          0.00001818139097744361,
          0.0000181390977443609,
          0.000018096804511278198,
          0.00001805451127819549,
          0.000018012218045112784,
          0.000017969924812030078,
          0.00001792763157894737,
          0.00001788533834586466,
          0.000017843045112781957,
          0.00001780075187969925,
          0.000017758458646616544,
          0.000017716165413533837,
          0.000017673872180451127,
          0.00001763157894736842,
          0.000017589285714285717,
          0.00001754699248120301,
          0.000017504699248120303,
          0.000017462406015037597,
          0.000017420112781954886,
          0.00001737781954887218,
          0.000017335526315789476,
          0.00001729323308270677,
          0.000017250939849624063,
          0.000017208646616541356,
          0.000017166353383458646,
          null,
          0.00001712406015037594,
          0.000017081766917293236,
          0.00001703947368421053,
          0.000016997180451127822,
          0.000016954887218045116,
          0.000016912593984962405,
          0.0000168703007518797,
          0.000016828007518796995,
          0.00001678571428571429,
          0.000016743421052631582,
          0.000016701127819548875,
          0.000016658834586466165,
          0.000016616541353383458,
          0.000016574248120300755,
          0.000016531954887218048,
          0.00001648966165413534,
          0.00001644736842105263,
          0.000016405075187969924,
          0.000016362781954887218,
          0.000016320488721804514,
          0.000016278195488721808,
          0.0000162359022556391,
          0.00001619360902255639,
          0.000016151315789473684,
          0.000016109022556390977,
          0.000016066729323308274,
          0.000016024436090225567,
          0.00001598214285714286,
          0.00001593984962406015,
          0.000015897556390977443,
          0.000015855263157894737,
          0.00001581296992481203,
          0.000015770676691729327,
          0.00001572838345864662,
          0.00001568609022556391,
          0.000015643796992481203,
          0.000015601503759398496,
          0.00001555921052631579,
          0.000015516917293233086,
          0.000015474624060150376,
          0.00001543233082706767,
          0.000015390037593984962,
          0.000015347744360902256,
          0.00001530545112781955,
          0.000015263157894736846,
          0.000015220864661654135,
          0.000015178571428571429,
          0.000015136278195488724,
          0.000015093984962406017,
          0.00001505169172932331,
          0.000015009398496240603,
          0.000014967105263157895,
          0.000014924812030075188,
          0.000014882518796992481,
          0.000014840225563909776,
          0.00001479793233082707,
          0.000014755639097744363,
          0.000014713345864661654,
          0.000014671052631578948,
          0.000014628759398496241,
          0.000014586466165413536,
          0.000014544172932330829,
          0.000014501879699248122,
          0.000014459586466165414,
          0.000014417293233082707,
          0.000014375,
          0.000014332706766917295,
          0.000014290413533834589,
          null,
          0.00001424812030075188,
          0.000014205827067669173,
          0.000014163533834586467,
          0.00001412124060150376,
          0.000014078947368421055,
          0.000014036654135338348,
          0.00001399436090225564,
          0.000013952067669172933,
          0.000013909774436090226,
          0.00001386748120300752,
          0.000013825187969924814,
          0.000013782894736842108,
          0.0000137406015037594,
          0.000013698308270676692,
          0.000013656015037593986,
          0.000013613721804511279,
          0.000013571428571428574,
          0.000013529135338345867,
          0.000013486842105263159,
          0.000013444548872180452,
          0.000013402255639097745,
          0.000013359962406015038,
          0.000013317669172932333,
          0.000013275375939849627,
          0.000013233082706766918,
          0.000013190789473684211,
          0.000013148496240601505,
          0.000013106203007518798,
          0.000013063909774436093,
          0.000013021616541353383,
          0.000012979323308270678,
          0.000012937030075187971,
          0.000012894736842105264,
          0.000012852443609022557,
          0.000012810150375939852,
          0.000012767857142857142,
          0.000012725563909774437,
          0.00001268327067669173,
          0.000012640977443609024,
          0.000012598684210526317,
          0.000012556390977443612,
          0.000012514097744360902,
          0.000012471804511278197,
          0.00001242951127819549,
          0.000012387218045112783,
          0.000012344924812030076,
          0.00001230263157894737,
          0.000012260338345864661,
          0.000012218045112781956,
          0.00001217575187969925,
          0.000012133458646616543,
          0.000012091165413533836,
          0.000012048872180451127,
          0.00001200657894736842,
          0.000011964285714285716,
          0.000011921992481203009,
          0.000011879699248120302,
          0.000011837406015037595,
          0.000011795112781954887,
          0.00001175281954887218,
          0.000011710526315789475,
          0.000011668233082706768,
          0.000011625939849624062,
          0.000011583646616541355,
          0.000011541353383458646,
          0.00001149906015037594,
          0.000011456766917293235,
          null,
          0.000011414473684210528,
          0.000011372180451127821,
          0.000011329887218045114,
          0.000011287593984962406,
          0.0000112453007518797,
          0.000011203007518796994,
          0.000011160714285714287,
          0.00001111842105263158,
          0.000011076127819548874,
          0.000011033834586466165,
          0.000010991541353383459,
          0.000010949248120300752,
          0.000010906954887218047,
          0.00001086466165413534,
          0.000010822368421052632,
          0.000010780075187969925,
          0.000010737781954887218,
          0.000010695488721804511,
          0.000010653195488721806,
          0.0000106109022556391,
          0.000010568609022556391,
          0.000010526315789473684,
          0.000010484022556390978,
          0.000010441729323308271,
          0.000010399436090225566,
          0.000010357142857142859,
          0.00001031484962406015,
          0.000010272556390977444,
          0.000010230263157894737,
          0.00001018796992481203,
          0.000010145676691729325,
          0.000010103383458646619,
          0.00001006109022556391,
          0.000010018796992481203,
          0.000009976503759398497,
          0.00000993421052631579,
          0.000009891917293233083,
          0.000009849624060150376,
          0.00000980733082706767,
          0.000009765037593984963,
          0.000009722744360902256,
          0.00000968045112781955,
          0.000009638157894736843,
          0.000009595864661654136,
          0.00000955357142857143,
          0.000009511278195488722,
          0.000009468984962406016,
          0.000009426691729323309,
          0.000009384398496240602,
          0.000009342105263157895,
          0.000009299812030075189,
          0.000009257518796992482,
          0.000009215225563909775,
          0.000009172932330827068,
          0.000009130639097744362,
          0.000009088345864661655,
          0.000009046052631578948,
          0.000009003759398496241,
          0.000008961466165413535,
          0.000008919172932330828,
          0.000008876879699248121,
          0.000008834586466165414,
          0.000008792293233082708,
          0.000008750000000000001,
          0.000008707706766917294,
          0.000008665413533834587,
          0.00000862312030075188,
          0.000008580827067669174,
          null,
          0.000008538533834586467,
          0.00000849624060150376,
          0.000008453947368421054,
          0.000008411654135338347,
          0.00000836936090225564,
          0.000008327067669172933,
          0.000008284774436090227,
          0.00000824248120300752,
          0.000008200187969924813,
          0.000008157894736842106,
          0.0000081156015037594,
          0.000008073308270676691,
          0.000008031015037593986,
          0.00000798872180451128,
          0.000007946428571428571,
          0.000007904135338345866,
          0.00000786184210526316,
          0.00000781954887218045,
          0.000007777255639097746,
          0.000007734962406015039,
          0.00000769266917293233,
          0.000007650375939849625,
          0.000007608082706766919,
          0.000007565789473684211,
          0.000007523496240601504,
          0.000007481203007518798,
          0.000007438909774436091,
          0.000007396616541353384,
          0.000007354323308270678,
          0.0000073120300751879706,
          0.000007269736842105264,
          0.000007227443609022557,
          0.00000718515037593985,
          0.0000071428571428571436,
          0.000007100563909774437,
          0.00000705827067669173,
          0.000007015977443609023,
          0.000006973684210526316,
          0.00000693139097744361,
          0.000006889097744360903,
          0.0000068468045112781955,
          0.0000068045112781954896,
          0.000006762218045112783,
          0.000006719924812030075,
          0.000006677631578947369,
          0.0000066353383458646626,
          0.000006593045112781955,
          0.000006550751879699249,
          0.000006508458646616542,
          0.000006466165413533835,
          0.000006423872180451128,
          0.000006381578947368422,
          0.0000063392857142857145,
          0.000006296992481203008,
          0.000006254699248120302,
          0.000006212406015037594,
          0.0000061701127819548875,
          0.0000061278195488721816,
          0.000006085526315789474,
          0.000006043233082706767,
          0.000006000939849624061,
          0.000005958646616541354,
          0.000005916353383458647,
          0.00000587406015037594,
          0.0000058317669172932335,
          0.000005789473684210527,
          0.00000574718045112782,
          null,
          0.000005704887218045113,
          0.0000056625939849624064,
          0.000005620300751879699,
          0.000005578007518796993,
          0.000005535714285714286,
          0.000005493421052631579,
          0.000005451127819548873,
          0.000005408834586466166,
          0.000005366541353383458,
          0.0000053242481203007524,
          0.000005281954887218046,
          0.000005239661654135338,
          0.000005197368421052632,
          0.0000051550751879699254,
          0.000005112781954887218,
          0.000005070488721804512,
          0.000005028195488721805,
          0.000004985902255639098,
          0.000004943609022556392,
          0.000004901315789473685,
          0.000004859022556390977,
          0.0000048167293233082714,
          0.000004774436090225565,
          0.000004732142857142857,
          0.000004689849624060151,
          0.0000046475563909774444,
          0.000004605263157894737,
          0.000004562969924812031,
          0.000004520676691729324,
          0.000004478383458646617,
          0.00000443609022556391,
          0.000004393796992481203,
          0.000004351503759398496,
          0.00000430921052631579,
          0.000004266917293233083,
          0.000004224624060150376,
          0.000004182330827067669,
          0.000004140037593984963,
          0.000004097744360902256,
          0.000004055451127819549,
          0.000004013157894736842,
          0.000003970864661654136,
          0.000003928571428571429,
          0.000003886278195488722,
          0.000003843984962406015,
          0.0000038016917293233086,
          0.0000037593984962406014,
          0.000003717105263157895,
          0.0000036748120300751883,
          0.000003632518796992481,
          0.000003590225563909775,
          0.000003547932330827068,
          0.000003505639097744361,
          0.0000034633458646616546,
          0.000003421052631578948,
          0.0000033787593984962407,
          0.000003336466165413534,
          0.0000032941729323308276,
          0.0000032518796992481204,
          0.0000032095864661654137,
          0.0000031672932330827073,
          0.000003125,
          0.0000030827067669172934,
          0.000003040413533834587,
          0.00000299812030075188,
          0.000002955827067669173,
          0.000002913533834586467,
          0.0000028712406015037596,
          null,
          0.000002828947368421053,
          0.0000027866541353383457,
          0.0000027443609022556394,
          0.0000027020676691729326,
          0.0000026597744360902255,
          0.000002617481203007519,
          0.0000025751879699248124,
          0.0000025328947368421052,
          0.0000024906015037593985,
          0.000002448308270676692,
          0.000002406015037593985,
          0.0000023637218045112782,
          0.000002321428571428572,
          0.0000022791353383458647,
          0.000002236842105263158,
          0.0000021945488721804516,
          0.0000021522556390977445,
          0.0000021099624060150377,
          0.000002067669172932331,
          0.0000020253759398496242,
          0.0000019830827067669175,
          0.0000019407894736842107,
          0.000001898496240601504,
          0.000001856203007518797,
          0.0000018139097744360902,
          0.0000017716165413533837,
          0.0000017293233082706767,
          0.00000168703007518797,
          0.0000016447368421052635,
          0.0000016024436090225565,
          0.0000015601503759398497,
          0.0000015178571428571428,
          0.0000014755639097744362,
          0.0000014332706766917295,
          0.0000013909774436090225,
          0.000001348684210526316,
          0.0000013063909774436092,
          0.0000012640977443609023,
          0.0000012218045112781955,
          0.0000011795112781954888,
          0.000001137218045112782,
          0.0000010949248120300753,
          0.0000010526315789473685,
          0.0000010103383458646618,
          9.68045112781955e-7,
          9.257518796992482e-7,
          8.834586466165414e-7,
          8.411654135338347e-7,
          7.988721804511279e-7,
          7.565789473684211e-7,
          7.142857142857143e-7,
          6.719924812030077e-7,
          6.296992481203008e-7,
          5.874060150375941e-7,
          5.451127819548872e-7,
          5.028195488721805e-7,
          4.605263157894737e-7,
          4.1823308270676695e-7,
          3.7593984962406015e-7,
          3.336466165413534e-7,
          2.9135338345864665e-7,
          2.4906015037593985e-7,
          2.067669172932331e-7,
          1.6447368421052632e-7,
          1.2218045112781954e-7,
          7.988721804511278e-8,
          3.7593984962406015e-8,
          null,
          null
         ],
         "yaxis": "y"
        },
        {
         "hovertemplate": "Epoch=%{x}<br>Loss=%{y}<extra></extra>",
         "legendgroup": "",
         "line": {
          "color": "#636efa",
          "dash": "solid"
         },
         "marker": {
          "symbol": "circle"
         },
         "mode": "lines",
         "name": "",
         "orientation": "v",
         "showlegend": false,
         "type": "scatter",
         "x": [
          0.01,
          0.03,
          0.04,
          0.06,
          0.07,
          0.09,
          0.1,
          0.12,
          0.13,
          0.15,
          0.16,
          0.18,
          0.19,
          0.21,
          0.22,
          0.24,
          0.25,
          0.27,
          0.28,
          0.3,
          0.31,
          0.33,
          0.34,
          0.36,
          0.37,
          0.38,
          0.4,
          0.41,
          0.43,
          0.44,
          0.46,
          0.47,
          0.49,
          0.5,
          0.52,
          0.53,
          0.55,
          0.56,
          0.58,
          0.59,
          0.61,
          0.62,
          0.64,
          0.65,
          0.67,
          0.68,
          0.7,
          0.71,
          0.73,
          0.74,
          0.75,
          0.77,
          0.78,
          0.8,
          0.81,
          0.83,
          0.84,
          0.86,
          0.87,
          0.89,
          0.9,
          0.92,
          0.93,
          0.95,
          0.96,
          0.98,
          0.99,
          1,
          1.01,
          1.02,
          1.04,
          1.05,
          1.07,
          1.08,
          1.1,
          1.11,
          1.12,
          1.14,
          1.15,
          1.17,
          1.18,
          1.2,
          1.21,
          1.23,
          1.24,
          1.26,
          1.27,
          1.29,
          1.3,
          1.32,
          1.33,
          1.35,
          1.36,
          1.38,
          1.39,
          1.41,
          1.42,
          1.44,
          1.45,
          1.47,
          1.48,
          1.5,
          1.51,
          1.52,
          1.54,
          1.55,
          1.57,
          1.58,
          1.6,
          1.61,
          1.63,
          1.64,
          1.66,
          1.67,
          1.69,
          1.7,
          1.72,
          1.73,
          1.75,
          1.76,
          1.78,
          1.79,
          1.81,
          1.82,
          1.84,
          1.85,
          1.87,
          1.88,
          1.89,
          1.91,
          1.92,
          1.94,
          1.95,
          1.97,
          1.98,
          2,
          2,
          2.01,
          2.03,
          2.04,
          2.06,
          2.07,
          2.09,
          2.1,
          2.12,
          2.13,
          2.15,
          2.16,
          2.18,
          2.19,
          2.21,
          2.22,
          2.24,
          2.25,
          2.26,
          2.28,
          2.29,
          2.31,
          2.32,
          2.34,
          2.35,
          2.37,
          2.38,
          2.4,
          2.41,
          2.43,
          2.44,
          2.46,
          2.47,
          2.49,
          2.5,
          2.52,
          2.53,
          2.55,
          2.56,
          2.58,
          2.59,
          2.61,
          2.62,
          2.63,
          2.65,
          2.66,
          2.68,
          2.69,
          2.71,
          2.72,
          2.74,
          2.75,
          2.77,
          2.78,
          2.8,
          2.81,
          2.83,
          2.84,
          2.86,
          2.87,
          2.89,
          2.9,
          2.92,
          2.93,
          2.95,
          2.96,
          2.98,
          2.99,
          3,
          3,
          3.02,
          3.03,
          3.05,
          3.06,
          3.08,
          3.09,
          3.11,
          3.12,
          3.14,
          3.15,
          3.17,
          3.18,
          3.2,
          3.21,
          3.23,
          3.24,
          3.26,
          3.27,
          3.29,
          3.3,
          3.32,
          3.33,
          3.35,
          3.36,
          3.38,
          3.39,
          3.4,
          3.42,
          3.43,
          3.45,
          3.46,
          3.48,
          3.49,
          3.51,
          3.52,
          3.54,
          3.55,
          3.57,
          3.58,
          3.6,
          3.61,
          3.63,
          3.64,
          3.66,
          3.67,
          3.69,
          3.7,
          3.72,
          3.73,
          3.75,
          3.76,
          3.77,
          3.79,
          3.8,
          3.82,
          3.83,
          3.85,
          3.86,
          3.88,
          3.89,
          3.91,
          3.92,
          3.94,
          3.95,
          3.97,
          3.98,
          4,
          4,
          4.01,
          4.03,
          4.04,
          4.06,
          4.07,
          4.09,
          4.1,
          4.12,
          4.13,
          4.14,
          4.16,
          4.17,
          4.19,
          4.2,
          4.22,
          4.23,
          4.25,
          4.26,
          4.28,
          4.29,
          4.31,
          4.32,
          4.34,
          4.35,
          4.37,
          4.38,
          4.4,
          4.41,
          4.43,
          4.44,
          4.46,
          4.47,
          4.49,
          4.5,
          4.51,
          4.53,
          4.54,
          4.56,
          4.57,
          4.59,
          4.6,
          4.62,
          4.63,
          4.65,
          4.66,
          4.68,
          4.69,
          4.71,
          4.72,
          4.74,
          4.75,
          4.77,
          4.78,
          4.8,
          4.81,
          4.83,
          4.84,
          4.86,
          4.87,
          4.88,
          4.9,
          4.91,
          4.93,
          4.94,
          4.96,
          4.97,
          4.99,
          5,
          5,
          5.02,
          5.03,
          5.05,
          5.06,
          5.08,
          5.09,
          5.11,
          5.12,
          5.14,
          5.15,
          5.17,
          5.18,
          5.2,
          5.21,
          5.23,
          5.24,
          5.25,
          5.27,
          5.28,
          5.3,
          5.31,
          5.33,
          5.34,
          5.36,
          5.37,
          5.39,
          5.4,
          5.42,
          5.43,
          5.45,
          5.46,
          5.48,
          5.49,
          5.51,
          5.52,
          5.54,
          5.55,
          5.57,
          5.58,
          5.6,
          5.61,
          5.62,
          5.64,
          5.65,
          5.67,
          5.68,
          5.7,
          5.71,
          5.73,
          5.74,
          5.76,
          5.77,
          5.79,
          5.8,
          5.82,
          5.83,
          5.85,
          5.86,
          5.88,
          5.89,
          5.91,
          5.92,
          5.94,
          5.95,
          5.97,
          5.98,
          6,
          6,
          6.01,
          6.02,
          6.04,
          6.05,
          6.07,
          6.08,
          6.1,
          6.11,
          6.13,
          6.14,
          6.16,
          6.17,
          6.19,
          6.2,
          6.22,
          6.23,
          6.25,
          6.26,
          6.28,
          6.29,
          6.31,
          6.32,
          6.34,
          6.35,
          6.37,
          6.38,
          6.39,
          6.41,
          6.42,
          6.44,
          6.45,
          6.47,
          6.48,
          6.5,
          6.51,
          6.53,
          6.54,
          6.56,
          6.57,
          6.59,
          6.6,
          6.62,
          6.63,
          6.65,
          6.66,
          6.68,
          6.69,
          6.71,
          6.72,
          6.74,
          6.75,
          6.76,
          6.78,
          6.79,
          6.81,
          6.82,
          6.84,
          6.85,
          6.87,
          6.88,
          6.9,
          6.91,
          6.93,
          6.94,
          6.96,
          6.97,
          6.99,
          7,
          7
         ],
         "xaxis": "x2",
         "y": [
          2.6177,
          2.0077,
          1.4159,
          1.5036,
          1.4324,
          1.1972,
          1.5444,
          1.2213,
          1.336,
          1.3735,
          0.9908,
          1.4635,
          1.8811,
          0.9648,
          1.5064,
          1.1235,
          1.0091,
          1.2433,
          0.9962,
          1.8512,
          1.1346,
          1.0649,
          0.7104,
          1.3082,
          1.6961,
          1.4578,
          1.1526,
          1.1108,
          1.1338,
          1.1585,
          1.1707,
          1.418,
          1.1895,
          0.9792,
          1.3117,
          1.0249,
          1.3126,
          1.167,
          1.3017,
          0.9812,
          1.6911,
          0.9631,
          0.9498,
          1.6478,
          0.7369,
          1.3594,
          1.4187,
          0.8123,
          1.4777,
          1.4532,
          0.9293,
          1.6501,
          1.4468,
          1.2772,
          1.264,
          1.3515,
          1.2247,
          0.8895,
          1.2333,
          1.3748,
          0.9524,
          1.507,
          1.2841,
          1.101,
          1.2013,
          1.3756,
          0.9579,
          null,
          0.7057,
          1.3871,
          0.927,
          1.1197,
          1.235,
          1.1141,
          1.0908,
          1.1644,
          1.114,
          1.2955,
          0.9456,
          1.0254,
          1.0429,
          0.8354,
          1.082,
          1.0381,
          0.9991,
          0.9633,
          0.9357,
          1.2339,
          1.1338,
          0.891,
          1.2223,
          0.6117,
          0.9715,
          1.0376,
          1.1425,
          0.9999,
          1.1043,
          1.04,
          1.0043,
          0.9375,
          0.554,
          0.6449,
          1.1134,
          0.8272,
          1.1832,
          0.9126,
          1.2888,
          0.9978,
          1.2635,
          0.8202,
          1.0206,
          1.0416,
          1.2958,
          0.9301,
          1.1421,
          1.1608,
          1.008,
          0.9821,
          0.794,
          0.7297,
          0.9285,
          1.0618,
          0.7745,
          1.0306,
          1.1416,
          0.7301,
          0.683,
          1.1048,
          1.2237,
          1.2353,
          0.929,
          1.2884,
          0.8123,
          0.9301,
          0.5983,
          1.1113,
          null,
          0.8016,
          0.7666,
          0.8554,
          0.7898,
          1.1208,
          0.9231,
          0.9971,
          0.7314,
          0.9519,
          1.0202,
          1.023,
          0.6835,
          0.7783,
          0.656,
          0.7949,
          0.9629,
          0.6292,
          0.8741,
          1.0294,
          0.6041,
          0.9187,
          0.8357,
          0.8032,
          0.9512,
          0.759,
          0.9293,
          0.8955,
          0.8468,
          0.8547,
          0.8305,
          0.7966,
          1.2254,
          1.1515,
          0.9047,
          0.7949,
          0.6976,
          0.7911,
          0.9635,
          0.7963,
          1.0061,
          0.6971,
          1.1376,
          0.8495,
          0.9018,
          0.6181,
          0.7156,
          0.9031,
          0.7629,
          0.9759,
          0.7749,
          0.9455,
          0.63,
          0.574,
          0.9078,
          0.6034,
          0.9164,
          0.7157,
          0.7954,
          0.6882,
          1.0186,
          0.9186,
          1.0076,
          0.7737,
          0.9837,
          0.8306,
          0.746,
          0.8701,
          null,
          0.8678,
          0.9648,
          0.5382,
          0.6433,
          0.5021,
          0.4462,
          0.9779,
          1.1472,
          0.7294,
          0.6983,
          0.4126,
          0.9042,
          0.8477,
          0.9698,
          0.6388,
          0.9261,
          0.6811,
          0.5599,
          0.4738,
          0.7499,
          0.5617,
          0.604,
          0.4569,
          0.9296,
          0.8238,
          0.4587,
          0.7285,
          1.0021,
          1.0215,
          0.7167,
          0.7773,
          0.7714,
          0.7993,
          0.8243,
          0.5061,
          0.6172,
          0.4697,
          0.8719,
          0.7411,
          0.8967,
          0.6959,
          0.7278,
          0.6558,
          0.7154,
          0.7243,
          0.932,
          0.5277,
          0.9049,
          0.7487,
          0.8974,
          0.5508,
          0.9751,
          0.6054,
          0.9996,
          0.5817,
          0.5355,
          0.7405,
          1.0357,
          0.4964,
          0.584,
          0.9748,
          0.903,
          0.6287,
          0.7463,
          0.6939,
          0.5592,
          0.5849,
          0.7434,
          null,
          0.4987,
          0.4699,
          0.5703,
          0.7188,
          0.4751,
          0.4126,
          0.8675,
          0.5789,
          0.7014,
          0.5572,
          0.5609,
          0.5952,
          0.8637,
          0.3053,
          0.4796,
          1.1142,
          0.3196,
          0.8528,
          0.3215,
          0.6728,
          0.64,
          0.6951,
          0.6299,
          0.4992,
          0.7718,
          0.5321,
          0.6453,
          0.9048,
          0.5716,
          0.4534,
          0.8297,
          0.8945,
          0.4634,
          0.7432,
          0.5418,
          0.7957,
          0.4907,
          0.6047,
          0.5731,
          0.5268,
          0.3301,
          0.5146,
          0.5885,
          0.7061,
          0.6987,
          0.5452,
          0.5704,
          0.6524,
          0.5871,
          0.7275,
          0.4759,
          0.755,
          0.8842,
          0.6154,
          0.64,
          0.4226,
          0.8252,
          0.7128,
          0.5408,
          0.5116,
          0.7467,
          0.6588,
          0.7829,
          0.607,
          0.598,
          0.524,
          0.8662,
          null,
          0.457,
          0.4881,
          0.5058,
          0.6857,
          0.5898,
          0.4549,
          0.4491,
          0.4286,
          0.4726,
          0.8257,
          0.5353,
          0.5392,
          0.4229,
          0.5172,
          0.6748,
          0.5302,
          0.5443,
          0.5236,
          0.4812,
          0.3277,
          0.3738,
          0.6682,
          0.6049,
          0.4045,
          0.4467,
          0.4862,
          0.407,
          0.9168,
          0.5599,
          0.5754,
          0.4547,
          0.6491,
          0.6073,
          0.5145,
          0.2648,
          0.4502,
          0.6793,
          0.6041,
          0.6086,
          0.5277,
          0.6028,
          0.3566,
          0.4328,
          0.5419,
          0.6693,
          0.4536,
          0.4229,
          0.4804,
          0.5395,
          0.4657,
          0.4263,
          0.4485,
          0.6142,
          0.4243,
          0.6482,
          0.5852,
          0.5338,
          0.7439,
          0.5781,
          0.6245,
          0.4584,
          0.3899,
          0.4934,
          0.5804,
          0.688,
          0.4793,
          0.5024,
          0.7102,
          null,
          0.6185,
          0.5129,
          0.5677,
          0.5289,
          0.6033,
          0.4618,
          0.4378,
          0.3513,
          0.5031,
          0.5333,
          0.5426,
          0.6259,
          0.4197,
          0.7368,
          0.3965,
          0.3256,
          0.5604,
          0.3608,
          0.445,
          0.5505,
          0.5379,
          0.3821,
          0.4346,
          0.3577,
          0.4227,
          0.3215,
          0.3784,
          0.3536,
          0.3602,
          0.6083,
          0.4658,
          0.4754,
          0.4392,
          0.5679,
          0.3993,
          0.3246,
          0.4399,
          0.4025,
          0.5582,
          0.5589,
          0.4319,
          0.6335,
          0.4145,
          0.5808,
          0.4879,
          0.4413,
          0.403,
          0.666,
          0.3758,
          0.2753,
          0.4077,
          0.4248,
          0.3482,
          0.4882,
          0.3972,
          0.5465,
          0.4857,
          0.5145,
          0.5703,
          0.6547,
          0.5696,
          0.3761,
          0.3246,
          0.4367,
          0.5371,
          0.4701,
          0.3773,
          null,
          null
         ],
         "yaxis": "y2"
        },
        {
         "hovertemplate": "Epoch=%{x}<br>Gradient Norm=%{y}<extra></extra>",
         "legendgroup": "",
         "line": {
          "color": "#636efa",
          "dash": "solid"
         },
         "marker": {
          "symbol": "circle"
         },
         "mode": "lines",
         "name": "",
         "orientation": "v",
         "showlegend": false,
         "type": "scatter",
         "x": [
          0.01,
          0.03,
          0.04,
          0.06,
          0.07,
          0.09,
          0.1,
          0.12,
          0.13,
          0.15,
          0.16,
          0.18,
          0.19,
          0.21,
          0.22,
          0.24,
          0.25,
          0.27,
          0.28,
          0.3,
          0.31,
          0.33,
          0.34,
          0.36,
          0.37,
          0.38,
          0.4,
          0.41,
          0.43,
          0.44,
          0.46,
          0.47,
          0.49,
          0.5,
          0.52,
          0.53,
          0.55,
          0.56,
          0.58,
          0.59,
          0.61,
          0.62,
          0.64,
          0.65,
          0.67,
          0.68,
          0.7,
          0.71,
          0.73,
          0.74,
          0.75,
          0.77,
          0.78,
          0.8,
          0.81,
          0.83,
          0.84,
          0.86,
          0.87,
          0.89,
          0.9,
          0.92,
          0.93,
          0.95,
          0.96,
          0.98,
          0.99,
          1,
          1.01,
          1.02,
          1.04,
          1.05,
          1.07,
          1.08,
          1.1,
          1.11,
          1.12,
          1.14,
          1.15,
          1.17,
          1.18,
          1.2,
          1.21,
          1.23,
          1.24,
          1.26,
          1.27,
          1.29,
          1.3,
          1.32,
          1.33,
          1.35,
          1.36,
          1.38,
          1.39,
          1.41,
          1.42,
          1.44,
          1.45,
          1.47,
          1.48,
          1.5,
          1.51,
          1.52,
          1.54,
          1.55,
          1.57,
          1.58,
          1.6,
          1.61,
          1.63,
          1.64,
          1.66,
          1.67,
          1.69,
          1.7,
          1.72,
          1.73,
          1.75,
          1.76,
          1.78,
          1.79,
          1.81,
          1.82,
          1.84,
          1.85,
          1.87,
          1.88,
          1.89,
          1.91,
          1.92,
          1.94,
          1.95,
          1.97,
          1.98,
          2,
          2,
          2.01,
          2.03,
          2.04,
          2.06,
          2.07,
          2.09,
          2.1,
          2.12,
          2.13,
          2.15,
          2.16,
          2.18,
          2.19,
          2.21,
          2.22,
          2.24,
          2.25,
          2.26,
          2.28,
          2.29,
          2.31,
          2.32,
          2.34,
          2.35,
          2.37,
          2.38,
          2.4,
          2.41,
          2.43,
          2.44,
          2.46,
          2.47,
          2.49,
          2.5,
          2.52,
          2.53,
          2.55,
          2.56,
          2.58,
          2.59,
          2.61,
          2.62,
          2.63,
          2.65,
          2.66,
          2.68,
          2.69,
          2.71,
          2.72,
          2.74,
          2.75,
          2.77,
          2.78,
          2.8,
          2.81,
          2.83,
          2.84,
          2.86,
          2.87,
          2.89,
          2.9,
          2.92,
          2.93,
          2.95,
          2.96,
          2.98,
          2.99,
          3,
          3,
          3.02,
          3.03,
          3.05,
          3.06,
          3.08,
          3.09,
          3.11,
          3.12,
          3.14,
          3.15,
          3.17,
          3.18,
          3.2,
          3.21,
          3.23,
          3.24,
          3.26,
          3.27,
          3.29,
          3.3,
          3.32,
          3.33,
          3.35,
          3.36,
          3.38,
          3.39,
          3.4,
          3.42,
          3.43,
          3.45,
          3.46,
          3.48,
          3.49,
          3.51,
          3.52,
          3.54,
          3.55,
          3.57,
          3.58,
          3.6,
          3.61,
          3.63,
          3.64,
          3.66,
          3.67,
          3.69,
          3.7,
          3.72,
          3.73,
          3.75,
          3.76,
          3.77,
          3.79,
          3.8,
          3.82,
          3.83,
          3.85,
          3.86,
          3.88,
          3.89,
          3.91,
          3.92,
          3.94,
          3.95,
          3.97,
          3.98,
          4,
          4,
          4.01,
          4.03,
          4.04,
          4.06,
          4.07,
          4.09,
          4.1,
          4.12,
          4.13,
          4.14,
          4.16,
          4.17,
          4.19,
          4.2,
          4.22,
          4.23,
          4.25,
          4.26,
          4.28,
          4.29,
          4.31,
          4.32,
          4.34,
          4.35,
          4.37,
          4.38,
          4.4,
          4.41,
          4.43,
          4.44,
          4.46,
          4.47,
          4.49,
          4.5,
          4.51,
          4.53,
          4.54,
          4.56,
          4.57,
          4.59,
          4.6,
          4.62,
          4.63,
          4.65,
          4.66,
          4.68,
          4.69,
          4.71,
          4.72,
          4.74,
          4.75,
          4.77,
          4.78,
          4.8,
          4.81,
          4.83,
          4.84,
          4.86,
          4.87,
          4.88,
          4.9,
          4.91,
          4.93,
          4.94,
          4.96,
          4.97,
          4.99,
          5,
          5,
          5.02,
          5.03,
          5.05,
          5.06,
          5.08,
          5.09,
          5.11,
          5.12,
          5.14,
          5.15,
          5.17,
          5.18,
          5.2,
          5.21,
          5.23,
          5.24,
          5.25,
          5.27,
          5.28,
          5.3,
          5.31,
          5.33,
          5.34,
          5.36,
          5.37,
          5.39,
          5.4,
          5.42,
          5.43,
          5.45,
          5.46,
          5.48,
          5.49,
          5.51,
          5.52,
          5.54,
          5.55,
          5.57,
          5.58,
          5.6,
          5.61,
          5.62,
          5.64,
          5.65,
          5.67,
          5.68,
          5.7,
          5.71,
          5.73,
          5.74,
          5.76,
          5.77,
          5.79,
          5.8,
          5.82,
          5.83,
          5.85,
          5.86,
          5.88,
          5.89,
          5.91,
          5.92,
          5.94,
          5.95,
          5.97,
          5.98,
          6,
          6,
          6.01,
          6.02,
          6.04,
          6.05,
          6.07,
          6.08,
          6.1,
          6.11,
          6.13,
          6.14,
          6.16,
          6.17,
          6.19,
          6.2,
          6.22,
          6.23,
          6.25,
          6.26,
          6.28,
          6.29,
          6.31,
          6.32,
          6.34,
          6.35,
          6.37,
          6.38,
          6.39,
          6.41,
          6.42,
          6.44,
          6.45,
          6.47,
          6.48,
          6.5,
          6.51,
          6.53,
          6.54,
          6.56,
          6.57,
          6.59,
          6.6,
          6.62,
          6.63,
          6.65,
          6.66,
          6.68,
          6.69,
          6.71,
          6.72,
          6.74,
          6.75,
          6.76,
          6.78,
          6.79,
          6.81,
          6.82,
          6.84,
          6.85,
          6.87,
          6.88,
          6.9,
          6.91,
          6.93,
          6.94,
          6.96,
          6.97,
          6.99,
          7,
          7
         ],
         "xaxis": "x3",
         "y": [
          76.0838851928711,
          48.948951721191406,
          34.51979064941406,
          28.149858474731445,
          22.512527465820312,
          21.348005294799805,
          13.8782958984375,
          16.731698989868164,
          30.180749893188477,
          17.13225746154785,
          24.41388702392578,
          31.909746170043945,
          37.96180725097656,
          5.272886753082275,
          21.67125701904297,
          24.64453125,
          40.03766632080078,
          21.24781036376953,
          26.358657836914062,
          26.410860061645508,
          17.893157958984375,
          20.948467254638672,
          7.631809234619141,
          46.19166946411133,
          22.439668655395508,
          37.89064025878906,
          31.20825958251953,
          26.636821746826172,
          14.26789665222168,
          60.64204788208008,
          17.06499671936035,
          45.173553466796875,
          9.2151460647583,
          14.728775978088379,
          21.266122817993164,
          28.275253295898438,
          15.415726661682129,
          11.350357055664062,
          14.287511825561523,
          37.02401351928711,
          15.318913459777832,
          10.970183372497559,
          36.75771713256836,
          14.19973087310791,
          20.767900466918945,
          27.160247802734375,
          27.353933334350586,
          8.371872901916504,
          22.089820861816406,
          14.778010368347168,
          8.64704704284668,
          26.21131134033203,
          15.834428787231445,
          15.435220718383789,
          11.468283653259277,
          11.992746353149414,
          13.867403030395508,
          11.208301544189453,
          16.988882064819336,
          16.405797958374023,
          16.857004165649414,
          20.02691078186035,
          13.0835542678833,
          23.529808044433594,
          25.90774917602539,
          17.26943016052246,
          14.385632514953613,
          null,
          14.98363971710205,
          22.37464141845703,
          13.119917869567871,
          14.232475280761719,
          16.54279899597168,
          14.951926231384277,
          18.379858016967773,
          21.35282325744629,
          15.819419860839844,
          14.387154579162598,
          6.229833602905273,
          11.293050765991211,
          21.448589324951172,
          10.619438171386719,
          6.240084648132324,
          12.032090187072754,
          19.791866302490234,
          31.278173446655273,
          28.20980453491211,
          15.01119327545166,
          14.547926902770996,
          19.23919105529785,
          13.67093563079834,
          7.577640056610107,
          26.58194351196289,
          20.080516815185547,
          13.695296287536621,
          18.165918350219727,
          27.938058853149414,
          35.27409362792969,
          13.055937767028809,
          17.70668601989746,
          10.497471809387207,
          21.115131378173828,
          17.009687423706055,
          2.9328596591949463,
          14.348456382751465,
          18.993528366088867,
          6.560078144073486,
          11.562115669250488,
          25.121095657348633,
          27.310871124267578,
          17.261411666870117,
          30.472307205200195,
          14.413082122802734,
          39.09098815917969,
          6.669904708862305,
          17.41485595703125,
          14.423589706420898,
          31.03705596923828,
          42.08173751831055,
          8.916742324829102,
          36.531124114990234,
          5.132484436035156,
          15.6593017578125,
          16.762939453125,
          48.607784271240234,
          10.324958801269531,
          12.234637260437012,
          11.226466178894043,
          32.767269134521484,
          11.77112102508545,
          17.027790069580078,
          11.577437400817871,
          19.700925827026367,
          18.08301544189453,
          27.47380828857422,
          13.033905029296875,
          null,
          7.677554130554199,
          15.55125617980957,
          8.711353302001953,
          8.45137882232666,
          17.27356719970703,
          11.370024681091309,
          27.980588912963867,
          18.640430450439453,
          13.56200122833252,
          25.640125274658203,
          12.396903038024902,
          13.620206832885742,
          46.341182708740234,
          14.57447338104248,
          8.247153282165527,
          29.10744857788086,
          19.233081817626953,
          21.472869873046875,
          22.038883209228516,
          5.850568771362305,
          33.470191955566406,
          36.413570404052734,
          17.012252807617188,
          20.850404739379883,
          19.9390811920166,
          27.132246017456055,
          7.184160232543945,
          22.708911895751953,
          12.851737022399902,
          46.351539611816406,
          42.645809173583984,
          33.4620475769043,
          27.360885620117188,
          9.941360473632812,
          11.131185531616211,
          21.743623733520508,
          27.85624885559082,
          6.869490623474121,
          12.4854154586792,
          32.43775177001953,
          17.482603073120117,
          39.797584533691406,
          14.320749282836914,
          30.330163955688477,
          12.779412269592285,
          2.9401159286499023,
          16.8409366607666,
          30.495868682861328,
          35.98527908325195,
          20.81377601623535,
          22.862215042114258,
          25.235414505004883,
          12.54434871673584,
          17.5186824798584,
          21.736122131347656,
          40.71708679199219,
          17.999008178710938,
          11.387951850891113,
          33.672847747802734,
          72.5705795288086,
          30.202777862548828,
          35.18100357055664,
          17.453771591186523,
          22.874267578125,
          26.013460159301758,
          10.244420051574707,
          9.266437530517578,
          null,
          2.784013032913208,
          37.2861442565918,
          12.05611801147461,
          38.90074157714844,
          6.188076496124268,
          7.964102268218994,
          56.61402130126953,
          21.96409797668457,
          20.43484878540039,
          50.35201644897461,
          0.9457170367240906,
          23.372577667236328,
          30.618953704833984,
          35.72951889038086,
          33.43545150756836,
          19.980440139770508,
          44.045799255371094,
          7.977248668670654,
          13.792214393615723,
          22.799222946166992,
          30.77474594116211,
          27.731481552124023,
          17.648937225341797,
          39.63817596435547,
          20.721343994140625,
          12.275656700134277,
          19.095550537109375,
          10.301430702209473,
          40.67992401123047,
          15.392219543457031,
          18.085765838623047,
          30.49614906311035,
          24.278579711914062,
          20.509021759033203,
          27.707611083984375,
          36.912986755371094,
          44.822105407714844,
          26.846153259277344,
          34.119956970214844,
          7.946260452270508,
          10.687684059143066,
          22.742599487304688,
          16.219741821289062,
          18.8494815826416,
          15.805286407470703,
          14.082350730895996,
          11.427087783813477,
          24.16115379333496,
          41.12704849243164,
          5.769288063049316,
          23.37405776977539,
          12.998167991638184,
          24.243854522705078,
          44.07929229736328,
          29.559396743774414,
          6.895120620727539,
          29.296236038208008,
          20.50558853149414,
          14.291404724121094,
          12.383359909057617,
          44.828792572021484,
          15.95994758605957,
          27.035112380981445,
          47.86928176879883,
          24.48914909362793,
          4.502011775970459,
          29.431447982788086,
          44.980323791503906,
          null,
          14.001951217651367,
          11.766260147094727,
          19.29128074645996,
          32.64830780029297,
          56.383670806884766,
          20.766626358032227,
          30.522951126098633,
          17.777456283569336,
          34.702430725097656,
          10.99400520324707,
          14.65029525756836,
          22.481246948242188,
          13.080245018005371,
          23.680076599121094,
          38.10095977783203,
          80.12532806396484,
          14.335248947143555,
          26.437030792236328,
          19.376693725585938,
          69.5506362915039,
          269.6756896972656,
          22.86501121520996,
          14.006589889526367,
          17.060646057128906,
          35.000083923339844,
          15.1170072555542,
          22.375579833984375,
          14.048827171325684,
          12.95390510559082,
          34.37958526611328,
          15.766999244689941,
          25.65511703491211,
          40.990867614746094,
          31.667369842529297,
          32.8623161315918,
          32.56919479370117,
          10.443431854248047,
          44.35326385498047,
          20.176633834838867,
          41.907649993896484,
          8.212626457214355,
          13.725725173950195,
          25.534282684326172,
          45.64292907714844,
          23.176668167114258,
          11.8435697555542,
          35.91046142578125,
          16.986478805541992,
          38.32142639160156,
          5.678120136260986,
          58.845130920410156,
          40.03036880493164,
          42.57059860229492,
          17.28233528137207,
          44.13753890991211,
          16.792131423950195,
          18.668256759643555,
          16.42937660217285,
          17.471172332763672,
          37.59219741821289,
          37.699485778808594,
          45.8936767578125,
          35.73786163330078,
          15.132292747497559,
          39.19651794433594,
          21.03137969970703,
          35.825050354003906,
          null,
          30.48847198486328,
          18.263973236083984,
          7.832901477813721,
          17.46605682373047,
          41.86005783081055,
          43.204734802246094,
          42.650272369384766,
          17.838783264160156,
          35.171722412109375,
          23.169376373291016,
          41.24907684326172,
          23.808895111083984,
          17.006370544433594,
          16.310420989990234,
          55.419944763183594,
          16.55910873413086,
          1.140906810760498,
          47.81314468383789,
          16.99368667602539,
          14.533183097839355,
          13.1793212890625,
          44.95590591430664,
          12.486384391784668,
          16.81228256225586,
          40.021575927734375,
          32.22958755493164,
          72.03997802734375,
          84.92304992675781,
          71.6428451538086,
          21.52141571044922,
          3.0816030502319336,
          10.907073020935059,
          27.69318199157715,
          29.241050720214844,
          1.510179877281189,
          15.52469539642334,
          51.88794708251953,
          55.738975524902344,
          19.206880569458008,
          21.280256271362305,
          31.6082820892334,
          15.779048919677734,
          10.447160720825195,
          22.252307891845703,
          26.620336532592773,
          11.911888122558594,
          19.64629554748535,
          12.03242015838623,
          7.261569499969482,
          13.511953353881836,
          35.0676383972168,
          54.07756423950195,
          30.959110260009766,
          17.732345581054688,
          21.65946388244629,
          34.33080291748047,
          23.12537956237793,
          14.198922157287598,
          44.558834075927734,
          55.39570999145508,
          22.778413772583008,
          53.16616439819336,
          32.0245361328125,
          67.61837768554688,
          8.761306762695312,
          13.07691478729248,
          16.2424259185791,
          55.03977966308594,
          null,
          19.794921875,
          32.24275588989258,
          17.371566772460938,
          24.890134811401367,
          47.13253402709961,
          21.815776824951172,
          14.63692855834961,
          55.30411148071289,
          52.37452697753906,
          27.415977478027344,
          17.577688217163086,
          25.074378967285156,
          18.685012817382812,
          32.567989349365234,
          34.56188201904297,
          41.69496536254883,
          11.16845417022705,
          15.315767288208008,
          4.128531455993652,
          51.0404052734375,
          9.560561180114746,
          3.722785472869873,
          11.41561222076416,
          3.570749044418335,
          8.745579719543457,
          44.83097839355469,
          22.46253776550293,
          5.231961727142334,
          9.258927345275879,
          30.36258316040039,
          12.83320426940918,
          19.52073860168457,
          22.48356819152832,
          12.447044372558594,
          17.98676300048828,
          11.321002960205078,
          17.65456199645996,
          21.976526260375977,
          20.212257385253906,
          31.253934860229492,
          13.2333402633667,
          33.653751373291016,
          14.458768844604492,
          7.352836608886719,
          28.79302978515625,
          39.52197265625,
          41.23985290527344,
          46.87055969238281,
          52.561004638671875,
          22.274932861328125,
          15.434982299804688,
          53.28901672363281,
          23.448400497436523,
          64.41215515136719,
          18.61127471923828,
          21.609050750732422,
          16.375661849975586,
          35.834373474121094,
          21.999557495117188,
          13.535197257995605,
          42.399723052978516,
          17.665912628173828,
          43.796119689941406,
          51.993743896484375,
          12.320605278015137,
          21.82286834716797,
          39.5008659362793,
          null,
          null
         ],
         "yaxis": "y3"
        }
       ],
       "layout": {
        "annotations": [
         {
          "font": {
           "size": 16
          },
          "showarrow": false,
          "text": "Learning Rate",
          "x": 0.5,
          "xanchor": "center",
          "xref": "paper",
          "y": 1,
          "yanchor": "bottom",
          "yref": "paper"
         },
         {
          "font": {
           "size": 16
          },
          "showarrow": false,
          "text": "Loss",
          "x": 0.5,
          "xanchor": "center",
          "xref": "paper",
          "y": 0.6111111111111112,
          "yanchor": "bottom",
          "yref": "paper"
         },
         {
          "font": {
           "size": 16
          },
          "showarrow": false,
          "text": "Gradient Norm",
          "x": 0.5,
          "xanchor": "center",
          "xref": "paper",
          "y": 0.22222222222222224,
          "yanchor": "bottom",
          "yref": "paper"
         }
        ],
        "font": {
         "color": "RebeccaPurple",
         "family": "Courier New, monospace",
         "size": 12
        },
        "height": 900,
        "showlegend": false,
        "template": {
         "data": {
          "bar": [
           {
            "error_x": {
             "color": "#2a3f5f"
            },
            "error_y": {
             "color": "#2a3f5f"
            },
            "marker": {
             "line": {
              "color": "#E5ECF6",
              "width": 0.5
             },
             "pattern": {
              "fillmode": "overlay",
              "size": 10,
              "solidity": 0.2
             }
            },
            "type": "bar"
           }
          ],
          "barpolar": [
           {
            "marker": {
             "line": {
              "color": "#E5ECF6",
              "width": 0.5
             },
             "pattern": {
              "fillmode": "overlay",
              "size": 10,
              "solidity": 0.2
             }
            },
            "type": "barpolar"
           }
          ],
          "carpet": [
           {
            "aaxis": {
             "endlinecolor": "#2a3f5f",
             "gridcolor": "white",
             "linecolor": "white",
             "minorgridcolor": "white",
             "startlinecolor": "#2a3f5f"
            },
            "baxis": {
             "endlinecolor": "#2a3f5f",
             "gridcolor": "white",
             "linecolor": "white",
             "minorgridcolor": "white",
             "startlinecolor": "#2a3f5f"
            },
            "type": "carpet"
           }
          ],
          "choropleth": [
           {
            "colorbar": {
             "outlinewidth": 0,
             "ticks": ""
            },
            "type": "choropleth"
           }
          ],
          "contour": [
           {
            "colorbar": {
             "outlinewidth": 0,
             "ticks": ""
            },
            "colorscale": [
             [
              0,
              "#0d0887"
             ],
             [
              0.1111111111111111,
              "#46039f"
             ],
             [
              0.2222222222222222,
              "#7201a8"
             ],
             [
              0.3333333333333333,
              "#9c179e"
             ],
             [
              0.4444444444444444,
              "#bd3786"
             ],
             [
              0.5555555555555556,
              "#d8576b"
             ],
             [
              0.6666666666666666,
              "#ed7953"
             ],
             [
              0.7777777777777778,
              "#fb9f3a"
             ],
             [
              0.8888888888888888,
              "#fdca26"
             ],
             [
              1,
              "#f0f921"
             ]
            ],
            "type": "contour"
           }
          ],
          "contourcarpet": [
           {
            "colorbar": {
             "outlinewidth": 0,
             "ticks": ""
            },
            "type": "contourcarpet"
           }
          ],
          "heatmap": [
           {
            "colorbar": {
             "outlinewidth": 0,
             "ticks": ""
            },
            "colorscale": [
             [
              0,
              "#0d0887"
             ],
             [
              0.1111111111111111,
              "#46039f"
             ],
             [
              0.2222222222222222,
              "#7201a8"
             ],
             [
              0.3333333333333333,
              "#9c179e"
             ],
             [
              0.4444444444444444,
              "#bd3786"
             ],
             [
              0.5555555555555556,
              "#d8576b"
             ],
             [
              0.6666666666666666,
              "#ed7953"
             ],
             [
              0.7777777777777778,
              "#fb9f3a"
             ],
             [
              0.8888888888888888,
              "#fdca26"
             ],
             [
              1,
              "#f0f921"
             ]
            ],
            "type": "heatmap"
           }
          ],
          "heatmapgl": [
           {
            "colorbar": {
             "outlinewidth": 0,
             "ticks": ""
            },
            "colorscale": [
             [
              0,
              "#0d0887"
             ],
             [
              0.1111111111111111,
              "#46039f"
             ],
             [
              0.2222222222222222,
              "#7201a8"
             ],
             [
              0.3333333333333333,
              "#9c179e"
             ],
             [
              0.4444444444444444,
              "#bd3786"
             ],
             [
              0.5555555555555556,
              "#d8576b"
             ],
             [
              0.6666666666666666,
              "#ed7953"
             ],
             [
              0.7777777777777778,
              "#fb9f3a"
             ],
             [
              0.8888888888888888,
              "#fdca26"
             ],
             [
              1,
              "#f0f921"
             ]
            ],
            "type": "heatmapgl"
           }
          ],
          "histogram": [
           {
            "marker": {
             "pattern": {
              "fillmode": "overlay",
              "size": 10,
              "solidity": 0.2
             }
            },
            "type": "histogram"
           }
          ],
          "histogram2d": [
           {
            "colorbar": {
             "outlinewidth": 0,
             "ticks": ""
            },
            "colorscale": [
             [
              0,
              "#0d0887"
             ],
             [
              0.1111111111111111,
              "#46039f"
             ],
             [
              0.2222222222222222,
              "#7201a8"
             ],
             [
              0.3333333333333333,
              "#9c179e"
             ],
             [
              0.4444444444444444,
              "#bd3786"
             ],
             [
              0.5555555555555556,
              "#d8576b"
             ],
             [
              0.6666666666666666,
              "#ed7953"
             ],
             [
              0.7777777777777778,
              "#fb9f3a"
             ],
             [
              0.8888888888888888,
              "#fdca26"
             ],
             [
              1,
              "#f0f921"
             ]
            ],
            "type": "histogram2d"
           }
          ],
          "histogram2dcontour": [
           {
            "colorbar": {
             "outlinewidth": 0,
             "ticks": ""
            },
            "colorscale": [
             [
              0,
              "#0d0887"
             ],
             [
              0.1111111111111111,
              "#46039f"
             ],
             [
              0.2222222222222222,
              "#7201a8"
             ],
             [
              0.3333333333333333,
              "#9c179e"
             ],
             [
              0.4444444444444444,
              "#bd3786"
             ],
             [
              0.5555555555555556,
              "#d8576b"
             ],
             [
              0.6666666666666666,
              "#ed7953"
             ],
             [
              0.7777777777777778,
              "#fb9f3a"
             ],
             [
              0.8888888888888888,
              "#fdca26"
             ],
             [
              1,
              "#f0f921"
             ]
            ],
            "type": "histogram2dcontour"
           }
          ],
          "mesh3d": [
           {
            "colorbar": {
             "outlinewidth": 0,
             "ticks": ""
            },
            "type": "mesh3d"
           }
          ],
          "parcoords": [
           {
            "line": {
             "colorbar": {
              "outlinewidth": 0,
              "ticks": ""
             }
            },
            "type": "parcoords"
           }
          ],
          "pie": [
           {
            "automargin": true,
            "type": "pie"
           }
          ],
          "scatter": [
           {
            "fillpattern": {
             "fillmode": "overlay",
             "size": 10,
             "solidity": 0.2
            },
            "type": "scatter"
           }
          ],
          "scatter3d": [
           {
            "line": {
             "colorbar": {
              "outlinewidth": 0,
              "ticks": ""
             }
            },
            "marker": {
             "colorbar": {
              "outlinewidth": 0,
              "ticks": ""
             }
            },
            "type": "scatter3d"
           }
          ],
          "scattercarpet": [
           {
            "marker": {
             "colorbar": {
              "outlinewidth": 0,
              "ticks": ""
             }
            },
            "type": "scattercarpet"
           }
          ],
          "scattergeo": [
           {
            "marker": {
             "colorbar": {
              "outlinewidth": 0,
              "ticks": ""
             }
            },
            "type": "scattergeo"
           }
          ],
          "scattergl": [
           {
            "marker": {
             "colorbar": {
              "outlinewidth": 0,
              "ticks": ""
             }
            },
            "type": "scattergl"
           }
          ],
          "scattermapbox": [
           {
            "marker": {
             "colorbar": {
              "outlinewidth": 0,
              "ticks": ""
             }
            },
            "type": "scattermapbox"
           }
          ],
          "scatterpolar": [
           {
            "marker": {
             "colorbar": {
              "outlinewidth": 0,
              "ticks": ""
             }
            },
            "type": "scatterpolar"
           }
          ],
          "scatterpolargl": [
           {
            "marker": {
             "colorbar": {
              "outlinewidth": 0,
              "ticks": ""
             }
            },
            "type": "scatterpolargl"
           }
          ],
          "scatterternary": [
           {
            "marker": {
             "colorbar": {
              "outlinewidth": 0,
              "ticks": ""
             }
            },
            "type": "scatterternary"
           }
          ],
          "surface": [
           {
            "colorbar": {
             "outlinewidth": 0,
             "ticks": ""
            },
            "colorscale": [
             [
              0,
              "#0d0887"
             ],
             [
              0.1111111111111111,
              "#46039f"
             ],
             [
              0.2222222222222222,
              "#7201a8"
             ],
             [
              0.3333333333333333,
              "#9c179e"
             ],
             [
              0.4444444444444444,
              "#bd3786"
             ],
             [
              0.5555555555555556,
              "#d8576b"
             ],
             [
              0.6666666666666666,
              "#ed7953"
             ],
             [
              0.7777777777777778,
              "#fb9f3a"
             ],
             [
              0.8888888888888888,
              "#fdca26"
             ],
             [
              1,
              "#f0f921"
             ]
            ],
            "type": "surface"
           }
          ],
          "table": [
           {
            "cells": {
             "fill": {
              "color": "#EBF0F8"
             },
             "line": {
              "color": "white"
             }
            },
            "header": {
             "fill": {
              "color": "#C8D4E3"
             },
             "line": {
              "color": "white"
             }
            },
            "type": "table"
           }
          ]
         },
         "layout": {
          "annotationdefaults": {
           "arrowcolor": "#2a3f5f",
           "arrowhead": 0,
           "arrowwidth": 1
          },
          "autotypenumbers": "strict",
          "coloraxis": {
           "colorbar": {
            "outlinewidth": 0,
            "ticks": ""
           }
          },
          "colorscale": {
           "diverging": [
            [
             0,
             "#8e0152"
            ],
            [
             0.1,
             "#c51b7d"
            ],
            [
             0.2,
             "#de77ae"
            ],
            [
             0.3,
             "#f1b6da"
            ],
            [
             0.4,
             "#fde0ef"
            ],
            [
             0.5,
             "#f7f7f7"
            ],
            [
             0.6,
             "#e6f5d0"
            ],
            [
             0.7,
             "#b8e186"
            ],
            [
             0.8,
             "#7fbc41"
            ],
            [
             0.9,
             "#4d9221"
            ],
            [
             1,
             "#276419"
            ]
           ],
           "sequential": [
            [
             0,
             "#0d0887"
            ],
            [
             0.1111111111111111,
             "#46039f"
            ],
            [
             0.2222222222222222,
             "#7201a8"
            ],
            [
             0.3333333333333333,
             "#9c179e"
            ],
            [
             0.4444444444444444,
             "#bd3786"
            ],
            [
             0.5555555555555556,
             "#d8576b"
            ],
            [
             0.6666666666666666,
             "#ed7953"
            ],
            [
             0.7777777777777778,
             "#fb9f3a"
            ],
            [
             0.8888888888888888,
             "#fdca26"
            ],
            [
             1,
             "#f0f921"
            ]
           ],
           "sequentialminus": [
            [
             0,
             "#0d0887"
            ],
            [
             0.1111111111111111,
             "#46039f"
            ],
            [
             0.2222222222222222,
             "#7201a8"
            ],
            [
             0.3333333333333333,
             "#9c179e"
            ],
            [
             0.4444444444444444,
             "#bd3786"
            ],
            [
             0.5555555555555556,
             "#d8576b"
            ],
            [
             0.6666666666666666,
             "#ed7953"
            ],
            [
             0.7777777777777778,
             "#fb9f3a"
            ],
            [
             0.8888888888888888,
             "#fdca26"
            ],
            [
             1,
             "#f0f921"
            ]
           ]
          },
          "colorway": [
           "#636efa",
           "#EF553B",
           "#00cc96",
           "#ab63fa",
           "#FFA15A",
           "#19d3f3",
           "#FF6692",
           "#B6E880",
           "#FF97FF",
           "#FECB52"
          ],
          "font": {
           "color": "#2a3f5f"
          },
          "geo": {
           "bgcolor": "white",
           "lakecolor": "white",
           "landcolor": "#E5ECF6",
           "showlakes": true,
           "showland": true,
           "subunitcolor": "white"
          },
          "hoverlabel": {
           "align": "left"
          },
          "hovermode": "closest",
          "mapbox": {
           "style": "light"
          },
          "paper_bgcolor": "white",
          "plot_bgcolor": "#E5ECF6",
          "polar": {
           "angularaxis": {
            "gridcolor": "white",
            "linecolor": "white",
            "ticks": ""
           },
           "bgcolor": "#E5ECF6",
           "radialaxis": {
            "gridcolor": "white",
            "linecolor": "white",
            "ticks": ""
           }
          },
          "scene": {
           "xaxis": {
            "backgroundcolor": "#E5ECF6",
            "gridcolor": "white",
            "gridwidth": 2,
            "linecolor": "white",
            "showbackground": true,
            "ticks": "",
            "zerolinecolor": "white"
           },
           "yaxis": {
            "backgroundcolor": "#E5ECF6",
            "gridcolor": "white",
            "gridwidth": 2,
            "linecolor": "white",
            "showbackground": true,
            "ticks": "",
            "zerolinecolor": "white"
           },
           "zaxis": {
            "backgroundcolor": "#E5ECF6",
            "gridcolor": "white",
            "gridwidth": 2,
            "linecolor": "white",
            "showbackground": true,
            "ticks": "",
            "zerolinecolor": "white"
           }
          },
          "shapedefaults": {
           "line": {
            "color": "#2a3f5f"
           }
          },
          "ternary": {
           "aaxis": {
            "gridcolor": "white",
            "linecolor": "white",
            "ticks": ""
           },
           "baxis": {
            "gridcolor": "white",
            "linecolor": "white",
            "ticks": ""
           },
           "bgcolor": "#E5ECF6",
           "caxis": {
            "gridcolor": "white",
            "linecolor": "white",
            "ticks": ""
           }
          },
          "title": {
           "x": 0.05
          },
          "xaxis": {
           "automargin": true,
           "gridcolor": "white",
           "linecolor": "white",
           "ticks": "",
           "title": {
            "standoff": 15
           },
           "zerolinecolor": "white",
           "zerolinewidth": 2
          },
          "yaxis": {
           "automargin": true,
           "gridcolor": "white",
           "linecolor": "white",
           "ticks": "",
           "title": {
            "standoff": 15
           },
           "zerolinecolor": "white",
           "zerolinewidth": 2
          }
         }
        },
        "title": {
         "text": "Training Metrics Over Epochs"
        },
        "width": 700,
        "xaxis": {
         "anchor": "y",
         "domain": [
          0,
          1
         ],
         "nticks": 20,
         "tickmode": "auto",
         "title": {
          "text": "Epoch"
         }
        },
        "xaxis2": {
         "anchor": "y2",
         "domain": [
          0,
          1
         ],
         "nticks": 20,
         "tickmode": "auto",
         "title": {
          "text": "Epoch"
         }
        },
        "xaxis3": {
         "anchor": "y3",
         "domain": [
          0,
          1
         ],
         "nticks": 20,
         "tickmode": "auto",
         "title": {
          "text": "Epoch"
         }
        },
        "yaxis": {
         "anchor": "x",
         "domain": [
          0.7777777777777778,
          1
         ],
         "title": {
          "text": "Learning Rate"
         }
        },
        "yaxis2": {
         "anchor": "x2",
         "domain": [
          0.3888888888888889,
          0.6111111111111112
         ],
         "title": {
          "text": "Loss"
         }
        },
        "yaxis3": {
         "anchor": "x3",
         "domain": [
          0,
          0.22222222222222224
         ],
         "title": {
          "text": "Gradient Norm"
         }
        }
       }
      }
     },
     "metadata": {},
     "output_type": "display_data"
    }
   ],
   "source": [
    "# Create subplots\n",
    "fig = make_subplots(rows=3, cols=1, subplot_titles=(\"Learning Rate\", \"Loss\", \"Gradient Norm\"))\n",
    "\n",
    "# Learning Rate\n",
    "lr_plot = px.line(metrics_df, x='epoch', y='learning_rate', labels={'epoch': 'Epoch', 'learning_rate': 'Learning Rate'})\n",
    "fig.add_trace(lr_plot['data'][0], row=1, col=1)\n",
    "\n",
    "# Loss\n",
    "loss_plot = px.line(metrics_df, x='epoch', y='loss', labels={'epoch': 'Epoch', 'loss': 'Loss'})\n",
    "fig.add_trace(loss_plot['data'][0], row=2, col=1)\n",
    "\n",
    "# Gradient Norm\n",
    "gn_plot = px.line(metrics_df, x='epoch', y='grad_norm', labels={'epoch': 'Epoch', 'grad_norm': 'Gradient Norm'})\n",
    "fig.add_trace(gn_plot['data'][0], row=3, col=1)\n",
    "\n",
    "# Update xaxis properties\n",
    "fig.update_xaxes(title_text=\"Epoch\", tickmode='auto', nticks=20)\n",
    "\n",
    "# Update yaxis titles\n",
    "fig.update_yaxes(title_text=\"Learning Rate\", row=1, col=1)\n",
    "fig.update_yaxes(title_text=\"Loss\", row=2, col=1)\n",
    "fig.update_yaxes(title_text=\"Gradient Norm\", row=3, col=1)\n",
    "\n",
    "# Update layout and font\n",
    "fig.update_layout(height=900, width=700, title_text=\"Training Metrics Over Epochs\", showlegend=False,\n",
    "                  font=dict(family=\"Courier New, monospace\", size=12, color=\"RebeccaPurple\"))\n",
    "\n",
    "# Show the plot\n",
    "fig.show()"
   ]
  },
  {
   "cell_type": "markdown",
   "metadata": {},
   "source": [
    "- ***Learning Rate:*** Subplot shows a consistent decline over epochs. This indicates that a learning rate scheduler is likely being used to decrease the learning rate as the training progresses. \n",
    "- ***Training Loss:*** Subplot displays quite a bit of volatility but generally trends downward, which is expected during training. The high variance suggests that the model is still learning and making significant updates to its weights.\n",
    "- ***Gradient Norm:*** There are few spikes to high values, which could indicate instances where the model's weights were updated significantly. These spikes could be a result of the model learning from a particularly difficult batch of data, or they could indicate instability in the training process, potentially requiring the implementation of gradient clipping to maintain stable training."
   ]
  },
  {
   "cell_type": "markdown",
   "metadata": {},
   "source": [
    "- As it shows in the dashboard the learning rate is decreasing while the loss is also decreasing, this indicates that the model is likely converging, albeit with some volatility in the loss metric.\n",
    "-  The spikes in gradient norm suggest moments of instability. If these correspond with the epochs where the loss increases or varies widely"
   ]
  },
  {
   "cell_type": "code",
   "execution_count": 47,
   "metadata": {},
   "outputs": [
    {
     "data": {
      "application/vnd.jupyter.widget-view+json": {
       "model_id": "c37aa5fb08614cf89b2fed1f79ad8448",
       "version_major": 2,
       "version_minor": 0
      },
      "text/plain": [
       "  0%|          | 0/138 [00:00<?, ?it/s]"
      ]
     },
     "metadata": {},
     "output_type": "display_data"
    },
    {
     "name": "stdout",
     "output_type": "stream",
     "text": [
      "{'eval_runtime': 517.3051, 'eval_samples_per_second': 2.134, 'eval_steps_per_second': 0.267, 'epoch': 7.0}\n"
     ]
    }
   ],
   "source": [
    "# Evaluate the model\n",
    "evaluation_results = trainer.evaluate()\n",
    "\n",
    "# Print the evaluation results\n",
    "print(evaluation_results)"
   ]
  },
  {
   "cell_type": "markdown",
   "metadata": {},
   "source": [
    "- ***eval_runtime:*** This is the time taken for evaluation, given here as 517.3051 seconds.\n",
    "- ***eval_samples_per_second:*** It indicates how many samples (data points) were evaluated per second during the evaluation process. It's 2.134 samples per second.\n",
    "- ***eval_steps_per_second:*** This measures the number of evaluation steps completed per second.\n",
    "- ***epoch:*** This refers to the epoch or iteration number."
   ]
  },
  {
   "cell_type": "code",
   "execution_count": 48,
   "metadata": {},
   "outputs": [],
   "source": [
    "# Save the model\n",
    "model_path = './results/Roberta-Squad2-Subjqa'\n",
    "trainer.save_model(model_path)"
   ]
  },
  {
   "cell_type": "markdown",
   "metadata": {},
   "source": [
    "# Generalise the Model"
   ]
  },
  {
   "cell_type": "code",
   "execution_count": 56,
   "metadata": {},
   "outputs": [],
   "source": [
    "df_train = pd.read_csv('subjqa-train.csv')\n",
    "df_test = pd.read_csv('subjqa-test.csv')"
   ]
  },
  {
   "cell_type": "code",
   "execution_count": 61,
   "metadata": {},
   "outputs": [],
   "source": [
    "# Replace this with your own checkpoint\n",
    "model_checkpoint_o = model_path\n",
    "question_answerer = pipeline(\"question-answering\", model=model_checkpoint_o)"
   ]
  },
  {
   "cell_type": "code",
   "execution_count": 70,
   "metadata": {},
   "outputs": [
    {
     "data": {
      "text/plain": [
       "'When did that number come out?'"
      ]
     },
     "execution_count": 70,
     "metadata": {},
     "output_type": "execute_result"
    }
   ],
   "source": [
    "df_train.iloc[22].question"
   ]
  },
  {
   "cell_type": "code",
   "execution_count": 71,
   "metadata": {},
   "outputs": [
    {
     "data": {
      "text/plain": [
       "{'score': 0.3742311894893646,\n",
       " 'start': 86,\n",
       " 'end': 116,\n",
       " 'answer': 'I watched it as a little child'}"
      ]
     },
     "execution_count": 71,
     "metadata": {},
     "output_type": "execute_result"
    }
   ],
   "source": [
    "context = df_train.iloc[22].review\n",
    "question = df_train.iloc[22].question\n",
    "question_answerer(question=question, context=context)"
   ]
  },
  {
   "cell_type": "code",
   "execution_count": 74,
   "metadata": {},
   "outputs": [
    {
     "data": {
      "text/plain": [
       "2501"
      ]
     },
     "execution_count": 74,
     "metadata": {},
     "output_type": "execute_result"
    }
   ],
   "source": [
    "len(df_train)"
   ]
  }
 ],
 "metadata": {
  "kernelspec": {
   "display_name": "Python 3",
   "language": "python",
   "name": "python3"
  },
  "language_info": {
   "codemirror_mode": {
    "name": "ipython",
    "version": 3
   },
   "file_extension": ".py",
   "mimetype": "text/x-python",
   "name": "python",
   "nbconvert_exporter": "python",
   "pygments_lexer": "ipython3",
   "version": "3.12.3"
  }
 },
 "nbformat": 4,
 "nbformat_minor": 2
}
